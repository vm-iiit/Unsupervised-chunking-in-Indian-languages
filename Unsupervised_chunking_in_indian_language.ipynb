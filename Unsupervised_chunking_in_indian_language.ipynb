{
  "nbformat": 4,
  "nbformat_minor": 0,
  "metadata": {
    "kernelspec": {
      "language": "python",
      "display_name": "Python 3",
      "name": "python3"
    },
    "language_info": {
      "name": "python",
      "version": "3.7.9",
      "mimetype": "text/x-python",
      "codemirror_mode": {
        "name": "ipython",
        "version": 3
      },
      "pygments_lexer": "ipython3",
      "nbconvert_exporter": "python",
      "file_extension": ".py"
    },
    "colab": {
      "name": "Unsupervised_chunking_in_indian_language.ipynb",
      "provenance": [],
      "collapsed_sections": [
        "0ty6fyLbwuGM",
        "eZoEf9f1xDy7",
        "oi2e6Xl1xdZn",
        "ZLZfYIA6raOO",
        "URYsTquDDb43",
        "S8Enfbq1sbf3",
        "vV7QhmFps-aD",
        "s6rIAaYeyVy5",
        "jx9Jw6gxyYWd",
        "8fzmrv7Zy19s",
        "eYvWRgH0EBbO",
        "NGPg79E0Gvn_",
        "sxhScTJiEKn4",
        "2JyuT3H41-LO",
        "aZ_jD294Dufi",
        "evpiYwR94Cqh",
        "s2XeNWsI4ywd",
        "X6M27P9ZD_K9",
        "uLuZL2GRr9FI",
        "zemREIJk9-st",
        "bqCJR9ad-L9B",
        "I-5oNdDe-L9O",
        "QCGtu3hY-L9R",
        "Su4sUBrB_Fsw"
      ]
    },
    "accelerator": "GPU",
    "widgets": {
      "application/vnd.jupyter.widget-state+json": {
        "b9a38d3139d743f7ae30bd775f9a6c68": {
          "model_module": "@jupyter-widgets/controls",
          "model_name": "HBoxModel",
          "state": {
            "_view_name": "HBoxView",
            "_dom_classes": [],
            "_model_name": "HBoxModel",
            "_view_module": "@jupyter-widgets/controls",
            "_model_module_version": "1.5.0",
            "_view_count": null,
            "_view_module_version": "1.5.0",
            "box_style": "",
            "layout": "IPY_MODEL_2deb2c4d61254724ad633de58960f2cf",
            "_model_module": "@jupyter-widgets/controls",
            "children": [
              "IPY_MODEL_3f95159099a943078f160d2fa3059778",
              "IPY_MODEL_2a1379ed77814e7f9e9b574276ea4d11"
            ]
          }
        },
        "2deb2c4d61254724ad633de58960f2cf": {
          "model_module": "@jupyter-widgets/base",
          "model_name": "LayoutModel",
          "state": {
            "_view_name": "LayoutView",
            "grid_template_rows": null,
            "right": null,
            "justify_content": null,
            "_view_module": "@jupyter-widgets/base",
            "overflow": null,
            "_model_module_version": "1.2.0",
            "_view_count": null,
            "flex_flow": null,
            "width": null,
            "min_width": null,
            "border": null,
            "align_items": null,
            "bottom": null,
            "_model_module": "@jupyter-widgets/base",
            "top": null,
            "grid_column": null,
            "overflow_y": null,
            "overflow_x": null,
            "grid_auto_flow": null,
            "grid_area": null,
            "grid_template_columns": null,
            "flex": null,
            "_model_name": "LayoutModel",
            "justify_items": null,
            "grid_row": null,
            "max_height": null,
            "align_content": null,
            "visibility": null,
            "align_self": null,
            "height": null,
            "min_height": null,
            "padding": null,
            "grid_auto_rows": null,
            "grid_gap": null,
            "max_width": null,
            "order": null,
            "_view_module_version": "1.2.0",
            "grid_template_areas": null,
            "object_position": null,
            "object_fit": null,
            "grid_auto_columns": null,
            "margin": null,
            "display": null,
            "left": null
          }
        },
        "3f95159099a943078f160d2fa3059778": {
          "model_module": "@jupyter-widgets/controls",
          "model_name": "FloatProgressModel",
          "state": {
            "_view_name": "ProgressView",
            "style": "IPY_MODEL_ecc02457792147a8ae3eaec5eb34b29f",
            "_dom_classes": [],
            "description": "Downloading: 100%",
            "_model_name": "FloatProgressModel",
            "bar_style": "success",
            "max": 995526,
            "_view_module": "@jupyter-widgets/controls",
            "_model_module_version": "1.5.0",
            "value": 995526,
            "_view_count": null,
            "_view_module_version": "1.5.0",
            "orientation": "horizontal",
            "min": 0,
            "description_tooltip": null,
            "_model_module": "@jupyter-widgets/controls",
            "layout": "IPY_MODEL_5a1397ec916a4946b696b78ed7af64ec"
          }
        },
        "2a1379ed77814e7f9e9b574276ea4d11": {
          "model_module": "@jupyter-widgets/controls",
          "model_name": "HTMLModel",
          "state": {
            "_view_name": "HTMLView",
            "style": "IPY_MODEL_fb105e084f544374ae30283cbdd84c26",
            "_dom_classes": [],
            "description": "",
            "_model_name": "HTMLModel",
            "placeholder": "​",
            "_view_module": "@jupyter-widgets/controls",
            "_model_module_version": "1.5.0",
            "value": " 996k/996k [00:02&lt;00:00, 449kB/s]",
            "_view_count": null,
            "_view_module_version": "1.5.0",
            "description_tooltip": null,
            "_model_module": "@jupyter-widgets/controls",
            "layout": "IPY_MODEL_ea34f00505ea4935b43862698838384f"
          }
        },
        "ecc02457792147a8ae3eaec5eb34b29f": {
          "model_module": "@jupyter-widgets/controls",
          "model_name": "ProgressStyleModel",
          "state": {
            "_view_name": "StyleView",
            "_model_name": "ProgressStyleModel",
            "description_width": "initial",
            "_view_module": "@jupyter-widgets/base",
            "_model_module_version": "1.5.0",
            "_view_count": null,
            "_view_module_version": "1.2.0",
            "bar_color": null,
            "_model_module": "@jupyter-widgets/controls"
          }
        },
        "5a1397ec916a4946b696b78ed7af64ec": {
          "model_module": "@jupyter-widgets/base",
          "model_name": "LayoutModel",
          "state": {
            "_view_name": "LayoutView",
            "grid_template_rows": null,
            "right": null,
            "justify_content": null,
            "_view_module": "@jupyter-widgets/base",
            "overflow": null,
            "_model_module_version": "1.2.0",
            "_view_count": null,
            "flex_flow": null,
            "width": null,
            "min_width": null,
            "border": null,
            "align_items": null,
            "bottom": null,
            "_model_module": "@jupyter-widgets/base",
            "top": null,
            "grid_column": null,
            "overflow_y": null,
            "overflow_x": null,
            "grid_auto_flow": null,
            "grid_area": null,
            "grid_template_columns": null,
            "flex": null,
            "_model_name": "LayoutModel",
            "justify_items": null,
            "grid_row": null,
            "max_height": null,
            "align_content": null,
            "visibility": null,
            "align_self": null,
            "height": null,
            "min_height": null,
            "padding": null,
            "grid_auto_rows": null,
            "grid_gap": null,
            "max_width": null,
            "order": null,
            "_view_module_version": "1.2.0",
            "grid_template_areas": null,
            "object_position": null,
            "object_fit": null,
            "grid_auto_columns": null,
            "margin": null,
            "display": null,
            "left": null
          }
        },
        "fb105e084f544374ae30283cbdd84c26": {
          "model_module": "@jupyter-widgets/controls",
          "model_name": "DescriptionStyleModel",
          "state": {
            "_view_name": "StyleView",
            "_model_name": "DescriptionStyleModel",
            "description_width": "",
            "_view_module": "@jupyter-widgets/base",
            "_model_module_version": "1.5.0",
            "_view_count": null,
            "_view_module_version": "1.2.0",
            "_model_module": "@jupyter-widgets/controls"
          }
        },
        "ea34f00505ea4935b43862698838384f": {
          "model_module": "@jupyter-widgets/base",
          "model_name": "LayoutModel",
          "state": {
            "_view_name": "LayoutView",
            "grid_template_rows": null,
            "right": null,
            "justify_content": null,
            "_view_module": "@jupyter-widgets/base",
            "overflow": null,
            "_model_module_version": "1.2.0",
            "_view_count": null,
            "flex_flow": null,
            "width": null,
            "min_width": null,
            "border": null,
            "align_items": null,
            "bottom": null,
            "_model_module": "@jupyter-widgets/base",
            "top": null,
            "grid_column": null,
            "overflow_y": null,
            "overflow_x": null,
            "grid_auto_flow": null,
            "grid_area": null,
            "grid_template_columns": null,
            "flex": null,
            "_model_name": "LayoutModel",
            "justify_items": null,
            "grid_row": null,
            "max_height": null,
            "align_content": null,
            "visibility": null,
            "align_self": null,
            "height": null,
            "min_height": null,
            "padding": null,
            "grid_auto_rows": null,
            "grid_gap": null,
            "max_width": null,
            "order": null,
            "_view_module_version": "1.2.0",
            "grid_template_areas": null,
            "object_position": null,
            "object_fit": null,
            "grid_auto_columns": null,
            "margin": null,
            "display": null,
            "left": null
          }
        },
        "f3fd8e7ab57448798f86583df1acdc6e": {
          "model_module": "@jupyter-widgets/controls",
          "model_name": "HBoxModel",
          "state": {
            "_view_name": "HBoxView",
            "_dom_classes": [],
            "_model_name": "HBoxModel",
            "_view_module": "@jupyter-widgets/controls",
            "_model_module_version": "1.5.0",
            "_view_count": null,
            "_view_module_version": "1.5.0",
            "box_style": "",
            "layout": "IPY_MODEL_81d6661043b34600a5fcff06b81e3bcb",
            "_model_module": "@jupyter-widgets/controls",
            "children": [
              "IPY_MODEL_d5dbdec56a574943bfd4b4f37670f942",
              "IPY_MODEL_0d6352d8343e42318dfb49d4f818900a"
            ]
          }
        },
        "81d6661043b34600a5fcff06b81e3bcb": {
          "model_module": "@jupyter-widgets/base",
          "model_name": "LayoutModel",
          "state": {
            "_view_name": "LayoutView",
            "grid_template_rows": null,
            "right": null,
            "justify_content": null,
            "_view_module": "@jupyter-widgets/base",
            "overflow": null,
            "_model_module_version": "1.2.0",
            "_view_count": null,
            "flex_flow": null,
            "width": null,
            "min_width": null,
            "border": null,
            "align_items": null,
            "bottom": null,
            "_model_module": "@jupyter-widgets/base",
            "top": null,
            "grid_column": null,
            "overflow_y": null,
            "overflow_x": null,
            "grid_auto_flow": null,
            "grid_area": null,
            "grid_template_columns": null,
            "flex": null,
            "_model_name": "LayoutModel",
            "justify_items": null,
            "grid_row": null,
            "max_height": null,
            "align_content": null,
            "visibility": null,
            "align_self": null,
            "height": null,
            "min_height": null,
            "padding": null,
            "grid_auto_rows": null,
            "grid_gap": null,
            "max_width": null,
            "order": null,
            "_view_module_version": "1.2.0",
            "grid_template_areas": null,
            "object_position": null,
            "object_fit": null,
            "grid_auto_columns": null,
            "margin": null,
            "display": null,
            "left": null
          }
        },
        "d5dbdec56a574943bfd4b4f37670f942": {
          "model_module": "@jupyter-widgets/controls",
          "model_name": "FloatProgressModel",
          "state": {
            "_view_name": "ProgressView",
            "style": "IPY_MODEL_42e31a0147b74220a3793c02455f32c3",
            "_dom_classes": [],
            "description": "Downloading: 100%",
            "_model_name": "FloatProgressModel",
            "bar_style": "success",
            "max": 29,
            "_view_module": "@jupyter-widgets/controls",
            "_model_module_version": "1.5.0",
            "value": 29,
            "_view_count": null,
            "_view_module_version": "1.5.0",
            "orientation": "horizontal",
            "min": 0,
            "description_tooltip": null,
            "_model_module": "@jupyter-widgets/controls",
            "layout": "IPY_MODEL_983bd511b507443b800fd5b2b581400a"
          }
        },
        "0d6352d8343e42318dfb49d4f818900a": {
          "model_module": "@jupyter-widgets/controls",
          "model_name": "HTMLModel",
          "state": {
            "_view_name": "HTMLView",
            "style": "IPY_MODEL_e702ee6d7aae4718aa607372dca9a5c0",
            "_dom_classes": [],
            "description": "",
            "_model_name": "HTMLModel",
            "placeholder": "​",
            "_view_module": "@jupyter-widgets/controls",
            "_model_module_version": "1.5.0",
            "value": " 29.0/29.0 [00:00&lt;00:00, 35.8B/s]",
            "_view_count": null,
            "_view_module_version": "1.5.0",
            "description_tooltip": null,
            "_model_module": "@jupyter-widgets/controls",
            "layout": "IPY_MODEL_7ec810e35261411d9cc36a408ded945d"
          }
        },
        "42e31a0147b74220a3793c02455f32c3": {
          "model_module": "@jupyter-widgets/controls",
          "model_name": "ProgressStyleModel",
          "state": {
            "_view_name": "StyleView",
            "_model_name": "ProgressStyleModel",
            "description_width": "initial",
            "_view_module": "@jupyter-widgets/base",
            "_model_module_version": "1.5.0",
            "_view_count": null,
            "_view_module_version": "1.2.0",
            "bar_color": null,
            "_model_module": "@jupyter-widgets/controls"
          }
        },
        "983bd511b507443b800fd5b2b581400a": {
          "model_module": "@jupyter-widgets/base",
          "model_name": "LayoutModel",
          "state": {
            "_view_name": "LayoutView",
            "grid_template_rows": null,
            "right": null,
            "justify_content": null,
            "_view_module": "@jupyter-widgets/base",
            "overflow": null,
            "_model_module_version": "1.2.0",
            "_view_count": null,
            "flex_flow": null,
            "width": null,
            "min_width": null,
            "border": null,
            "align_items": null,
            "bottom": null,
            "_model_module": "@jupyter-widgets/base",
            "top": null,
            "grid_column": null,
            "overflow_y": null,
            "overflow_x": null,
            "grid_auto_flow": null,
            "grid_area": null,
            "grid_template_columns": null,
            "flex": null,
            "_model_name": "LayoutModel",
            "justify_items": null,
            "grid_row": null,
            "max_height": null,
            "align_content": null,
            "visibility": null,
            "align_self": null,
            "height": null,
            "min_height": null,
            "padding": null,
            "grid_auto_rows": null,
            "grid_gap": null,
            "max_width": null,
            "order": null,
            "_view_module_version": "1.2.0",
            "grid_template_areas": null,
            "object_position": null,
            "object_fit": null,
            "grid_auto_columns": null,
            "margin": null,
            "display": null,
            "left": null
          }
        },
        "e702ee6d7aae4718aa607372dca9a5c0": {
          "model_module": "@jupyter-widgets/controls",
          "model_name": "DescriptionStyleModel",
          "state": {
            "_view_name": "StyleView",
            "_model_name": "DescriptionStyleModel",
            "description_width": "",
            "_view_module": "@jupyter-widgets/base",
            "_model_module_version": "1.5.0",
            "_view_count": null,
            "_view_module_version": "1.2.0",
            "_model_module": "@jupyter-widgets/controls"
          }
        },
        "7ec810e35261411d9cc36a408ded945d": {
          "model_module": "@jupyter-widgets/base",
          "model_name": "LayoutModel",
          "state": {
            "_view_name": "LayoutView",
            "grid_template_rows": null,
            "right": null,
            "justify_content": null,
            "_view_module": "@jupyter-widgets/base",
            "overflow": null,
            "_model_module_version": "1.2.0",
            "_view_count": null,
            "flex_flow": null,
            "width": null,
            "min_width": null,
            "border": null,
            "align_items": null,
            "bottom": null,
            "_model_module": "@jupyter-widgets/base",
            "top": null,
            "grid_column": null,
            "overflow_y": null,
            "overflow_x": null,
            "grid_auto_flow": null,
            "grid_area": null,
            "grid_template_columns": null,
            "flex": null,
            "_model_name": "LayoutModel",
            "justify_items": null,
            "grid_row": null,
            "max_height": null,
            "align_content": null,
            "visibility": null,
            "align_self": null,
            "height": null,
            "min_height": null,
            "padding": null,
            "grid_auto_rows": null,
            "grid_gap": null,
            "max_width": null,
            "order": null,
            "_view_module_version": "1.2.0",
            "grid_template_areas": null,
            "object_position": null,
            "object_fit": null,
            "grid_auto_columns": null,
            "margin": null,
            "display": null,
            "left": null
          }
        },
        "e6eb6dfc78fa41c6a706a8124e2d95de": {
          "model_module": "@jupyter-widgets/controls",
          "model_name": "HBoxModel",
          "state": {
            "_view_name": "HBoxView",
            "_dom_classes": [],
            "_model_name": "HBoxModel",
            "_view_module": "@jupyter-widgets/controls",
            "_model_module_version": "1.5.0",
            "_view_count": null,
            "_view_module_version": "1.5.0",
            "box_style": "",
            "layout": "IPY_MODEL_c11d612f401e4bed80c41f8987f23449",
            "_model_module": "@jupyter-widgets/controls",
            "children": [
              "IPY_MODEL_8eabb2976a4748b79e5ff6d4504b6560",
              "IPY_MODEL_a7eb33cfcfc3451997041c320c2bbe67"
            ]
          }
        },
        "c11d612f401e4bed80c41f8987f23449": {
          "model_module": "@jupyter-widgets/base",
          "model_name": "LayoutModel",
          "state": {
            "_view_name": "LayoutView",
            "grid_template_rows": null,
            "right": null,
            "justify_content": null,
            "_view_module": "@jupyter-widgets/base",
            "overflow": null,
            "_model_module_version": "1.2.0",
            "_view_count": null,
            "flex_flow": null,
            "width": null,
            "min_width": null,
            "border": null,
            "align_items": null,
            "bottom": null,
            "_model_module": "@jupyter-widgets/base",
            "top": null,
            "grid_column": null,
            "overflow_y": null,
            "overflow_x": null,
            "grid_auto_flow": null,
            "grid_area": null,
            "grid_template_columns": null,
            "flex": null,
            "_model_name": "LayoutModel",
            "justify_items": null,
            "grid_row": null,
            "max_height": null,
            "align_content": null,
            "visibility": null,
            "align_self": null,
            "height": null,
            "min_height": null,
            "padding": null,
            "grid_auto_rows": null,
            "grid_gap": null,
            "max_width": null,
            "order": null,
            "_view_module_version": "1.2.0",
            "grid_template_areas": null,
            "object_position": null,
            "object_fit": null,
            "grid_auto_columns": null,
            "margin": null,
            "display": null,
            "left": null
          }
        },
        "8eabb2976a4748b79e5ff6d4504b6560": {
          "model_module": "@jupyter-widgets/controls",
          "model_name": "FloatProgressModel",
          "state": {
            "_view_name": "ProgressView",
            "style": "IPY_MODEL_f6226345651847cabb9d126e2ef8b149",
            "_dom_classes": [],
            "description": "Downloading: 100%",
            "_model_name": "FloatProgressModel",
            "bar_style": "success",
            "max": 1961828,
            "_view_module": "@jupyter-widgets/controls",
            "_model_module_version": "1.5.0",
            "value": 1961828,
            "_view_count": null,
            "_view_module_version": "1.5.0",
            "orientation": "horizontal",
            "min": 0,
            "description_tooltip": null,
            "_model_module": "@jupyter-widgets/controls",
            "layout": "IPY_MODEL_9fdf4d9acdc242e5bb161fe8c3fada37"
          }
        },
        "a7eb33cfcfc3451997041c320c2bbe67": {
          "model_module": "@jupyter-widgets/controls",
          "model_name": "HTMLModel",
          "state": {
            "_view_name": "HTMLView",
            "style": "IPY_MODEL_a137456c20ab4d9bbd734513ef3e4134",
            "_dom_classes": [],
            "description": "",
            "_model_name": "HTMLModel",
            "placeholder": "​",
            "_view_module": "@jupyter-widgets/controls",
            "_model_module_version": "1.5.0",
            "value": " 1.96M/1.96M [00:00&lt;00:00, 3.65MB/s]",
            "_view_count": null,
            "_view_module_version": "1.5.0",
            "description_tooltip": null,
            "_model_module": "@jupyter-widgets/controls",
            "layout": "IPY_MODEL_c182ab409b3d43b2a7b9573dccfb3c3b"
          }
        },
        "f6226345651847cabb9d126e2ef8b149": {
          "model_module": "@jupyter-widgets/controls",
          "model_name": "ProgressStyleModel",
          "state": {
            "_view_name": "StyleView",
            "_model_name": "ProgressStyleModel",
            "description_width": "initial",
            "_view_module": "@jupyter-widgets/base",
            "_model_module_version": "1.5.0",
            "_view_count": null,
            "_view_module_version": "1.2.0",
            "bar_color": null,
            "_model_module": "@jupyter-widgets/controls"
          }
        },
        "9fdf4d9acdc242e5bb161fe8c3fada37": {
          "model_module": "@jupyter-widgets/base",
          "model_name": "LayoutModel",
          "state": {
            "_view_name": "LayoutView",
            "grid_template_rows": null,
            "right": null,
            "justify_content": null,
            "_view_module": "@jupyter-widgets/base",
            "overflow": null,
            "_model_module_version": "1.2.0",
            "_view_count": null,
            "flex_flow": null,
            "width": null,
            "min_width": null,
            "border": null,
            "align_items": null,
            "bottom": null,
            "_model_module": "@jupyter-widgets/base",
            "top": null,
            "grid_column": null,
            "overflow_y": null,
            "overflow_x": null,
            "grid_auto_flow": null,
            "grid_area": null,
            "grid_template_columns": null,
            "flex": null,
            "_model_name": "LayoutModel",
            "justify_items": null,
            "grid_row": null,
            "max_height": null,
            "align_content": null,
            "visibility": null,
            "align_self": null,
            "height": null,
            "min_height": null,
            "padding": null,
            "grid_auto_rows": null,
            "grid_gap": null,
            "max_width": null,
            "order": null,
            "_view_module_version": "1.2.0",
            "grid_template_areas": null,
            "object_position": null,
            "object_fit": null,
            "grid_auto_columns": null,
            "margin": null,
            "display": null,
            "left": null
          }
        },
        "a137456c20ab4d9bbd734513ef3e4134": {
          "model_module": "@jupyter-widgets/controls",
          "model_name": "DescriptionStyleModel",
          "state": {
            "_view_name": "StyleView",
            "_model_name": "DescriptionStyleModel",
            "description_width": "",
            "_view_module": "@jupyter-widgets/base",
            "_model_module_version": "1.5.0",
            "_view_count": null,
            "_view_module_version": "1.2.0",
            "_model_module": "@jupyter-widgets/controls"
          }
        },
        "c182ab409b3d43b2a7b9573dccfb3c3b": {
          "model_module": "@jupyter-widgets/base",
          "model_name": "LayoutModel",
          "state": {
            "_view_name": "LayoutView",
            "grid_template_rows": null,
            "right": null,
            "justify_content": null,
            "_view_module": "@jupyter-widgets/base",
            "overflow": null,
            "_model_module_version": "1.2.0",
            "_view_count": null,
            "flex_flow": null,
            "width": null,
            "min_width": null,
            "border": null,
            "align_items": null,
            "bottom": null,
            "_model_module": "@jupyter-widgets/base",
            "top": null,
            "grid_column": null,
            "overflow_y": null,
            "overflow_x": null,
            "grid_auto_flow": null,
            "grid_area": null,
            "grid_template_columns": null,
            "flex": null,
            "_model_name": "LayoutModel",
            "justify_items": null,
            "grid_row": null,
            "max_height": null,
            "align_content": null,
            "visibility": null,
            "align_self": null,
            "height": null,
            "min_height": null,
            "padding": null,
            "grid_auto_rows": null,
            "grid_gap": null,
            "max_width": null,
            "order": null,
            "_view_module_version": "1.2.0",
            "grid_template_areas": null,
            "object_position": null,
            "object_fit": null,
            "grid_auto_columns": null,
            "margin": null,
            "display": null,
            "left": null
          }
        },
        "f92fc100f4b74c0f8a2455278ca8ae04": {
          "model_module": "@jupyter-widgets/controls",
          "model_name": "HBoxModel",
          "state": {
            "_view_name": "HBoxView",
            "_dom_classes": [],
            "_model_name": "HBoxModel",
            "_view_module": "@jupyter-widgets/controls",
            "_model_module_version": "1.5.0",
            "_view_count": null,
            "_view_module_version": "1.5.0",
            "box_style": "",
            "layout": "IPY_MODEL_9e7fe8d3d7334ffdacbd2481545aaf96",
            "_model_module": "@jupyter-widgets/controls",
            "children": [
              "IPY_MODEL_773493acdb52462583acea5c60e84e76",
              "IPY_MODEL_b961fdba749d475f905ed41e21fd4cb6"
            ]
          }
        },
        "9e7fe8d3d7334ffdacbd2481545aaf96": {
          "model_module": "@jupyter-widgets/base",
          "model_name": "LayoutModel",
          "state": {
            "_view_name": "LayoutView",
            "grid_template_rows": null,
            "right": null,
            "justify_content": null,
            "_view_module": "@jupyter-widgets/base",
            "overflow": null,
            "_model_module_version": "1.2.0",
            "_view_count": null,
            "flex_flow": null,
            "width": null,
            "min_width": null,
            "border": null,
            "align_items": null,
            "bottom": null,
            "_model_module": "@jupyter-widgets/base",
            "top": null,
            "grid_column": null,
            "overflow_y": null,
            "overflow_x": null,
            "grid_auto_flow": null,
            "grid_area": null,
            "grid_template_columns": null,
            "flex": null,
            "_model_name": "LayoutModel",
            "justify_items": null,
            "grid_row": null,
            "max_height": null,
            "align_content": null,
            "visibility": null,
            "align_self": null,
            "height": null,
            "min_height": null,
            "padding": null,
            "grid_auto_rows": null,
            "grid_gap": null,
            "max_width": null,
            "order": null,
            "_view_module_version": "1.2.0",
            "grid_template_areas": null,
            "object_position": null,
            "object_fit": null,
            "grid_auto_columns": null,
            "margin": null,
            "display": null,
            "left": null
          }
        },
        "773493acdb52462583acea5c60e84e76": {
          "model_module": "@jupyter-widgets/controls",
          "model_name": "FloatProgressModel",
          "state": {
            "_view_name": "ProgressView",
            "style": "IPY_MODEL_dc51b3c82869477d912b589897990efd",
            "_dom_classes": [],
            "description": "Downloading: 100%",
            "_model_name": "FloatProgressModel",
            "bar_style": "success",
            "max": 625,
            "_view_module": "@jupyter-widgets/controls",
            "_model_module_version": "1.5.0",
            "value": 625,
            "_view_count": null,
            "_view_module_version": "1.5.0",
            "orientation": "horizontal",
            "min": 0,
            "description_tooltip": null,
            "_model_module": "@jupyter-widgets/controls",
            "layout": "IPY_MODEL_5cd7b738ea5842ce9c970d142621d94c"
          }
        },
        "b961fdba749d475f905ed41e21fd4cb6": {
          "model_module": "@jupyter-widgets/controls",
          "model_name": "HTMLModel",
          "state": {
            "_view_name": "HTMLView",
            "style": "IPY_MODEL_18bfc5010bb140e1bb42d318f8da909c",
            "_dom_classes": [],
            "description": "",
            "_model_name": "HTMLModel",
            "placeholder": "​",
            "_view_module": "@jupyter-widgets/controls",
            "_model_module_version": "1.5.0",
            "value": " 625/625 [00:00&lt;00:00, 1.23kB/s]",
            "_view_count": null,
            "_view_module_version": "1.5.0",
            "description_tooltip": null,
            "_model_module": "@jupyter-widgets/controls",
            "layout": "IPY_MODEL_31ce58dfcaa9436fb0adb853e16a622f"
          }
        },
        "dc51b3c82869477d912b589897990efd": {
          "model_module": "@jupyter-widgets/controls",
          "model_name": "ProgressStyleModel",
          "state": {
            "_view_name": "StyleView",
            "_model_name": "ProgressStyleModel",
            "description_width": "initial",
            "_view_module": "@jupyter-widgets/base",
            "_model_module_version": "1.5.0",
            "_view_count": null,
            "_view_module_version": "1.2.0",
            "bar_color": null,
            "_model_module": "@jupyter-widgets/controls"
          }
        },
        "5cd7b738ea5842ce9c970d142621d94c": {
          "model_module": "@jupyter-widgets/base",
          "model_name": "LayoutModel",
          "state": {
            "_view_name": "LayoutView",
            "grid_template_rows": null,
            "right": null,
            "justify_content": null,
            "_view_module": "@jupyter-widgets/base",
            "overflow": null,
            "_model_module_version": "1.2.0",
            "_view_count": null,
            "flex_flow": null,
            "width": null,
            "min_width": null,
            "border": null,
            "align_items": null,
            "bottom": null,
            "_model_module": "@jupyter-widgets/base",
            "top": null,
            "grid_column": null,
            "overflow_y": null,
            "overflow_x": null,
            "grid_auto_flow": null,
            "grid_area": null,
            "grid_template_columns": null,
            "flex": null,
            "_model_name": "LayoutModel",
            "justify_items": null,
            "grid_row": null,
            "max_height": null,
            "align_content": null,
            "visibility": null,
            "align_self": null,
            "height": null,
            "min_height": null,
            "padding": null,
            "grid_auto_rows": null,
            "grid_gap": null,
            "max_width": null,
            "order": null,
            "_view_module_version": "1.2.0",
            "grid_template_areas": null,
            "object_position": null,
            "object_fit": null,
            "grid_auto_columns": null,
            "margin": null,
            "display": null,
            "left": null
          }
        },
        "18bfc5010bb140e1bb42d318f8da909c": {
          "model_module": "@jupyter-widgets/controls",
          "model_name": "DescriptionStyleModel",
          "state": {
            "_view_name": "StyleView",
            "_model_name": "DescriptionStyleModel",
            "description_width": "",
            "_view_module": "@jupyter-widgets/base",
            "_model_module_version": "1.5.0",
            "_view_count": null,
            "_view_module_version": "1.2.0",
            "_model_module": "@jupyter-widgets/controls"
          }
        },
        "31ce58dfcaa9436fb0adb853e16a622f": {
          "model_module": "@jupyter-widgets/base",
          "model_name": "LayoutModel",
          "state": {
            "_view_name": "LayoutView",
            "grid_template_rows": null,
            "right": null,
            "justify_content": null,
            "_view_module": "@jupyter-widgets/base",
            "overflow": null,
            "_model_module_version": "1.2.0",
            "_view_count": null,
            "flex_flow": null,
            "width": null,
            "min_width": null,
            "border": null,
            "align_items": null,
            "bottom": null,
            "_model_module": "@jupyter-widgets/base",
            "top": null,
            "grid_column": null,
            "overflow_y": null,
            "overflow_x": null,
            "grid_auto_flow": null,
            "grid_area": null,
            "grid_template_columns": null,
            "flex": null,
            "_model_name": "LayoutModel",
            "justify_items": null,
            "grid_row": null,
            "max_height": null,
            "align_content": null,
            "visibility": null,
            "align_self": null,
            "height": null,
            "min_height": null,
            "padding": null,
            "grid_auto_rows": null,
            "grid_gap": null,
            "max_width": null,
            "order": null,
            "_view_module_version": "1.2.0",
            "grid_template_areas": null,
            "object_position": null,
            "object_fit": null,
            "grid_auto_columns": null,
            "margin": null,
            "display": null,
            "left": null
          }
        },
        "863d9e1f6ba74ca59de55e7ce2f0bdef": {
          "model_module": "@jupyter-widgets/controls",
          "model_name": "HBoxModel",
          "state": {
            "_view_name": "HBoxView",
            "_dom_classes": [],
            "_model_name": "HBoxModel",
            "_view_module": "@jupyter-widgets/controls",
            "_model_module_version": "1.5.0",
            "_view_count": null,
            "_view_module_version": "1.5.0",
            "box_style": "",
            "layout": "IPY_MODEL_2b493cbf0a104d8ea78171fd1988cf47",
            "_model_module": "@jupyter-widgets/controls",
            "children": [
              "IPY_MODEL_3c922496fad04cf4950e6e5e8e827195",
              "IPY_MODEL_f9cdce9e148045e193b00a21fbaf5bb4"
            ]
          }
        },
        "2b493cbf0a104d8ea78171fd1988cf47": {
          "model_module": "@jupyter-widgets/base",
          "model_name": "LayoutModel",
          "state": {
            "_view_name": "LayoutView",
            "grid_template_rows": null,
            "right": null,
            "justify_content": null,
            "_view_module": "@jupyter-widgets/base",
            "overflow": null,
            "_model_module_version": "1.2.0",
            "_view_count": null,
            "flex_flow": null,
            "width": null,
            "min_width": null,
            "border": null,
            "align_items": null,
            "bottom": null,
            "_model_module": "@jupyter-widgets/base",
            "top": null,
            "grid_column": null,
            "overflow_y": null,
            "overflow_x": null,
            "grid_auto_flow": null,
            "grid_area": null,
            "grid_template_columns": null,
            "flex": null,
            "_model_name": "LayoutModel",
            "justify_items": null,
            "grid_row": null,
            "max_height": null,
            "align_content": null,
            "visibility": null,
            "align_self": null,
            "height": null,
            "min_height": null,
            "padding": null,
            "grid_auto_rows": null,
            "grid_gap": null,
            "max_width": null,
            "order": null,
            "_view_module_version": "1.2.0",
            "grid_template_areas": null,
            "object_position": null,
            "object_fit": null,
            "grid_auto_columns": null,
            "margin": null,
            "display": null,
            "left": null
          }
        },
        "3c922496fad04cf4950e6e5e8e827195": {
          "model_module": "@jupyter-widgets/controls",
          "model_name": "FloatProgressModel",
          "state": {
            "_view_name": "ProgressView",
            "style": "IPY_MODEL_bdbf68bc577b4773b9ede5b7ce108975",
            "_dom_classes": [],
            "description": "Downloading: 100%",
            "_model_name": "FloatProgressModel",
            "bar_style": "success",
            "max": 1083389348,
            "_view_module": "@jupyter-widgets/controls",
            "_model_module_version": "1.5.0",
            "value": 1083389348,
            "_view_count": null,
            "_view_module_version": "1.5.0",
            "orientation": "horizontal",
            "min": 0,
            "description_tooltip": null,
            "_model_module": "@jupyter-widgets/controls",
            "layout": "IPY_MODEL_15bbb109b02641bdb599ac271c380ff5"
          }
        },
        "f9cdce9e148045e193b00a21fbaf5bb4": {
          "model_module": "@jupyter-widgets/controls",
          "model_name": "HTMLModel",
          "state": {
            "_view_name": "HTMLView",
            "style": "IPY_MODEL_ceeb124155aa4edfa2bbc7712a874546",
            "_dom_classes": [],
            "description": "",
            "_model_name": "HTMLModel",
            "placeholder": "​",
            "_view_module": "@jupyter-widgets/controls",
            "_model_module_version": "1.5.0",
            "value": " 1.08G/1.08G [00:25&lt;00:00, 43.0MB/s]",
            "_view_count": null,
            "_view_module_version": "1.5.0",
            "description_tooltip": null,
            "_model_module": "@jupyter-widgets/controls",
            "layout": "IPY_MODEL_61ab47e4e3474b0a9856be8610ea1e11"
          }
        },
        "bdbf68bc577b4773b9ede5b7ce108975": {
          "model_module": "@jupyter-widgets/controls",
          "model_name": "ProgressStyleModel",
          "state": {
            "_view_name": "StyleView",
            "_model_name": "ProgressStyleModel",
            "description_width": "initial",
            "_view_module": "@jupyter-widgets/base",
            "_model_module_version": "1.5.0",
            "_view_count": null,
            "_view_module_version": "1.2.0",
            "bar_color": null,
            "_model_module": "@jupyter-widgets/controls"
          }
        },
        "15bbb109b02641bdb599ac271c380ff5": {
          "model_module": "@jupyter-widgets/base",
          "model_name": "LayoutModel",
          "state": {
            "_view_name": "LayoutView",
            "grid_template_rows": null,
            "right": null,
            "justify_content": null,
            "_view_module": "@jupyter-widgets/base",
            "overflow": null,
            "_model_module_version": "1.2.0",
            "_view_count": null,
            "flex_flow": null,
            "width": null,
            "min_width": null,
            "border": null,
            "align_items": null,
            "bottom": null,
            "_model_module": "@jupyter-widgets/base",
            "top": null,
            "grid_column": null,
            "overflow_y": null,
            "overflow_x": null,
            "grid_auto_flow": null,
            "grid_area": null,
            "grid_template_columns": null,
            "flex": null,
            "_model_name": "LayoutModel",
            "justify_items": null,
            "grid_row": null,
            "max_height": null,
            "align_content": null,
            "visibility": null,
            "align_self": null,
            "height": null,
            "min_height": null,
            "padding": null,
            "grid_auto_rows": null,
            "grid_gap": null,
            "max_width": null,
            "order": null,
            "_view_module_version": "1.2.0",
            "grid_template_areas": null,
            "object_position": null,
            "object_fit": null,
            "grid_auto_columns": null,
            "margin": null,
            "display": null,
            "left": null
          }
        },
        "ceeb124155aa4edfa2bbc7712a874546": {
          "model_module": "@jupyter-widgets/controls",
          "model_name": "DescriptionStyleModel",
          "state": {
            "_view_name": "StyleView",
            "_model_name": "DescriptionStyleModel",
            "description_width": "",
            "_view_module": "@jupyter-widgets/base",
            "_model_module_version": "1.5.0",
            "_view_count": null,
            "_view_module_version": "1.2.0",
            "_model_module": "@jupyter-widgets/controls"
          }
        },
        "61ab47e4e3474b0a9856be8610ea1e11": {
          "model_module": "@jupyter-widgets/base",
          "model_name": "LayoutModel",
          "state": {
            "_view_name": "LayoutView",
            "grid_template_rows": null,
            "right": null,
            "justify_content": null,
            "_view_module": "@jupyter-widgets/base",
            "overflow": null,
            "_model_module_version": "1.2.0",
            "_view_count": null,
            "flex_flow": null,
            "width": null,
            "min_width": null,
            "border": null,
            "align_items": null,
            "bottom": null,
            "_model_module": "@jupyter-widgets/base",
            "top": null,
            "grid_column": null,
            "overflow_y": null,
            "overflow_x": null,
            "grid_auto_flow": null,
            "grid_area": null,
            "grid_template_columns": null,
            "flex": null,
            "_model_name": "LayoutModel",
            "justify_items": null,
            "grid_row": null,
            "max_height": null,
            "align_content": null,
            "visibility": null,
            "align_self": null,
            "height": null,
            "min_height": null,
            "padding": null,
            "grid_auto_rows": null,
            "grid_gap": null,
            "max_width": null,
            "order": null,
            "_view_module_version": "1.2.0",
            "grid_template_areas": null,
            "object_position": null,
            "object_fit": null,
            "grid_auto_columns": null,
            "margin": null,
            "display": null,
            "left": null
          }
        }
      }
    }
  },
  "cells": [
    {
      "cell_type": "markdown",
      "metadata": {
        "id": "HdF8yyE7HpsS"
      },
      "source": [
        "# **Unsupervised chunking in Indian languages**\n",
        "\n",
        "---\n",
        "\n",
        "Sumit Bhuin (2019201034)\n",
        "Virat Mishra (2019201033)"
      ]
    },
    {
      "cell_type": "markdown",
      "metadata": {
        "id": "0ty6fyLbwuGM"
      },
      "source": [
        "## Downloading Dataset"
      ]
    },
    {
      "cell_type": "code",
      "metadata": {
        "id": "g4lMh4DUgI6p",
        "trusted": true,
        "colab": {
          "base_uri": "https://localhost:8080/"
        },
        "outputId": "06734b2e-df15-4fc1-9dc4-8ca320451a59"
      },
      "source": [
        "!wget \"https://raw.githubusercontent.com/vm-iiit/Unsupervised-chunking-in-Indian-languages/master/Datasets/Unprocessed_data/Data4\" -O Data"
      ],
      "execution_count": 2,
      "outputs": [
        {
          "output_type": "stream",
          "text": [
            "--2021-04-27 05:24:10--  https://raw.githubusercontent.com/vm-iiit/Unsupervised-chunking-in-Indian-languages/master/Datasets/Unprocessed_data/Data4\n",
            "Resolving raw.githubusercontent.com (raw.githubusercontent.com)... 185.199.109.133, 185.199.108.133, 185.199.110.133, ...\n",
            "Connecting to raw.githubusercontent.com (raw.githubusercontent.com)|185.199.109.133|:443... connected.\n",
            "HTTP request sent, awaiting response... 200 OK\n",
            "Length: 173421 (169K) [text/plain]\n",
            "Saving to: ‘Data’\n",
            "\n",
            "Data                100%[===================>] 169.36K  --.-KB/s    in 0.02s   \n",
            "\n",
            "2021-04-27 05:24:10 (10.0 MB/s) - ‘Data’ saved [173421/173421]\n",
            "\n"
          ],
          "name": "stdout"
        }
      ]
    },
    {
      "cell_type": "markdown",
      "metadata": {
        "id": "eZoEf9f1xDy7"
      },
      "source": [
        "## Installing various word embedding models"
      ]
    },
    {
      "cell_type": "code",
      "metadata": {
        "id": "FlbWNu0itdy4",
        "trusted": true
      },
      "source": [
        "!pip install fasttext -q\n",
        "import fasttext\n",
        "import fasttext.util"
      ],
      "execution_count": 115,
      "outputs": []
    },
    {
      "cell_type": "code",
      "metadata": {
        "id": "-wOTf2QgtjcX",
        "trusted": true,
        "colab": {
          "base_uri": "https://localhost:8080/"
        },
        "outputId": "ad58254f-8037-40ce-b7da-62ed25ff1ed6"
      },
      "source": [
        "!wget \"https://dl.fbaipublicfiles.com/fasttext/vectors-crawl/cc.hi.300.bin.gz\""
      ],
      "execution_count": 4,
      "outputs": [
        {
          "output_type": "stream",
          "text": [
            "--2021-04-27 05:24:53--  https://dl.fbaipublicfiles.com/fasttext/vectors-crawl/cc.hi.300.bin.gz\n",
            "Resolving dl.fbaipublicfiles.com (dl.fbaipublicfiles.com)... 104.22.75.142, 104.22.74.142, 172.67.9.4, ...\n",
            "Connecting to dl.fbaipublicfiles.com (dl.fbaipublicfiles.com)|104.22.75.142|:443... connected.\n",
            "HTTP request sent, awaiting response... 200 OK\n",
            "Length: 4371554972 (4.1G) [application/octet-stream]\n",
            "Saving to: ‘cc.hi.300.bin.gz’\n",
            "\n",
            "cc.hi.300.bin.gz    100%[===================>]   4.07G  41.4MB/s    in 2m 1s   \n",
            "\n",
            "2021-04-27 05:26:55 (34.4 MB/s) - ‘cc.hi.300.bin.gz’ saved [4371554972/4371554972]\n",
            "\n"
          ],
          "name": "stdout"
        }
      ]
    },
    {
      "cell_type": "code",
      "metadata": {
        "id": "hEfD6mHPyI9p",
        "trusted": true
      },
      "source": [
        "!gzip -d \"./cc.hi.300.bin.gz\""
      ],
      "execution_count": 5,
      "outputs": []
    },
    {
      "cell_type": "code",
      "metadata": {
        "id": "GL3c8AKLYHw2",
        "colab": {
          "base_uri": "https://localhost:8080/"
        },
        "outputId": "19509efa-223e-4e03-e5b0-f8b2b11cb98f"
      },
      "source": [
        "!pip install -U sentence-transformers -q"
      ],
      "execution_count": 6,
      "outputs": [
        {
          "output_type": "stream",
          "text": [
            "\u001b[K     |████████████████████████████████| 81kB 6.1MB/s \n",
            "\u001b[K     |████████████████████████████████| 2.1MB 12.0MB/s \n",
            "\u001b[K     |████████████████████████████████| 1.2MB 50.6MB/s \n",
            "\u001b[K     |████████████████████████████████| 3.3MB 57.9MB/s \n",
            "\u001b[K     |████████████████████████████████| 901kB 56.7MB/s \n",
            "\u001b[?25h  Building wheel for sentence-transformers (setup.py) ... \u001b[?25l\u001b[?25hdone\n"
          ],
          "name": "stdout"
        }
      ]
    },
    {
      "cell_type": "code",
      "metadata": {
        "id": "2eyK3f2NbB8I",
        "colab": {
          "base_uri": "https://localhost:8080/",
          "height": 367,
          "referenced_widgets": [
            "b9a38d3139d743f7ae30bd775f9a6c68",
            "2deb2c4d61254724ad633de58960f2cf",
            "3f95159099a943078f160d2fa3059778",
            "2a1379ed77814e7f9e9b574276ea4d11",
            "ecc02457792147a8ae3eaec5eb34b29f",
            "5a1397ec916a4946b696b78ed7af64ec",
            "fb105e084f544374ae30283cbdd84c26",
            "ea34f00505ea4935b43862698838384f",
            "f3fd8e7ab57448798f86583df1acdc6e",
            "81d6661043b34600a5fcff06b81e3bcb",
            "d5dbdec56a574943bfd4b4f37670f942",
            "0d6352d8343e42318dfb49d4f818900a",
            "42e31a0147b74220a3793c02455f32c3",
            "983bd511b507443b800fd5b2b581400a",
            "e702ee6d7aae4718aa607372dca9a5c0",
            "7ec810e35261411d9cc36a408ded945d",
            "e6eb6dfc78fa41c6a706a8124e2d95de",
            "c11d612f401e4bed80c41f8987f23449",
            "8eabb2976a4748b79e5ff6d4504b6560",
            "a7eb33cfcfc3451997041c320c2bbe67",
            "f6226345651847cabb9d126e2ef8b149",
            "9fdf4d9acdc242e5bb161fe8c3fada37",
            "a137456c20ab4d9bbd734513ef3e4134",
            "c182ab409b3d43b2a7b9573dccfb3c3b",
            "f92fc100f4b74c0f8a2455278ca8ae04",
            "9e7fe8d3d7334ffdacbd2481545aaf96",
            "773493acdb52462583acea5c60e84e76",
            "b961fdba749d475f905ed41e21fd4cb6",
            "dc51b3c82869477d912b589897990efd",
            "5cd7b738ea5842ce9c970d142621d94c",
            "18bfc5010bb140e1bb42d318f8da909c",
            "31ce58dfcaa9436fb0adb853e16a622f",
            "863d9e1f6ba74ca59de55e7ce2f0bdef",
            "2b493cbf0a104d8ea78171fd1988cf47",
            "3c922496fad04cf4950e6e5e8e827195",
            "f9cdce9e148045e193b00a21fbaf5bb4",
            "bdbf68bc577b4773b9ede5b7ce108975",
            "15bbb109b02641bdb599ac271c380ff5",
            "ceeb124155aa4edfa2bbc7712a874546",
            "61ab47e4e3474b0a9856be8610ea1e11"
          ]
        },
        "outputId": "d9ca2a04-d69c-4184-cf7a-57ef31d7d591"
      },
      "source": [
        "from transformers import BertTokenizer, TFBertModel\n",
        "tokenizer = BertTokenizer.from_pretrained('bert-base-multilingual-cased')\n",
        "model = TFBertModel.from_pretrained(\"bert-base-multilingual-cased\")"
      ],
      "execution_count": 7,
      "outputs": [
        {
          "output_type": "display_data",
          "data": {
            "application/vnd.jupyter.widget-view+json": {
              "model_id": "b9a38d3139d743f7ae30bd775f9a6c68",
              "version_minor": 0,
              "version_major": 2
            },
            "text/plain": [
              "HBox(children=(FloatProgress(value=0.0, description='Downloading', max=995526.0, style=ProgressStyle(descripti…"
            ]
          },
          "metadata": {
            "tags": []
          }
        },
        {
          "output_type": "stream",
          "text": [
            "\n"
          ],
          "name": "stdout"
        },
        {
          "output_type": "display_data",
          "data": {
            "application/vnd.jupyter.widget-view+json": {
              "model_id": "f3fd8e7ab57448798f86583df1acdc6e",
              "version_minor": 0,
              "version_major": 2
            },
            "text/plain": [
              "HBox(children=(FloatProgress(value=0.0, description='Downloading', max=29.0, style=ProgressStyle(description_w…"
            ]
          },
          "metadata": {
            "tags": []
          }
        },
        {
          "output_type": "stream",
          "text": [
            "\n"
          ],
          "name": "stdout"
        },
        {
          "output_type": "display_data",
          "data": {
            "application/vnd.jupyter.widget-view+json": {
              "model_id": "e6eb6dfc78fa41c6a706a8124e2d95de",
              "version_minor": 0,
              "version_major": 2
            },
            "text/plain": [
              "HBox(children=(FloatProgress(value=0.0, description='Downloading', max=1961828.0, style=ProgressStyle(descript…"
            ]
          },
          "metadata": {
            "tags": []
          }
        },
        {
          "output_type": "stream",
          "text": [
            "\n"
          ],
          "name": "stdout"
        },
        {
          "output_type": "display_data",
          "data": {
            "application/vnd.jupyter.widget-view+json": {
              "model_id": "f92fc100f4b74c0f8a2455278ca8ae04",
              "version_minor": 0,
              "version_major": 2
            },
            "text/plain": [
              "HBox(children=(FloatProgress(value=0.0, description='Downloading', max=625.0, style=ProgressStyle(description_…"
            ]
          },
          "metadata": {
            "tags": []
          }
        },
        {
          "output_type": "stream",
          "text": [
            "\n"
          ],
          "name": "stdout"
        },
        {
          "output_type": "display_data",
          "data": {
            "application/vnd.jupyter.widget-view+json": {
              "model_id": "863d9e1f6ba74ca59de55e7ce2f0bdef",
              "version_minor": 0,
              "version_major": 2
            },
            "text/plain": [
              "HBox(children=(FloatProgress(value=0.0, description='Downloading', max=1083389348.0, style=ProgressStyle(descr…"
            ]
          },
          "metadata": {
            "tags": []
          }
        },
        {
          "output_type": "stream",
          "text": [
            "\n"
          ],
          "name": "stdout"
        },
        {
          "output_type": "stream",
          "text": [
            "Some layers from the model checkpoint at bert-base-multilingual-cased were not used when initializing TFBertModel: ['mlm___cls', 'nsp___cls']\n",
            "- This IS expected if you are initializing TFBertModel from the checkpoint of a model trained on another task or with another architecture (e.g. initializing a BertForSequenceClassification model from a BertForPreTraining model).\n",
            "- This IS NOT expected if you are initializing TFBertModel from the checkpoint of a model that you expect to be exactly identical (initializing a BertForSequenceClassification model from a BertForSequenceClassification model).\n",
            "All the layers of TFBertModel were initialized from the model checkpoint at bert-base-multilingual-cased.\n",
            "If your task is similar to the task the model of the checkpoint was trained on, you can already use TFBertModel for predictions without further training.\n"
          ],
          "name": "stderr"
        }
      ]
    },
    {
      "cell_type": "markdown",
      "metadata": {
        "id": "oi2e6Xl1xdZn"
      },
      "source": [
        "## Importing prerequisite and installed library functions"
      ]
    },
    {
      "cell_type": "code",
      "metadata": {
        "id": "iJvzS9iiuNZa",
        "trusted": true
      },
      "source": [
        "import re\n",
        "import numpy as np\n",
        "from sklearn.preprocessing import OneHotEncoder\n",
        "from sklearn.cluster import KMeans\n",
        "import scipy\n",
        "from keras.preprocessing.text import Tokenizer\n",
        "from keras.preprocessing.sequence import pad_sequences\n",
        "from keras.layers import Input, Embedding, Bidirectional, LSTM, RepeatVector, Dense\n",
        "from keras import Model, optimizers\n",
        "from termcolor import colored\n",
        "from sklearn.cluster import DBSCAN\n",
        "from sklearn.cluster import AgglomerativeClustering, ward_tree\n",
        "\n",
        "from matplotlib import pyplot as plt\n",
        "from scipy.cluster.hierarchy import dendrogram\n",
        "from sklearn.datasets import load_iris\n",
        "from sklearn.cluster import AgglomerativeClustering"
      ],
      "execution_count": 8,
      "outputs": []
    },
    {
      "cell_type": "markdown",
      "metadata": {
        "id": "ZLZfYIA6raOO"
      },
      "source": [
        "## Function to print chunked sentences"
      ]
    },
    {
      "cell_type": "code",
      "metadata": {
        "id": "9CGAJOMoTJR7"
      },
      "source": [
        "def print_chunked_sentences(sentences, chunk_labels, count):\n",
        "\n",
        "    colors = [\n",
        "            \"red\",\n",
        "            \"green\",\n",
        "            \"yellow\",\n",
        "            \"blue\",\n",
        "            \"magenta\",\n",
        "            \"cyan\",\n",
        "    ]\n",
        "\n",
        "    np.random.shuffle(colors)\n",
        "\n",
        "    offset = np.random.randint(low=0, high = len(colors))\n",
        "\n",
        "    for index in range(len(sentences[:count])):\n",
        "        for ind in range(len(sentences[index])):\n",
        "            print(colored(sentences[index][ind], colors[(chunk_labels[index][ind] + offset) % len(colors)], attrs=['bold']), end=' ')\n",
        "        print('\\n----------------------------------------')"
      ],
      "execution_count": 9,
      "outputs": []
    },
    {
      "cell_type": "markdown",
      "metadata": {
        "id": "URYsTquDDb43"
      },
      "source": [
        "## K means clustering"
      ]
    },
    {
      "cell_type": "code",
      "metadata": {
        "id": "5VJ1y0LYm0KA"
      },
      "source": [
        "def k_means_clustering(sentences, cluster_count):\n",
        "    chunk_labels = []\n",
        "    kmeans = KMeans(n_clusters=cluster_count, random_state=0, init='random')\n",
        "    for inp_vec in one_hot_enc_pos_input:\n",
        "        chunk_labels.append(kmeans.fit_predict(inp_vec))\n",
        "\n",
        "    return chunk_labels"
      ],
      "execution_count": 10,
      "outputs": []
    },
    {
      "cell_type": "markdown",
      "metadata": {
        "id": "S8Enfbq1sbf3"
      },
      "source": [
        "## DBscan clustering"
      ]
    },
    {
      "cell_type": "code",
      "metadata": {
        "id": "VhB-Y-3erzEM"
      },
      "source": [
        "def DBscan_clustering(sentences, eps =.5, min_samples = 5):\n",
        "    chunk_labels = []\n",
        "    dbs = DBSCAN(eps=eps, min_samples=min_samples)\n",
        "    for inp_vec in sentences:\n",
        "        chunk_labels.append(dbs.fit_predict(inp_vec))\n",
        "\n",
        "    return chunk_labels"
      ],
      "execution_count": 11,
      "outputs": []
    },
    {
      "cell_type": "markdown",
      "metadata": {
        "id": "vV7QhmFps-aD"
      },
      "source": [
        "## Agglomerative clustering"
      ]
    },
    {
      "cell_type": "code",
      "metadata": {
        "id": "jARU9XZ0tCvm"
      },
      "source": [
        "def agglomerative_clustering(sentences, cluster_count):\n",
        "    chunk_labels = []\n",
        "    amcs = AgglomerativeClustering(n_clusters=cluster_count)\n",
        "    for inp_vec in sentences:\n",
        "        chunk_labels.append(amcs.fit_predict(inp_vec))\n",
        "    \n",
        "    return chunk_labels"
      ],
      "execution_count": 12,
      "outputs": []
    },
    {
      "cell_type": "markdown",
      "metadata": {
        "id": "oWLxLx3PD0iK"
      },
      "source": [
        "Ward Tree"
      ]
    },
    {
      "cell_type": "code",
      "metadata": {
        "id": "N4IxcR0-vLpe"
      },
      "source": [
        "def ward_tree_clustering(sentences):\n",
        "    chunk_labels = []\n",
        "    wt = ward_tree()\n",
        "    for inp_vec in sentences:\n",
        "        chunk_labels.append(wt.fit_predict(inp_vec))\n",
        "    \n",
        "    return chunk_labels"
      ],
      "execution_count": 13,
      "outputs": []
    },
    {
      "cell_type": "markdown",
      "metadata": {
        "id": "s6rIAaYeyVy5"
      },
      "source": [
        "## Global variables"
      ]
    },
    {
      "cell_type": "code",
      "metadata": {
        "id": "gNIzbIlUx3WC"
      },
      "source": [
        "sentences = []\n",
        "tags = []\n",
        "all_tags = []\n",
        "no_pos_tag = re.compile(\"(_ |_$)\")\n",
        "output_display_count = 10\n",
        "cluster_count = 5"
      ],
      "execution_count": 14,
      "outputs": []
    },
    {
      "cell_type": "markdown",
      "metadata": {
        "id": "jx9Jw6gxyYWd"
      },
      "source": [
        "## Data parsing"
      ]
    },
    {
      "cell_type": "code",
      "metadata": {
        "id": "gUAC4XZ4gLyv",
        "trusted": true
      },
      "source": [
        "with open(\"./Data\", 'r') as inp_handler:\n",
        "    \n",
        "    lines = inp_handler.readlines()\n",
        "\n",
        "    for index in range(len(lines)):\n",
        "        if lines[index][0] == '<':\n",
        "            continue\n",
        "        else:\n",
        "            # print(lines[index])\n",
        "            sentence_list = []\n",
        "            tag_list = []\n",
        "            if re.search(no_pos_tag, lines[index]):\n",
        "                continue\n",
        "            else:\n",
        "                if len(lines[index].split()) < cluster_count:\n",
        "                    continue\n",
        "                for pair in lines[index].split():\n",
        "                    w, p = pair.split('_')\n",
        "                    if not p:\n",
        "                        print(lines[index])\n",
        "                        break\n",
        "                    sentence_list.append(w)\n",
        "                    tag_list.append(p)\n",
        "        sentences.append(sentence_list)\n",
        "        tags.append(tag_list)\n",
        "        all_tags.extend(tag_list)"
      ],
      "execution_count": 15,
      "outputs": []
    },
    {
      "cell_type": "markdown",
      "metadata": {
        "id": "8fzmrv7Zy19s"
      },
      "source": [
        "## Unique POS tags of dataset"
      ]
    },
    {
      "cell_type": "code",
      "metadata": {
        "id": "B9dVLL5cixzA",
        "trusted": true,
        "colab": {
          "base_uri": "https://localhost:8080/"
        },
        "outputId": "d52c2cf4-2611-4101-b62d-a8333af2e6cd"
      },
      "source": [
        "unique_pos_tags = set()\n",
        "for tag_list in tags:\n",
        "    for tag in tag_list:\n",
        "        if tag and tag[0] != '<':\n",
        "            unique_pos_tags.add(tag)\n",
        "print(unique_pos_tags)\n",
        "unique_pos_tags_array = np.array(list(unique_pos_tags))\n",
        "unique_tag_count = len(unique_pos_tags_array)"
      ],
      "execution_count": 16,
      "outputs": [
        {
          "output_type": "stream",
          "text": [
            "{'JJ', 'PUNC', 'NLOC', 'SYM', 'VAUX', 'NVB', 'VJJ', 'NN', 'VNN', 'NNPC', 'NNC', 'RP', 'VFM', 'QW', 'PREP', 'VRB', 'QF', 'PRP', 'INTF', 'CC', 'NNP', 'QFNUM', 'NEG', 'RB', 'JVB'}\n"
          ],
          "name": "stdout"
        }
      ]
    },
    {
      "cell_type": "markdown",
      "metadata": {
        "id": "eYvWRgH0EBbO"
      },
      "source": [
        "## POS tags only"
      ]
    },
    {
      "cell_type": "code",
      "metadata": {
        "id": "ClDkGqlOpJUz",
        "trusted": true,
        "colab": {
          "base_uri": "https://localhost:8080/"
        },
        "outputId": "df424fd9-e6e8-4b29-ad3d-72cec315d05f"
      },
      "source": [
        "enc = OneHotEncoder(sparse = False)\n",
        "enc.fit(unique_pos_tags_array.reshape(-1, 1))"
      ],
      "execution_count": 105,
      "outputs": [
        {
          "output_type": "execute_result",
          "data": {
            "text/plain": [
              "OneHotEncoder(categories='auto', drop=None, dtype=<class 'numpy.float64'>,\n",
              "              handle_unknown='error', sparse=False)"
            ]
          },
          "metadata": {
            "tags": []
          },
          "execution_count": 105
        }
      ]
    },
    {
      "cell_type": "code",
      "metadata": {
        "id": "OJYFAi5ulmNV",
        "trusted": true
      },
      "source": [
        "one_hot_enc_pos_input = []\n",
        "for sentence_tag in tags:\n",
        "    one_hot_enc_pos_input.append(np.array(enc.transform(np.array(sentence_tag).reshape(-1, 1))))"
      ],
      "execution_count": 106,
      "outputs": []
    },
    {
      "cell_type": "code",
      "metadata": {
        "id": "RLqpi3GO5rsw"
      },
      "source": [
        "cluster_count = 3"
      ],
      "execution_count": 107,
      "outputs": []
    },
    {
      "cell_type": "markdown",
      "metadata": {
        "id": "NsSzU4kIGcnq"
      },
      "source": [
        "### K means"
      ]
    },
    {
      "cell_type": "code",
      "metadata": {
        "colab": {
          "base_uri": "https://localhost:8080/"
        },
        "id": "_8WRhmRFGcnx",
        "outputId": "0b115a67-4ed8-4254-d056-ca9093e5a3f1"
      },
      "source": [
        "chunked_sentence_labels = k_means_clustering(one_hot_enc_pos_input, cluster_count)\n",
        "print_chunked_sentences(sentences, chunked_sentence_labels, output_display_count)"
      ],
      "execution_count": 116,
      "outputs": [
        {
          "output_type": "stream",
          "text": [
            "\u001b[1m\u001b[32mपूर्ण\u001b[0m \u001b[1m\u001b[36mप्रतिबंध\u001b[0m \u001b[1m\u001b[35mहटाओ\u001b[0m \u001b[1m\u001b[36m:\u001b[0m \u001b[1m\u001b[36mइराक\u001b[0m \n",
            "----------------------------------------\n",
            "\u001b[1m\u001b[36mइराक\u001b[0m \u001b[1m\u001b[35mके\u001b[0m \u001b[1m\u001b[36mविदेश\u001b[0m \u001b[1m\u001b[32mमंत्री\u001b[0m \u001b[1m\u001b[35mने\u001b[0m \u001b[1m\u001b[36mअमरीका\u001b[0m \u001b[1m\u001b[35mके\u001b[0m \u001b[1m\u001b[36mउस\u001b[0m \u001b[1m\u001b[32mप्रस्ताव\u001b[0m \u001b[1m\u001b[35mका\u001b[0m \u001b[1m\u001b[36mमजाक\u001b[0m \u001b[1m\u001b[36mउड़ाया\u001b[0m \u001b[1m\u001b[36mहै\u001b[0m \u001b[1m\u001b[36m,\u001b[0m \u001b[1m\u001b[36mजिसमें\u001b[0m \u001b[1m\u001b[36mअमरीका\u001b[0m \u001b[1m\u001b[35mने\u001b[0m \u001b[1m\u001b[36mसंयुक्त\u001b[0m \u001b[1m\u001b[32mराष्ट्र\u001b[0m \u001b[1m\u001b[35mके\u001b[0m \u001b[1m\u001b[32mप्रतिबंधों\u001b[0m \u001b[1m\u001b[35mको\u001b[0m \u001b[1m\u001b[36mइराकी\u001b[0m \u001b[1m\u001b[32mनागरिकों\u001b[0m \u001b[1m\u001b[35mके\u001b[0m \u001b[1m\u001b[35mलिए\u001b[0m \u001b[1m\u001b[36mकम\u001b[0m \u001b[1m\u001b[36mहानिकारक\u001b[0m \u001b[1m\u001b[36mबनाने\u001b[0m \u001b[1m\u001b[35mके\u001b[0m \u001b[1m\u001b[35mलिए\u001b[0m \u001b[1m\u001b[36mकहा\u001b[0m \u001b[1m\u001b[36mहै\u001b[0m \u001b[1m\u001b[36m।\u001b[0m \n",
            "----------------------------------------\n",
            "\u001b[1m\u001b[36mविदेश\u001b[0m \u001b[1m\u001b[32mमंत्री\u001b[0m \u001b[1m\u001b[36mका\u001b[0m \u001b[1m\u001b[36mकहना\u001b[0m \u001b[1m\u001b[35mहै\u001b[0m \u001b[1m\u001b[36mकि\u001b[0m \u001b[1m\u001b[36mचूंकि\u001b[0m \u001b[1m\u001b[36mबगदाद\u001b[0m \u001b[1m\u001b[36mसंयुक्त\u001b[0m \u001b[1m\u001b[32mराष्ट्र\u001b[0m \u001b[1m\u001b[36mकी\u001b[0m \u001b[1m\u001b[32mमांगों\u001b[0m \u001b[1m\u001b[36mका\u001b[0m \u001b[1m\u001b[36mपालन\u001b[0m \u001b[1m\u001b[36mकरते\u001b[0m \u001b[1m\u001b[35mहुए\u001b[0m \u001b[1m\u001b[36mअपने\u001b[0m \u001b[1m\u001b[36mभारी\u001b[0m \u001b[1m\u001b[36mविनाशकारी\u001b[0m \u001b[1m\u001b[32mहथियारों\u001b[0m \u001b[1m\u001b[36mको\u001b[0m \u001b[1m\u001b[36mनष्ट\u001b[0m \u001b[1m\u001b[36mकर\u001b[0m \u001b[1m\u001b[35mरहा\u001b[0m \u001b[1m\u001b[35mहै\u001b[0m \u001b[1m\u001b[36m।\u001b[0m \n",
            "----------------------------------------\n",
            "\u001b[1m\u001b[36mलिहाजा\u001b[0m \u001b[1m\u001b[32mप्रतिबंधों\u001b[0m \u001b[1m\u001b[36mको\u001b[0m \u001b[1m\u001b[36mपूर्ण\u001b[0m \u001b[1m\u001b[32mरूप\u001b[0m \u001b[1m\u001b[36mसे\u001b[0m \u001b[1m\u001b[36mउठा\u001b[0m \u001b[1m\u001b[35mदिया\u001b[0m \u001b[1m\u001b[35mजाना\u001b[0m \u001b[1m\u001b[35mचाहिए\u001b[0m \u001b[1m\u001b[36m।\u001b[0m \n",
            "----------------------------------------\n",
            "\u001b[1m\u001b[35mविदेश\u001b[0m \u001b[1m\u001b[32mमंत्री\u001b[0m \u001b[1m\u001b[36mमोहम्मद\u001b[0m \u001b[1m\u001b[36mसईद\u001b[0m \u001b[1m\u001b[36mका\u001b[0m \u001b[1m\u001b[36mकहना\u001b[0m \u001b[1m\u001b[36mहै\u001b[0m \u001b[1m\u001b[36mकि\u001b[0m \u001b[1m\u001b[36mवे\u001b[0m \u001b[1m\u001b[36mइसे\u001b[0m \u001b[1m\u001b[36m'सुव्यवस्थित\u001b[0m \u001b[1m\u001b[32mप्रतिबंध'\u001b[0m \u001b[1m\u001b[36mकह\u001b[0m \u001b[1m\u001b[36mकर\u001b[0m \u001b[1m\u001b[36mआम\u001b[0m \u001b[1m\u001b[32mराय\u001b[0m \u001b[1m\u001b[36mऔर\u001b[0m \u001b[1m\u001b[35mसुरक्षा\u001b[0m \u001b[1m\u001b[32mपरिषद\u001b[0m \u001b[1m\u001b[36mको\u001b[0m \u001b[1m\u001b[36mछल\u001b[0m \u001b[1m\u001b[36mरहे\u001b[0m \u001b[1m\u001b[36mहैं\u001b[0m \u001b[1m\u001b[36m।\u001b[0m \n",
            "----------------------------------------\n",
            "\u001b[1m\u001b[36mपाकिस्तान\u001b[0m \u001b[1m\u001b[35mकी\u001b[0m \u001b[1m\u001b[36mपूर्व\u001b[0m \u001b[1m\u001b[32mप्रधानमंत्री\u001b[0m \u001b[1m\u001b[36mबेनजीर\u001b[0m \u001b[1m\u001b[36mभुट्टो\u001b[0m \u001b[1m\u001b[35mपर\u001b[0m \u001b[1m\u001b[36mलगे\u001b[0m \u001b[1m\u001b[32mभ्रष्टाचार\u001b[0m \u001b[1m\u001b[35mके\u001b[0m \u001b[1m\u001b[32mआरोपों\u001b[0m \u001b[1m\u001b[35mके\u001b[0m \u001b[1m\u001b[35mखिलाफ\u001b[0m \u001b[1m\u001b[36mभुट्टो\u001b[0m \u001b[1m\u001b[35mद्वारा\u001b[0m \u001b[1m\u001b[36mदायर\u001b[0m \u001b[1m\u001b[36mकी\u001b[0m \u001b[1m\u001b[36mगई\u001b[0m \u001b[1m\u001b[32mयाचिका\u001b[0m \u001b[1m\u001b[35mकी\u001b[0m \u001b[1m\u001b[32mसुनवाई\u001b[0m \u001b[1m\u001b[32mमंगलवार\u001b[0m \u001b[1m\u001b[35mको\u001b[0m \u001b[1m\u001b[32mवकीलों\u001b[0m \u001b[1m\u001b[35mकी\u001b[0m \u001b[1m\u001b[32mहड़ताल\u001b[0m \u001b[1m\u001b[35mके\u001b[0m \u001b[1m\u001b[35mकारण\u001b[0m \u001b[1m\u001b[36mस्थगित\u001b[0m \u001b[1m\u001b[36mकर\u001b[0m \u001b[1m\u001b[36mदी\u001b[0m \u001b[1m\u001b[36mगई\u001b[0m \u001b[1m\u001b[36m।\u001b[0m \n",
            "----------------------------------------\n",
            "\u001b[1m\u001b[36mसिंध\u001b[0m \u001b[1m\u001b[36mहाईकोर्ट\u001b[0m \u001b[1m\u001b[36mबार\u001b[0m \u001b[1m\u001b[36mएसोसिएशन\u001b[0m \u001b[1m\u001b[35mके\u001b[0m \u001b[1m\u001b[32mअध्यक्ष\u001b[0m \u001b[1m\u001b[36mरशीद\u001b[0m \u001b[1m\u001b[36mरिजवी\u001b[0m \u001b[1m\u001b[35mके\u001b[0m \u001b[1m\u001b[35mमुताबिक\u001b[0m \u001b[1m\u001b[36mयह\u001b[0m \u001b[1m\u001b[32mहड़ताल\u001b[0m \u001b[1m\u001b[36mउच्च\u001b[0m \u001b[1m\u001b[36mन्यायालय\u001b[0m \u001b[1m\u001b[36mऔर\u001b[0m \u001b[1m\u001b[36mनिचली\u001b[0m \u001b[1m\u001b[32mअदालतों\u001b[0m \u001b[1m\u001b[35mके\u001b[0m \u001b[1m\u001b[32mस्तर\u001b[0m \u001b[1m\u001b[35mपर\u001b[0m \u001b[1m\u001b[36mसफल\u001b[0m \u001b[1m\u001b[36mरही\u001b[0m \u001b[1m\u001b[36m।\u001b[0m \n",
            "----------------------------------------\n",
            "\u001b[1m\u001b[36mदेश\u001b[0m \u001b[1m\u001b[32mमें\u001b[0m \u001b[1m\u001b[36mपुन\u001b[0m \u001b[1m\u001b[36m:\u001b[0m \u001b[1m\u001b[36mप्रजातंत्र\u001b[0m \u001b[1m\u001b[32mकी\u001b[0m \u001b[1m\u001b[36mस्थापना\u001b[0m \u001b[1m\u001b[32mकी\u001b[0m \u001b[1m\u001b[36mमांग\u001b[0m \u001b[1m\u001b[32mको\u001b[0m \u001b[1m\u001b[36mलेकर\u001b[0m \u001b[1m\u001b[36mयह\u001b[0m \u001b[1m\u001b[36mहड़ताल\u001b[0m \u001b[1m\u001b[36mकी\u001b[0m \u001b[1m\u001b[35mगई\u001b[0m \u001b[1m\u001b[35mथी\u001b[0m \u001b[1m\u001b[36m।\u001b[0m \n",
            "----------------------------------------\n",
            "\u001b[1m\u001b[36mसुप्रीम\u001b[0m \u001b[1m\u001b[36mकोर्ट\u001b[0m \u001b[1m\u001b[32mमें\u001b[0m \u001b[1m\u001b[36mभुट्टो\u001b[0m \u001b[1m\u001b[32mके\u001b[0m \u001b[1m\u001b[36mउक्त\u001b[0m \u001b[1m\u001b[36mमामले\u001b[0m \u001b[1m\u001b[32mकी\u001b[0m \u001b[1m\u001b[36mसुनवाई\u001b[0m \u001b[1m\u001b[36mसोमवार\u001b[0m \u001b[1m\u001b[32mसे\u001b[0m \u001b[1m\u001b[36mशुरू\u001b[0m \u001b[1m\u001b[36mहुई\u001b[0m \u001b[1m\u001b[35m,\u001b[0m \u001b[1m\u001b[36mजो\u001b[0m \u001b[1m\u001b[36mफिलहाल\u001b[0m \u001b[1m\u001b[36mबुधवार\u001b[0m \u001b[1m\u001b[32mतक\u001b[0m \u001b[1m\u001b[36mस्थगित\u001b[0m \u001b[1m\u001b[36mहै\u001b[0m \u001b[1m\u001b[35m।\u001b[0m \n",
            "----------------------------------------\n",
            "\u001b[1m\u001b[32mमुशर्रफ\u001b[0m \u001b[1m\u001b[36mसऊदी\u001b[0m \u001b[1m\u001b[32mअरब\u001b[0m \u001b[1m\u001b[36mको\u001b[0m \u001b[1m\u001b[35mमनाएंगे\u001b[0m \n",
            "----------------------------------------\n"
          ],
          "name": "stdout"
        }
      ]
    },
    {
      "cell_type": "markdown",
      "metadata": {
        "id": "72CDeWQdGcnz"
      },
      "source": [
        "### DBscan"
      ]
    },
    {
      "cell_type": "code",
      "metadata": {
        "colab": {
          "base_uri": "https://localhost:8080/"
        },
        "id": "YNJIB9fCGcn0",
        "outputId": "5fa33c48-97ca-4b13-8faa-d0c850f44945"
      },
      "source": [
        "chunked_sentence_labels = DBscan_clustering(one_hot_enc_pos_input)\n",
        "print_chunked_sentences(sentences, chunked_sentence_labels, output_display_count)"
      ],
      "execution_count": 109,
      "outputs": [
        {
          "output_type": "stream",
          "text": [
            "\u001b[1m\u001b[32mपूर्ण\u001b[0m \u001b[1m\u001b[32mप्रतिबंध\u001b[0m \u001b[1m\u001b[32mहटाओ\u001b[0m \u001b[1m\u001b[32m:\u001b[0m \u001b[1m\u001b[32mइराक\u001b[0m \n",
            "----------------------------------------\n",
            "\u001b[1m\u001b[32mइराक\u001b[0m \u001b[1m\u001b[31mके\u001b[0m \u001b[1m\u001b[32mविदेश\u001b[0m \u001b[1m\u001b[34mमंत्री\u001b[0m \u001b[1m\u001b[31mने\u001b[0m \u001b[1m\u001b[32mअमरीका\u001b[0m \u001b[1m\u001b[31mके\u001b[0m \u001b[1m\u001b[32mउस\u001b[0m \u001b[1m\u001b[34mप्रस्ताव\u001b[0m \u001b[1m\u001b[31mका\u001b[0m \u001b[1m\u001b[32mमजाक\u001b[0m \u001b[1m\u001b[32mउड़ाया\u001b[0m \u001b[1m\u001b[32mहै\u001b[0m \u001b[1m\u001b[32m,\u001b[0m \u001b[1m\u001b[32mजिसमें\u001b[0m \u001b[1m\u001b[32mअमरीका\u001b[0m \u001b[1m\u001b[31mने\u001b[0m \u001b[1m\u001b[32mसंयुक्त\u001b[0m \u001b[1m\u001b[34mराष्ट्र\u001b[0m \u001b[1m\u001b[31mके\u001b[0m \u001b[1m\u001b[34mप्रतिबंधों\u001b[0m \u001b[1m\u001b[31mको\u001b[0m \u001b[1m\u001b[32mइराकी\u001b[0m \u001b[1m\u001b[34mनागरिकों\u001b[0m \u001b[1m\u001b[31mके\u001b[0m \u001b[1m\u001b[31mलिए\u001b[0m \u001b[1m\u001b[32mकम\u001b[0m \u001b[1m\u001b[32mहानिकारक\u001b[0m \u001b[1m\u001b[32mबनाने\u001b[0m \u001b[1m\u001b[31mके\u001b[0m \u001b[1m\u001b[31mलिए\u001b[0m \u001b[1m\u001b[32mकहा\u001b[0m \u001b[1m\u001b[32mहै\u001b[0m \u001b[1m\u001b[32m।\u001b[0m \n",
            "----------------------------------------\n",
            "\u001b[1m\u001b[32mविदेश\u001b[0m \u001b[1m\u001b[32mमंत्री\u001b[0m \u001b[1m\u001b[32mका\u001b[0m \u001b[1m\u001b[32mकहना\u001b[0m \u001b[1m\u001b[32mहै\u001b[0m \u001b[1m\u001b[32mकि\u001b[0m \u001b[1m\u001b[32mचूंकि\u001b[0m \u001b[1m\u001b[32mबगदाद\u001b[0m \u001b[1m\u001b[32mसंयुक्त\u001b[0m \u001b[1m\u001b[32mराष्ट्र\u001b[0m \u001b[1m\u001b[32mकी\u001b[0m \u001b[1m\u001b[32mमांगों\u001b[0m \u001b[1m\u001b[32mका\u001b[0m \u001b[1m\u001b[32mपालन\u001b[0m \u001b[1m\u001b[32mकरते\u001b[0m \u001b[1m\u001b[32mहुए\u001b[0m \u001b[1m\u001b[32mअपने\u001b[0m \u001b[1m\u001b[32mभारी\u001b[0m \u001b[1m\u001b[32mविनाशकारी\u001b[0m \u001b[1m\u001b[32mहथियारों\u001b[0m \u001b[1m\u001b[32mको\u001b[0m \u001b[1m\u001b[32mनष्ट\u001b[0m \u001b[1m\u001b[32mकर\u001b[0m \u001b[1m\u001b[32mरहा\u001b[0m \u001b[1m\u001b[32mहै\u001b[0m \u001b[1m\u001b[32m।\u001b[0m \n",
            "----------------------------------------\n",
            "\u001b[1m\u001b[32mलिहाजा\u001b[0m \u001b[1m\u001b[32mप्रतिबंधों\u001b[0m \u001b[1m\u001b[32mको\u001b[0m \u001b[1m\u001b[32mपूर्ण\u001b[0m \u001b[1m\u001b[32mरूप\u001b[0m \u001b[1m\u001b[32mसे\u001b[0m \u001b[1m\u001b[32mउठा\u001b[0m \u001b[1m\u001b[32mदिया\u001b[0m \u001b[1m\u001b[32mजाना\u001b[0m \u001b[1m\u001b[32mचाहिए\u001b[0m \u001b[1m\u001b[32m।\u001b[0m \n",
            "----------------------------------------\n",
            "\u001b[1m\u001b[32mविदेश\u001b[0m \u001b[1m\u001b[32mमंत्री\u001b[0m \u001b[1m\u001b[32mमोहम्मद\u001b[0m \u001b[1m\u001b[32mसईद\u001b[0m \u001b[1m\u001b[32mका\u001b[0m \u001b[1m\u001b[32mकहना\u001b[0m \u001b[1m\u001b[32mहै\u001b[0m \u001b[1m\u001b[32mकि\u001b[0m \u001b[1m\u001b[32mवे\u001b[0m \u001b[1m\u001b[32mइसे\u001b[0m \u001b[1m\u001b[32m'सुव्यवस्थित\u001b[0m \u001b[1m\u001b[32mप्रतिबंध'\u001b[0m \u001b[1m\u001b[32mकह\u001b[0m \u001b[1m\u001b[32mकर\u001b[0m \u001b[1m\u001b[32mआम\u001b[0m \u001b[1m\u001b[32mराय\u001b[0m \u001b[1m\u001b[32mऔर\u001b[0m \u001b[1m\u001b[32mसुरक्षा\u001b[0m \u001b[1m\u001b[32mपरिषद\u001b[0m \u001b[1m\u001b[32mको\u001b[0m \u001b[1m\u001b[32mछल\u001b[0m \u001b[1m\u001b[32mरहे\u001b[0m \u001b[1m\u001b[32mहैं\u001b[0m \u001b[1m\u001b[32m।\u001b[0m \n",
            "----------------------------------------\n",
            "\u001b[1m\u001b[32mपाकिस्तान\u001b[0m \u001b[1m\u001b[31mकी\u001b[0m \u001b[1m\u001b[32mपूर्व\u001b[0m \u001b[1m\u001b[34mप्रधानमंत्री\u001b[0m \u001b[1m\u001b[32mबेनजीर\u001b[0m \u001b[1m\u001b[32mभुट्टो\u001b[0m \u001b[1m\u001b[31mपर\u001b[0m \u001b[1m\u001b[32mलगे\u001b[0m \u001b[1m\u001b[34mभ्रष्टाचार\u001b[0m \u001b[1m\u001b[31mके\u001b[0m \u001b[1m\u001b[34mआरोपों\u001b[0m \u001b[1m\u001b[31mके\u001b[0m \u001b[1m\u001b[31mखिलाफ\u001b[0m \u001b[1m\u001b[32mभुट्टो\u001b[0m \u001b[1m\u001b[31mद्वारा\u001b[0m \u001b[1m\u001b[32mदायर\u001b[0m \u001b[1m\u001b[32mकी\u001b[0m \u001b[1m\u001b[32mगई\u001b[0m \u001b[1m\u001b[34mयाचिका\u001b[0m \u001b[1m\u001b[31mकी\u001b[0m \u001b[1m\u001b[34mसुनवाई\u001b[0m \u001b[1m\u001b[34mमंगलवार\u001b[0m \u001b[1m\u001b[31mको\u001b[0m \u001b[1m\u001b[34mवकीलों\u001b[0m \u001b[1m\u001b[31mकी\u001b[0m \u001b[1m\u001b[34mहड़ताल\u001b[0m \u001b[1m\u001b[31mके\u001b[0m \u001b[1m\u001b[31mकारण\u001b[0m \u001b[1m\u001b[32mस्थगित\u001b[0m \u001b[1m\u001b[32mकर\u001b[0m \u001b[1m\u001b[32mदी\u001b[0m \u001b[1m\u001b[32mगई\u001b[0m \u001b[1m\u001b[32m।\u001b[0m \n",
            "----------------------------------------\n",
            "\u001b[1m\u001b[31mसिंध\u001b[0m \u001b[1m\u001b[31mहाईकोर्ट\u001b[0m \u001b[1m\u001b[31mबार\u001b[0m \u001b[1m\u001b[32mएसोसिएशन\u001b[0m \u001b[1m\u001b[34mके\u001b[0m \u001b[1m\u001b[32mअध्यक्ष\u001b[0m \u001b[1m\u001b[31mरशीद\u001b[0m \u001b[1m\u001b[32mरिजवी\u001b[0m \u001b[1m\u001b[34mके\u001b[0m \u001b[1m\u001b[34mमुताबिक\u001b[0m \u001b[1m\u001b[32mयह\u001b[0m \u001b[1m\u001b[32mहड़ताल\u001b[0m \u001b[1m\u001b[31mउच्च\u001b[0m \u001b[1m\u001b[32mन्यायालय\u001b[0m \u001b[1m\u001b[32mऔर\u001b[0m \u001b[1m\u001b[32mनिचली\u001b[0m \u001b[1m\u001b[32mअदालतों\u001b[0m \u001b[1m\u001b[34mके\u001b[0m \u001b[1m\u001b[32mस्तर\u001b[0m \u001b[1m\u001b[34mपर\u001b[0m \u001b[1m\u001b[32mसफल\u001b[0m \u001b[1m\u001b[32mरही\u001b[0m \u001b[1m\u001b[32m।\u001b[0m \n",
            "----------------------------------------\n",
            "\u001b[1m\u001b[31mदेश\u001b[0m \u001b[1m\u001b[32mमें\u001b[0m \u001b[1m\u001b[32mपुन\u001b[0m \u001b[1m\u001b[32m:\u001b[0m \u001b[1m\u001b[31mप्रजातंत्र\u001b[0m \u001b[1m\u001b[32mकी\u001b[0m \u001b[1m\u001b[31mस्थापना\u001b[0m \u001b[1m\u001b[32mकी\u001b[0m \u001b[1m\u001b[31mमांग\u001b[0m \u001b[1m\u001b[32mको\u001b[0m \u001b[1m\u001b[32mलेकर\u001b[0m \u001b[1m\u001b[32mयह\u001b[0m \u001b[1m\u001b[31mहड़ताल\u001b[0m \u001b[1m\u001b[32mकी\u001b[0m \u001b[1m\u001b[32mगई\u001b[0m \u001b[1m\u001b[32mथी\u001b[0m \u001b[1m\u001b[32m।\u001b[0m \n",
            "----------------------------------------\n",
            "\u001b[1m\u001b[32mसुप्रीम\u001b[0m \u001b[1m\u001b[32mकोर्ट\u001b[0m \u001b[1m\u001b[31mमें\u001b[0m \u001b[1m\u001b[32mभुट्टो\u001b[0m \u001b[1m\u001b[31mके\u001b[0m \u001b[1m\u001b[32mउक्त\u001b[0m \u001b[1m\u001b[32mमामले\u001b[0m \u001b[1m\u001b[31mकी\u001b[0m \u001b[1m\u001b[32mसुनवाई\u001b[0m \u001b[1m\u001b[32mसोमवार\u001b[0m \u001b[1m\u001b[31mसे\u001b[0m \u001b[1m\u001b[32mशुरू\u001b[0m \u001b[1m\u001b[32mहुई\u001b[0m \u001b[1m\u001b[32m,\u001b[0m \u001b[1m\u001b[32mजो\u001b[0m \u001b[1m\u001b[32mफिलहाल\u001b[0m \u001b[1m\u001b[32mबुधवार\u001b[0m \u001b[1m\u001b[31mतक\u001b[0m \u001b[1m\u001b[32mस्थगित\u001b[0m \u001b[1m\u001b[32mहै\u001b[0m \u001b[1m\u001b[32m।\u001b[0m \n",
            "----------------------------------------\n",
            "\u001b[1m\u001b[32mमुशर्रफ\u001b[0m \u001b[1m\u001b[32mसऊदी\u001b[0m \u001b[1m\u001b[32mअरब\u001b[0m \u001b[1m\u001b[32mको\u001b[0m \u001b[1m\u001b[32mमनाएंगे\u001b[0m \n",
            "----------------------------------------\n"
          ],
          "name": "stdout"
        }
      ]
    },
    {
      "cell_type": "markdown",
      "metadata": {
        "id": "xW44zLVyGcn1"
      },
      "source": [
        "### Agglomerative clustering"
      ]
    },
    {
      "cell_type": "code",
      "metadata": {
        "colab": {
          "base_uri": "https://localhost:8080/"
        },
        "id": "y_BgDTWbGcn2",
        "outputId": "aa9b77c1-93d2-46d5-b9e3-deef52368d14"
      },
      "source": [
        "chunked_sentence_labels = agglomerative_clustering(one_hot_enc_pos_input, cluster_count)\n",
        "print_chunked_sentences(sentences, chunked_sentence_labels, output_display_count)"
      ],
      "execution_count": 110,
      "outputs": [
        {
          "output_type": "stream",
          "text": [
            "\u001b[1m\u001b[36mपूर्ण\u001b[0m \u001b[1m\u001b[36mप्रतिबंध\u001b[0m \u001b[1m\u001b[36mहटाओ\u001b[0m \u001b[1m\u001b[35m:\u001b[0m \u001b[1m\u001b[31mइराक\u001b[0m \n",
            "----------------------------------------\n",
            "\u001b[1m\u001b[36mइराक\u001b[0m \u001b[1m\u001b[31mके\u001b[0m \u001b[1m\u001b[36mविदेश\u001b[0m \u001b[1m\u001b[35mमंत्री\u001b[0m \u001b[1m\u001b[31mने\u001b[0m \u001b[1m\u001b[36mअमरीका\u001b[0m \u001b[1m\u001b[31mके\u001b[0m \u001b[1m\u001b[36mउस\u001b[0m \u001b[1m\u001b[35mप्रस्ताव\u001b[0m \u001b[1m\u001b[31mका\u001b[0m \u001b[1m\u001b[36mमजाक\u001b[0m \u001b[1m\u001b[36mउड़ाया\u001b[0m \u001b[1m\u001b[36mहै\u001b[0m \u001b[1m\u001b[36m,\u001b[0m \u001b[1m\u001b[36mजिसमें\u001b[0m \u001b[1m\u001b[36mअमरीका\u001b[0m \u001b[1m\u001b[31mने\u001b[0m \u001b[1m\u001b[36mसंयुक्त\u001b[0m \u001b[1m\u001b[35mराष्ट्र\u001b[0m \u001b[1m\u001b[31mके\u001b[0m \u001b[1m\u001b[35mप्रतिबंधों\u001b[0m \u001b[1m\u001b[31mको\u001b[0m \u001b[1m\u001b[36mइराकी\u001b[0m \u001b[1m\u001b[35mनागरिकों\u001b[0m \u001b[1m\u001b[31mके\u001b[0m \u001b[1m\u001b[31mलिए\u001b[0m \u001b[1m\u001b[36mकम\u001b[0m \u001b[1m\u001b[36mहानिकारक\u001b[0m \u001b[1m\u001b[36mबनाने\u001b[0m \u001b[1m\u001b[31mके\u001b[0m \u001b[1m\u001b[31mलिए\u001b[0m \u001b[1m\u001b[36mकहा\u001b[0m \u001b[1m\u001b[36mहै\u001b[0m \u001b[1m\u001b[36m।\u001b[0m \n",
            "----------------------------------------\n",
            "\u001b[1m\u001b[36mविदेश\u001b[0m \u001b[1m\u001b[36mमंत्री\u001b[0m \u001b[1m\u001b[35mका\u001b[0m \u001b[1m\u001b[36mकहना\u001b[0m \u001b[1m\u001b[31mहै\u001b[0m \u001b[1m\u001b[36mकि\u001b[0m \u001b[1m\u001b[36mचूंकि\u001b[0m \u001b[1m\u001b[36mबगदाद\u001b[0m \u001b[1m\u001b[36mसंयुक्त\u001b[0m \u001b[1m\u001b[36mराष्ट्र\u001b[0m \u001b[1m\u001b[35mकी\u001b[0m \u001b[1m\u001b[36mमांगों\u001b[0m \u001b[1m\u001b[35mका\u001b[0m \u001b[1m\u001b[36mपालन\u001b[0m \u001b[1m\u001b[36mकरते\u001b[0m \u001b[1m\u001b[31mहुए\u001b[0m \u001b[1m\u001b[36mअपने\u001b[0m \u001b[1m\u001b[36mभारी\u001b[0m \u001b[1m\u001b[36mविनाशकारी\u001b[0m \u001b[1m\u001b[36mहथियारों\u001b[0m \u001b[1m\u001b[35mको\u001b[0m \u001b[1m\u001b[36mनष्ट\u001b[0m \u001b[1m\u001b[36mकर\u001b[0m \u001b[1m\u001b[31mरहा\u001b[0m \u001b[1m\u001b[31mहै\u001b[0m \u001b[1m\u001b[36m।\u001b[0m \n",
            "----------------------------------------\n",
            "\u001b[1m\u001b[36mलिहाजा\u001b[0m \u001b[1m\u001b[36mप्रतिबंधों\u001b[0m \u001b[1m\u001b[35mको\u001b[0m \u001b[1m\u001b[36mपूर्ण\u001b[0m \u001b[1m\u001b[36mरूप\u001b[0m \u001b[1m\u001b[35mसे\u001b[0m \u001b[1m\u001b[36mउठा\u001b[0m \u001b[1m\u001b[31mदिया\u001b[0m \u001b[1m\u001b[31mजाना\u001b[0m \u001b[1m\u001b[31mचाहिए\u001b[0m \u001b[1m\u001b[36m।\u001b[0m \n",
            "----------------------------------------\n",
            "\u001b[1m\u001b[36mविदेश\u001b[0m \u001b[1m\u001b[31mमंत्री\u001b[0m \u001b[1m\u001b[36mमोहम्मद\u001b[0m \u001b[1m\u001b[36mसईद\u001b[0m \u001b[1m\u001b[36mका\u001b[0m \u001b[1m\u001b[35mकहना\u001b[0m \u001b[1m\u001b[36mहै\u001b[0m \u001b[1m\u001b[36mकि\u001b[0m \u001b[1m\u001b[36mवे\u001b[0m \u001b[1m\u001b[36mइसे\u001b[0m \u001b[1m\u001b[36m'सुव्यवस्थित\u001b[0m \u001b[1m\u001b[31mप्रतिबंध'\u001b[0m \u001b[1m\u001b[35mकह\u001b[0m \u001b[1m\u001b[36mकर\u001b[0m \u001b[1m\u001b[36mआम\u001b[0m \u001b[1m\u001b[31mराय\u001b[0m \u001b[1m\u001b[36mऔर\u001b[0m \u001b[1m\u001b[36mसुरक्षा\u001b[0m \u001b[1m\u001b[31mपरिषद\u001b[0m \u001b[1m\u001b[36mको\u001b[0m \u001b[1m\u001b[36mछल\u001b[0m \u001b[1m\u001b[35mरहे\u001b[0m \u001b[1m\u001b[36mहैं\u001b[0m \u001b[1m\u001b[36m।\u001b[0m \n",
            "----------------------------------------\n",
            "\u001b[1m\u001b[36mपाकिस्तान\u001b[0m \u001b[1m\u001b[31mकी\u001b[0m \u001b[1m\u001b[36mपूर्व\u001b[0m \u001b[1m\u001b[35mप्रधानमंत्री\u001b[0m \u001b[1m\u001b[36mबेनजीर\u001b[0m \u001b[1m\u001b[36mभुट्टो\u001b[0m \u001b[1m\u001b[31mपर\u001b[0m \u001b[1m\u001b[36mलगे\u001b[0m \u001b[1m\u001b[35mभ्रष्टाचार\u001b[0m \u001b[1m\u001b[31mके\u001b[0m \u001b[1m\u001b[35mआरोपों\u001b[0m \u001b[1m\u001b[31mके\u001b[0m \u001b[1m\u001b[31mखिलाफ\u001b[0m \u001b[1m\u001b[36mभुट्टो\u001b[0m \u001b[1m\u001b[31mद्वारा\u001b[0m \u001b[1m\u001b[36mदायर\u001b[0m \u001b[1m\u001b[36mकी\u001b[0m \u001b[1m\u001b[36mगई\u001b[0m \u001b[1m\u001b[35mयाचिका\u001b[0m \u001b[1m\u001b[31mकी\u001b[0m \u001b[1m\u001b[35mसुनवाई\u001b[0m \u001b[1m\u001b[35mमंगलवार\u001b[0m \u001b[1m\u001b[31mको\u001b[0m \u001b[1m\u001b[35mवकीलों\u001b[0m \u001b[1m\u001b[31mकी\u001b[0m \u001b[1m\u001b[35mहड़ताल\u001b[0m \u001b[1m\u001b[31mके\u001b[0m \u001b[1m\u001b[31mकारण\u001b[0m \u001b[1m\u001b[36mस्थगित\u001b[0m \u001b[1m\u001b[36mकर\u001b[0m \u001b[1m\u001b[36mदी\u001b[0m \u001b[1m\u001b[36mगई\u001b[0m \u001b[1m\u001b[36m।\u001b[0m \n",
            "----------------------------------------\n",
            "\u001b[1m\u001b[35mसिंध\u001b[0m \u001b[1m\u001b[35mहाईकोर्ट\u001b[0m \u001b[1m\u001b[35mबार\u001b[0m \u001b[1m\u001b[36mएसोसिएशन\u001b[0m \u001b[1m\u001b[31mके\u001b[0m \u001b[1m\u001b[36mअध्यक्ष\u001b[0m \u001b[1m\u001b[35mरशीद\u001b[0m \u001b[1m\u001b[36mरिजवी\u001b[0m \u001b[1m\u001b[31mके\u001b[0m \u001b[1m\u001b[31mमुताबिक\u001b[0m \u001b[1m\u001b[36mयह\u001b[0m \u001b[1m\u001b[36mहड़ताल\u001b[0m \u001b[1m\u001b[35mउच्च\u001b[0m \u001b[1m\u001b[36mन्यायालय\u001b[0m \u001b[1m\u001b[36mऔर\u001b[0m \u001b[1m\u001b[36mनिचली\u001b[0m \u001b[1m\u001b[36mअदालतों\u001b[0m \u001b[1m\u001b[31mके\u001b[0m \u001b[1m\u001b[36mस्तर\u001b[0m \u001b[1m\u001b[31mपर\u001b[0m \u001b[1m\u001b[36mसफल\u001b[0m \u001b[1m\u001b[36mरही\u001b[0m \u001b[1m\u001b[36m।\u001b[0m \n",
            "----------------------------------------\n",
            "\u001b[1m\u001b[31mदेश\u001b[0m \u001b[1m\u001b[35mमें\u001b[0m \u001b[1m\u001b[36mपुन\u001b[0m \u001b[1m\u001b[36m:\u001b[0m \u001b[1m\u001b[31mप्रजातंत्र\u001b[0m \u001b[1m\u001b[35mकी\u001b[0m \u001b[1m\u001b[31mस्थापना\u001b[0m \u001b[1m\u001b[35mकी\u001b[0m \u001b[1m\u001b[31mमांग\u001b[0m \u001b[1m\u001b[35mको\u001b[0m \u001b[1m\u001b[36mलेकर\u001b[0m \u001b[1m\u001b[36mयह\u001b[0m \u001b[1m\u001b[31mहड़ताल\u001b[0m \u001b[1m\u001b[36mकी\u001b[0m \u001b[1m\u001b[36mगई\u001b[0m \u001b[1m\u001b[36mथी\u001b[0m \u001b[1m\u001b[36m।\u001b[0m \n",
            "----------------------------------------\n",
            "\u001b[1m\u001b[36mसुप्रीम\u001b[0m \u001b[1m\u001b[36mकोर्ट\u001b[0m \u001b[1m\u001b[31mमें\u001b[0m \u001b[1m\u001b[36mभुट्टो\u001b[0m \u001b[1m\u001b[31mके\u001b[0m \u001b[1m\u001b[36mउक्त\u001b[0m \u001b[1m\u001b[35mमामले\u001b[0m \u001b[1m\u001b[31mकी\u001b[0m \u001b[1m\u001b[35mसुनवाई\u001b[0m \u001b[1m\u001b[35mसोमवार\u001b[0m \u001b[1m\u001b[31mसे\u001b[0m \u001b[1m\u001b[36mशुरू\u001b[0m \u001b[1m\u001b[36mहुई\u001b[0m \u001b[1m\u001b[36m,\u001b[0m \u001b[1m\u001b[36mजो\u001b[0m \u001b[1m\u001b[36mफिलहाल\u001b[0m \u001b[1m\u001b[35mबुधवार\u001b[0m \u001b[1m\u001b[31mतक\u001b[0m \u001b[1m\u001b[36mस्थगित\u001b[0m \u001b[1m\u001b[36mहै\u001b[0m \u001b[1m\u001b[36m।\u001b[0m \n",
            "----------------------------------------\n",
            "\u001b[1m\u001b[31mमुशर्रफ\u001b[0m \u001b[1m\u001b[36mसऊदी\u001b[0m \u001b[1m\u001b[31mअरब\u001b[0m \u001b[1m\u001b[36mको\u001b[0m \u001b[1m\u001b[35mमनाएंगे\u001b[0m \n",
            "----------------------------------------\n"
          ],
          "name": "stdout"
        }
      ]
    },
    {
      "cell_type": "markdown",
      "metadata": {
        "id": "NGPg79E0Gvn_"
      },
      "source": [
        "## POS tags + position"
      ]
    },
    {
      "cell_type": "code",
      "metadata": {
        "id": "pWcfA2l4G1Ty"
      },
      "source": [
        "position_pos = []\n",
        "for index in range(len(one_hot_enc_pos_input)):\n",
        "    position_array = np.array([i for i in range(one_hot_enc_pos_input[index].shape[0])]).reshape((-1,1))\n",
        "    position_pos.append(np.hstack((position_array, one_hot_enc_pos_input[index])))\n"
      ],
      "execution_count": 111,
      "outputs": []
    },
    {
      "cell_type": "markdown",
      "metadata": {
        "id": "1imH0v9nHC_Q"
      },
      "source": [
        "### K means"
      ]
    },
    {
      "cell_type": "code",
      "metadata": {
        "colab": {
          "base_uri": "https://localhost:8080/"
        },
        "id": "pDYReY54HC_R",
        "outputId": "4a3daa7c-159c-4c7d-aa82-2f5abbb4779c"
      },
      "source": [
        "chunked_sentence_labels = k_means_clustering(position_pos, cluster_count)\n",
        "print_chunked_sentences(sentences, chunked_sentence_labels, output_display_count)"
      ],
      "execution_count": 112,
      "outputs": [
        {
          "output_type": "stream",
          "text": [
            "\u001b[1m\u001b[32mपूर्ण\u001b[0m \u001b[1m\u001b[35mप्रतिबंध\u001b[0m \u001b[1m\u001b[31mहटाओ\u001b[0m \u001b[1m\u001b[35m:\u001b[0m \u001b[1m\u001b[35mइराक\u001b[0m \n",
            "----------------------------------------\n",
            "\u001b[1m\u001b[35mइराक\u001b[0m \u001b[1m\u001b[31mके\u001b[0m \u001b[1m\u001b[35mविदेश\u001b[0m \u001b[1m\u001b[32mमंत्री\u001b[0m \u001b[1m\u001b[31mने\u001b[0m \u001b[1m\u001b[35mअमरीका\u001b[0m \u001b[1m\u001b[31mके\u001b[0m \u001b[1m\u001b[35mउस\u001b[0m \u001b[1m\u001b[32mप्रस्ताव\u001b[0m \u001b[1m\u001b[31mका\u001b[0m \u001b[1m\u001b[35mमजाक\u001b[0m \u001b[1m\u001b[35mउड़ाया\u001b[0m \u001b[1m\u001b[35mहै\u001b[0m \u001b[1m\u001b[35m,\u001b[0m \u001b[1m\u001b[35mजिसमें\u001b[0m \u001b[1m\u001b[35mअमरीका\u001b[0m \u001b[1m\u001b[31mने\u001b[0m \u001b[1m\u001b[35mसंयुक्त\u001b[0m \u001b[1m\u001b[32mराष्ट्र\u001b[0m \u001b[1m\u001b[31mके\u001b[0m \u001b[1m\u001b[32mप्रतिबंधों\u001b[0m \u001b[1m\u001b[31mको\u001b[0m \u001b[1m\u001b[35mइराकी\u001b[0m \u001b[1m\u001b[32mनागरिकों\u001b[0m \u001b[1m\u001b[31mके\u001b[0m \u001b[1m\u001b[31mलिए\u001b[0m \u001b[1m\u001b[35mकम\u001b[0m \u001b[1m\u001b[35mहानिकारक\u001b[0m \u001b[1m\u001b[35mबनाने\u001b[0m \u001b[1m\u001b[31mके\u001b[0m \u001b[1m\u001b[31mलिए\u001b[0m \u001b[1m\u001b[35mकहा\u001b[0m \u001b[1m\u001b[35mहै\u001b[0m \u001b[1m\u001b[35m।\u001b[0m \n",
            "----------------------------------------\n",
            "\u001b[1m\u001b[35mविदेश\u001b[0m \u001b[1m\u001b[32mमंत्री\u001b[0m \u001b[1m\u001b[35mका\u001b[0m \u001b[1m\u001b[35mकहना\u001b[0m \u001b[1m\u001b[31mहै\u001b[0m \u001b[1m\u001b[35mकि\u001b[0m \u001b[1m\u001b[35mचूंकि\u001b[0m \u001b[1m\u001b[35mबगदाद\u001b[0m \u001b[1m\u001b[35mसंयुक्त\u001b[0m \u001b[1m\u001b[32mराष्ट्र\u001b[0m \u001b[1m\u001b[35mकी\u001b[0m \u001b[1m\u001b[32mमांगों\u001b[0m \u001b[1m\u001b[35mका\u001b[0m \u001b[1m\u001b[35mपालन\u001b[0m \u001b[1m\u001b[35mकरते\u001b[0m \u001b[1m\u001b[31mहुए\u001b[0m \u001b[1m\u001b[35mअपने\u001b[0m \u001b[1m\u001b[35mभारी\u001b[0m \u001b[1m\u001b[35mविनाशकारी\u001b[0m \u001b[1m\u001b[32mहथियारों\u001b[0m \u001b[1m\u001b[35mको\u001b[0m \u001b[1m\u001b[35mनष्ट\u001b[0m \u001b[1m\u001b[35mकर\u001b[0m \u001b[1m\u001b[31mरहा\u001b[0m \u001b[1m\u001b[31mहै\u001b[0m \u001b[1m\u001b[35m।\u001b[0m \n",
            "----------------------------------------\n",
            "\u001b[1m\u001b[35mलिहाजा\u001b[0m \u001b[1m\u001b[32mप्रतिबंधों\u001b[0m \u001b[1m\u001b[35mको\u001b[0m \u001b[1m\u001b[35mपूर्ण\u001b[0m \u001b[1m\u001b[32mरूप\u001b[0m \u001b[1m\u001b[35mसे\u001b[0m \u001b[1m\u001b[35mउठा\u001b[0m \u001b[1m\u001b[31mदिया\u001b[0m \u001b[1m\u001b[31mजाना\u001b[0m \u001b[1m\u001b[31mचाहिए\u001b[0m \u001b[1m\u001b[35m।\u001b[0m \n",
            "----------------------------------------\n",
            "\u001b[1m\u001b[31mविदेश\u001b[0m \u001b[1m\u001b[32mमंत्री\u001b[0m \u001b[1m\u001b[35mमोहम्मद\u001b[0m \u001b[1m\u001b[35mसईद\u001b[0m \u001b[1m\u001b[35mका\u001b[0m \u001b[1m\u001b[35mकहना\u001b[0m \u001b[1m\u001b[35mहै\u001b[0m \u001b[1m\u001b[35mकि\u001b[0m \u001b[1m\u001b[35mवे\u001b[0m \u001b[1m\u001b[35mइसे\u001b[0m \u001b[1m\u001b[35m'सुव्यवस्थित\u001b[0m \u001b[1m\u001b[32mप्रतिबंध'\u001b[0m \u001b[1m\u001b[35mकह\u001b[0m \u001b[1m\u001b[35mकर\u001b[0m \u001b[1m\u001b[35mआम\u001b[0m \u001b[1m\u001b[32mराय\u001b[0m \u001b[1m\u001b[35mऔर\u001b[0m \u001b[1m\u001b[31mसुरक्षा\u001b[0m \u001b[1m\u001b[32mपरिषद\u001b[0m \u001b[1m\u001b[35mको\u001b[0m \u001b[1m\u001b[35mछल\u001b[0m \u001b[1m\u001b[35mरहे\u001b[0m \u001b[1m\u001b[35mहैं\u001b[0m \u001b[1m\u001b[35m।\u001b[0m \n",
            "----------------------------------------\n",
            "\u001b[1m\u001b[35mपाकिस्तान\u001b[0m \u001b[1m\u001b[31mकी\u001b[0m \u001b[1m\u001b[35mपूर्व\u001b[0m \u001b[1m\u001b[32mप्रधानमंत्री\u001b[0m \u001b[1m\u001b[35mबेनजीर\u001b[0m \u001b[1m\u001b[35mभुट्टो\u001b[0m \u001b[1m\u001b[31mपर\u001b[0m \u001b[1m\u001b[35mलगे\u001b[0m \u001b[1m\u001b[32mभ्रष्टाचार\u001b[0m \u001b[1m\u001b[31mके\u001b[0m \u001b[1m\u001b[32mआरोपों\u001b[0m \u001b[1m\u001b[31mके\u001b[0m \u001b[1m\u001b[31mखिलाफ\u001b[0m \u001b[1m\u001b[35mभुट्टो\u001b[0m \u001b[1m\u001b[31mद्वारा\u001b[0m \u001b[1m\u001b[35mदायर\u001b[0m \u001b[1m\u001b[35mकी\u001b[0m \u001b[1m\u001b[35mगई\u001b[0m \u001b[1m\u001b[32mयाचिका\u001b[0m \u001b[1m\u001b[31mकी\u001b[0m \u001b[1m\u001b[32mसुनवाई\u001b[0m \u001b[1m\u001b[32mमंगलवार\u001b[0m \u001b[1m\u001b[31mको\u001b[0m \u001b[1m\u001b[32mवकीलों\u001b[0m \u001b[1m\u001b[31mकी\u001b[0m \u001b[1m\u001b[32mहड़ताल\u001b[0m \u001b[1m\u001b[31mके\u001b[0m \u001b[1m\u001b[31mकारण\u001b[0m \u001b[1m\u001b[35mस्थगित\u001b[0m \u001b[1m\u001b[35mकर\u001b[0m \u001b[1m\u001b[35mदी\u001b[0m \u001b[1m\u001b[35mगई\u001b[0m \u001b[1m\u001b[35m।\u001b[0m \n",
            "----------------------------------------\n",
            "\u001b[1m\u001b[35mसिंध\u001b[0m \u001b[1m\u001b[35mहाईकोर्ट\u001b[0m \u001b[1m\u001b[35mबार\u001b[0m \u001b[1m\u001b[35mएसोसिएशन\u001b[0m \u001b[1m\u001b[31mके\u001b[0m \u001b[1m\u001b[32mअध्यक्ष\u001b[0m \u001b[1m\u001b[35mरशीद\u001b[0m \u001b[1m\u001b[35mरिजवी\u001b[0m \u001b[1m\u001b[31mके\u001b[0m \u001b[1m\u001b[31mमुताबिक\u001b[0m \u001b[1m\u001b[35mयह\u001b[0m \u001b[1m\u001b[32mहड़ताल\u001b[0m \u001b[1m\u001b[35mउच्च\u001b[0m \u001b[1m\u001b[35mन्यायालय\u001b[0m \u001b[1m\u001b[35mऔर\u001b[0m \u001b[1m\u001b[35mनिचली\u001b[0m \u001b[1m\u001b[32mअदालतों\u001b[0m \u001b[1m\u001b[31mके\u001b[0m \u001b[1m\u001b[32mस्तर\u001b[0m \u001b[1m\u001b[31mपर\u001b[0m \u001b[1m\u001b[35mसफल\u001b[0m \u001b[1m\u001b[35mरही\u001b[0m \u001b[1m\u001b[35m।\u001b[0m \n",
            "----------------------------------------\n",
            "\u001b[1m\u001b[35mदेश\u001b[0m \u001b[1m\u001b[32mमें\u001b[0m \u001b[1m\u001b[35mपुन\u001b[0m \u001b[1m\u001b[35m:\u001b[0m \u001b[1m\u001b[35mप्रजातंत्र\u001b[0m \u001b[1m\u001b[32mकी\u001b[0m \u001b[1m\u001b[35mस्थापना\u001b[0m \u001b[1m\u001b[32mकी\u001b[0m \u001b[1m\u001b[35mमांग\u001b[0m \u001b[1m\u001b[32mको\u001b[0m \u001b[1m\u001b[35mलेकर\u001b[0m \u001b[1m\u001b[35mयह\u001b[0m \u001b[1m\u001b[35mहड़ताल\u001b[0m \u001b[1m\u001b[35mकी\u001b[0m \u001b[1m\u001b[31mगई\u001b[0m \u001b[1m\u001b[31mथी\u001b[0m \u001b[1m\u001b[35m।\u001b[0m \n",
            "----------------------------------------\n",
            "\u001b[1m\u001b[35mसुप्रीम\u001b[0m \u001b[1m\u001b[35mकोर्ट\u001b[0m \u001b[1m\u001b[32mमें\u001b[0m \u001b[1m\u001b[35mभुट्टो\u001b[0m \u001b[1m\u001b[32mके\u001b[0m \u001b[1m\u001b[35mउक्त\u001b[0m \u001b[1m\u001b[35mमामले\u001b[0m \u001b[1m\u001b[32mकी\u001b[0m \u001b[1m\u001b[35mसुनवाई\u001b[0m \u001b[1m\u001b[35mसोमवार\u001b[0m \u001b[1m\u001b[32mसे\u001b[0m \u001b[1m\u001b[35mशुरू\u001b[0m \u001b[1m\u001b[35mहुई\u001b[0m \u001b[1m\u001b[31m,\u001b[0m \u001b[1m\u001b[35mजो\u001b[0m \u001b[1m\u001b[35mफिलहाल\u001b[0m \u001b[1m\u001b[35mबुधवार\u001b[0m \u001b[1m\u001b[32mतक\u001b[0m \u001b[1m\u001b[35mस्थगित\u001b[0m \u001b[1m\u001b[35mहै\u001b[0m \u001b[1m\u001b[31m।\u001b[0m \n",
            "----------------------------------------\n",
            "\u001b[1m\u001b[32mमुशर्रफ\u001b[0m \u001b[1m\u001b[35mसऊदी\u001b[0m \u001b[1m\u001b[32mअरब\u001b[0m \u001b[1m\u001b[35mको\u001b[0m \u001b[1m\u001b[31mमनाएंगे\u001b[0m \n",
            "----------------------------------------\n"
          ],
          "name": "stdout"
        }
      ]
    },
    {
      "cell_type": "markdown",
      "metadata": {
        "id": "6CfyOJWbHC_U"
      },
      "source": [
        "### DBscan"
      ]
    },
    {
      "cell_type": "code",
      "metadata": {
        "colab": {
          "base_uri": "https://localhost:8080/"
        },
        "id": "jU8vsk7xHC_V",
        "outputId": "5e5ccfc0-bad3-4eab-9bfa-8a8b9350b18c"
      },
      "source": [
        "chunked_sentence_labels = DBscan_clustering(position_pos)\n",
        "print_chunked_sentences(sentences, chunked_sentence_labels, output_display_count)"
      ],
      "execution_count": 113,
      "outputs": [
        {
          "output_type": "stream",
          "text": [
            "\u001b[1m\u001b[31mपूर्ण\u001b[0m \u001b[1m\u001b[31mप्रतिबंध\u001b[0m \u001b[1m\u001b[31mहटाओ\u001b[0m \u001b[1m\u001b[31m:\u001b[0m \u001b[1m\u001b[31mइराक\u001b[0m \n",
            "----------------------------------------\n",
            "\u001b[1m\u001b[31mइराक\u001b[0m \u001b[1m\u001b[31mके\u001b[0m \u001b[1m\u001b[31mविदेश\u001b[0m \u001b[1m\u001b[31mमंत्री\u001b[0m \u001b[1m\u001b[31mने\u001b[0m \u001b[1m\u001b[31mअमरीका\u001b[0m \u001b[1m\u001b[31mके\u001b[0m \u001b[1m\u001b[31mउस\u001b[0m \u001b[1m\u001b[31mप्रस्ताव\u001b[0m \u001b[1m\u001b[31mका\u001b[0m \u001b[1m\u001b[31mमजाक\u001b[0m \u001b[1m\u001b[31mउड़ाया\u001b[0m \u001b[1m\u001b[31mहै\u001b[0m \u001b[1m\u001b[31m,\u001b[0m \u001b[1m\u001b[31mजिसमें\u001b[0m \u001b[1m\u001b[31mअमरीका\u001b[0m \u001b[1m\u001b[31mने\u001b[0m \u001b[1m\u001b[31mसंयुक्त\u001b[0m \u001b[1m\u001b[31mराष्ट्र\u001b[0m \u001b[1m\u001b[31mके\u001b[0m \u001b[1m\u001b[31mप्रतिबंधों\u001b[0m \u001b[1m\u001b[31mको\u001b[0m \u001b[1m\u001b[31mइराकी\u001b[0m \u001b[1m\u001b[31mनागरिकों\u001b[0m \u001b[1m\u001b[31mके\u001b[0m \u001b[1m\u001b[31mलिए\u001b[0m \u001b[1m\u001b[31mकम\u001b[0m \u001b[1m\u001b[31mहानिकारक\u001b[0m \u001b[1m\u001b[31mबनाने\u001b[0m \u001b[1m\u001b[31mके\u001b[0m \u001b[1m\u001b[31mलिए\u001b[0m \u001b[1m\u001b[31mकहा\u001b[0m \u001b[1m\u001b[31mहै\u001b[0m \u001b[1m\u001b[31m।\u001b[0m \n",
            "----------------------------------------\n",
            "\u001b[1m\u001b[31mविदेश\u001b[0m \u001b[1m\u001b[31mमंत्री\u001b[0m \u001b[1m\u001b[31mका\u001b[0m \u001b[1m\u001b[31mकहना\u001b[0m \u001b[1m\u001b[31mहै\u001b[0m \u001b[1m\u001b[31mकि\u001b[0m \u001b[1m\u001b[31mचूंकि\u001b[0m \u001b[1m\u001b[31mबगदाद\u001b[0m \u001b[1m\u001b[31mसंयुक्त\u001b[0m \u001b[1m\u001b[31mराष्ट्र\u001b[0m \u001b[1m\u001b[31mकी\u001b[0m \u001b[1m\u001b[31mमांगों\u001b[0m \u001b[1m\u001b[31mका\u001b[0m \u001b[1m\u001b[31mपालन\u001b[0m \u001b[1m\u001b[31mकरते\u001b[0m \u001b[1m\u001b[31mहुए\u001b[0m \u001b[1m\u001b[31mअपने\u001b[0m \u001b[1m\u001b[31mभारी\u001b[0m \u001b[1m\u001b[31mविनाशकारी\u001b[0m \u001b[1m\u001b[31mहथियारों\u001b[0m \u001b[1m\u001b[31mको\u001b[0m \u001b[1m\u001b[31mनष्ट\u001b[0m \u001b[1m\u001b[31mकर\u001b[0m \u001b[1m\u001b[31mरहा\u001b[0m \u001b[1m\u001b[31mहै\u001b[0m \u001b[1m\u001b[31m।\u001b[0m \n",
            "----------------------------------------\n",
            "\u001b[1m\u001b[31mलिहाजा\u001b[0m \u001b[1m\u001b[31mप्रतिबंधों\u001b[0m \u001b[1m\u001b[31mको\u001b[0m \u001b[1m\u001b[31mपूर्ण\u001b[0m \u001b[1m\u001b[31mरूप\u001b[0m \u001b[1m\u001b[31mसे\u001b[0m \u001b[1m\u001b[31mउठा\u001b[0m \u001b[1m\u001b[31mदिया\u001b[0m \u001b[1m\u001b[31mजाना\u001b[0m \u001b[1m\u001b[31mचाहिए\u001b[0m \u001b[1m\u001b[31m।\u001b[0m \n",
            "----------------------------------------\n",
            "\u001b[1m\u001b[31mविदेश\u001b[0m \u001b[1m\u001b[31mमंत्री\u001b[0m \u001b[1m\u001b[31mमोहम्मद\u001b[0m \u001b[1m\u001b[31mसईद\u001b[0m \u001b[1m\u001b[31mका\u001b[0m \u001b[1m\u001b[31mकहना\u001b[0m \u001b[1m\u001b[31mहै\u001b[0m \u001b[1m\u001b[31mकि\u001b[0m \u001b[1m\u001b[31mवे\u001b[0m \u001b[1m\u001b[31mइसे\u001b[0m \u001b[1m\u001b[31m'सुव्यवस्थित\u001b[0m \u001b[1m\u001b[31mप्रतिबंध'\u001b[0m \u001b[1m\u001b[31mकह\u001b[0m \u001b[1m\u001b[31mकर\u001b[0m \u001b[1m\u001b[31mआम\u001b[0m \u001b[1m\u001b[31mराय\u001b[0m \u001b[1m\u001b[31mऔर\u001b[0m \u001b[1m\u001b[31mसुरक्षा\u001b[0m \u001b[1m\u001b[31mपरिषद\u001b[0m \u001b[1m\u001b[31mको\u001b[0m \u001b[1m\u001b[31mछल\u001b[0m \u001b[1m\u001b[31mरहे\u001b[0m \u001b[1m\u001b[31mहैं\u001b[0m \u001b[1m\u001b[31m।\u001b[0m \n",
            "----------------------------------------\n",
            "\u001b[1m\u001b[31mपाकिस्तान\u001b[0m \u001b[1m\u001b[31mकी\u001b[0m \u001b[1m\u001b[31mपूर्व\u001b[0m \u001b[1m\u001b[31mप्रधानमंत्री\u001b[0m \u001b[1m\u001b[31mबेनजीर\u001b[0m \u001b[1m\u001b[31mभुट्टो\u001b[0m \u001b[1m\u001b[31mपर\u001b[0m \u001b[1m\u001b[31mलगे\u001b[0m \u001b[1m\u001b[31mभ्रष्टाचार\u001b[0m \u001b[1m\u001b[31mके\u001b[0m \u001b[1m\u001b[31mआरोपों\u001b[0m \u001b[1m\u001b[31mके\u001b[0m \u001b[1m\u001b[31mखिलाफ\u001b[0m \u001b[1m\u001b[31mभुट्टो\u001b[0m \u001b[1m\u001b[31mद्वारा\u001b[0m \u001b[1m\u001b[31mदायर\u001b[0m \u001b[1m\u001b[31mकी\u001b[0m \u001b[1m\u001b[31mगई\u001b[0m \u001b[1m\u001b[31mयाचिका\u001b[0m \u001b[1m\u001b[31mकी\u001b[0m \u001b[1m\u001b[31mसुनवाई\u001b[0m \u001b[1m\u001b[31mमंगलवार\u001b[0m \u001b[1m\u001b[31mको\u001b[0m \u001b[1m\u001b[31mवकीलों\u001b[0m \u001b[1m\u001b[31mकी\u001b[0m \u001b[1m\u001b[31mहड़ताल\u001b[0m \u001b[1m\u001b[31mके\u001b[0m \u001b[1m\u001b[31mकारण\u001b[0m \u001b[1m\u001b[31mस्थगित\u001b[0m \u001b[1m\u001b[31mकर\u001b[0m \u001b[1m\u001b[31mदी\u001b[0m \u001b[1m\u001b[31mगई\u001b[0m \u001b[1m\u001b[31m।\u001b[0m \n",
            "----------------------------------------\n",
            "\u001b[1m\u001b[31mसिंध\u001b[0m \u001b[1m\u001b[31mहाईकोर्ट\u001b[0m \u001b[1m\u001b[31mबार\u001b[0m \u001b[1m\u001b[31mएसोसिएशन\u001b[0m \u001b[1m\u001b[31mके\u001b[0m \u001b[1m\u001b[31mअध्यक्ष\u001b[0m \u001b[1m\u001b[31mरशीद\u001b[0m \u001b[1m\u001b[31mरिजवी\u001b[0m \u001b[1m\u001b[31mके\u001b[0m \u001b[1m\u001b[31mमुताबिक\u001b[0m \u001b[1m\u001b[31mयह\u001b[0m \u001b[1m\u001b[31mहड़ताल\u001b[0m \u001b[1m\u001b[31mउच्च\u001b[0m \u001b[1m\u001b[31mन्यायालय\u001b[0m \u001b[1m\u001b[31mऔर\u001b[0m \u001b[1m\u001b[31mनिचली\u001b[0m \u001b[1m\u001b[31mअदालतों\u001b[0m \u001b[1m\u001b[31mके\u001b[0m \u001b[1m\u001b[31mस्तर\u001b[0m \u001b[1m\u001b[31mपर\u001b[0m \u001b[1m\u001b[31mसफल\u001b[0m \u001b[1m\u001b[31mरही\u001b[0m \u001b[1m\u001b[31m।\u001b[0m \n",
            "----------------------------------------\n",
            "\u001b[1m\u001b[31mदेश\u001b[0m \u001b[1m\u001b[31mमें\u001b[0m \u001b[1m\u001b[31mपुन\u001b[0m \u001b[1m\u001b[31m:\u001b[0m \u001b[1m\u001b[31mप्रजातंत्र\u001b[0m \u001b[1m\u001b[31mकी\u001b[0m \u001b[1m\u001b[31mस्थापना\u001b[0m \u001b[1m\u001b[31mकी\u001b[0m \u001b[1m\u001b[31mमांग\u001b[0m \u001b[1m\u001b[31mको\u001b[0m \u001b[1m\u001b[31mलेकर\u001b[0m \u001b[1m\u001b[31mयह\u001b[0m \u001b[1m\u001b[31mहड़ताल\u001b[0m \u001b[1m\u001b[31mकी\u001b[0m \u001b[1m\u001b[31mगई\u001b[0m \u001b[1m\u001b[31mथी\u001b[0m \u001b[1m\u001b[31m।\u001b[0m \n",
            "----------------------------------------\n",
            "\u001b[1m\u001b[31mसुप्रीम\u001b[0m \u001b[1m\u001b[31mकोर्ट\u001b[0m \u001b[1m\u001b[31mमें\u001b[0m \u001b[1m\u001b[31mभुट्टो\u001b[0m \u001b[1m\u001b[31mके\u001b[0m \u001b[1m\u001b[31mउक्त\u001b[0m \u001b[1m\u001b[31mमामले\u001b[0m \u001b[1m\u001b[31mकी\u001b[0m \u001b[1m\u001b[31mसुनवाई\u001b[0m \u001b[1m\u001b[31mसोमवार\u001b[0m \u001b[1m\u001b[31mसे\u001b[0m \u001b[1m\u001b[31mशुरू\u001b[0m \u001b[1m\u001b[31mहुई\u001b[0m \u001b[1m\u001b[31m,\u001b[0m \u001b[1m\u001b[31mजो\u001b[0m \u001b[1m\u001b[31mफिलहाल\u001b[0m \u001b[1m\u001b[31mबुधवार\u001b[0m \u001b[1m\u001b[31mतक\u001b[0m \u001b[1m\u001b[31mस्थगित\u001b[0m \u001b[1m\u001b[31mहै\u001b[0m \u001b[1m\u001b[31m।\u001b[0m \n",
            "----------------------------------------\n",
            "\u001b[1m\u001b[31mमुशर्रफ\u001b[0m \u001b[1m\u001b[31mसऊदी\u001b[0m \u001b[1m\u001b[31mअरब\u001b[0m \u001b[1m\u001b[31mको\u001b[0m \u001b[1m\u001b[31mमनाएंगे\u001b[0m \n",
            "----------------------------------------\n"
          ],
          "name": "stdout"
        }
      ]
    },
    {
      "cell_type": "markdown",
      "metadata": {
        "id": "cuW944L5HC_W"
      },
      "source": [
        "### Agglomerative clustering"
      ]
    },
    {
      "cell_type": "code",
      "metadata": {
        "colab": {
          "base_uri": "https://localhost:8080/"
        },
        "id": "RC3yhYNdHC_Y",
        "outputId": "1756b989-99f1-4fc3-b079-641bcc579a0b"
      },
      "source": [
        "chunked_sentence_labels = agglomerative_clustering(position_pos, cluster_count)\n",
        "print_chunked_sentences(sentences, chunked_sentence_labels, output_display_count)"
      ],
      "execution_count": 114,
      "outputs": [
        {
          "output_type": "stream",
          "text": [
            "\u001b[1m\u001b[35mपूर्ण\u001b[0m \u001b[1m\u001b[35mप्रतिबंध\u001b[0m \u001b[1m\u001b[34mहटाओ\u001b[0m \u001b[1m\u001b[34m:\u001b[0m \u001b[1m\u001b[36mइराक\u001b[0m \n",
            "----------------------------------------\n",
            "\u001b[1m\u001b[34mइराक\u001b[0m \u001b[1m\u001b[34mके\u001b[0m \u001b[1m\u001b[34mविदेश\u001b[0m \u001b[1m\u001b[34mमंत्री\u001b[0m \u001b[1m\u001b[34mने\u001b[0m \u001b[1m\u001b[34mअमरीका\u001b[0m \u001b[1m\u001b[34mके\u001b[0m \u001b[1m\u001b[34mउस\u001b[0m \u001b[1m\u001b[34mप्रस्ताव\u001b[0m \u001b[1m\u001b[34mका\u001b[0m \u001b[1m\u001b[34mमजाक\u001b[0m \u001b[1m\u001b[34mउड़ाया\u001b[0m \u001b[1m\u001b[34mहै\u001b[0m \u001b[1m\u001b[34m,\u001b[0m \u001b[1m\u001b[34mजिसमें\u001b[0m \u001b[1m\u001b[34mअमरीका\u001b[0m \u001b[1m\u001b[35mने\u001b[0m \u001b[1m\u001b[35mसंयुक्त\u001b[0m \u001b[1m\u001b[35mराष्ट्र\u001b[0m \u001b[1m\u001b[35mके\u001b[0m \u001b[1m\u001b[35mप्रतिबंधों\u001b[0m \u001b[1m\u001b[35mको\u001b[0m \u001b[1m\u001b[35mइराकी\u001b[0m \u001b[1m\u001b[35mनागरिकों\u001b[0m \u001b[1m\u001b[35mके\u001b[0m \u001b[1m\u001b[35mलिए\u001b[0m \u001b[1m\u001b[36mकम\u001b[0m \u001b[1m\u001b[36mहानिकारक\u001b[0m \u001b[1m\u001b[36mबनाने\u001b[0m \u001b[1m\u001b[36mके\u001b[0m \u001b[1m\u001b[36mलिए\u001b[0m \u001b[1m\u001b[36mकहा\u001b[0m \u001b[1m\u001b[36mहै\u001b[0m \u001b[1m\u001b[36m।\u001b[0m \n",
            "----------------------------------------\n",
            "\u001b[1m\u001b[34mविदेश\u001b[0m \u001b[1m\u001b[34mमंत्री\u001b[0m \u001b[1m\u001b[34mका\u001b[0m \u001b[1m\u001b[34mकहना\u001b[0m \u001b[1m\u001b[34mहै\u001b[0m \u001b[1m\u001b[34mकि\u001b[0m \u001b[1m\u001b[34mचूंकि\u001b[0m \u001b[1m\u001b[34mबगदाद\u001b[0m \u001b[1m\u001b[34mसंयुक्त\u001b[0m \u001b[1m\u001b[34mराष्ट्र\u001b[0m \u001b[1m\u001b[34mकी\u001b[0m \u001b[1m\u001b[34mमांगों\u001b[0m \u001b[1m\u001b[34mका\u001b[0m \u001b[1m\u001b[36mपालन\u001b[0m \u001b[1m\u001b[36mकरते\u001b[0m \u001b[1m\u001b[36mहुए\u001b[0m \u001b[1m\u001b[36mअपने\u001b[0m \u001b[1m\u001b[36mभारी\u001b[0m \u001b[1m\u001b[36mविनाशकारी\u001b[0m \u001b[1m\u001b[35mहथियारों\u001b[0m \u001b[1m\u001b[35mको\u001b[0m \u001b[1m\u001b[35mनष्ट\u001b[0m \u001b[1m\u001b[35mकर\u001b[0m \u001b[1m\u001b[35mरहा\u001b[0m \u001b[1m\u001b[35mहै\u001b[0m \u001b[1m\u001b[35m।\u001b[0m \n",
            "----------------------------------------\n",
            "\u001b[1m\u001b[34mलिहाजा\u001b[0m \u001b[1m\u001b[34mप्रतिबंधों\u001b[0m \u001b[1m\u001b[34mको\u001b[0m \u001b[1m\u001b[34mपूर्ण\u001b[0m \u001b[1m\u001b[36mरूप\u001b[0m \u001b[1m\u001b[36mसे\u001b[0m \u001b[1m\u001b[36mउठा\u001b[0m \u001b[1m\u001b[35mदिया\u001b[0m \u001b[1m\u001b[35mजाना\u001b[0m \u001b[1m\u001b[35mचाहिए\u001b[0m \u001b[1m\u001b[35m।\u001b[0m \n",
            "----------------------------------------\n",
            "\u001b[1m\u001b[34mविदेश\u001b[0m \u001b[1m\u001b[34mमंत्री\u001b[0m \u001b[1m\u001b[34mमोहम्मद\u001b[0m \u001b[1m\u001b[34mसईद\u001b[0m \u001b[1m\u001b[34mका\u001b[0m \u001b[1m\u001b[34mकहना\u001b[0m \u001b[1m\u001b[34mहै\u001b[0m \u001b[1m\u001b[34mकि\u001b[0m \u001b[1m\u001b[34mवे\u001b[0m \u001b[1m\u001b[34mइसे\u001b[0m \u001b[1m\u001b[35m'सुव्यवस्थित\u001b[0m \u001b[1m\u001b[35mप्रतिबंध'\u001b[0m \u001b[1m\u001b[35mकह\u001b[0m \u001b[1m\u001b[35mकर\u001b[0m \u001b[1m\u001b[35mआम\u001b[0m \u001b[1m\u001b[35mराय\u001b[0m \u001b[1m\u001b[35mऔर\u001b[0m \u001b[1m\u001b[35mसुरक्षा\u001b[0m \u001b[1m\u001b[36mपरिषद\u001b[0m \u001b[1m\u001b[36mको\u001b[0m \u001b[1m\u001b[36mछल\u001b[0m \u001b[1m\u001b[36mरहे\u001b[0m \u001b[1m\u001b[36mहैं\u001b[0m \u001b[1m\u001b[36m।\u001b[0m \n",
            "----------------------------------------\n",
            "\u001b[1m\u001b[35mपाकिस्तान\u001b[0m \u001b[1m\u001b[35mकी\u001b[0m \u001b[1m\u001b[35mपूर्व\u001b[0m \u001b[1m\u001b[35mप्रधानमंत्री\u001b[0m \u001b[1m\u001b[35mबेनजीर\u001b[0m \u001b[1m\u001b[35mभुट्टो\u001b[0m \u001b[1m\u001b[35mपर\u001b[0m \u001b[1m\u001b[35mलगे\u001b[0m \u001b[1m\u001b[35mभ्रष्टाचार\u001b[0m \u001b[1m\u001b[35mके\u001b[0m \u001b[1m\u001b[35mआरोपों\u001b[0m \u001b[1m\u001b[34mके\u001b[0m \u001b[1m\u001b[34mखिलाफ\u001b[0m \u001b[1m\u001b[34mभुट्टो\u001b[0m \u001b[1m\u001b[34mद्वारा\u001b[0m \u001b[1m\u001b[34mदायर\u001b[0m \u001b[1m\u001b[34mकी\u001b[0m \u001b[1m\u001b[34mगई\u001b[0m \u001b[1m\u001b[34mयाचिका\u001b[0m \u001b[1m\u001b[34mकी\u001b[0m \u001b[1m\u001b[34mसुनवाई\u001b[0m \u001b[1m\u001b[34mमंगलवार\u001b[0m \u001b[1m\u001b[34mको\u001b[0m \u001b[1m\u001b[34mवकीलों\u001b[0m \u001b[1m\u001b[34mकी\u001b[0m \u001b[1m\u001b[34mहड़ताल\u001b[0m \u001b[1m\u001b[36mके\u001b[0m \u001b[1m\u001b[36mकारण\u001b[0m \u001b[1m\u001b[36mस्थगित\u001b[0m \u001b[1m\u001b[36mकर\u001b[0m \u001b[1m\u001b[36mदी\u001b[0m \u001b[1m\u001b[36mगई\u001b[0m \u001b[1m\u001b[36m।\u001b[0m \n",
            "----------------------------------------\n",
            "\u001b[1m\u001b[34mसिंध\u001b[0m \u001b[1m\u001b[34mहाईकोर्ट\u001b[0m \u001b[1m\u001b[34mबार\u001b[0m \u001b[1m\u001b[34mएसोसिएशन\u001b[0m \u001b[1m\u001b[34mके\u001b[0m \u001b[1m\u001b[34mअध्यक्ष\u001b[0m \u001b[1m\u001b[34mरशीद\u001b[0m \u001b[1m\u001b[34mरिजवी\u001b[0m \u001b[1m\u001b[34mके\u001b[0m \u001b[1m\u001b[34mमुताबिक\u001b[0m \u001b[1m\u001b[36mयह\u001b[0m \u001b[1m\u001b[36mहड़ताल\u001b[0m \u001b[1m\u001b[36mउच्च\u001b[0m \u001b[1m\u001b[36mन्यायालय\u001b[0m \u001b[1m\u001b[36mऔर\u001b[0m \u001b[1m\u001b[36mनिचली\u001b[0m \u001b[1m\u001b[35mअदालतों\u001b[0m \u001b[1m\u001b[35mके\u001b[0m \u001b[1m\u001b[35mस्तर\u001b[0m \u001b[1m\u001b[35mपर\u001b[0m \u001b[1m\u001b[35mसफल\u001b[0m \u001b[1m\u001b[35mरही\u001b[0m \u001b[1m\u001b[35m।\u001b[0m \n",
            "----------------------------------------\n",
            "\u001b[1m\u001b[34mदेश\u001b[0m \u001b[1m\u001b[34mमें\u001b[0m \u001b[1m\u001b[34mपुन\u001b[0m \u001b[1m\u001b[34m:\u001b[0m \u001b[1m\u001b[34mप्रजातंत्र\u001b[0m \u001b[1m\u001b[34mकी\u001b[0m \u001b[1m\u001b[34mस्थापना\u001b[0m \u001b[1m\u001b[34mकी\u001b[0m \u001b[1m\u001b[36mमांग\u001b[0m \u001b[1m\u001b[36mको\u001b[0m \u001b[1m\u001b[36mलेकर\u001b[0m \u001b[1m\u001b[36mयह\u001b[0m \u001b[1m\u001b[35mहड़ताल\u001b[0m \u001b[1m\u001b[35mकी\u001b[0m \u001b[1m\u001b[35mगई\u001b[0m \u001b[1m\u001b[35mथी\u001b[0m \u001b[1m\u001b[35m।\u001b[0m \n",
            "----------------------------------------\n",
            "\u001b[1m\u001b[36mसुप्रीम\u001b[0m \u001b[1m\u001b[36mकोर्ट\u001b[0m \u001b[1m\u001b[36mमें\u001b[0m \u001b[1m\u001b[36mभुट्टो\u001b[0m \u001b[1m\u001b[34mके\u001b[0m \u001b[1m\u001b[34mउक्त\u001b[0m \u001b[1m\u001b[34mमामले\u001b[0m \u001b[1m\u001b[34mकी\u001b[0m \u001b[1m\u001b[34mसुनवाई\u001b[0m \u001b[1m\u001b[34mसोमवार\u001b[0m \u001b[1m\u001b[34mसे\u001b[0m \u001b[1m\u001b[34mशुरू\u001b[0m \u001b[1m\u001b[34mहुई\u001b[0m \u001b[1m\u001b[34m,\u001b[0m \u001b[1m\u001b[35mजो\u001b[0m \u001b[1m\u001b[35mफिलहाल\u001b[0m \u001b[1m\u001b[35mबुधवार\u001b[0m \u001b[1m\u001b[35mतक\u001b[0m \u001b[1m\u001b[35mस्थगित\u001b[0m \u001b[1m\u001b[35mहै\u001b[0m \u001b[1m\u001b[35m।\u001b[0m \n",
            "----------------------------------------\n",
            "\u001b[1m\u001b[35mमुशर्रफ\u001b[0m \u001b[1m\u001b[35mसऊदी\u001b[0m \u001b[1m\u001b[34mअरब\u001b[0m \u001b[1m\u001b[34mको\u001b[0m \u001b[1m\u001b[36mमनाएंगे\u001b[0m \n",
            "----------------------------------------\n"
          ],
          "name": "stdout"
        }
      ]
    },
    {
      "cell_type": "markdown",
      "metadata": {
        "id": "sxhScTJiEKn4"
      },
      "source": [
        "## Fastext Word embeddings"
      ]
    },
    {
      "cell_type": "code",
      "metadata": {
        "id": "ejZkdmXawCRQ",
        "trusted": true,
        "colab": {
          "base_uri": "https://localhost:8080/"
        },
        "outputId": "cb439abf-58b8-4832-f714-121430fffa9e"
      },
      "source": [
        "ft = fasttext.load_model('./cc.hi.300.bin')\n",
        "ft.get_dimension()"
      ],
      "execution_count": 21,
      "outputs": [
        {
          "output_type": "stream",
          "text": [
            "Warning : `load_model` does not return WordVectorModel or SupervisedModel any more, but a `FastText` object which is very similar.\n"
          ],
          "name": "stderr"
        },
        {
          "output_type": "execute_result",
          "data": {
            "text/plain": [
              "300"
            ]
          },
          "metadata": {
            "tags": []
          },
          "execution_count": 21
        }
      ]
    },
    {
      "cell_type": "code",
      "metadata": {
        "id": "BBwXeCYGwS7-",
        "trusted": true
      },
      "source": [
        "fasttext_vectors = []\n",
        "for s in sentences:\n",
        "    word_vectors = []\n",
        "    for word in s:\n",
        "        word_vectors.append(ft.get_word_vector(word))\n",
        "    fasttext_vectors.append(np.array(word_vectors))\n",
        "# sentence_vectors[1].shape"
      ],
      "execution_count": 92,
      "outputs": []
    },
    {
      "cell_type": "markdown",
      "metadata": {
        "id": "fQ_6k6Z-1r3O"
      },
      "source": [
        "### K means"
      ]
    },
    {
      "cell_type": "code",
      "metadata": {
        "colab": {
          "base_uri": "https://localhost:8080/"
        },
        "id": "u3nqNQZK1r3V",
        "outputId": "256be68e-7482-40d6-e298-e302e1f9ecd7"
      },
      "source": [
        "chunked_sentence_labels = k_means_clustering(fasttext_vectors, cluster_count)\n",
        "print_chunked_sentences(sentences, chunked_sentence_labels, output_display_count)"
      ],
      "execution_count": 93,
      "outputs": [
        {
          "output_type": "stream",
          "text": [
            "\u001b[1m\u001b[35mपूर्ण\u001b[0m \u001b[1m\u001b[34mप्रतिबंध\u001b[0m \u001b[1m\u001b[33mहटाओ\u001b[0m \u001b[1m\u001b[34m:\u001b[0m \u001b[1m\u001b[34mइराक\u001b[0m \n",
            "----------------------------------------\n",
            "\u001b[1m\u001b[34mइराक\u001b[0m \u001b[1m\u001b[33mके\u001b[0m \u001b[1m\u001b[34mविदेश\u001b[0m \u001b[1m\u001b[35mमंत्री\u001b[0m \u001b[1m\u001b[33mने\u001b[0m \u001b[1m\u001b[34mअमरीका\u001b[0m \u001b[1m\u001b[33mके\u001b[0m \u001b[1m\u001b[34mउस\u001b[0m \u001b[1m\u001b[35mप्रस्ताव\u001b[0m \u001b[1m\u001b[33mका\u001b[0m \u001b[1m\u001b[34mमजाक\u001b[0m \u001b[1m\u001b[34mउड़ाया\u001b[0m \u001b[1m\u001b[34mहै\u001b[0m \u001b[1m\u001b[34m,\u001b[0m \u001b[1m\u001b[34mजिसमें\u001b[0m \u001b[1m\u001b[34mअमरीका\u001b[0m \u001b[1m\u001b[33mने\u001b[0m \u001b[1m\u001b[34mसंयुक्त\u001b[0m \u001b[1m\u001b[35mराष्ट्र\u001b[0m \u001b[1m\u001b[33mके\u001b[0m \u001b[1m\u001b[35mप्रतिबंधों\u001b[0m \u001b[1m\u001b[33mको\u001b[0m \u001b[1m\u001b[34mइराकी\u001b[0m \u001b[1m\u001b[35mनागरिकों\u001b[0m \u001b[1m\u001b[33mके\u001b[0m \u001b[1m\u001b[33mलिए\u001b[0m \u001b[1m\u001b[34mकम\u001b[0m \u001b[1m\u001b[34mहानिकारक\u001b[0m \u001b[1m\u001b[34mबनाने\u001b[0m \u001b[1m\u001b[33mके\u001b[0m \u001b[1m\u001b[33mलिए\u001b[0m \u001b[1m\u001b[34mकहा\u001b[0m \u001b[1m\u001b[34mहै\u001b[0m \u001b[1m\u001b[34m।\u001b[0m \n",
            "----------------------------------------\n",
            "\u001b[1m\u001b[34mविदेश\u001b[0m \u001b[1m\u001b[35mमंत्री\u001b[0m \u001b[1m\u001b[34mका\u001b[0m \u001b[1m\u001b[34mकहना\u001b[0m \u001b[1m\u001b[33mहै\u001b[0m \u001b[1m\u001b[34mकि\u001b[0m \u001b[1m\u001b[34mचूंकि\u001b[0m \u001b[1m\u001b[34mबगदाद\u001b[0m \u001b[1m\u001b[34mसंयुक्त\u001b[0m \u001b[1m\u001b[35mराष्ट्र\u001b[0m \u001b[1m\u001b[34mकी\u001b[0m \u001b[1m\u001b[35mमांगों\u001b[0m \u001b[1m\u001b[34mका\u001b[0m \u001b[1m\u001b[34mपालन\u001b[0m \u001b[1m\u001b[34mकरते\u001b[0m \u001b[1m\u001b[33mहुए\u001b[0m \u001b[1m\u001b[34mअपने\u001b[0m \u001b[1m\u001b[34mभारी\u001b[0m \u001b[1m\u001b[34mविनाशकारी\u001b[0m \u001b[1m\u001b[35mहथियारों\u001b[0m \u001b[1m\u001b[34mको\u001b[0m \u001b[1m\u001b[34mनष्ट\u001b[0m \u001b[1m\u001b[34mकर\u001b[0m \u001b[1m\u001b[33mरहा\u001b[0m \u001b[1m\u001b[33mहै\u001b[0m \u001b[1m\u001b[34m।\u001b[0m \n",
            "----------------------------------------\n",
            "\u001b[1m\u001b[34mलिहाजा\u001b[0m \u001b[1m\u001b[35mप्रतिबंधों\u001b[0m \u001b[1m\u001b[34mको\u001b[0m \u001b[1m\u001b[34mपूर्ण\u001b[0m \u001b[1m\u001b[35mरूप\u001b[0m \u001b[1m\u001b[34mसे\u001b[0m \u001b[1m\u001b[34mउठा\u001b[0m \u001b[1m\u001b[33mदिया\u001b[0m \u001b[1m\u001b[33mजाना\u001b[0m \u001b[1m\u001b[33mचाहिए\u001b[0m \u001b[1m\u001b[34m।\u001b[0m \n",
            "----------------------------------------\n",
            "\u001b[1m\u001b[33mविदेश\u001b[0m \u001b[1m\u001b[35mमंत्री\u001b[0m \u001b[1m\u001b[34mमोहम्मद\u001b[0m \u001b[1m\u001b[34mसईद\u001b[0m \u001b[1m\u001b[34mका\u001b[0m \u001b[1m\u001b[34mकहना\u001b[0m \u001b[1m\u001b[34mहै\u001b[0m \u001b[1m\u001b[34mकि\u001b[0m \u001b[1m\u001b[34mवे\u001b[0m \u001b[1m\u001b[34mइसे\u001b[0m \u001b[1m\u001b[34m'सुव्यवस्थित\u001b[0m \u001b[1m\u001b[35mप्रतिबंध'\u001b[0m \u001b[1m\u001b[34mकह\u001b[0m \u001b[1m\u001b[34mकर\u001b[0m \u001b[1m\u001b[34mआम\u001b[0m \u001b[1m\u001b[35mराय\u001b[0m \u001b[1m\u001b[34mऔर\u001b[0m \u001b[1m\u001b[33mसुरक्षा\u001b[0m \u001b[1m\u001b[35mपरिषद\u001b[0m \u001b[1m\u001b[34mको\u001b[0m \u001b[1m\u001b[34mछल\u001b[0m \u001b[1m\u001b[34mरहे\u001b[0m \u001b[1m\u001b[34mहैं\u001b[0m \u001b[1m\u001b[34m।\u001b[0m \n",
            "----------------------------------------\n",
            "\u001b[1m\u001b[34mपाकिस्तान\u001b[0m \u001b[1m\u001b[33mकी\u001b[0m \u001b[1m\u001b[34mपूर्व\u001b[0m \u001b[1m\u001b[35mप्रधानमंत्री\u001b[0m \u001b[1m\u001b[34mबेनजीर\u001b[0m \u001b[1m\u001b[34mभुट्टो\u001b[0m \u001b[1m\u001b[33mपर\u001b[0m \u001b[1m\u001b[34mलगे\u001b[0m \u001b[1m\u001b[35mभ्रष्टाचार\u001b[0m \u001b[1m\u001b[33mके\u001b[0m \u001b[1m\u001b[35mआरोपों\u001b[0m \u001b[1m\u001b[33mके\u001b[0m \u001b[1m\u001b[33mखिलाफ\u001b[0m \u001b[1m\u001b[34mभुट्टो\u001b[0m \u001b[1m\u001b[33mद्वारा\u001b[0m \u001b[1m\u001b[34mदायर\u001b[0m \u001b[1m\u001b[34mकी\u001b[0m \u001b[1m\u001b[34mगई\u001b[0m \u001b[1m\u001b[35mयाचिका\u001b[0m \u001b[1m\u001b[33mकी\u001b[0m \u001b[1m\u001b[35mसुनवाई\u001b[0m \u001b[1m\u001b[35mमंगलवार\u001b[0m \u001b[1m\u001b[33mको\u001b[0m \u001b[1m\u001b[35mवकीलों\u001b[0m \u001b[1m\u001b[33mकी\u001b[0m \u001b[1m\u001b[35mहड़ताल\u001b[0m \u001b[1m\u001b[33mके\u001b[0m \u001b[1m\u001b[33mकारण\u001b[0m \u001b[1m\u001b[34mस्थगित\u001b[0m \u001b[1m\u001b[34mकर\u001b[0m \u001b[1m\u001b[34mदी\u001b[0m \u001b[1m\u001b[34mगई\u001b[0m \u001b[1m\u001b[34m।\u001b[0m \n",
            "----------------------------------------\n",
            "\u001b[1m\u001b[34mसिंध\u001b[0m \u001b[1m\u001b[34mहाईकोर्ट\u001b[0m \u001b[1m\u001b[34mबार\u001b[0m \u001b[1m\u001b[34mएसोसिएशन\u001b[0m \u001b[1m\u001b[33mके\u001b[0m \u001b[1m\u001b[35mअध्यक्ष\u001b[0m \u001b[1m\u001b[34mरशीद\u001b[0m \u001b[1m\u001b[34mरिजवी\u001b[0m \u001b[1m\u001b[33mके\u001b[0m \u001b[1m\u001b[33mमुताबिक\u001b[0m \u001b[1m\u001b[34mयह\u001b[0m \u001b[1m\u001b[35mहड़ताल\u001b[0m \u001b[1m\u001b[34mउच्च\u001b[0m \u001b[1m\u001b[34mन्यायालय\u001b[0m \u001b[1m\u001b[34mऔर\u001b[0m \u001b[1m\u001b[34mनिचली\u001b[0m \u001b[1m\u001b[35mअदालतों\u001b[0m \u001b[1m\u001b[33mके\u001b[0m \u001b[1m\u001b[35mस्तर\u001b[0m \u001b[1m\u001b[33mपर\u001b[0m \u001b[1m\u001b[34mसफल\u001b[0m \u001b[1m\u001b[34mरही\u001b[0m \u001b[1m\u001b[34m।\u001b[0m \n",
            "----------------------------------------\n",
            "\u001b[1m\u001b[34mदेश\u001b[0m \u001b[1m\u001b[35mमें\u001b[0m \u001b[1m\u001b[34mपुन\u001b[0m \u001b[1m\u001b[34m:\u001b[0m \u001b[1m\u001b[34mप्रजातंत्र\u001b[0m \u001b[1m\u001b[35mकी\u001b[0m \u001b[1m\u001b[34mस्थापना\u001b[0m \u001b[1m\u001b[35mकी\u001b[0m \u001b[1m\u001b[34mमांग\u001b[0m \u001b[1m\u001b[35mको\u001b[0m \u001b[1m\u001b[34mलेकर\u001b[0m \u001b[1m\u001b[34mयह\u001b[0m \u001b[1m\u001b[34mहड़ताल\u001b[0m \u001b[1m\u001b[34mकी\u001b[0m \u001b[1m\u001b[33mगई\u001b[0m \u001b[1m\u001b[33mथी\u001b[0m \u001b[1m\u001b[34m।\u001b[0m \n",
            "----------------------------------------\n",
            "\u001b[1m\u001b[34mसुप्रीम\u001b[0m \u001b[1m\u001b[34mकोर्ट\u001b[0m \u001b[1m\u001b[35mमें\u001b[0m \u001b[1m\u001b[34mभुट्टो\u001b[0m \u001b[1m\u001b[35mके\u001b[0m \u001b[1m\u001b[34mउक्त\u001b[0m \u001b[1m\u001b[34mमामले\u001b[0m \u001b[1m\u001b[35mकी\u001b[0m \u001b[1m\u001b[34mसुनवाई\u001b[0m \u001b[1m\u001b[34mसोमवार\u001b[0m \u001b[1m\u001b[35mसे\u001b[0m \u001b[1m\u001b[34mशुरू\u001b[0m \u001b[1m\u001b[34mहुई\u001b[0m \u001b[1m\u001b[33m,\u001b[0m \u001b[1m\u001b[34mजो\u001b[0m \u001b[1m\u001b[34mफिलहाल\u001b[0m \u001b[1m\u001b[34mबुधवार\u001b[0m \u001b[1m\u001b[35mतक\u001b[0m \u001b[1m\u001b[34mस्थगित\u001b[0m \u001b[1m\u001b[34mहै\u001b[0m \u001b[1m\u001b[33m।\u001b[0m \n",
            "----------------------------------------\n",
            "\u001b[1m\u001b[35mमुशर्रफ\u001b[0m \u001b[1m\u001b[34mसऊदी\u001b[0m \u001b[1m\u001b[35mअरब\u001b[0m \u001b[1m\u001b[34mको\u001b[0m \u001b[1m\u001b[33mमनाएंगे\u001b[0m \n",
            "----------------------------------------\n"
          ],
          "name": "stdout"
        }
      ]
    },
    {
      "cell_type": "markdown",
      "metadata": {
        "id": "zLq7b9gW1r3Y"
      },
      "source": [
        "### DBscan"
      ]
    },
    {
      "cell_type": "code",
      "metadata": {
        "colab": {
          "base_uri": "https://localhost:8080/"
        },
        "id": "XVpYR5RY1r3Z",
        "outputId": "cee61e82-4b86-48e7-e119-9592af968652"
      },
      "source": [
        "chunked_sentence_labels = DBscan_clustering(fasttext_vectors)\n",
        "print_chunked_sentences(sentences, chunked_sentence_labels, output_display_count)"
      ],
      "execution_count": 94,
      "outputs": [
        {
          "output_type": "stream",
          "text": [
            "\u001b[1m\u001b[35mपूर्ण\u001b[0m \u001b[1m\u001b[35mप्रतिबंध\u001b[0m \u001b[1m\u001b[35mहटाओ\u001b[0m \u001b[1m\u001b[35m:\u001b[0m \u001b[1m\u001b[35mइराक\u001b[0m \n",
            "----------------------------------------\n",
            "\u001b[1m\u001b[35mइराक\u001b[0m \u001b[1m\u001b[31mके\u001b[0m \u001b[1m\u001b[35mविदेश\u001b[0m \u001b[1m\u001b[35mमंत्री\u001b[0m \u001b[1m\u001b[35mने\u001b[0m \u001b[1m\u001b[35mअमरीका\u001b[0m \u001b[1m\u001b[31mके\u001b[0m \u001b[1m\u001b[35mउस\u001b[0m \u001b[1m\u001b[35mप्रस्ताव\u001b[0m \u001b[1m\u001b[35mका\u001b[0m \u001b[1m\u001b[35mमजाक\u001b[0m \u001b[1m\u001b[35mउड़ाया\u001b[0m \u001b[1m\u001b[35mहै\u001b[0m \u001b[1m\u001b[35m,\u001b[0m \u001b[1m\u001b[35mजिसमें\u001b[0m \u001b[1m\u001b[35mअमरीका\u001b[0m \u001b[1m\u001b[35mने\u001b[0m \u001b[1m\u001b[35mसंयुक्त\u001b[0m \u001b[1m\u001b[35mराष्ट्र\u001b[0m \u001b[1m\u001b[31mके\u001b[0m \u001b[1m\u001b[35mप्रतिबंधों\u001b[0m \u001b[1m\u001b[35mको\u001b[0m \u001b[1m\u001b[35mइराकी\u001b[0m \u001b[1m\u001b[35mनागरिकों\u001b[0m \u001b[1m\u001b[31mके\u001b[0m \u001b[1m\u001b[35mलिए\u001b[0m \u001b[1m\u001b[35mकम\u001b[0m \u001b[1m\u001b[35mहानिकारक\u001b[0m \u001b[1m\u001b[35mबनाने\u001b[0m \u001b[1m\u001b[31mके\u001b[0m \u001b[1m\u001b[35mलिए\u001b[0m \u001b[1m\u001b[35mकहा\u001b[0m \u001b[1m\u001b[35mहै\u001b[0m \u001b[1m\u001b[35m।\u001b[0m \n",
            "----------------------------------------\n",
            "\u001b[1m\u001b[35mविदेश\u001b[0m \u001b[1m\u001b[35mमंत्री\u001b[0m \u001b[1m\u001b[35mका\u001b[0m \u001b[1m\u001b[35mकहना\u001b[0m \u001b[1m\u001b[35mहै\u001b[0m \u001b[1m\u001b[35mकि\u001b[0m \u001b[1m\u001b[35mचूंकि\u001b[0m \u001b[1m\u001b[35mबगदाद\u001b[0m \u001b[1m\u001b[35mसंयुक्त\u001b[0m \u001b[1m\u001b[35mराष्ट्र\u001b[0m \u001b[1m\u001b[35mकी\u001b[0m \u001b[1m\u001b[35mमांगों\u001b[0m \u001b[1m\u001b[35mका\u001b[0m \u001b[1m\u001b[35mपालन\u001b[0m \u001b[1m\u001b[35mकरते\u001b[0m \u001b[1m\u001b[35mहुए\u001b[0m \u001b[1m\u001b[35mअपने\u001b[0m \u001b[1m\u001b[35mभारी\u001b[0m \u001b[1m\u001b[35mविनाशकारी\u001b[0m \u001b[1m\u001b[35mहथियारों\u001b[0m \u001b[1m\u001b[35mको\u001b[0m \u001b[1m\u001b[35mनष्ट\u001b[0m \u001b[1m\u001b[35mकर\u001b[0m \u001b[1m\u001b[35mरहा\u001b[0m \u001b[1m\u001b[35mहै\u001b[0m \u001b[1m\u001b[35m।\u001b[0m \n",
            "----------------------------------------\n",
            "\u001b[1m\u001b[35mलिहाजा\u001b[0m \u001b[1m\u001b[35mप्रतिबंधों\u001b[0m \u001b[1m\u001b[35mको\u001b[0m \u001b[1m\u001b[35mपूर्ण\u001b[0m \u001b[1m\u001b[35mरूप\u001b[0m \u001b[1m\u001b[35mसे\u001b[0m \u001b[1m\u001b[35mउठा\u001b[0m \u001b[1m\u001b[35mदिया\u001b[0m \u001b[1m\u001b[35mजाना\u001b[0m \u001b[1m\u001b[35mचाहिए\u001b[0m \u001b[1m\u001b[35m।\u001b[0m \n",
            "----------------------------------------\n",
            "\u001b[1m\u001b[35mविदेश\u001b[0m \u001b[1m\u001b[35mमंत्री\u001b[0m \u001b[1m\u001b[35mमोहम्मद\u001b[0m \u001b[1m\u001b[35mसईद\u001b[0m \u001b[1m\u001b[35mका\u001b[0m \u001b[1m\u001b[35mकहना\u001b[0m \u001b[1m\u001b[35mहै\u001b[0m \u001b[1m\u001b[35mकि\u001b[0m \u001b[1m\u001b[35mवे\u001b[0m \u001b[1m\u001b[35mइसे\u001b[0m \u001b[1m\u001b[35m'सुव्यवस्थित\u001b[0m \u001b[1m\u001b[35mप्रतिबंध'\u001b[0m \u001b[1m\u001b[35mकह\u001b[0m \u001b[1m\u001b[35mकर\u001b[0m \u001b[1m\u001b[35mआम\u001b[0m \u001b[1m\u001b[35mराय\u001b[0m \u001b[1m\u001b[35mऔर\u001b[0m \u001b[1m\u001b[35mसुरक्षा\u001b[0m \u001b[1m\u001b[35mपरिषद\u001b[0m \u001b[1m\u001b[35mको\u001b[0m \u001b[1m\u001b[35mछल\u001b[0m \u001b[1m\u001b[35mरहे\u001b[0m \u001b[1m\u001b[35mहैं\u001b[0m \u001b[1m\u001b[35m।\u001b[0m \n",
            "----------------------------------------\n",
            "\u001b[1m\u001b[31mपाकिस्तान\u001b[0m \u001b[1m\u001b[35mकी\u001b[0m \u001b[1m\u001b[35mपूर्व\u001b[0m \u001b[1m\u001b[31mप्रधानमंत्री\u001b[0m \u001b[1m\u001b[35mबेनजीर\u001b[0m \u001b[1m\u001b[35mभुट्टो\u001b[0m \u001b[1m\u001b[35mपर\u001b[0m \u001b[1m\u001b[35mलगे\u001b[0m \u001b[1m\u001b[31mभ्रष्टाचार\u001b[0m \u001b[1m\u001b[35mके\u001b[0m \u001b[1m\u001b[35mआरोपों\u001b[0m \u001b[1m\u001b[35mके\u001b[0m \u001b[1m\u001b[35mखिलाफ\u001b[0m \u001b[1m\u001b[35mभुट्टो\u001b[0m \u001b[1m\u001b[31mद्वारा\u001b[0m \u001b[1m\u001b[35mदायर\u001b[0m \u001b[1m\u001b[35mकी\u001b[0m \u001b[1m\u001b[35mगई\u001b[0m \u001b[1m\u001b[35mयाचिका\u001b[0m \u001b[1m\u001b[35mकी\u001b[0m \u001b[1m\u001b[35mसुनवाई\u001b[0m \u001b[1m\u001b[31mमंगलवार\u001b[0m \u001b[1m\u001b[35mको\u001b[0m \u001b[1m\u001b[35mवकीलों\u001b[0m \u001b[1m\u001b[35mकी\u001b[0m \u001b[1m\u001b[35mहड़ताल\u001b[0m \u001b[1m\u001b[35mके\u001b[0m \u001b[1m\u001b[35mकारण\u001b[0m \u001b[1m\u001b[35mस्थगित\u001b[0m \u001b[1m\u001b[35mकर\u001b[0m \u001b[1m\u001b[35mदी\u001b[0m \u001b[1m\u001b[35mगई\u001b[0m \u001b[1m\u001b[35m।\u001b[0m \n",
            "----------------------------------------\n",
            "\u001b[1m\u001b[35mसिंध\u001b[0m \u001b[1m\u001b[35mहाईकोर्ट\u001b[0m \u001b[1m\u001b[35mबार\u001b[0m \u001b[1m\u001b[35mएसोसिएशन\u001b[0m \u001b[1m\u001b[35mके\u001b[0m \u001b[1m\u001b[35mअध्यक्ष\u001b[0m \u001b[1m\u001b[35mरशीद\u001b[0m \u001b[1m\u001b[35mरिजवी\u001b[0m \u001b[1m\u001b[35mके\u001b[0m \u001b[1m\u001b[35mमुताबिक\u001b[0m \u001b[1m\u001b[35mयह\u001b[0m \u001b[1m\u001b[35mहड़ताल\u001b[0m \u001b[1m\u001b[35mउच्च\u001b[0m \u001b[1m\u001b[35mन्यायालय\u001b[0m \u001b[1m\u001b[35mऔर\u001b[0m \u001b[1m\u001b[35mनिचली\u001b[0m \u001b[1m\u001b[35mअदालतों\u001b[0m \u001b[1m\u001b[35mके\u001b[0m \u001b[1m\u001b[35mस्तर\u001b[0m \u001b[1m\u001b[35mपर\u001b[0m \u001b[1m\u001b[35mसफल\u001b[0m \u001b[1m\u001b[35mरही\u001b[0m \u001b[1m\u001b[35m।\u001b[0m \n",
            "----------------------------------------\n",
            "\u001b[1m\u001b[35mदेश\u001b[0m \u001b[1m\u001b[35mमें\u001b[0m \u001b[1m\u001b[35mपुन\u001b[0m \u001b[1m\u001b[35m:\u001b[0m \u001b[1m\u001b[35mप्रजातंत्र\u001b[0m \u001b[1m\u001b[35mकी\u001b[0m \u001b[1m\u001b[35mस्थापना\u001b[0m \u001b[1m\u001b[35mकी\u001b[0m \u001b[1m\u001b[35mमांग\u001b[0m \u001b[1m\u001b[35mको\u001b[0m \u001b[1m\u001b[35mलेकर\u001b[0m \u001b[1m\u001b[35mयह\u001b[0m \u001b[1m\u001b[35mहड़ताल\u001b[0m \u001b[1m\u001b[35mकी\u001b[0m \u001b[1m\u001b[35mगई\u001b[0m \u001b[1m\u001b[35mथी\u001b[0m \u001b[1m\u001b[35m।\u001b[0m \n",
            "----------------------------------------\n",
            "\u001b[1m\u001b[35mसुप्रीम\u001b[0m \u001b[1m\u001b[35mकोर्ट\u001b[0m \u001b[1m\u001b[35mमें\u001b[0m \u001b[1m\u001b[35mभुट्टो\u001b[0m \u001b[1m\u001b[35mके\u001b[0m \u001b[1m\u001b[35mउक्त\u001b[0m \u001b[1m\u001b[35mमामले\u001b[0m \u001b[1m\u001b[35mकी\u001b[0m \u001b[1m\u001b[35mसुनवाई\u001b[0m \u001b[1m\u001b[35mसोमवार\u001b[0m \u001b[1m\u001b[35mसे\u001b[0m \u001b[1m\u001b[35mशुरू\u001b[0m \u001b[1m\u001b[35mहुई\u001b[0m \u001b[1m\u001b[35m,\u001b[0m \u001b[1m\u001b[35mजो\u001b[0m \u001b[1m\u001b[35mफिलहाल\u001b[0m \u001b[1m\u001b[35mबुधवार\u001b[0m \u001b[1m\u001b[35mतक\u001b[0m \u001b[1m\u001b[35mस्थगित\u001b[0m \u001b[1m\u001b[35mहै\u001b[0m \u001b[1m\u001b[35m।\u001b[0m \n",
            "----------------------------------------\n",
            "\u001b[1m\u001b[35mमुशर्रफ\u001b[0m \u001b[1m\u001b[35mसऊदी\u001b[0m \u001b[1m\u001b[35mअरब\u001b[0m \u001b[1m\u001b[35mको\u001b[0m \u001b[1m\u001b[35mमनाएंगे\u001b[0m \n",
            "----------------------------------------\n"
          ],
          "name": "stdout"
        }
      ]
    },
    {
      "cell_type": "markdown",
      "metadata": {
        "id": "oiymqj121r3a"
      },
      "source": [
        "### Agglomerative clustering"
      ]
    },
    {
      "cell_type": "code",
      "metadata": {
        "colab": {
          "base_uri": "https://localhost:8080/"
        },
        "id": "irBgQ3Je1r3b",
        "outputId": "eb162f26-a485-4be5-d69a-e8ec71f571c0"
      },
      "source": [
        "chunked_sentence_labels = agglomerative_clustering(fasttext_vectors, cluster_count)\n",
        "print_chunked_sentences(sentences, chunked_sentence_labels, output_display_count)"
      ],
      "execution_count": 95,
      "outputs": [
        {
          "output_type": "stream",
          "text": [
            "\u001b[1m\u001b[36mपूर्ण\u001b[0m \u001b[1m\u001b[36mप्रतिबंध\u001b[0m \u001b[1m\u001b[31mहटाओ\u001b[0m \u001b[1m\u001b[33m:\u001b[0m \u001b[1m\u001b[36mइराक\u001b[0m \n",
            "----------------------------------------\n",
            "\u001b[1m\u001b[33mइराक\u001b[0m \u001b[1m\u001b[31mके\u001b[0m \u001b[1m\u001b[33mविदेश\u001b[0m \u001b[1m\u001b[33mमंत्री\u001b[0m \u001b[1m\u001b[36mने\u001b[0m \u001b[1m\u001b[33mअमरीका\u001b[0m \u001b[1m\u001b[31mके\u001b[0m \u001b[1m\u001b[36mउस\u001b[0m \u001b[1m\u001b[33mप्रस्ताव\u001b[0m \u001b[1m\u001b[31mका\u001b[0m \u001b[1m\u001b[33mमजाक\u001b[0m \u001b[1m\u001b[33mउड़ाया\u001b[0m \u001b[1m\u001b[36mहै\u001b[0m \u001b[1m\u001b[36m,\u001b[0m \u001b[1m\u001b[33mजिसमें\u001b[0m \u001b[1m\u001b[33mअमरीका\u001b[0m \u001b[1m\u001b[36mने\u001b[0m \u001b[1m\u001b[33mसंयुक्त\u001b[0m \u001b[1m\u001b[33mराष्ट्र\u001b[0m \u001b[1m\u001b[31mके\u001b[0m \u001b[1m\u001b[33mप्रतिबंधों\u001b[0m \u001b[1m\u001b[36mको\u001b[0m \u001b[1m\u001b[33mइराकी\u001b[0m \u001b[1m\u001b[33mनागरिकों\u001b[0m \u001b[1m\u001b[31mके\u001b[0m \u001b[1m\u001b[33mलिए\u001b[0m \u001b[1m\u001b[36mकम\u001b[0m \u001b[1m\u001b[33mहानिकारक\u001b[0m \u001b[1m\u001b[33mबनाने\u001b[0m \u001b[1m\u001b[31mके\u001b[0m \u001b[1m\u001b[33mलिए\u001b[0m \u001b[1m\u001b[33mकहा\u001b[0m \u001b[1m\u001b[36mहै\u001b[0m \u001b[1m\u001b[36m।\u001b[0m \n",
            "----------------------------------------\n",
            "\u001b[1m\u001b[33mविदेश\u001b[0m \u001b[1m\u001b[33mमंत्री\u001b[0m \u001b[1m\u001b[36mका\u001b[0m \u001b[1m\u001b[33mकहना\u001b[0m \u001b[1m\u001b[31mहै\u001b[0m \u001b[1m\u001b[31mकि\u001b[0m \u001b[1m\u001b[33mचूंकि\u001b[0m \u001b[1m\u001b[33mबगदाद\u001b[0m \u001b[1m\u001b[33mसंयुक्त\u001b[0m \u001b[1m\u001b[33mराष्ट्र\u001b[0m \u001b[1m\u001b[36mकी\u001b[0m \u001b[1m\u001b[33mमांगों\u001b[0m \u001b[1m\u001b[36mका\u001b[0m \u001b[1m\u001b[33mपालन\u001b[0m \u001b[1m\u001b[33mकरते\u001b[0m \u001b[1m\u001b[33mहुए\u001b[0m \u001b[1m\u001b[33mअपने\u001b[0m \u001b[1m\u001b[33mभारी\u001b[0m \u001b[1m\u001b[33mविनाशकारी\u001b[0m \u001b[1m\u001b[33mहथियारों\u001b[0m \u001b[1m\u001b[36mको\u001b[0m \u001b[1m\u001b[33mनष्ट\u001b[0m \u001b[1m\u001b[31mकर\u001b[0m \u001b[1m\u001b[33mरहा\u001b[0m \u001b[1m\u001b[31mहै\u001b[0m \u001b[1m\u001b[31m।\u001b[0m \n",
            "----------------------------------------\n",
            "\u001b[1m\u001b[36mलिहाजा\u001b[0m \u001b[1m\u001b[36mप्रतिबंधों\u001b[0m \u001b[1m\u001b[33mको\u001b[0m \u001b[1m\u001b[36mपूर्ण\u001b[0m \u001b[1m\u001b[36mरूप\u001b[0m \u001b[1m\u001b[33mसे\u001b[0m \u001b[1m\u001b[31mउठा\u001b[0m \u001b[1m\u001b[36mदिया\u001b[0m \u001b[1m\u001b[36mजाना\u001b[0m \u001b[1m\u001b[36mचाहिए\u001b[0m \u001b[1m\u001b[36m।\u001b[0m \n",
            "----------------------------------------\n",
            "\u001b[1m\u001b[36mविदेश\u001b[0m \u001b[1m\u001b[36mमंत्री\u001b[0m \u001b[1m\u001b[36mमोहम्मद\u001b[0m \u001b[1m\u001b[36mसईद\u001b[0m \u001b[1m\u001b[31mका\u001b[0m \u001b[1m\u001b[36mकहना\u001b[0m \u001b[1m\u001b[31mहै\u001b[0m \u001b[1m\u001b[31mकि\u001b[0m \u001b[1m\u001b[31mवे\u001b[0m \u001b[1m\u001b[36mइसे\u001b[0m \u001b[1m\u001b[36m'सुव्यवस्थित\u001b[0m \u001b[1m\u001b[36mप्रतिबंध'\u001b[0m \u001b[1m\u001b[31mकह\u001b[0m \u001b[1m\u001b[31mकर\u001b[0m \u001b[1m\u001b[31mआम\u001b[0m \u001b[1m\u001b[36mराय\u001b[0m \u001b[1m\u001b[31mऔर\u001b[0m \u001b[1m\u001b[36mसुरक्षा\u001b[0m \u001b[1m\u001b[36mपरिषद\u001b[0m \u001b[1m\u001b[31mको\u001b[0m \u001b[1m\u001b[33mछल\u001b[0m \u001b[1m\u001b[36mरहे\u001b[0m \u001b[1m\u001b[36mहैं\u001b[0m \u001b[1m\u001b[31m।\u001b[0m \n",
            "----------------------------------------\n",
            "\u001b[1m\u001b[33mपाकिस्तान\u001b[0m \u001b[1m\u001b[36mकी\u001b[0m \u001b[1m\u001b[33mपूर्व\u001b[0m \u001b[1m\u001b[33mप्रधानमंत्री\u001b[0m \u001b[1m\u001b[33mबेनजीर\u001b[0m \u001b[1m\u001b[33mभुट्टो\u001b[0m \u001b[1m\u001b[36mपर\u001b[0m \u001b[1m\u001b[33mलगे\u001b[0m \u001b[1m\u001b[33mभ्रष्टाचार\u001b[0m \u001b[1m\u001b[36mके\u001b[0m \u001b[1m\u001b[33mआरोपों\u001b[0m \u001b[1m\u001b[36mके\u001b[0m \u001b[1m\u001b[33mखिलाफ\u001b[0m \u001b[1m\u001b[33mभुट्टो\u001b[0m \u001b[1m\u001b[33mद्वारा\u001b[0m \u001b[1m\u001b[33mदायर\u001b[0m \u001b[1m\u001b[36mकी\u001b[0m \u001b[1m\u001b[31mगई\u001b[0m \u001b[1m\u001b[33mयाचिका\u001b[0m \u001b[1m\u001b[36mकी\u001b[0m \u001b[1m\u001b[33mसुनवाई\u001b[0m \u001b[1m\u001b[33mमंगलवार\u001b[0m \u001b[1m\u001b[36mको\u001b[0m \u001b[1m\u001b[33mवकीलों\u001b[0m \u001b[1m\u001b[36mकी\u001b[0m \u001b[1m\u001b[33mहड़ताल\u001b[0m \u001b[1m\u001b[36mके\u001b[0m \u001b[1m\u001b[33mकारण\u001b[0m \u001b[1m\u001b[33mस्थगित\u001b[0m \u001b[1m\u001b[31mकर\u001b[0m \u001b[1m\u001b[31mदी\u001b[0m \u001b[1m\u001b[31mगई\u001b[0m \u001b[1m\u001b[31m।\u001b[0m \n",
            "----------------------------------------\n",
            "\u001b[1m\u001b[33mसिंध\u001b[0m \u001b[1m\u001b[33mहाईकोर्ट\u001b[0m \u001b[1m\u001b[33mबार\u001b[0m \u001b[1m\u001b[33mएसोसिएशन\u001b[0m \u001b[1m\u001b[36mके\u001b[0m \u001b[1m\u001b[33mअध्यक्ष\u001b[0m \u001b[1m\u001b[33mरशीद\u001b[0m \u001b[1m\u001b[33mरिजवी\u001b[0m \u001b[1m\u001b[36mके\u001b[0m \u001b[1m\u001b[33mमुताबिक\u001b[0m \u001b[1m\u001b[31mयह\u001b[0m \u001b[1m\u001b[33mहड़ताल\u001b[0m \u001b[1m\u001b[33mउच्च\u001b[0m \u001b[1m\u001b[33mन्यायालय\u001b[0m \u001b[1m\u001b[31mऔर\u001b[0m \u001b[1m\u001b[33mनिचली\u001b[0m \u001b[1m\u001b[33mअदालतों\u001b[0m \u001b[1m\u001b[36mके\u001b[0m \u001b[1m\u001b[33mस्तर\u001b[0m \u001b[1m\u001b[36mपर\u001b[0m \u001b[1m\u001b[33mसफल\u001b[0m \u001b[1m\u001b[33mरही\u001b[0m \u001b[1m\u001b[31m।\u001b[0m \n",
            "----------------------------------------\n",
            "\u001b[1m\u001b[36mदेश\u001b[0m \u001b[1m\u001b[36mमें\u001b[0m \u001b[1m\u001b[36mपुन\u001b[0m \u001b[1m\u001b[36m:\u001b[0m \u001b[1m\u001b[36mप्रजातंत्र\u001b[0m \u001b[1m\u001b[31mकी\u001b[0m \u001b[1m\u001b[36mस्थापना\u001b[0m \u001b[1m\u001b[31mकी\u001b[0m \u001b[1m\u001b[36mमांग\u001b[0m \u001b[1m\u001b[36mको\u001b[0m \u001b[1m\u001b[36mलेकर\u001b[0m \u001b[1m\u001b[36mयह\u001b[0m \u001b[1m\u001b[36mहड़ताल\u001b[0m \u001b[1m\u001b[31mकी\u001b[0m \u001b[1m\u001b[33mगई\u001b[0m \u001b[1m\u001b[33mथी\u001b[0m \u001b[1m\u001b[36m।\u001b[0m \n",
            "----------------------------------------\n",
            "\u001b[1m\u001b[33mसुप्रीम\u001b[0m \u001b[1m\u001b[33mकोर्ट\u001b[0m \u001b[1m\u001b[33mमें\u001b[0m \u001b[1m\u001b[33mभुट्टो\u001b[0m \u001b[1m\u001b[36mके\u001b[0m \u001b[1m\u001b[33mउक्त\u001b[0m \u001b[1m\u001b[33mमामले\u001b[0m \u001b[1m\u001b[36mकी\u001b[0m \u001b[1m\u001b[33mसुनवाई\u001b[0m \u001b[1m\u001b[33mसोमवार\u001b[0m \u001b[1m\u001b[36mसे\u001b[0m \u001b[1m\u001b[33mशुरू\u001b[0m \u001b[1m\u001b[33mहुई\u001b[0m \u001b[1m\u001b[31m,\u001b[0m \u001b[1m\u001b[31mजो\u001b[0m \u001b[1m\u001b[33mफिलहाल\u001b[0m \u001b[1m\u001b[33mबुधवार\u001b[0m \u001b[1m\u001b[36mतक\u001b[0m \u001b[1m\u001b[33mस्थगित\u001b[0m \u001b[1m\u001b[31mहै\u001b[0m \u001b[1m\u001b[31m।\u001b[0m \n",
            "----------------------------------------\n",
            "\u001b[1m\u001b[31mमुशर्रफ\u001b[0m \u001b[1m\u001b[36mसऊदी\u001b[0m \u001b[1m\u001b[36mअरब\u001b[0m \u001b[1m\u001b[33mको\u001b[0m \u001b[1m\u001b[31mमनाएंगे\u001b[0m \n",
            "----------------------------------------\n"
          ],
          "name": "stdout"
        }
      ]
    },
    {
      "cell_type": "markdown",
      "metadata": {
        "id": "2JyuT3H41-LO"
      },
      "source": [
        "## POS tags + Fastext Word embeddings"
      ]
    },
    {
      "cell_type": "code",
      "metadata": {
        "trusted": true,
        "id": "LSw7xLCiLOZj"
      },
      "source": [
        "fasttext_pos_vectors = []\n",
        "for index in range(len(fasttext_vectors)):\n",
        "    fasttext_pos_vectors.append(np.hstack((fasttext_vectors[index], np.array(one_hot_enc_pos_input[index]))))"
      ],
      "execution_count": 96,
      "outputs": []
    },
    {
      "cell_type": "markdown",
      "metadata": {
        "id": "0Wt0Bdje2lM2"
      },
      "source": [
        "### K means"
      ]
    },
    {
      "cell_type": "code",
      "metadata": {
        "colab": {
          "base_uri": "https://localhost:8080/"
        },
        "id": "KZW8utIgrROv",
        "outputId": "36582003-3280-4816-fd59-01cbe0fd2726"
      },
      "source": [
        "chunked_sentence_labels = k_means_clustering(fasttext_pos_vectors, cluster_count)\n",
        "print_chunked_sentences(sentences, chunked_sentence_labels, output_display_count)"
      ],
      "execution_count": 97,
      "outputs": [
        {
          "output_type": "stream",
          "text": [
            "\u001b[1m\u001b[33mपूर्ण\u001b[0m \u001b[1m\u001b[35mप्रतिबंध\u001b[0m \u001b[1m\u001b[36mहटाओ\u001b[0m \u001b[1m\u001b[35m:\u001b[0m \u001b[1m\u001b[35mइराक\u001b[0m \n",
            "----------------------------------------\n",
            "\u001b[1m\u001b[35mइराक\u001b[0m \u001b[1m\u001b[36mके\u001b[0m \u001b[1m\u001b[35mविदेश\u001b[0m \u001b[1m\u001b[33mमंत्री\u001b[0m \u001b[1m\u001b[36mने\u001b[0m \u001b[1m\u001b[35mअमरीका\u001b[0m \u001b[1m\u001b[36mके\u001b[0m \u001b[1m\u001b[35mउस\u001b[0m \u001b[1m\u001b[33mप्रस्ताव\u001b[0m \u001b[1m\u001b[36mका\u001b[0m \u001b[1m\u001b[35mमजाक\u001b[0m \u001b[1m\u001b[35mउड़ाया\u001b[0m \u001b[1m\u001b[35mहै\u001b[0m \u001b[1m\u001b[35m,\u001b[0m \u001b[1m\u001b[35mजिसमें\u001b[0m \u001b[1m\u001b[35mअमरीका\u001b[0m \u001b[1m\u001b[36mने\u001b[0m \u001b[1m\u001b[35mसंयुक्त\u001b[0m \u001b[1m\u001b[33mराष्ट्र\u001b[0m \u001b[1m\u001b[36mके\u001b[0m \u001b[1m\u001b[33mप्रतिबंधों\u001b[0m \u001b[1m\u001b[36mको\u001b[0m \u001b[1m\u001b[35mइराकी\u001b[0m \u001b[1m\u001b[33mनागरिकों\u001b[0m \u001b[1m\u001b[36mके\u001b[0m \u001b[1m\u001b[36mलिए\u001b[0m \u001b[1m\u001b[35mकम\u001b[0m \u001b[1m\u001b[35mहानिकारक\u001b[0m \u001b[1m\u001b[35mबनाने\u001b[0m \u001b[1m\u001b[36mके\u001b[0m \u001b[1m\u001b[36mलिए\u001b[0m \u001b[1m\u001b[35mकहा\u001b[0m \u001b[1m\u001b[35mहै\u001b[0m \u001b[1m\u001b[35m।\u001b[0m \n",
            "----------------------------------------\n",
            "\u001b[1m\u001b[35mविदेश\u001b[0m \u001b[1m\u001b[33mमंत्री\u001b[0m \u001b[1m\u001b[35mका\u001b[0m \u001b[1m\u001b[35mकहना\u001b[0m \u001b[1m\u001b[36mहै\u001b[0m \u001b[1m\u001b[35mकि\u001b[0m \u001b[1m\u001b[35mचूंकि\u001b[0m \u001b[1m\u001b[35mबगदाद\u001b[0m \u001b[1m\u001b[35mसंयुक्त\u001b[0m \u001b[1m\u001b[33mराष्ट्र\u001b[0m \u001b[1m\u001b[35mकी\u001b[0m \u001b[1m\u001b[33mमांगों\u001b[0m \u001b[1m\u001b[35mका\u001b[0m \u001b[1m\u001b[35mपालन\u001b[0m \u001b[1m\u001b[35mकरते\u001b[0m \u001b[1m\u001b[36mहुए\u001b[0m \u001b[1m\u001b[35mअपने\u001b[0m \u001b[1m\u001b[35mभारी\u001b[0m \u001b[1m\u001b[35mविनाशकारी\u001b[0m \u001b[1m\u001b[33mहथियारों\u001b[0m \u001b[1m\u001b[35mको\u001b[0m \u001b[1m\u001b[35mनष्ट\u001b[0m \u001b[1m\u001b[35mकर\u001b[0m \u001b[1m\u001b[36mरहा\u001b[0m \u001b[1m\u001b[36mहै\u001b[0m \u001b[1m\u001b[35m।\u001b[0m \n",
            "----------------------------------------\n",
            "\u001b[1m\u001b[35mलिहाजा\u001b[0m \u001b[1m\u001b[33mप्रतिबंधों\u001b[0m \u001b[1m\u001b[35mको\u001b[0m \u001b[1m\u001b[35mपूर्ण\u001b[0m \u001b[1m\u001b[33mरूप\u001b[0m \u001b[1m\u001b[35mसे\u001b[0m \u001b[1m\u001b[35mउठा\u001b[0m \u001b[1m\u001b[36mदिया\u001b[0m \u001b[1m\u001b[36mजाना\u001b[0m \u001b[1m\u001b[36mचाहिए\u001b[0m \u001b[1m\u001b[35m।\u001b[0m \n",
            "----------------------------------------\n",
            "\u001b[1m\u001b[36mविदेश\u001b[0m \u001b[1m\u001b[33mमंत्री\u001b[0m \u001b[1m\u001b[35mमोहम्मद\u001b[0m \u001b[1m\u001b[35mसईद\u001b[0m \u001b[1m\u001b[35mका\u001b[0m \u001b[1m\u001b[35mकहना\u001b[0m \u001b[1m\u001b[35mहै\u001b[0m \u001b[1m\u001b[35mकि\u001b[0m \u001b[1m\u001b[35mवे\u001b[0m \u001b[1m\u001b[35mइसे\u001b[0m \u001b[1m\u001b[35m'सुव्यवस्थित\u001b[0m \u001b[1m\u001b[33mप्रतिबंध'\u001b[0m \u001b[1m\u001b[35mकह\u001b[0m \u001b[1m\u001b[35mकर\u001b[0m \u001b[1m\u001b[35mआम\u001b[0m \u001b[1m\u001b[33mराय\u001b[0m \u001b[1m\u001b[35mऔर\u001b[0m \u001b[1m\u001b[36mसुरक्षा\u001b[0m \u001b[1m\u001b[33mपरिषद\u001b[0m \u001b[1m\u001b[35mको\u001b[0m \u001b[1m\u001b[35mछल\u001b[0m \u001b[1m\u001b[35mरहे\u001b[0m \u001b[1m\u001b[35mहैं\u001b[0m \u001b[1m\u001b[35m।\u001b[0m \n",
            "----------------------------------------\n",
            "\u001b[1m\u001b[35mपाकिस्तान\u001b[0m \u001b[1m\u001b[36mकी\u001b[0m \u001b[1m\u001b[35mपूर्व\u001b[0m \u001b[1m\u001b[33mप्रधानमंत्री\u001b[0m \u001b[1m\u001b[35mबेनजीर\u001b[0m \u001b[1m\u001b[35mभुट्टो\u001b[0m \u001b[1m\u001b[36mपर\u001b[0m \u001b[1m\u001b[35mलगे\u001b[0m \u001b[1m\u001b[33mभ्रष्टाचार\u001b[0m \u001b[1m\u001b[36mके\u001b[0m \u001b[1m\u001b[33mआरोपों\u001b[0m \u001b[1m\u001b[36mके\u001b[0m \u001b[1m\u001b[36mखिलाफ\u001b[0m \u001b[1m\u001b[35mभुट्टो\u001b[0m \u001b[1m\u001b[36mद्वारा\u001b[0m \u001b[1m\u001b[35mदायर\u001b[0m \u001b[1m\u001b[35mकी\u001b[0m \u001b[1m\u001b[35mगई\u001b[0m \u001b[1m\u001b[33mयाचिका\u001b[0m \u001b[1m\u001b[36mकी\u001b[0m \u001b[1m\u001b[33mसुनवाई\u001b[0m \u001b[1m\u001b[33mमंगलवार\u001b[0m \u001b[1m\u001b[36mको\u001b[0m \u001b[1m\u001b[33mवकीलों\u001b[0m \u001b[1m\u001b[36mकी\u001b[0m \u001b[1m\u001b[33mहड़ताल\u001b[0m \u001b[1m\u001b[36mके\u001b[0m \u001b[1m\u001b[36mकारण\u001b[0m \u001b[1m\u001b[35mस्थगित\u001b[0m \u001b[1m\u001b[35mकर\u001b[0m \u001b[1m\u001b[35mदी\u001b[0m \u001b[1m\u001b[35mगई\u001b[0m \u001b[1m\u001b[35m।\u001b[0m \n",
            "----------------------------------------\n",
            "\u001b[1m\u001b[35mसिंध\u001b[0m \u001b[1m\u001b[35mहाईकोर्ट\u001b[0m \u001b[1m\u001b[35mबार\u001b[0m \u001b[1m\u001b[35mएसोसिएशन\u001b[0m \u001b[1m\u001b[36mके\u001b[0m \u001b[1m\u001b[33mअध्यक्ष\u001b[0m \u001b[1m\u001b[35mरशीद\u001b[0m \u001b[1m\u001b[35mरिजवी\u001b[0m \u001b[1m\u001b[36mके\u001b[0m \u001b[1m\u001b[36mमुताबिक\u001b[0m \u001b[1m\u001b[35mयह\u001b[0m \u001b[1m\u001b[33mहड़ताल\u001b[0m \u001b[1m\u001b[35mउच्च\u001b[0m \u001b[1m\u001b[35mन्यायालय\u001b[0m \u001b[1m\u001b[35mऔर\u001b[0m \u001b[1m\u001b[35mनिचली\u001b[0m \u001b[1m\u001b[33mअदालतों\u001b[0m \u001b[1m\u001b[36mके\u001b[0m \u001b[1m\u001b[33mस्तर\u001b[0m \u001b[1m\u001b[36mपर\u001b[0m \u001b[1m\u001b[35mसफल\u001b[0m \u001b[1m\u001b[35mरही\u001b[0m \u001b[1m\u001b[35m।\u001b[0m \n",
            "----------------------------------------\n",
            "\u001b[1m\u001b[35mदेश\u001b[0m \u001b[1m\u001b[33mमें\u001b[0m \u001b[1m\u001b[35mपुन\u001b[0m \u001b[1m\u001b[35m:\u001b[0m \u001b[1m\u001b[35mप्रजातंत्र\u001b[0m \u001b[1m\u001b[33mकी\u001b[0m \u001b[1m\u001b[35mस्थापना\u001b[0m \u001b[1m\u001b[33mकी\u001b[0m \u001b[1m\u001b[35mमांग\u001b[0m \u001b[1m\u001b[33mको\u001b[0m \u001b[1m\u001b[35mलेकर\u001b[0m \u001b[1m\u001b[35mयह\u001b[0m \u001b[1m\u001b[35mहड़ताल\u001b[0m \u001b[1m\u001b[35mकी\u001b[0m \u001b[1m\u001b[36mगई\u001b[0m \u001b[1m\u001b[36mथी\u001b[0m \u001b[1m\u001b[35m।\u001b[0m \n",
            "----------------------------------------\n",
            "\u001b[1m\u001b[35mसुप्रीम\u001b[0m \u001b[1m\u001b[35mकोर्ट\u001b[0m \u001b[1m\u001b[33mमें\u001b[0m \u001b[1m\u001b[35mभुट्टो\u001b[0m \u001b[1m\u001b[33mके\u001b[0m \u001b[1m\u001b[35mउक्त\u001b[0m \u001b[1m\u001b[35mमामले\u001b[0m \u001b[1m\u001b[33mकी\u001b[0m \u001b[1m\u001b[35mसुनवाई\u001b[0m \u001b[1m\u001b[35mसोमवार\u001b[0m \u001b[1m\u001b[33mसे\u001b[0m \u001b[1m\u001b[35mशुरू\u001b[0m \u001b[1m\u001b[35mहुई\u001b[0m \u001b[1m\u001b[36m,\u001b[0m \u001b[1m\u001b[35mजो\u001b[0m \u001b[1m\u001b[35mफिलहाल\u001b[0m \u001b[1m\u001b[35mबुधवार\u001b[0m \u001b[1m\u001b[33mतक\u001b[0m \u001b[1m\u001b[35mस्थगित\u001b[0m \u001b[1m\u001b[35mहै\u001b[0m \u001b[1m\u001b[36m।\u001b[0m \n",
            "----------------------------------------\n",
            "\u001b[1m\u001b[33mमुशर्रफ\u001b[0m \u001b[1m\u001b[35mसऊदी\u001b[0m \u001b[1m\u001b[33mअरब\u001b[0m \u001b[1m\u001b[35mको\u001b[0m \u001b[1m\u001b[36mमनाएंगे\u001b[0m \n",
            "----------------------------------------\n"
          ],
          "name": "stdout"
        }
      ]
    },
    {
      "cell_type": "markdown",
      "metadata": {
        "id": "a4bU2zmP2qYY"
      },
      "source": [
        "### DBscan"
      ]
    },
    {
      "cell_type": "code",
      "metadata": {
        "colab": {
          "base_uri": "https://localhost:8080/"
        },
        "id": "9xYOUv9X2qif",
        "outputId": "c0444462-8c3e-4676-c88c-33c9300fa4e2"
      },
      "source": [
        "chunked_sentence_labels = DBscan_clustering(fasttext_pos_vectors)\n",
        "print_chunked_sentences(sentences, chunked_sentence_labels, output_display_count)"
      ],
      "execution_count": 98,
      "outputs": [
        {
          "output_type": "stream",
          "text": [
            "\u001b[1m\u001b[31mपूर्ण\u001b[0m \u001b[1m\u001b[31mप्रतिबंध\u001b[0m \u001b[1m\u001b[31mहटाओ\u001b[0m \u001b[1m\u001b[31m:\u001b[0m \u001b[1m\u001b[31mइराक\u001b[0m \n",
            "----------------------------------------\n",
            "\u001b[1m\u001b[31mइराक\u001b[0m \u001b[1m\u001b[36mके\u001b[0m \u001b[1m\u001b[31mविदेश\u001b[0m \u001b[1m\u001b[31mमंत्री\u001b[0m \u001b[1m\u001b[31mने\u001b[0m \u001b[1m\u001b[31mअमरीका\u001b[0m \u001b[1m\u001b[36mके\u001b[0m \u001b[1m\u001b[31mउस\u001b[0m \u001b[1m\u001b[31mप्रस्ताव\u001b[0m \u001b[1m\u001b[31mका\u001b[0m \u001b[1m\u001b[31mमजाक\u001b[0m \u001b[1m\u001b[31mउड़ाया\u001b[0m \u001b[1m\u001b[31mहै\u001b[0m \u001b[1m\u001b[31m,\u001b[0m \u001b[1m\u001b[31mजिसमें\u001b[0m \u001b[1m\u001b[31mअमरीका\u001b[0m \u001b[1m\u001b[31mने\u001b[0m \u001b[1m\u001b[31mसंयुक्त\u001b[0m \u001b[1m\u001b[31mराष्ट्र\u001b[0m \u001b[1m\u001b[36mके\u001b[0m \u001b[1m\u001b[31mप्रतिबंधों\u001b[0m \u001b[1m\u001b[31mको\u001b[0m \u001b[1m\u001b[31mइराकी\u001b[0m \u001b[1m\u001b[31mनागरिकों\u001b[0m \u001b[1m\u001b[36mके\u001b[0m \u001b[1m\u001b[31mलिए\u001b[0m \u001b[1m\u001b[31mकम\u001b[0m \u001b[1m\u001b[31mहानिकारक\u001b[0m \u001b[1m\u001b[31mबनाने\u001b[0m \u001b[1m\u001b[36mके\u001b[0m \u001b[1m\u001b[31mलिए\u001b[0m \u001b[1m\u001b[31mकहा\u001b[0m \u001b[1m\u001b[31mहै\u001b[0m \u001b[1m\u001b[31m।\u001b[0m \n",
            "----------------------------------------\n",
            "\u001b[1m\u001b[31mविदेश\u001b[0m \u001b[1m\u001b[31mमंत्री\u001b[0m \u001b[1m\u001b[31mका\u001b[0m \u001b[1m\u001b[31mकहना\u001b[0m \u001b[1m\u001b[31mहै\u001b[0m \u001b[1m\u001b[31mकि\u001b[0m \u001b[1m\u001b[31mचूंकि\u001b[0m \u001b[1m\u001b[31mबगदाद\u001b[0m \u001b[1m\u001b[31mसंयुक्त\u001b[0m \u001b[1m\u001b[31mराष्ट्र\u001b[0m \u001b[1m\u001b[31mकी\u001b[0m \u001b[1m\u001b[31mमांगों\u001b[0m \u001b[1m\u001b[31mका\u001b[0m \u001b[1m\u001b[31mपालन\u001b[0m \u001b[1m\u001b[31mकरते\u001b[0m \u001b[1m\u001b[31mहुए\u001b[0m \u001b[1m\u001b[31mअपने\u001b[0m \u001b[1m\u001b[31mभारी\u001b[0m \u001b[1m\u001b[31mविनाशकारी\u001b[0m \u001b[1m\u001b[31mहथियारों\u001b[0m \u001b[1m\u001b[31mको\u001b[0m \u001b[1m\u001b[31mनष्ट\u001b[0m \u001b[1m\u001b[31mकर\u001b[0m \u001b[1m\u001b[31mरहा\u001b[0m \u001b[1m\u001b[31mहै\u001b[0m \u001b[1m\u001b[31m।\u001b[0m \n",
            "----------------------------------------\n",
            "\u001b[1m\u001b[31mलिहाजा\u001b[0m \u001b[1m\u001b[31mप्रतिबंधों\u001b[0m \u001b[1m\u001b[31mको\u001b[0m \u001b[1m\u001b[31mपूर्ण\u001b[0m \u001b[1m\u001b[31mरूप\u001b[0m \u001b[1m\u001b[31mसे\u001b[0m \u001b[1m\u001b[31mउठा\u001b[0m \u001b[1m\u001b[31mदिया\u001b[0m \u001b[1m\u001b[31mजाना\u001b[0m \u001b[1m\u001b[31mचाहिए\u001b[0m \u001b[1m\u001b[31m।\u001b[0m \n",
            "----------------------------------------\n",
            "\u001b[1m\u001b[31mविदेश\u001b[0m \u001b[1m\u001b[31mमंत्री\u001b[0m \u001b[1m\u001b[31mमोहम्मद\u001b[0m \u001b[1m\u001b[31mसईद\u001b[0m \u001b[1m\u001b[31mका\u001b[0m \u001b[1m\u001b[31mकहना\u001b[0m \u001b[1m\u001b[31mहै\u001b[0m \u001b[1m\u001b[31mकि\u001b[0m \u001b[1m\u001b[31mवे\u001b[0m \u001b[1m\u001b[31mइसे\u001b[0m \u001b[1m\u001b[31m'सुव्यवस्थित\u001b[0m \u001b[1m\u001b[31mप्रतिबंध'\u001b[0m \u001b[1m\u001b[31mकह\u001b[0m \u001b[1m\u001b[31mकर\u001b[0m \u001b[1m\u001b[31mआम\u001b[0m \u001b[1m\u001b[31mराय\u001b[0m \u001b[1m\u001b[31mऔर\u001b[0m \u001b[1m\u001b[31mसुरक्षा\u001b[0m \u001b[1m\u001b[31mपरिषद\u001b[0m \u001b[1m\u001b[31mको\u001b[0m \u001b[1m\u001b[31mछल\u001b[0m \u001b[1m\u001b[31mरहे\u001b[0m \u001b[1m\u001b[31mहैं\u001b[0m \u001b[1m\u001b[31m।\u001b[0m \n",
            "----------------------------------------\n",
            "\u001b[1m\u001b[31mपाकिस्तान\u001b[0m \u001b[1m\u001b[31mकी\u001b[0m \u001b[1m\u001b[31mपूर्व\u001b[0m \u001b[1m\u001b[31mप्रधानमंत्री\u001b[0m \u001b[1m\u001b[31mबेनजीर\u001b[0m \u001b[1m\u001b[31mभुट्टो\u001b[0m \u001b[1m\u001b[31mपर\u001b[0m \u001b[1m\u001b[31mलगे\u001b[0m \u001b[1m\u001b[31mभ्रष्टाचार\u001b[0m \u001b[1m\u001b[31mके\u001b[0m \u001b[1m\u001b[31mआरोपों\u001b[0m \u001b[1m\u001b[31mके\u001b[0m \u001b[1m\u001b[31mखिलाफ\u001b[0m \u001b[1m\u001b[31mभुट्टो\u001b[0m \u001b[1m\u001b[31mद्वारा\u001b[0m \u001b[1m\u001b[31mदायर\u001b[0m \u001b[1m\u001b[31mकी\u001b[0m \u001b[1m\u001b[31mगई\u001b[0m \u001b[1m\u001b[31mयाचिका\u001b[0m \u001b[1m\u001b[31mकी\u001b[0m \u001b[1m\u001b[31mसुनवाई\u001b[0m \u001b[1m\u001b[31mमंगलवार\u001b[0m \u001b[1m\u001b[31mको\u001b[0m \u001b[1m\u001b[31mवकीलों\u001b[0m \u001b[1m\u001b[31mकी\u001b[0m \u001b[1m\u001b[31mहड़ताल\u001b[0m \u001b[1m\u001b[31mके\u001b[0m \u001b[1m\u001b[31mकारण\u001b[0m \u001b[1m\u001b[31mस्थगित\u001b[0m \u001b[1m\u001b[31mकर\u001b[0m \u001b[1m\u001b[31mदी\u001b[0m \u001b[1m\u001b[31mगई\u001b[0m \u001b[1m\u001b[31m।\u001b[0m \n",
            "----------------------------------------\n",
            "\u001b[1m\u001b[31mसिंध\u001b[0m \u001b[1m\u001b[31mहाईकोर्ट\u001b[0m \u001b[1m\u001b[31mबार\u001b[0m \u001b[1m\u001b[31mएसोसिएशन\u001b[0m \u001b[1m\u001b[31mके\u001b[0m \u001b[1m\u001b[31mअध्यक्ष\u001b[0m \u001b[1m\u001b[31mरशीद\u001b[0m \u001b[1m\u001b[31mरिजवी\u001b[0m \u001b[1m\u001b[31mके\u001b[0m \u001b[1m\u001b[31mमुताबिक\u001b[0m \u001b[1m\u001b[31mयह\u001b[0m \u001b[1m\u001b[31mहड़ताल\u001b[0m \u001b[1m\u001b[31mउच्च\u001b[0m \u001b[1m\u001b[31mन्यायालय\u001b[0m \u001b[1m\u001b[31mऔर\u001b[0m \u001b[1m\u001b[31mनिचली\u001b[0m \u001b[1m\u001b[31mअदालतों\u001b[0m \u001b[1m\u001b[31mके\u001b[0m \u001b[1m\u001b[31mस्तर\u001b[0m \u001b[1m\u001b[31mपर\u001b[0m \u001b[1m\u001b[31mसफल\u001b[0m \u001b[1m\u001b[31mरही\u001b[0m \u001b[1m\u001b[31m।\u001b[0m \n",
            "----------------------------------------\n",
            "\u001b[1m\u001b[31mदेश\u001b[0m \u001b[1m\u001b[31mमें\u001b[0m \u001b[1m\u001b[31mपुन\u001b[0m \u001b[1m\u001b[31m:\u001b[0m \u001b[1m\u001b[31mप्रजातंत्र\u001b[0m \u001b[1m\u001b[31mकी\u001b[0m \u001b[1m\u001b[31mस्थापना\u001b[0m \u001b[1m\u001b[31mकी\u001b[0m \u001b[1m\u001b[31mमांग\u001b[0m \u001b[1m\u001b[31mको\u001b[0m \u001b[1m\u001b[31mलेकर\u001b[0m \u001b[1m\u001b[31mयह\u001b[0m \u001b[1m\u001b[31mहड़ताल\u001b[0m \u001b[1m\u001b[31mकी\u001b[0m \u001b[1m\u001b[31mगई\u001b[0m \u001b[1m\u001b[31mथी\u001b[0m \u001b[1m\u001b[31m।\u001b[0m \n",
            "----------------------------------------\n",
            "\u001b[1m\u001b[31mसुप्रीम\u001b[0m \u001b[1m\u001b[31mकोर्ट\u001b[0m \u001b[1m\u001b[31mमें\u001b[0m \u001b[1m\u001b[31mभुट्टो\u001b[0m \u001b[1m\u001b[31mके\u001b[0m \u001b[1m\u001b[31mउक्त\u001b[0m \u001b[1m\u001b[31mमामले\u001b[0m \u001b[1m\u001b[31mकी\u001b[0m \u001b[1m\u001b[31mसुनवाई\u001b[0m \u001b[1m\u001b[31mसोमवार\u001b[0m \u001b[1m\u001b[31mसे\u001b[0m \u001b[1m\u001b[31mशुरू\u001b[0m \u001b[1m\u001b[31mहुई\u001b[0m \u001b[1m\u001b[31m,\u001b[0m \u001b[1m\u001b[31mजो\u001b[0m \u001b[1m\u001b[31mफिलहाल\u001b[0m \u001b[1m\u001b[31mबुधवार\u001b[0m \u001b[1m\u001b[31mतक\u001b[0m \u001b[1m\u001b[31mस्थगित\u001b[0m \u001b[1m\u001b[31mहै\u001b[0m \u001b[1m\u001b[31m।\u001b[0m \n",
            "----------------------------------------\n",
            "\u001b[1m\u001b[31mमुशर्रफ\u001b[0m \u001b[1m\u001b[31mसऊदी\u001b[0m \u001b[1m\u001b[31mअरब\u001b[0m \u001b[1m\u001b[31mको\u001b[0m \u001b[1m\u001b[31mमनाएंगे\u001b[0m \n",
            "----------------------------------------\n"
          ],
          "name": "stdout"
        }
      ]
    },
    {
      "cell_type": "markdown",
      "metadata": {
        "id": "KEPm-rXY5agB"
      },
      "source": [
        "### Agglomerative clustering"
      ]
    },
    {
      "cell_type": "code",
      "metadata": {
        "colab": {
          "base_uri": "https://localhost:8080/"
        },
        "id": "pKCHv_m35anh",
        "outputId": "8aa4f83d-9b6f-4ad4-cce8-2da9460151be"
      },
      "source": [
        "chunked_sentence_labels = agglomerative_clustering(fasttext_pos_vectors, cluster_count)\n",
        "print_chunked_sentences(sentences, chunked_sentence_labels, output_display_count)"
      ],
      "execution_count": 99,
      "outputs": [
        {
          "output_type": "stream",
          "text": [
            "\u001b[1m\u001b[36mपूर्ण\u001b[0m \u001b[1m\u001b[36mप्रतिबंध\u001b[0m \u001b[1m\u001b[32mहटाओ\u001b[0m \u001b[1m\u001b[31m:\u001b[0m \u001b[1m\u001b[36mइराक\u001b[0m \n",
            "----------------------------------------\n",
            "\u001b[1m\u001b[31mइराक\u001b[0m \u001b[1m\u001b[36mके\u001b[0m \u001b[1m\u001b[31mविदेश\u001b[0m \u001b[1m\u001b[31mमंत्री\u001b[0m \u001b[1m\u001b[36mने\u001b[0m \u001b[1m\u001b[31mअमरीका\u001b[0m \u001b[1m\u001b[36mके\u001b[0m \u001b[1m\u001b[32mउस\u001b[0m \u001b[1m\u001b[31mप्रस्ताव\u001b[0m \u001b[1m\u001b[36mका\u001b[0m \u001b[1m\u001b[31mमजाक\u001b[0m \u001b[1m\u001b[31mउड़ाया\u001b[0m \u001b[1m\u001b[32mहै\u001b[0m \u001b[1m\u001b[32m,\u001b[0m \u001b[1m\u001b[31mजिसमें\u001b[0m \u001b[1m\u001b[31mअमरीका\u001b[0m \u001b[1m\u001b[36mने\u001b[0m \u001b[1m\u001b[31mसंयुक्त\u001b[0m \u001b[1m\u001b[31mराष्ट्र\u001b[0m \u001b[1m\u001b[36mके\u001b[0m \u001b[1m\u001b[31mप्रतिबंधों\u001b[0m \u001b[1m\u001b[36mको\u001b[0m \u001b[1m\u001b[31mइराकी\u001b[0m \u001b[1m\u001b[31mनागरिकों\u001b[0m \u001b[1m\u001b[36mके\u001b[0m \u001b[1m\u001b[36mलिए\u001b[0m \u001b[1m\u001b[32mकम\u001b[0m \u001b[1m\u001b[31mहानिकारक\u001b[0m \u001b[1m\u001b[31mबनाने\u001b[0m \u001b[1m\u001b[36mके\u001b[0m \u001b[1m\u001b[36mलिए\u001b[0m \u001b[1m\u001b[31mकहा\u001b[0m \u001b[1m\u001b[32mहै\u001b[0m \u001b[1m\u001b[32m।\u001b[0m \n",
            "----------------------------------------\n",
            "\u001b[1m\u001b[36mविदेश\u001b[0m \u001b[1m\u001b[36mमंत्री\u001b[0m \u001b[1m\u001b[31mका\u001b[0m \u001b[1m\u001b[36mकहना\u001b[0m \u001b[1m\u001b[32mहै\u001b[0m \u001b[1m\u001b[32mकि\u001b[0m \u001b[1m\u001b[36mचूंकि\u001b[0m \u001b[1m\u001b[36mबगदाद\u001b[0m \u001b[1m\u001b[36mसंयुक्त\u001b[0m \u001b[1m\u001b[36mराष्ट्र\u001b[0m \u001b[1m\u001b[31mकी\u001b[0m \u001b[1m\u001b[36mमांगों\u001b[0m \u001b[1m\u001b[31mका\u001b[0m \u001b[1m\u001b[36mपालन\u001b[0m \u001b[1m\u001b[36mकरते\u001b[0m \u001b[1m\u001b[32mहुए\u001b[0m \u001b[1m\u001b[36mअपने\u001b[0m \u001b[1m\u001b[36mभारी\u001b[0m \u001b[1m\u001b[36mविनाशकारी\u001b[0m \u001b[1m\u001b[36mहथियारों\u001b[0m \u001b[1m\u001b[31mको\u001b[0m \u001b[1m\u001b[36mनष्ट\u001b[0m \u001b[1m\u001b[32mकर\u001b[0m \u001b[1m\u001b[32mरहा\u001b[0m \u001b[1m\u001b[32mहै\u001b[0m \u001b[1m\u001b[32m।\u001b[0m \n",
            "----------------------------------------\n",
            "\u001b[1m\u001b[36mलिहाजा\u001b[0m \u001b[1m\u001b[36mप्रतिबंधों\u001b[0m \u001b[1m\u001b[31mको\u001b[0m \u001b[1m\u001b[36mपूर्ण\u001b[0m \u001b[1m\u001b[36mरूप\u001b[0m \u001b[1m\u001b[31mसे\u001b[0m \u001b[1m\u001b[36mउठा\u001b[0m \u001b[1m\u001b[32mदिया\u001b[0m \u001b[1m\u001b[32mजाना\u001b[0m \u001b[1m\u001b[32mचाहिए\u001b[0m \u001b[1m\u001b[36m।\u001b[0m \n",
            "----------------------------------------\n",
            "\u001b[1m\u001b[32mविदेश\u001b[0m \u001b[1m\u001b[32mमंत्री\u001b[0m \u001b[1m\u001b[32mमोहम्मद\u001b[0m \u001b[1m\u001b[32mसईद\u001b[0m \u001b[1m\u001b[36mका\u001b[0m \u001b[1m\u001b[32mकहना\u001b[0m \u001b[1m\u001b[36mहै\u001b[0m \u001b[1m\u001b[36mकि\u001b[0m \u001b[1m\u001b[36mवे\u001b[0m \u001b[1m\u001b[32mइसे\u001b[0m \u001b[1m\u001b[32m'सुव्यवस्थित\u001b[0m \u001b[1m\u001b[32mप्रतिबंध'\u001b[0m \u001b[1m\u001b[36mकह\u001b[0m \u001b[1m\u001b[36mकर\u001b[0m \u001b[1m\u001b[36mआम\u001b[0m \u001b[1m\u001b[32mराय\u001b[0m \u001b[1m\u001b[36mऔर\u001b[0m \u001b[1m\u001b[32mसुरक्षा\u001b[0m \u001b[1m\u001b[32mपरिषद\u001b[0m \u001b[1m\u001b[36mको\u001b[0m \u001b[1m\u001b[31mछल\u001b[0m \u001b[1m\u001b[32mरहे\u001b[0m \u001b[1m\u001b[36mहैं\u001b[0m \u001b[1m\u001b[36m।\u001b[0m \n",
            "----------------------------------------\n",
            "\u001b[1m\u001b[36mपाकिस्तान\u001b[0m \u001b[1m\u001b[31mकी\u001b[0m \u001b[1m\u001b[36mपूर्व\u001b[0m \u001b[1m\u001b[36mप्रधानमंत्री\u001b[0m \u001b[1m\u001b[36mबेनजीर\u001b[0m \u001b[1m\u001b[36mभुट्टो\u001b[0m \u001b[1m\u001b[31mपर\u001b[0m \u001b[1m\u001b[36mलगे\u001b[0m \u001b[1m\u001b[36mभ्रष्टाचार\u001b[0m \u001b[1m\u001b[31mके\u001b[0m \u001b[1m\u001b[36mआरोपों\u001b[0m \u001b[1m\u001b[31mके\u001b[0m \u001b[1m\u001b[36mखिलाफ\u001b[0m \u001b[1m\u001b[36mभुट्टो\u001b[0m \u001b[1m\u001b[36mद्वारा\u001b[0m \u001b[1m\u001b[36mदायर\u001b[0m \u001b[1m\u001b[31mकी\u001b[0m \u001b[1m\u001b[32mगई\u001b[0m \u001b[1m\u001b[36mयाचिका\u001b[0m \u001b[1m\u001b[31mकी\u001b[0m \u001b[1m\u001b[36mसुनवाई\u001b[0m \u001b[1m\u001b[36mमंगलवार\u001b[0m \u001b[1m\u001b[31mको\u001b[0m \u001b[1m\u001b[36mवकीलों\u001b[0m \u001b[1m\u001b[31mकी\u001b[0m \u001b[1m\u001b[36mहड़ताल\u001b[0m \u001b[1m\u001b[31mके\u001b[0m \u001b[1m\u001b[36mकारण\u001b[0m \u001b[1m\u001b[36mस्थगित\u001b[0m \u001b[1m\u001b[36mकर\u001b[0m \u001b[1m\u001b[32mदी\u001b[0m \u001b[1m\u001b[32mगई\u001b[0m \u001b[1m\u001b[36m।\u001b[0m \n",
            "----------------------------------------\n",
            "\u001b[1m\u001b[32mसिंध\u001b[0m \u001b[1m\u001b[32mहाईकोर्ट\u001b[0m \u001b[1m\u001b[32mबार\u001b[0m \u001b[1m\u001b[36mएसोसिएशन\u001b[0m \u001b[1m\u001b[31mके\u001b[0m \u001b[1m\u001b[36mअध्यक्ष\u001b[0m \u001b[1m\u001b[32mरशीद\u001b[0m \u001b[1m\u001b[36mरिजवी\u001b[0m \u001b[1m\u001b[31mके\u001b[0m \u001b[1m\u001b[31mमुताबिक\u001b[0m \u001b[1m\u001b[36mयह\u001b[0m \u001b[1m\u001b[36mहड़ताल\u001b[0m \u001b[1m\u001b[32mउच्च\u001b[0m \u001b[1m\u001b[36mन्यायालय\u001b[0m \u001b[1m\u001b[36mऔर\u001b[0m \u001b[1m\u001b[36mनिचली\u001b[0m \u001b[1m\u001b[36mअदालतों\u001b[0m \u001b[1m\u001b[31mके\u001b[0m \u001b[1m\u001b[36mस्तर\u001b[0m \u001b[1m\u001b[31mपर\u001b[0m \u001b[1m\u001b[36mसफल\u001b[0m \u001b[1m\u001b[36mरही\u001b[0m \u001b[1m\u001b[36m।\u001b[0m \n",
            "----------------------------------------\n",
            "\u001b[1m\u001b[31mदेश\u001b[0m \u001b[1m\u001b[36mमें\u001b[0m \u001b[1m\u001b[36mपुन\u001b[0m \u001b[1m\u001b[36m:\u001b[0m \u001b[1m\u001b[31mप्रजातंत्र\u001b[0m \u001b[1m\u001b[36mकी\u001b[0m \u001b[1m\u001b[31mस्थापना\u001b[0m \u001b[1m\u001b[36mकी\u001b[0m \u001b[1m\u001b[31mमांग\u001b[0m \u001b[1m\u001b[36mको\u001b[0m \u001b[1m\u001b[36mलेकर\u001b[0m \u001b[1m\u001b[36mयह\u001b[0m \u001b[1m\u001b[31mहड़ताल\u001b[0m \u001b[1m\u001b[36mकी\u001b[0m \u001b[1m\u001b[32mगई\u001b[0m \u001b[1m\u001b[32mथी\u001b[0m \u001b[1m\u001b[36m।\u001b[0m \n",
            "----------------------------------------\n",
            "\u001b[1m\u001b[36mसुप्रीम\u001b[0m \u001b[1m\u001b[36mकोर्ट\u001b[0m \u001b[1m\u001b[31mमें\u001b[0m \u001b[1m\u001b[36mभुट्टो\u001b[0m \u001b[1m\u001b[31mके\u001b[0m \u001b[1m\u001b[36mउक्त\u001b[0m \u001b[1m\u001b[36mमामले\u001b[0m \u001b[1m\u001b[31mकी\u001b[0m \u001b[1m\u001b[36mसुनवाई\u001b[0m \u001b[1m\u001b[36mसोमवार\u001b[0m \u001b[1m\u001b[31mसे\u001b[0m \u001b[1m\u001b[36mशुरू\u001b[0m \u001b[1m\u001b[32mहुई\u001b[0m \u001b[1m\u001b[32m,\u001b[0m \u001b[1m\u001b[32mजो\u001b[0m \u001b[1m\u001b[36mफिलहाल\u001b[0m \u001b[1m\u001b[36mबुधवार\u001b[0m \u001b[1m\u001b[31mतक\u001b[0m \u001b[1m\u001b[36mस्थगित\u001b[0m \u001b[1m\u001b[32mहै\u001b[0m \u001b[1m\u001b[32m।\u001b[0m \n",
            "----------------------------------------\n",
            "\u001b[1m\u001b[36mमुशर्रफ\u001b[0m \u001b[1m\u001b[32mसऊदी\u001b[0m \u001b[1m\u001b[36mअरब\u001b[0m \u001b[1m\u001b[31mको\u001b[0m \u001b[1m\u001b[36mमनाएंगे\u001b[0m \n",
            "----------------------------------------\n"
          ],
          "name": "stdout"
        }
      ]
    },
    {
      "cell_type": "markdown",
      "metadata": {
        "id": "aZ_jD294Dufi"
      },
      "source": [
        "## Position + Fasttext + POS"
      ]
    },
    {
      "cell_type": "code",
      "metadata": {
        "id": "jqI6cHGDDufl"
      },
      "source": [
        "position_fasttext_pos = []\n",
        "for index in range(len(fasttext_pos_vectors)):\n",
        "    position_array = np.array([i for i in range(fasttext_pos_vectors[index].shape[0])]).reshape((-1,1))\n",
        "    position_fasttext_pos.append(np.hstack((position_array, fasttext_pos_vectors[index])))\n"
      ],
      "execution_count": 100,
      "outputs": []
    },
    {
      "cell_type": "markdown",
      "metadata": {
        "id": "iRcUle5UDugB"
      },
      "source": [
        "### K means"
      ]
    },
    {
      "cell_type": "code",
      "metadata": {
        "colab": {
          "base_uri": "https://localhost:8080/"
        },
        "id": "SsNoMQZSDugC",
        "outputId": "f87914f8-7331-4616-f2df-a9df431fc10d"
      },
      "source": [
        "chunked_sentence_labels = k_means_clustering(position_fasttext_pos, cluster_count)\n",
        "print_chunked_sentences(sentences, chunked_sentence_labels, output_display_count)"
      ],
      "execution_count": 101,
      "outputs": [
        {
          "output_type": "stream",
          "text": [
            "\u001b[1m\u001b[33mपूर्ण\u001b[0m \u001b[1m\u001b[31mप्रतिबंध\u001b[0m \u001b[1m\u001b[34mहटाओ\u001b[0m \u001b[1m\u001b[31m:\u001b[0m \u001b[1m\u001b[31mइराक\u001b[0m \n",
            "----------------------------------------\n",
            "\u001b[1m\u001b[31mइराक\u001b[0m \u001b[1m\u001b[34mके\u001b[0m \u001b[1m\u001b[31mविदेश\u001b[0m \u001b[1m\u001b[33mमंत्री\u001b[0m \u001b[1m\u001b[34mने\u001b[0m \u001b[1m\u001b[31mअमरीका\u001b[0m \u001b[1m\u001b[34mके\u001b[0m \u001b[1m\u001b[31mउस\u001b[0m \u001b[1m\u001b[33mप्रस्ताव\u001b[0m \u001b[1m\u001b[34mका\u001b[0m \u001b[1m\u001b[31mमजाक\u001b[0m \u001b[1m\u001b[31mउड़ाया\u001b[0m \u001b[1m\u001b[31mहै\u001b[0m \u001b[1m\u001b[31m,\u001b[0m \u001b[1m\u001b[31mजिसमें\u001b[0m \u001b[1m\u001b[31mअमरीका\u001b[0m \u001b[1m\u001b[34mने\u001b[0m \u001b[1m\u001b[31mसंयुक्त\u001b[0m \u001b[1m\u001b[33mराष्ट्र\u001b[0m \u001b[1m\u001b[34mके\u001b[0m \u001b[1m\u001b[33mप्रतिबंधों\u001b[0m \u001b[1m\u001b[34mको\u001b[0m \u001b[1m\u001b[31mइराकी\u001b[0m \u001b[1m\u001b[33mनागरिकों\u001b[0m \u001b[1m\u001b[34mके\u001b[0m \u001b[1m\u001b[34mलिए\u001b[0m \u001b[1m\u001b[31mकम\u001b[0m \u001b[1m\u001b[31mहानिकारक\u001b[0m \u001b[1m\u001b[31mबनाने\u001b[0m \u001b[1m\u001b[34mके\u001b[0m \u001b[1m\u001b[34mलिए\u001b[0m \u001b[1m\u001b[31mकहा\u001b[0m \u001b[1m\u001b[31mहै\u001b[0m \u001b[1m\u001b[31m।\u001b[0m \n",
            "----------------------------------------\n",
            "\u001b[1m\u001b[31mविदेश\u001b[0m \u001b[1m\u001b[33mमंत्री\u001b[0m \u001b[1m\u001b[31mका\u001b[0m \u001b[1m\u001b[31mकहना\u001b[0m \u001b[1m\u001b[34mहै\u001b[0m \u001b[1m\u001b[31mकि\u001b[0m \u001b[1m\u001b[31mचूंकि\u001b[0m \u001b[1m\u001b[31mबगदाद\u001b[0m \u001b[1m\u001b[31mसंयुक्त\u001b[0m \u001b[1m\u001b[33mराष्ट्र\u001b[0m \u001b[1m\u001b[31mकी\u001b[0m \u001b[1m\u001b[33mमांगों\u001b[0m \u001b[1m\u001b[31mका\u001b[0m \u001b[1m\u001b[31mपालन\u001b[0m \u001b[1m\u001b[31mकरते\u001b[0m \u001b[1m\u001b[34mहुए\u001b[0m \u001b[1m\u001b[31mअपने\u001b[0m \u001b[1m\u001b[31mभारी\u001b[0m \u001b[1m\u001b[31mविनाशकारी\u001b[0m \u001b[1m\u001b[33mहथियारों\u001b[0m \u001b[1m\u001b[31mको\u001b[0m \u001b[1m\u001b[31mनष्ट\u001b[0m \u001b[1m\u001b[31mकर\u001b[0m \u001b[1m\u001b[34mरहा\u001b[0m \u001b[1m\u001b[34mहै\u001b[0m \u001b[1m\u001b[31m।\u001b[0m \n",
            "----------------------------------------\n",
            "\u001b[1m\u001b[31mलिहाजा\u001b[0m \u001b[1m\u001b[33mप्रतिबंधों\u001b[0m \u001b[1m\u001b[31mको\u001b[0m \u001b[1m\u001b[31mपूर्ण\u001b[0m \u001b[1m\u001b[33mरूप\u001b[0m \u001b[1m\u001b[31mसे\u001b[0m \u001b[1m\u001b[31mउठा\u001b[0m \u001b[1m\u001b[34mदिया\u001b[0m \u001b[1m\u001b[34mजाना\u001b[0m \u001b[1m\u001b[34mचाहिए\u001b[0m \u001b[1m\u001b[31m।\u001b[0m \n",
            "----------------------------------------\n",
            "\u001b[1m\u001b[34mविदेश\u001b[0m \u001b[1m\u001b[33mमंत्री\u001b[0m \u001b[1m\u001b[31mमोहम्मद\u001b[0m \u001b[1m\u001b[31mसईद\u001b[0m \u001b[1m\u001b[31mका\u001b[0m \u001b[1m\u001b[31mकहना\u001b[0m \u001b[1m\u001b[31mहै\u001b[0m \u001b[1m\u001b[31mकि\u001b[0m \u001b[1m\u001b[31mवे\u001b[0m \u001b[1m\u001b[31mइसे\u001b[0m \u001b[1m\u001b[31m'सुव्यवस्थित\u001b[0m \u001b[1m\u001b[33mप्रतिबंध'\u001b[0m \u001b[1m\u001b[31mकह\u001b[0m \u001b[1m\u001b[31mकर\u001b[0m \u001b[1m\u001b[31mआम\u001b[0m \u001b[1m\u001b[33mराय\u001b[0m \u001b[1m\u001b[31mऔर\u001b[0m \u001b[1m\u001b[34mसुरक्षा\u001b[0m \u001b[1m\u001b[33mपरिषद\u001b[0m \u001b[1m\u001b[31mको\u001b[0m \u001b[1m\u001b[31mछल\u001b[0m \u001b[1m\u001b[31mरहे\u001b[0m \u001b[1m\u001b[31mहैं\u001b[0m \u001b[1m\u001b[31m।\u001b[0m \n",
            "----------------------------------------\n",
            "\u001b[1m\u001b[31mपाकिस्तान\u001b[0m \u001b[1m\u001b[34mकी\u001b[0m \u001b[1m\u001b[31mपूर्व\u001b[0m \u001b[1m\u001b[33mप्रधानमंत्री\u001b[0m \u001b[1m\u001b[31mबेनजीर\u001b[0m \u001b[1m\u001b[31mभुट्टो\u001b[0m \u001b[1m\u001b[34mपर\u001b[0m \u001b[1m\u001b[31mलगे\u001b[0m \u001b[1m\u001b[33mभ्रष्टाचार\u001b[0m \u001b[1m\u001b[34mके\u001b[0m \u001b[1m\u001b[33mआरोपों\u001b[0m \u001b[1m\u001b[34mके\u001b[0m \u001b[1m\u001b[34mखिलाफ\u001b[0m \u001b[1m\u001b[31mभुट्टो\u001b[0m \u001b[1m\u001b[34mद्वारा\u001b[0m \u001b[1m\u001b[31mदायर\u001b[0m \u001b[1m\u001b[31mकी\u001b[0m \u001b[1m\u001b[31mगई\u001b[0m \u001b[1m\u001b[33mयाचिका\u001b[0m \u001b[1m\u001b[34mकी\u001b[0m \u001b[1m\u001b[33mसुनवाई\u001b[0m \u001b[1m\u001b[33mमंगलवार\u001b[0m \u001b[1m\u001b[34mको\u001b[0m \u001b[1m\u001b[33mवकीलों\u001b[0m \u001b[1m\u001b[34mकी\u001b[0m \u001b[1m\u001b[33mहड़ताल\u001b[0m \u001b[1m\u001b[34mके\u001b[0m \u001b[1m\u001b[34mकारण\u001b[0m \u001b[1m\u001b[31mस्थगित\u001b[0m \u001b[1m\u001b[31mकर\u001b[0m \u001b[1m\u001b[31mदी\u001b[0m \u001b[1m\u001b[31mगई\u001b[0m \u001b[1m\u001b[31m।\u001b[0m \n",
            "----------------------------------------\n",
            "\u001b[1m\u001b[31mसिंध\u001b[0m \u001b[1m\u001b[31mहाईकोर्ट\u001b[0m \u001b[1m\u001b[31mबार\u001b[0m \u001b[1m\u001b[31mएसोसिएशन\u001b[0m \u001b[1m\u001b[34mके\u001b[0m \u001b[1m\u001b[33mअध्यक्ष\u001b[0m \u001b[1m\u001b[31mरशीद\u001b[0m \u001b[1m\u001b[31mरिजवी\u001b[0m \u001b[1m\u001b[34mके\u001b[0m \u001b[1m\u001b[34mमुताबिक\u001b[0m \u001b[1m\u001b[31mयह\u001b[0m \u001b[1m\u001b[33mहड़ताल\u001b[0m \u001b[1m\u001b[31mउच्च\u001b[0m \u001b[1m\u001b[31mन्यायालय\u001b[0m \u001b[1m\u001b[31mऔर\u001b[0m \u001b[1m\u001b[31mनिचली\u001b[0m \u001b[1m\u001b[33mअदालतों\u001b[0m \u001b[1m\u001b[34mके\u001b[0m \u001b[1m\u001b[33mस्तर\u001b[0m \u001b[1m\u001b[34mपर\u001b[0m \u001b[1m\u001b[31mसफल\u001b[0m \u001b[1m\u001b[31mरही\u001b[0m \u001b[1m\u001b[31m।\u001b[0m \n",
            "----------------------------------------\n",
            "\u001b[1m\u001b[31mदेश\u001b[0m \u001b[1m\u001b[33mमें\u001b[0m \u001b[1m\u001b[31mपुन\u001b[0m \u001b[1m\u001b[31m:\u001b[0m \u001b[1m\u001b[31mप्रजातंत्र\u001b[0m \u001b[1m\u001b[33mकी\u001b[0m \u001b[1m\u001b[31mस्थापना\u001b[0m \u001b[1m\u001b[33mकी\u001b[0m \u001b[1m\u001b[31mमांग\u001b[0m \u001b[1m\u001b[33mको\u001b[0m \u001b[1m\u001b[31mलेकर\u001b[0m \u001b[1m\u001b[31mयह\u001b[0m \u001b[1m\u001b[31mहड़ताल\u001b[0m \u001b[1m\u001b[31mकी\u001b[0m \u001b[1m\u001b[34mगई\u001b[0m \u001b[1m\u001b[34mथी\u001b[0m \u001b[1m\u001b[31m।\u001b[0m \n",
            "----------------------------------------\n",
            "\u001b[1m\u001b[31mसुप्रीम\u001b[0m \u001b[1m\u001b[31mकोर्ट\u001b[0m \u001b[1m\u001b[33mमें\u001b[0m \u001b[1m\u001b[31mभुट्टो\u001b[0m \u001b[1m\u001b[33mके\u001b[0m \u001b[1m\u001b[31mउक्त\u001b[0m \u001b[1m\u001b[31mमामले\u001b[0m \u001b[1m\u001b[33mकी\u001b[0m \u001b[1m\u001b[31mसुनवाई\u001b[0m \u001b[1m\u001b[31mसोमवार\u001b[0m \u001b[1m\u001b[33mसे\u001b[0m \u001b[1m\u001b[31mशुरू\u001b[0m \u001b[1m\u001b[31mहुई\u001b[0m \u001b[1m\u001b[34m,\u001b[0m \u001b[1m\u001b[31mजो\u001b[0m \u001b[1m\u001b[31mफिलहाल\u001b[0m \u001b[1m\u001b[31mबुधवार\u001b[0m \u001b[1m\u001b[33mतक\u001b[0m \u001b[1m\u001b[31mस्थगित\u001b[0m \u001b[1m\u001b[31mहै\u001b[0m \u001b[1m\u001b[34m।\u001b[0m \n",
            "----------------------------------------\n",
            "\u001b[1m\u001b[33mमुशर्रफ\u001b[0m \u001b[1m\u001b[31mसऊदी\u001b[0m \u001b[1m\u001b[33mअरब\u001b[0m \u001b[1m\u001b[31mको\u001b[0m \u001b[1m\u001b[34mमनाएंगे\u001b[0m \n",
            "----------------------------------------\n"
          ],
          "name": "stdout"
        }
      ]
    },
    {
      "cell_type": "markdown",
      "metadata": {
        "id": "fcfF5PsoDugE"
      },
      "source": [
        "### DBscan"
      ]
    },
    {
      "cell_type": "code",
      "metadata": {
        "colab": {
          "base_uri": "https://localhost:8080/"
        },
        "id": "oT2cG_KuDugE",
        "outputId": "8e9d286e-46c1-404a-f124-ea3771a7ba80"
      },
      "source": [
        "chunked_sentence_labels = DBscan_clustering(position_fasttext_pos)\n",
        "print_chunked_sentences(sentences, chunked_sentence_labels, output_display_count)"
      ],
      "execution_count": 102,
      "outputs": [
        {
          "output_type": "stream",
          "text": [
            "\u001b[1m\u001b[36mपूर्ण\u001b[0m \u001b[1m\u001b[36mप्रतिबंध\u001b[0m \u001b[1m\u001b[36mहटाओ\u001b[0m \u001b[1m\u001b[36m:\u001b[0m \u001b[1m\u001b[36mइराक\u001b[0m \n",
            "----------------------------------------\n",
            "\u001b[1m\u001b[36mइराक\u001b[0m \u001b[1m\u001b[36mके\u001b[0m \u001b[1m\u001b[36mविदेश\u001b[0m \u001b[1m\u001b[36mमंत्री\u001b[0m \u001b[1m\u001b[36mने\u001b[0m \u001b[1m\u001b[36mअमरीका\u001b[0m \u001b[1m\u001b[36mके\u001b[0m \u001b[1m\u001b[36mउस\u001b[0m \u001b[1m\u001b[36mप्रस्ताव\u001b[0m \u001b[1m\u001b[36mका\u001b[0m \u001b[1m\u001b[36mमजाक\u001b[0m \u001b[1m\u001b[36mउड़ाया\u001b[0m \u001b[1m\u001b[36mहै\u001b[0m \u001b[1m\u001b[36m,\u001b[0m \u001b[1m\u001b[36mजिसमें\u001b[0m \u001b[1m\u001b[36mअमरीका\u001b[0m \u001b[1m\u001b[36mने\u001b[0m \u001b[1m\u001b[36mसंयुक्त\u001b[0m \u001b[1m\u001b[36mराष्ट्र\u001b[0m \u001b[1m\u001b[36mके\u001b[0m \u001b[1m\u001b[36mप्रतिबंधों\u001b[0m \u001b[1m\u001b[36mको\u001b[0m \u001b[1m\u001b[36mइराकी\u001b[0m \u001b[1m\u001b[36mनागरिकों\u001b[0m \u001b[1m\u001b[36mके\u001b[0m \u001b[1m\u001b[36mलिए\u001b[0m \u001b[1m\u001b[36mकम\u001b[0m \u001b[1m\u001b[36mहानिकारक\u001b[0m \u001b[1m\u001b[36mबनाने\u001b[0m \u001b[1m\u001b[36mके\u001b[0m \u001b[1m\u001b[36mलिए\u001b[0m \u001b[1m\u001b[36mकहा\u001b[0m \u001b[1m\u001b[36mहै\u001b[0m \u001b[1m\u001b[36m।\u001b[0m \n",
            "----------------------------------------\n",
            "\u001b[1m\u001b[36mविदेश\u001b[0m \u001b[1m\u001b[36mमंत्री\u001b[0m \u001b[1m\u001b[36mका\u001b[0m \u001b[1m\u001b[36mकहना\u001b[0m \u001b[1m\u001b[36mहै\u001b[0m \u001b[1m\u001b[36mकि\u001b[0m \u001b[1m\u001b[36mचूंकि\u001b[0m \u001b[1m\u001b[36mबगदाद\u001b[0m \u001b[1m\u001b[36mसंयुक्त\u001b[0m \u001b[1m\u001b[36mराष्ट्र\u001b[0m \u001b[1m\u001b[36mकी\u001b[0m \u001b[1m\u001b[36mमांगों\u001b[0m \u001b[1m\u001b[36mका\u001b[0m \u001b[1m\u001b[36mपालन\u001b[0m \u001b[1m\u001b[36mकरते\u001b[0m \u001b[1m\u001b[36mहुए\u001b[0m \u001b[1m\u001b[36mअपने\u001b[0m \u001b[1m\u001b[36mभारी\u001b[0m \u001b[1m\u001b[36mविनाशकारी\u001b[0m \u001b[1m\u001b[36mहथियारों\u001b[0m \u001b[1m\u001b[36mको\u001b[0m \u001b[1m\u001b[36mनष्ट\u001b[0m \u001b[1m\u001b[36mकर\u001b[0m \u001b[1m\u001b[36mरहा\u001b[0m \u001b[1m\u001b[36mहै\u001b[0m \u001b[1m\u001b[36m।\u001b[0m \n",
            "----------------------------------------\n",
            "\u001b[1m\u001b[36mलिहाजा\u001b[0m \u001b[1m\u001b[36mप्रतिबंधों\u001b[0m \u001b[1m\u001b[36mको\u001b[0m \u001b[1m\u001b[36mपूर्ण\u001b[0m \u001b[1m\u001b[36mरूप\u001b[0m \u001b[1m\u001b[36mसे\u001b[0m \u001b[1m\u001b[36mउठा\u001b[0m \u001b[1m\u001b[36mदिया\u001b[0m \u001b[1m\u001b[36mजाना\u001b[0m \u001b[1m\u001b[36mचाहिए\u001b[0m \u001b[1m\u001b[36m।\u001b[0m \n",
            "----------------------------------------\n",
            "\u001b[1m\u001b[36mविदेश\u001b[0m \u001b[1m\u001b[36mमंत्री\u001b[0m \u001b[1m\u001b[36mमोहम्मद\u001b[0m \u001b[1m\u001b[36mसईद\u001b[0m \u001b[1m\u001b[36mका\u001b[0m \u001b[1m\u001b[36mकहना\u001b[0m \u001b[1m\u001b[36mहै\u001b[0m \u001b[1m\u001b[36mकि\u001b[0m \u001b[1m\u001b[36mवे\u001b[0m \u001b[1m\u001b[36mइसे\u001b[0m \u001b[1m\u001b[36m'सुव्यवस्थित\u001b[0m \u001b[1m\u001b[36mप्रतिबंध'\u001b[0m \u001b[1m\u001b[36mकह\u001b[0m \u001b[1m\u001b[36mकर\u001b[0m \u001b[1m\u001b[36mआम\u001b[0m \u001b[1m\u001b[36mराय\u001b[0m \u001b[1m\u001b[36mऔर\u001b[0m \u001b[1m\u001b[36mसुरक्षा\u001b[0m \u001b[1m\u001b[36mपरिषद\u001b[0m \u001b[1m\u001b[36mको\u001b[0m \u001b[1m\u001b[36mछल\u001b[0m \u001b[1m\u001b[36mरहे\u001b[0m \u001b[1m\u001b[36mहैं\u001b[0m \u001b[1m\u001b[36m।\u001b[0m \n",
            "----------------------------------------\n",
            "\u001b[1m\u001b[36mपाकिस्तान\u001b[0m \u001b[1m\u001b[36mकी\u001b[0m \u001b[1m\u001b[36mपूर्व\u001b[0m \u001b[1m\u001b[36mप्रधानमंत्री\u001b[0m \u001b[1m\u001b[36mबेनजीर\u001b[0m \u001b[1m\u001b[36mभुट्टो\u001b[0m \u001b[1m\u001b[36mपर\u001b[0m \u001b[1m\u001b[36mलगे\u001b[0m \u001b[1m\u001b[36mभ्रष्टाचार\u001b[0m \u001b[1m\u001b[36mके\u001b[0m \u001b[1m\u001b[36mआरोपों\u001b[0m \u001b[1m\u001b[36mके\u001b[0m \u001b[1m\u001b[36mखिलाफ\u001b[0m \u001b[1m\u001b[36mभुट्टो\u001b[0m \u001b[1m\u001b[36mद्वारा\u001b[0m \u001b[1m\u001b[36mदायर\u001b[0m \u001b[1m\u001b[36mकी\u001b[0m \u001b[1m\u001b[36mगई\u001b[0m \u001b[1m\u001b[36mयाचिका\u001b[0m \u001b[1m\u001b[36mकी\u001b[0m \u001b[1m\u001b[36mसुनवाई\u001b[0m \u001b[1m\u001b[36mमंगलवार\u001b[0m \u001b[1m\u001b[36mको\u001b[0m \u001b[1m\u001b[36mवकीलों\u001b[0m \u001b[1m\u001b[36mकी\u001b[0m \u001b[1m\u001b[36mहड़ताल\u001b[0m \u001b[1m\u001b[36mके\u001b[0m \u001b[1m\u001b[36mकारण\u001b[0m \u001b[1m\u001b[36mस्थगित\u001b[0m \u001b[1m\u001b[36mकर\u001b[0m \u001b[1m\u001b[36mदी\u001b[0m \u001b[1m\u001b[36mगई\u001b[0m \u001b[1m\u001b[36m।\u001b[0m \n",
            "----------------------------------------\n",
            "\u001b[1m\u001b[36mसिंध\u001b[0m \u001b[1m\u001b[36mहाईकोर्ट\u001b[0m \u001b[1m\u001b[36mबार\u001b[0m \u001b[1m\u001b[36mएसोसिएशन\u001b[0m \u001b[1m\u001b[36mके\u001b[0m \u001b[1m\u001b[36mअध्यक्ष\u001b[0m \u001b[1m\u001b[36mरशीद\u001b[0m \u001b[1m\u001b[36mरिजवी\u001b[0m \u001b[1m\u001b[36mके\u001b[0m \u001b[1m\u001b[36mमुताबिक\u001b[0m \u001b[1m\u001b[36mयह\u001b[0m \u001b[1m\u001b[36mहड़ताल\u001b[0m \u001b[1m\u001b[36mउच्च\u001b[0m \u001b[1m\u001b[36mन्यायालय\u001b[0m \u001b[1m\u001b[36mऔर\u001b[0m \u001b[1m\u001b[36mनिचली\u001b[0m \u001b[1m\u001b[36mअदालतों\u001b[0m \u001b[1m\u001b[36mके\u001b[0m \u001b[1m\u001b[36mस्तर\u001b[0m \u001b[1m\u001b[36mपर\u001b[0m \u001b[1m\u001b[36mसफल\u001b[0m \u001b[1m\u001b[36mरही\u001b[0m \u001b[1m\u001b[36m।\u001b[0m \n",
            "----------------------------------------\n",
            "\u001b[1m\u001b[36mदेश\u001b[0m \u001b[1m\u001b[36mमें\u001b[0m \u001b[1m\u001b[36mपुन\u001b[0m \u001b[1m\u001b[36m:\u001b[0m \u001b[1m\u001b[36mप्रजातंत्र\u001b[0m \u001b[1m\u001b[36mकी\u001b[0m \u001b[1m\u001b[36mस्थापना\u001b[0m \u001b[1m\u001b[36mकी\u001b[0m \u001b[1m\u001b[36mमांग\u001b[0m \u001b[1m\u001b[36mको\u001b[0m \u001b[1m\u001b[36mलेकर\u001b[0m \u001b[1m\u001b[36mयह\u001b[0m \u001b[1m\u001b[36mहड़ताल\u001b[0m \u001b[1m\u001b[36mकी\u001b[0m \u001b[1m\u001b[36mगई\u001b[0m \u001b[1m\u001b[36mथी\u001b[0m \u001b[1m\u001b[36m।\u001b[0m \n",
            "----------------------------------------\n",
            "\u001b[1m\u001b[36mसुप्रीम\u001b[0m \u001b[1m\u001b[36mकोर्ट\u001b[0m \u001b[1m\u001b[36mमें\u001b[0m \u001b[1m\u001b[36mभुट्टो\u001b[0m \u001b[1m\u001b[36mके\u001b[0m \u001b[1m\u001b[36mउक्त\u001b[0m \u001b[1m\u001b[36mमामले\u001b[0m \u001b[1m\u001b[36mकी\u001b[0m \u001b[1m\u001b[36mसुनवाई\u001b[0m \u001b[1m\u001b[36mसोमवार\u001b[0m \u001b[1m\u001b[36mसे\u001b[0m \u001b[1m\u001b[36mशुरू\u001b[0m \u001b[1m\u001b[36mहुई\u001b[0m \u001b[1m\u001b[36m,\u001b[0m \u001b[1m\u001b[36mजो\u001b[0m \u001b[1m\u001b[36mफिलहाल\u001b[0m \u001b[1m\u001b[36mबुधवार\u001b[0m \u001b[1m\u001b[36mतक\u001b[0m \u001b[1m\u001b[36mस्थगित\u001b[0m \u001b[1m\u001b[36mहै\u001b[0m \u001b[1m\u001b[36m।\u001b[0m \n",
            "----------------------------------------\n",
            "\u001b[1m\u001b[36mमुशर्रफ\u001b[0m \u001b[1m\u001b[36mसऊदी\u001b[0m \u001b[1m\u001b[36mअरब\u001b[0m \u001b[1m\u001b[36mको\u001b[0m \u001b[1m\u001b[36mमनाएंगे\u001b[0m \n",
            "----------------------------------------\n"
          ],
          "name": "stdout"
        }
      ]
    },
    {
      "cell_type": "markdown",
      "metadata": {
        "id": "Y02tigT8DugF"
      },
      "source": [
        "### Agglomerative clustering"
      ]
    },
    {
      "cell_type": "code",
      "metadata": {
        "colab": {
          "base_uri": "https://localhost:8080/"
        },
        "id": "d1hMlc3GDugG",
        "outputId": "cb142b46-2778-44ef-fdc0-d9b7f66686e9"
      },
      "source": [
        "chunked_sentence_labels = agglomerative_clustering(position_fasttext_pos, cluster_count)\n",
        "print_chunked_sentences(sentences, chunked_sentence_labels, output_display_count)"
      ],
      "execution_count": 104,
      "outputs": [
        {
          "output_type": "stream",
          "text": [
            "\u001b[1m\u001b[34mपूर्ण\u001b[0m \u001b[1m\u001b[34mप्रतिबंध\u001b[0m \u001b[1m\u001b[35mहटाओ\u001b[0m \u001b[1m\u001b[33m:\u001b[0m \u001b[1m\u001b[33mइराक\u001b[0m \n",
            "----------------------------------------\n",
            "\u001b[1m\u001b[34mइराक\u001b[0m \u001b[1m\u001b[34mके\u001b[0m \u001b[1m\u001b[34mविदेश\u001b[0m \u001b[1m\u001b[34mमंत्री\u001b[0m \u001b[1m\u001b[34mने\u001b[0m \u001b[1m\u001b[34mअमरीका\u001b[0m \u001b[1m\u001b[34mके\u001b[0m \u001b[1m\u001b[34mउस\u001b[0m \u001b[1m\u001b[34mप्रस्ताव\u001b[0m \u001b[1m\u001b[34mका\u001b[0m \u001b[1m\u001b[35mमजाक\u001b[0m \u001b[1m\u001b[35mउड़ाया\u001b[0m \u001b[1m\u001b[35mहै\u001b[0m \u001b[1m\u001b[35m,\u001b[0m \u001b[1m\u001b[35mजिसमें\u001b[0m \u001b[1m\u001b[35mअमरीका\u001b[0m \u001b[1m\u001b[35mने\u001b[0m \u001b[1m\u001b[35mसंयुक्त\u001b[0m \u001b[1m\u001b[35mराष्ट्र\u001b[0m \u001b[1m\u001b[33mके\u001b[0m \u001b[1m\u001b[33mप्रतिबंधों\u001b[0m \u001b[1m\u001b[33mको\u001b[0m \u001b[1m\u001b[33mइराकी\u001b[0m \u001b[1m\u001b[33mनागरिकों\u001b[0m \u001b[1m\u001b[33mके\u001b[0m \u001b[1m\u001b[33mलिए\u001b[0m \u001b[1m\u001b[33mकम\u001b[0m \u001b[1m\u001b[33mहानिकारक\u001b[0m \u001b[1m\u001b[33mबनाने\u001b[0m \u001b[1m\u001b[33mके\u001b[0m \u001b[1m\u001b[33mलिए\u001b[0m \u001b[1m\u001b[33mकहा\u001b[0m \u001b[1m\u001b[33mहै\u001b[0m \u001b[1m\u001b[33m।\u001b[0m \n",
            "----------------------------------------\n",
            "\u001b[1m\u001b[33mविदेश\u001b[0m \u001b[1m\u001b[33mमंत्री\u001b[0m \u001b[1m\u001b[33mका\u001b[0m \u001b[1m\u001b[33mकहना\u001b[0m \u001b[1m\u001b[33mहै\u001b[0m \u001b[1m\u001b[33mकि\u001b[0m \u001b[1m\u001b[33mचूंकि\u001b[0m \u001b[1m\u001b[33mबगदाद\u001b[0m \u001b[1m\u001b[33mसंयुक्त\u001b[0m \u001b[1m\u001b[33mराष्ट्र\u001b[0m \u001b[1m\u001b[35mकी\u001b[0m \u001b[1m\u001b[35mमांगों\u001b[0m \u001b[1m\u001b[35mका\u001b[0m \u001b[1m\u001b[35mपालन\u001b[0m \u001b[1m\u001b[35mकरते\u001b[0m \u001b[1m\u001b[35mहुए\u001b[0m \u001b[1m\u001b[35mअपने\u001b[0m \u001b[1m\u001b[34mभारी\u001b[0m \u001b[1m\u001b[34mविनाशकारी\u001b[0m \u001b[1m\u001b[34mहथियारों\u001b[0m \u001b[1m\u001b[34mको\u001b[0m \u001b[1m\u001b[34mनष्ट\u001b[0m \u001b[1m\u001b[34mकर\u001b[0m \u001b[1m\u001b[34mरहा\u001b[0m \u001b[1m\u001b[34mहै\u001b[0m \u001b[1m\u001b[34m।\u001b[0m \n",
            "----------------------------------------\n",
            "\u001b[1m\u001b[35mलिहाजा\u001b[0m \u001b[1m\u001b[35mप्रतिबंधों\u001b[0m \u001b[1m\u001b[35mको\u001b[0m \u001b[1m\u001b[33mपूर्ण\u001b[0m \u001b[1m\u001b[33mरूप\u001b[0m \u001b[1m\u001b[33mसे\u001b[0m \u001b[1m\u001b[33mउठा\u001b[0m \u001b[1m\u001b[34mदिया\u001b[0m \u001b[1m\u001b[34mजाना\u001b[0m \u001b[1m\u001b[34mचाहिए\u001b[0m \u001b[1m\u001b[34m।\u001b[0m \n",
            "----------------------------------------\n",
            "\u001b[1m\u001b[34mविदेश\u001b[0m \u001b[1m\u001b[34mमंत्री\u001b[0m \u001b[1m\u001b[34mमोहम्मद\u001b[0m \u001b[1m\u001b[34mसईद\u001b[0m \u001b[1m\u001b[34mका\u001b[0m \u001b[1m\u001b[34mकहना\u001b[0m \u001b[1m\u001b[34mहै\u001b[0m \u001b[1m\u001b[34mकि\u001b[0m \u001b[1m\u001b[33mवे\u001b[0m \u001b[1m\u001b[33mइसे\u001b[0m \u001b[1m\u001b[33m'सुव्यवस्थित\u001b[0m \u001b[1m\u001b[33mप्रतिबंध'\u001b[0m \u001b[1m\u001b[33mकह\u001b[0m \u001b[1m\u001b[33mकर\u001b[0m \u001b[1m\u001b[33mआम\u001b[0m \u001b[1m\u001b[33mराय\u001b[0m \u001b[1m\u001b[33mऔर\u001b[0m \u001b[1m\u001b[35mसुरक्षा\u001b[0m \u001b[1m\u001b[35mपरिषद\u001b[0m \u001b[1m\u001b[35mको\u001b[0m \u001b[1m\u001b[35mछल\u001b[0m \u001b[1m\u001b[35mरहे\u001b[0m \u001b[1m\u001b[35mहैं\u001b[0m \u001b[1m\u001b[35m।\u001b[0m \n",
            "----------------------------------------\n",
            "\u001b[1m\u001b[33mपाकिस्तान\u001b[0m \u001b[1m\u001b[33mकी\u001b[0m \u001b[1m\u001b[33mपूर्व\u001b[0m \u001b[1m\u001b[33mप्रधानमंत्री\u001b[0m \u001b[1m\u001b[33mबेनजीर\u001b[0m \u001b[1m\u001b[33mभुट्टो\u001b[0m \u001b[1m\u001b[33mपर\u001b[0m \u001b[1m\u001b[33mलगे\u001b[0m \u001b[1m\u001b[33mभ्रष्टाचार\u001b[0m \u001b[1m\u001b[33mके\u001b[0m \u001b[1m\u001b[33mआरोपों\u001b[0m \u001b[1m\u001b[33mके\u001b[0m \u001b[1m\u001b[33mखिलाफ\u001b[0m \u001b[1m\u001b[34mभुट्टो\u001b[0m \u001b[1m\u001b[34mद्वारा\u001b[0m \u001b[1m\u001b[34mदायर\u001b[0m \u001b[1m\u001b[34mकी\u001b[0m \u001b[1m\u001b[34mगई\u001b[0m \u001b[1m\u001b[34mयाचिका\u001b[0m \u001b[1m\u001b[34mकी\u001b[0m \u001b[1m\u001b[34mसुनवाई\u001b[0m \u001b[1m\u001b[34mमंगलवार\u001b[0m \u001b[1m\u001b[34mको\u001b[0m \u001b[1m\u001b[34mवकीलों\u001b[0m \u001b[1m\u001b[34mकी\u001b[0m \u001b[1m\u001b[34mहड़ताल\u001b[0m \u001b[1m\u001b[35mके\u001b[0m \u001b[1m\u001b[35mकारण\u001b[0m \u001b[1m\u001b[35mस्थगित\u001b[0m \u001b[1m\u001b[35mकर\u001b[0m \u001b[1m\u001b[35mदी\u001b[0m \u001b[1m\u001b[35mगई\u001b[0m \u001b[1m\u001b[35m।\u001b[0m \n",
            "----------------------------------------\n",
            "\u001b[1m\u001b[34mसिंध\u001b[0m \u001b[1m\u001b[34mहाईकोर्ट\u001b[0m \u001b[1m\u001b[34mबार\u001b[0m \u001b[1m\u001b[34mएसोसिएशन\u001b[0m \u001b[1m\u001b[34mके\u001b[0m \u001b[1m\u001b[34mअध्यक्ष\u001b[0m \u001b[1m\u001b[34mरशीद\u001b[0m \u001b[1m\u001b[34mरिजवी\u001b[0m \u001b[1m\u001b[33mके\u001b[0m \u001b[1m\u001b[33mमुताबिक\u001b[0m \u001b[1m\u001b[33mयह\u001b[0m \u001b[1m\u001b[33mहड़ताल\u001b[0m \u001b[1m\u001b[33mउच्च\u001b[0m \u001b[1m\u001b[33mन्यायालय\u001b[0m \u001b[1m\u001b[33mऔर\u001b[0m \u001b[1m\u001b[33mनिचली\u001b[0m \u001b[1m\u001b[33mअदालतों\u001b[0m \u001b[1m\u001b[35mके\u001b[0m \u001b[1m\u001b[35mस्तर\u001b[0m \u001b[1m\u001b[35mपर\u001b[0m \u001b[1m\u001b[35mसफल\u001b[0m \u001b[1m\u001b[35mरही\u001b[0m \u001b[1m\u001b[35m।\u001b[0m \n",
            "----------------------------------------\n",
            "\u001b[1m\u001b[35mदेश\u001b[0m \u001b[1m\u001b[35mमें\u001b[0m \u001b[1m\u001b[35mपुन\u001b[0m \u001b[1m\u001b[35m:\u001b[0m \u001b[1m\u001b[33mप्रजातंत्र\u001b[0m \u001b[1m\u001b[33mकी\u001b[0m \u001b[1m\u001b[33mस्थापना\u001b[0m \u001b[1m\u001b[33mकी\u001b[0m \u001b[1m\u001b[33mमांग\u001b[0m \u001b[1m\u001b[33mको\u001b[0m \u001b[1m\u001b[33mलेकर\u001b[0m \u001b[1m\u001b[33mयह\u001b[0m \u001b[1m\u001b[34mहड़ताल\u001b[0m \u001b[1m\u001b[34mकी\u001b[0m \u001b[1m\u001b[34mगई\u001b[0m \u001b[1m\u001b[34mथी\u001b[0m \u001b[1m\u001b[34m।\u001b[0m \n",
            "----------------------------------------\n",
            "\u001b[1m\u001b[33mसुप्रीम\u001b[0m \u001b[1m\u001b[33mकोर्ट\u001b[0m \u001b[1m\u001b[33mमें\u001b[0m \u001b[1m\u001b[33mभुट्टो\u001b[0m \u001b[1m\u001b[33mके\u001b[0m \u001b[1m\u001b[33mउक्त\u001b[0m \u001b[1m\u001b[33mमामले\u001b[0m \u001b[1m\u001b[33mकी\u001b[0m \u001b[1m\u001b[33mसुनवाई\u001b[0m \u001b[1m\u001b[33mसोमवार\u001b[0m \u001b[1m\u001b[35mसे\u001b[0m \u001b[1m\u001b[35mशुरू\u001b[0m \u001b[1m\u001b[35mहुई\u001b[0m \u001b[1m\u001b[35m,\u001b[0m \u001b[1m\u001b[35mजो\u001b[0m \u001b[1m\u001b[34mफिलहाल\u001b[0m \u001b[1m\u001b[34mबुधवार\u001b[0m \u001b[1m\u001b[34mतक\u001b[0m \u001b[1m\u001b[34mस्थगित\u001b[0m \u001b[1m\u001b[34mहै\u001b[0m \u001b[1m\u001b[34m।\u001b[0m \n",
            "----------------------------------------\n",
            "\u001b[1m\u001b[35mमुशर्रफ\u001b[0m \u001b[1m\u001b[34mसऊदी\u001b[0m \u001b[1m\u001b[34mअरब\u001b[0m \u001b[1m\u001b[33mको\u001b[0m \u001b[1m\u001b[33mमनाएंगे\u001b[0m \n",
            "----------------------------------------\n"
          ],
          "name": "stdout"
        }
      ]
    },
    {
      "cell_type": "markdown",
      "metadata": {
        "id": "evpiYwR94Cqh"
      },
      "source": [
        "## BERT pretrained emebeddings"
      ]
    },
    {
      "cell_type": "code",
      "metadata": {
        "id": "KW4HmLMafimj",
        "colab": {
          "base_uri": "https://localhost:8080/"
        },
        "outputId": "7b2b164b-93eb-43a0-fb44-f1dd51d7de7f"
      },
      "source": [
        "bert_encoded_input = []\n",
        "i = 0\n",
        "for s in sentences:\n",
        "    print(i,end='')\n",
        "    sentence_matrix = []\n",
        "    for word in s:\n",
        "        text = word\n",
        "        encoded_input = tokenizer(text, return_tensors='tf')\n",
        "        output = model(encoded_input)\n",
        "        encoded_word = np.mean(output[0][0], axis=0)\n",
        "        sentence_matrix.append(encoded_word)\n",
        "    bert_encoded_input.append(np.array(sentence_matrix))\n",
        "    print(\"\\r\",end='')\n",
        "    i+=1\n"
      ],
      "execution_count": 51,
      "outputs": [
        {
          "output_type": "stream",
          "text": [
            ""
          ],
          "name": "stdout"
        }
      ]
    },
    {
      "cell_type": "markdown",
      "metadata": {
        "id": "iC8jdt8W4ywC"
      },
      "source": [
        "### K means"
      ]
    },
    {
      "cell_type": "code",
      "metadata": {
        "colab": {
          "base_uri": "https://localhost:8080/"
        },
        "id": "GKwxx2fu4ywW",
        "outputId": "f1beeafa-f13e-4199-bfd3-9579ca1c7de5"
      },
      "source": [
        "chunked_sentence_labels = k_means_clustering(bert_encoded_input, cluster_count)\n",
        "print_chunked_sentences(sentences, chunked_sentence_labels, output_display_count)"
      ],
      "execution_count": 55,
      "outputs": [
        {
          "output_type": "stream",
          "text": [
            "\u001b[1m\u001b[34mपूर्ण\u001b[0m \u001b[1m\u001b[32mप्रतिबंध\u001b[0m \u001b[1m\u001b[33mहटाओ\u001b[0m \u001b[1m\u001b[32m:\u001b[0m \u001b[1m\u001b[32mइराक\u001b[0m \n",
            "----------------------------------------\n",
            "\u001b[1m\u001b[32mइराक\u001b[0m \u001b[1m\u001b[33mके\u001b[0m \u001b[1m\u001b[32mविदेश\u001b[0m \u001b[1m\u001b[34mमंत्री\u001b[0m \u001b[1m\u001b[33mने\u001b[0m \u001b[1m\u001b[32mअमरीका\u001b[0m \u001b[1m\u001b[33mके\u001b[0m \u001b[1m\u001b[32mउस\u001b[0m \u001b[1m\u001b[34mप्रस्ताव\u001b[0m \u001b[1m\u001b[33mका\u001b[0m \u001b[1m\u001b[32mमजाक\u001b[0m \u001b[1m\u001b[32mउड़ाया\u001b[0m \u001b[1m\u001b[32mहै\u001b[0m \u001b[1m\u001b[32m,\u001b[0m \u001b[1m\u001b[32mजिसमें\u001b[0m \u001b[1m\u001b[32mअमरीका\u001b[0m \u001b[1m\u001b[33mने\u001b[0m \u001b[1m\u001b[32mसंयुक्त\u001b[0m \u001b[1m\u001b[34mराष्ट्र\u001b[0m \u001b[1m\u001b[33mके\u001b[0m \u001b[1m\u001b[34mप्रतिबंधों\u001b[0m \u001b[1m\u001b[33mको\u001b[0m \u001b[1m\u001b[32mइराकी\u001b[0m \u001b[1m\u001b[34mनागरिकों\u001b[0m \u001b[1m\u001b[33mके\u001b[0m \u001b[1m\u001b[33mलिए\u001b[0m \u001b[1m\u001b[32mकम\u001b[0m \u001b[1m\u001b[32mहानिकारक\u001b[0m \u001b[1m\u001b[32mबनाने\u001b[0m \u001b[1m\u001b[33mके\u001b[0m \u001b[1m\u001b[33mलिए\u001b[0m \u001b[1m\u001b[32mकहा\u001b[0m \u001b[1m\u001b[32mहै\u001b[0m \u001b[1m\u001b[32m।\u001b[0m \n",
            "----------------------------------------\n",
            "\u001b[1m\u001b[32mविदेश\u001b[0m \u001b[1m\u001b[34mमंत्री\u001b[0m \u001b[1m\u001b[32mका\u001b[0m \u001b[1m\u001b[32mकहना\u001b[0m \u001b[1m\u001b[33mहै\u001b[0m \u001b[1m\u001b[32mकि\u001b[0m \u001b[1m\u001b[32mचूंकि\u001b[0m \u001b[1m\u001b[32mबगदाद\u001b[0m \u001b[1m\u001b[32mसंयुक्त\u001b[0m \u001b[1m\u001b[34mराष्ट्र\u001b[0m \u001b[1m\u001b[32mकी\u001b[0m \u001b[1m\u001b[34mमांगों\u001b[0m \u001b[1m\u001b[32mका\u001b[0m \u001b[1m\u001b[32mपालन\u001b[0m \u001b[1m\u001b[32mकरते\u001b[0m \u001b[1m\u001b[33mहुए\u001b[0m \u001b[1m\u001b[32mअपने\u001b[0m \u001b[1m\u001b[32mभारी\u001b[0m \u001b[1m\u001b[32mविनाशकारी\u001b[0m \u001b[1m\u001b[34mहथियारों\u001b[0m \u001b[1m\u001b[32mको\u001b[0m \u001b[1m\u001b[32mनष्ट\u001b[0m \u001b[1m\u001b[32mकर\u001b[0m \u001b[1m\u001b[33mरहा\u001b[0m \u001b[1m\u001b[33mहै\u001b[0m \u001b[1m\u001b[32m।\u001b[0m \n",
            "----------------------------------------\n",
            "\u001b[1m\u001b[32mलिहाजा\u001b[0m \u001b[1m\u001b[34mप्रतिबंधों\u001b[0m \u001b[1m\u001b[32mको\u001b[0m \u001b[1m\u001b[32mपूर्ण\u001b[0m \u001b[1m\u001b[34mरूप\u001b[0m \u001b[1m\u001b[32mसे\u001b[0m \u001b[1m\u001b[32mउठा\u001b[0m \u001b[1m\u001b[33mदिया\u001b[0m \u001b[1m\u001b[33mजाना\u001b[0m \u001b[1m\u001b[33mचाहिए\u001b[0m \u001b[1m\u001b[32m।\u001b[0m \n",
            "----------------------------------------\n",
            "\u001b[1m\u001b[33mविदेश\u001b[0m \u001b[1m\u001b[34mमंत्री\u001b[0m \u001b[1m\u001b[32mमोहम्मद\u001b[0m \u001b[1m\u001b[32mसईद\u001b[0m \u001b[1m\u001b[32mका\u001b[0m \u001b[1m\u001b[32mकहना\u001b[0m \u001b[1m\u001b[32mहै\u001b[0m \u001b[1m\u001b[32mकि\u001b[0m \u001b[1m\u001b[32mवे\u001b[0m \u001b[1m\u001b[32mइसे\u001b[0m \u001b[1m\u001b[32m'सुव्यवस्थित\u001b[0m \u001b[1m\u001b[34mप्रतिबंध'\u001b[0m \u001b[1m\u001b[32mकह\u001b[0m \u001b[1m\u001b[32mकर\u001b[0m \u001b[1m\u001b[32mआम\u001b[0m \u001b[1m\u001b[34mराय\u001b[0m \u001b[1m\u001b[32mऔर\u001b[0m \u001b[1m\u001b[33mसुरक्षा\u001b[0m \u001b[1m\u001b[34mपरिषद\u001b[0m \u001b[1m\u001b[32mको\u001b[0m \u001b[1m\u001b[32mछल\u001b[0m \u001b[1m\u001b[32mरहे\u001b[0m \u001b[1m\u001b[32mहैं\u001b[0m \u001b[1m\u001b[32m।\u001b[0m \n",
            "----------------------------------------\n",
            "\u001b[1m\u001b[32mपाकिस्तान\u001b[0m \u001b[1m\u001b[33mकी\u001b[0m \u001b[1m\u001b[32mपूर्व\u001b[0m \u001b[1m\u001b[34mप्रधानमंत्री\u001b[0m \u001b[1m\u001b[32mबेनजीर\u001b[0m \u001b[1m\u001b[32mभुट्टो\u001b[0m \u001b[1m\u001b[33mपर\u001b[0m \u001b[1m\u001b[32mलगे\u001b[0m \u001b[1m\u001b[34mभ्रष्टाचार\u001b[0m \u001b[1m\u001b[33mके\u001b[0m \u001b[1m\u001b[34mआरोपों\u001b[0m \u001b[1m\u001b[33mके\u001b[0m \u001b[1m\u001b[33mखिलाफ\u001b[0m \u001b[1m\u001b[32mभुट्टो\u001b[0m \u001b[1m\u001b[33mद्वारा\u001b[0m \u001b[1m\u001b[32mदायर\u001b[0m \u001b[1m\u001b[32mकी\u001b[0m \u001b[1m\u001b[32mगई\u001b[0m \u001b[1m\u001b[34mयाचिका\u001b[0m \u001b[1m\u001b[33mकी\u001b[0m \u001b[1m\u001b[34mसुनवाई\u001b[0m \u001b[1m\u001b[34mमंगलवार\u001b[0m \u001b[1m\u001b[33mको\u001b[0m \u001b[1m\u001b[34mवकीलों\u001b[0m \u001b[1m\u001b[33mकी\u001b[0m \u001b[1m\u001b[34mहड़ताल\u001b[0m \u001b[1m\u001b[33mके\u001b[0m \u001b[1m\u001b[33mकारण\u001b[0m \u001b[1m\u001b[32mस्थगित\u001b[0m \u001b[1m\u001b[32mकर\u001b[0m \u001b[1m\u001b[32mदी\u001b[0m \u001b[1m\u001b[32mगई\u001b[0m \u001b[1m\u001b[32m।\u001b[0m \n",
            "----------------------------------------\n",
            "\u001b[1m\u001b[32mसिंध\u001b[0m \u001b[1m\u001b[32mहाईकोर्ट\u001b[0m \u001b[1m\u001b[32mबार\u001b[0m \u001b[1m\u001b[32mएसोसिएशन\u001b[0m \u001b[1m\u001b[33mके\u001b[0m \u001b[1m\u001b[34mअध्यक्ष\u001b[0m \u001b[1m\u001b[32mरशीद\u001b[0m \u001b[1m\u001b[32mरिजवी\u001b[0m \u001b[1m\u001b[33mके\u001b[0m \u001b[1m\u001b[33mमुताबिक\u001b[0m \u001b[1m\u001b[32mयह\u001b[0m \u001b[1m\u001b[34mहड़ताल\u001b[0m \u001b[1m\u001b[32mउच्च\u001b[0m \u001b[1m\u001b[32mन्यायालय\u001b[0m \u001b[1m\u001b[32mऔर\u001b[0m \u001b[1m\u001b[32mनिचली\u001b[0m \u001b[1m\u001b[34mअदालतों\u001b[0m \u001b[1m\u001b[33mके\u001b[0m \u001b[1m\u001b[34mस्तर\u001b[0m \u001b[1m\u001b[33mपर\u001b[0m \u001b[1m\u001b[32mसफल\u001b[0m \u001b[1m\u001b[32mरही\u001b[0m \u001b[1m\u001b[32m।\u001b[0m \n",
            "----------------------------------------\n",
            "\u001b[1m\u001b[32mदेश\u001b[0m \u001b[1m\u001b[34mमें\u001b[0m \u001b[1m\u001b[32mपुन\u001b[0m \u001b[1m\u001b[32m:\u001b[0m \u001b[1m\u001b[32mप्रजातंत्र\u001b[0m \u001b[1m\u001b[34mकी\u001b[0m \u001b[1m\u001b[32mस्थापना\u001b[0m \u001b[1m\u001b[34mकी\u001b[0m \u001b[1m\u001b[32mमांग\u001b[0m \u001b[1m\u001b[34mको\u001b[0m \u001b[1m\u001b[32mलेकर\u001b[0m \u001b[1m\u001b[32mयह\u001b[0m \u001b[1m\u001b[32mहड़ताल\u001b[0m \u001b[1m\u001b[32mकी\u001b[0m \u001b[1m\u001b[33mगई\u001b[0m \u001b[1m\u001b[33mथी\u001b[0m \u001b[1m\u001b[32m।\u001b[0m \n",
            "----------------------------------------\n",
            "\u001b[1m\u001b[32mसुप्रीम\u001b[0m \u001b[1m\u001b[32mकोर्ट\u001b[0m \u001b[1m\u001b[34mमें\u001b[0m \u001b[1m\u001b[32mभुट्टो\u001b[0m \u001b[1m\u001b[34mके\u001b[0m \u001b[1m\u001b[32mउक्त\u001b[0m \u001b[1m\u001b[32mमामले\u001b[0m \u001b[1m\u001b[34mकी\u001b[0m \u001b[1m\u001b[32mसुनवाई\u001b[0m \u001b[1m\u001b[32mसोमवार\u001b[0m \u001b[1m\u001b[34mसे\u001b[0m \u001b[1m\u001b[32mशुरू\u001b[0m \u001b[1m\u001b[32mहुई\u001b[0m \u001b[1m\u001b[33m,\u001b[0m \u001b[1m\u001b[32mजो\u001b[0m \u001b[1m\u001b[32mफिलहाल\u001b[0m \u001b[1m\u001b[32mबुधवार\u001b[0m \u001b[1m\u001b[34mतक\u001b[0m \u001b[1m\u001b[32mस्थगित\u001b[0m \u001b[1m\u001b[32mहै\u001b[0m \u001b[1m\u001b[33m।\u001b[0m \n",
            "----------------------------------------\n",
            "\u001b[1m\u001b[34mमुशर्रफ\u001b[0m \u001b[1m\u001b[32mसऊदी\u001b[0m \u001b[1m\u001b[34mअरब\u001b[0m \u001b[1m\u001b[32mको\u001b[0m \u001b[1m\u001b[33mमनाएंगे\u001b[0m \n",
            "----------------------------------------\n"
          ],
          "name": "stdout"
        }
      ]
    },
    {
      "cell_type": "markdown",
      "metadata": {
        "id": "BcbQu2kc4ywZ"
      },
      "source": [
        "### DBscan"
      ]
    },
    {
      "cell_type": "code",
      "metadata": {
        "colab": {
          "base_uri": "https://localhost:8080/"
        },
        "id": "_lhqpaIK4ywa",
        "outputId": "43eae87b-9867-4018-900a-e345f8c51e81"
      },
      "source": [
        "chunked_sentence_labels = DBscan_clustering(bert_encoded_input)\n",
        "print_chunked_sentences(sentences, chunked_sentence_labels, output_display_count)"
      ],
      "execution_count": 56,
      "outputs": [
        {
          "output_type": "stream",
          "text": [
            "\u001b[1m\u001b[36mपूर्ण\u001b[0m \u001b[1m\u001b[36mप्रतिबंध\u001b[0m \u001b[1m\u001b[36mहटाओ\u001b[0m \u001b[1m\u001b[36m:\u001b[0m \u001b[1m\u001b[36mइराक\u001b[0m \n",
            "----------------------------------------\n",
            "\u001b[1m\u001b[36mइराक\u001b[0m \u001b[1m\u001b[32mके\u001b[0m \u001b[1m\u001b[36mविदेश\u001b[0m \u001b[1m\u001b[36mमंत्री\u001b[0m \u001b[1m\u001b[36mने\u001b[0m \u001b[1m\u001b[36mअमरीका\u001b[0m \u001b[1m\u001b[32mके\u001b[0m \u001b[1m\u001b[36mउस\u001b[0m \u001b[1m\u001b[36mप्रस्ताव\u001b[0m \u001b[1m\u001b[36mका\u001b[0m \u001b[1m\u001b[36mमजाक\u001b[0m \u001b[1m\u001b[36mउड़ाया\u001b[0m \u001b[1m\u001b[36mहै\u001b[0m \u001b[1m\u001b[36m,\u001b[0m \u001b[1m\u001b[36mजिसमें\u001b[0m \u001b[1m\u001b[36mअमरीका\u001b[0m \u001b[1m\u001b[36mने\u001b[0m \u001b[1m\u001b[36mसंयुक्त\u001b[0m \u001b[1m\u001b[36mराष्ट्र\u001b[0m \u001b[1m\u001b[32mके\u001b[0m \u001b[1m\u001b[36mप्रतिबंधों\u001b[0m \u001b[1m\u001b[36mको\u001b[0m \u001b[1m\u001b[36mइराकी\u001b[0m \u001b[1m\u001b[36mनागरिकों\u001b[0m \u001b[1m\u001b[32mके\u001b[0m \u001b[1m\u001b[36mलिए\u001b[0m \u001b[1m\u001b[36mकम\u001b[0m \u001b[1m\u001b[36mहानिकारक\u001b[0m \u001b[1m\u001b[36mबनाने\u001b[0m \u001b[1m\u001b[32mके\u001b[0m \u001b[1m\u001b[36mलिए\u001b[0m \u001b[1m\u001b[36mकहा\u001b[0m \u001b[1m\u001b[36mहै\u001b[0m \u001b[1m\u001b[36m।\u001b[0m \n",
            "----------------------------------------\n",
            "\u001b[1m\u001b[36mविदेश\u001b[0m \u001b[1m\u001b[36mमंत्री\u001b[0m \u001b[1m\u001b[36mका\u001b[0m \u001b[1m\u001b[36mकहना\u001b[0m \u001b[1m\u001b[36mहै\u001b[0m \u001b[1m\u001b[36mकि\u001b[0m \u001b[1m\u001b[36mचूंकि\u001b[0m \u001b[1m\u001b[36mबगदाद\u001b[0m \u001b[1m\u001b[36mसंयुक्त\u001b[0m \u001b[1m\u001b[36mराष्ट्र\u001b[0m \u001b[1m\u001b[36mकी\u001b[0m \u001b[1m\u001b[36mमांगों\u001b[0m \u001b[1m\u001b[36mका\u001b[0m \u001b[1m\u001b[36mपालन\u001b[0m \u001b[1m\u001b[36mकरते\u001b[0m \u001b[1m\u001b[36mहुए\u001b[0m \u001b[1m\u001b[36mअपने\u001b[0m \u001b[1m\u001b[36mभारी\u001b[0m \u001b[1m\u001b[36mविनाशकारी\u001b[0m \u001b[1m\u001b[36mहथियारों\u001b[0m \u001b[1m\u001b[36mको\u001b[0m \u001b[1m\u001b[36mनष्ट\u001b[0m \u001b[1m\u001b[36mकर\u001b[0m \u001b[1m\u001b[36mरहा\u001b[0m \u001b[1m\u001b[36mहै\u001b[0m \u001b[1m\u001b[36m।\u001b[0m \n",
            "----------------------------------------\n",
            "\u001b[1m\u001b[36mलिहाजा\u001b[0m \u001b[1m\u001b[36mप्रतिबंधों\u001b[0m \u001b[1m\u001b[36mको\u001b[0m \u001b[1m\u001b[36mपूर्ण\u001b[0m \u001b[1m\u001b[36mरूप\u001b[0m \u001b[1m\u001b[36mसे\u001b[0m \u001b[1m\u001b[36mउठा\u001b[0m \u001b[1m\u001b[36mदिया\u001b[0m \u001b[1m\u001b[36mजाना\u001b[0m \u001b[1m\u001b[36mचाहिए\u001b[0m \u001b[1m\u001b[36m।\u001b[0m \n",
            "----------------------------------------\n",
            "\u001b[1m\u001b[36mविदेश\u001b[0m \u001b[1m\u001b[36mमंत्री\u001b[0m \u001b[1m\u001b[36mमोहम्मद\u001b[0m \u001b[1m\u001b[36mसईद\u001b[0m \u001b[1m\u001b[36mका\u001b[0m \u001b[1m\u001b[36mकहना\u001b[0m \u001b[1m\u001b[36mहै\u001b[0m \u001b[1m\u001b[36mकि\u001b[0m \u001b[1m\u001b[36mवे\u001b[0m \u001b[1m\u001b[36mइसे\u001b[0m \u001b[1m\u001b[36m'सुव्यवस्थित\u001b[0m \u001b[1m\u001b[36mप्रतिबंध'\u001b[0m \u001b[1m\u001b[36mकह\u001b[0m \u001b[1m\u001b[36mकर\u001b[0m \u001b[1m\u001b[36mआम\u001b[0m \u001b[1m\u001b[36mराय\u001b[0m \u001b[1m\u001b[36mऔर\u001b[0m \u001b[1m\u001b[36mसुरक्षा\u001b[0m \u001b[1m\u001b[36mपरिषद\u001b[0m \u001b[1m\u001b[36mको\u001b[0m \u001b[1m\u001b[36mछल\u001b[0m \u001b[1m\u001b[36mरहे\u001b[0m \u001b[1m\u001b[36mहैं\u001b[0m \u001b[1m\u001b[36m।\u001b[0m \n",
            "----------------------------------------\n",
            "\u001b[1m\u001b[36mपाकिस्तान\u001b[0m \u001b[1m\u001b[36mकी\u001b[0m \u001b[1m\u001b[36mपूर्व\u001b[0m \u001b[1m\u001b[36mप्रधानमंत्री\u001b[0m \u001b[1m\u001b[36mबेनजीर\u001b[0m \u001b[1m\u001b[36mभुट्टो\u001b[0m \u001b[1m\u001b[36mपर\u001b[0m \u001b[1m\u001b[36mलगे\u001b[0m \u001b[1m\u001b[36mभ्रष्टाचार\u001b[0m \u001b[1m\u001b[36mके\u001b[0m \u001b[1m\u001b[36mआरोपों\u001b[0m \u001b[1m\u001b[36mके\u001b[0m \u001b[1m\u001b[36mखिलाफ\u001b[0m \u001b[1m\u001b[36mभुट्टो\u001b[0m \u001b[1m\u001b[36mद्वारा\u001b[0m \u001b[1m\u001b[36mदायर\u001b[0m \u001b[1m\u001b[36mकी\u001b[0m \u001b[1m\u001b[36mगई\u001b[0m \u001b[1m\u001b[36mयाचिका\u001b[0m \u001b[1m\u001b[36mकी\u001b[0m \u001b[1m\u001b[36mसुनवाई\u001b[0m \u001b[1m\u001b[36mमंगलवार\u001b[0m \u001b[1m\u001b[36mको\u001b[0m \u001b[1m\u001b[36mवकीलों\u001b[0m \u001b[1m\u001b[36mकी\u001b[0m \u001b[1m\u001b[36mहड़ताल\u001b[0m \u001b[1m\u001b[36mके\u001b[0m \u001b[1m\u001b[36mकारण\u001b[0m \u001b[1m\u001b[36mस्थगित\u001b[0m \u001b[1m\u001b[36mकर\u001b[0m \u001b[1m\u001b[36mदी\u001b[0m \u001b[1m\u001b[36mगई\u001b[0m \u001b[1m\u001b[36m।\u001b[0m \n",
            "----------------------------------------\n",
            "\u001b[1m\u001b[36mसिंध\u001b[0m \u001b[1m\u001b[36mहाईकोर्ट\u001b[0m \u001b[1m\u001b[36mबार\u001b[0m \u001b[1m\u001b[36mएसोसिएशन\u001b[0m \u001b[1m\u001b[36mके\u001b[0m \u001b[1m\u001b[36mअध्यक्ष\u001b[0m \u001b[1m\u001b[36mरशीद\u001b[0m \u001b[1m\u001b[36mरिजवी\u001b[0m \u001b[1m\u001b[36mके\u001b[0m \u001b[1m\u001b[36mमुताबिक\u001b[0m \u001b[1m\u001b[36mयह\u001b[0m \u001b[1m\u001b[36mहड़ताल\u001b[0m \u001b[1m\u001b[36mउच्च\u001b[0m \u001b[1m\u001b[36mन्यायालय\u001b[0m \u001b[1m\u001b[36mऔर\u001b[0m \u001b[1m\u001b[36mनिचली\u001b[0m \u001b[1m\u001b[36mअदालतों\u001b[0m \u001b[1m\u001b[36mके\u001b[0m \u001b[1m\u001b[36mस्तर\u001b[0m \u001b[1m\u001b[36mपर\u001b[0m \u001b[1m\u001b[36mसफल\u001b[0m \u001b[1m\u001b[36mरही\u001b[0m \u001b[1m\u001b[36m।\u001b[0m \n",
            "----------------------------------------\n",
            "\u001b[1m\u001b[36mदेश\u001b[0m \u001b[1m\u001b[36mमें\u001b[0m \u001b[1m\u001b[36mपुन\u001b[0m \u001b[1m\u001b[36m:\u001b[0m \u001b[1m\u001b[36mप्रजातंत्र\u001b[0m \u001b[1m\u001b[36mकी\u001b[0m \u001b[1m\u001b[36mस्थापना\u001b[0m \u001b[1m\u001b[36mकी\u001b[0m \u001b[1m\u001b[36mमांग\u001b[0m \u001b[1m\u001b[36mको\u001b[0m \u001b[1m\u001b[36mलेकर\u001b[0m \u001b[1m\u001b[36mयह\u001b[0m \u001b[1m\u001b[36mहड़ताल\u001b[0m \u001b[1m\u001b[36mकी\u001b[0m \u001b[1m\u001b[36mगई\u001b[0m \u001b[1m\u001b[36mथी\u001b[0m \u001b[1m\u001b[36m।\u001b[0m \n",
            "----------------------------------------\n",
            "\u001b[1m\u001b[36mसुप्रीम\u001b[0m \u001b[1m\u001b[36mकोर्ट\u001b[0m \u001b[1m\u001b[36mमें\u001b[0m \u001b[1m\u001b[36mभुट्टो\u001b[0m \u001b[1m\u001b[36mके\u001b[0m \u001b[1m\u001b[36mउक्त\u001b[0m \u001b[1m\u001b[36mमामले\u001b[0m \u001b[1m\u001b[36mकी\u001b[0m \u001b[1m\u001b[36mसुनवाई\u001b[0m \u001b[1m\u001b[36mसोमवार\u001b[0m \u001b[1m\u001b[36mसे\u001b[0m \u001b[1m\u001b[36mशुरू\u001b[0m \u001b[1m\u001b[36mहुई\u001b[0m \u001b[1m\u001b[36m,\u001b[0m \u001b[1m\u001b[36mजो\u001b[0m \u001b[1m\u001b[36mफिलहाल\u001b[0m \u001b[1m\u001b[36mबुधवार\u001b[0m \u001b[1m\u001b[36mतक\u001b[0m \u001b[1m\u001b[36mस्थगित\u001b[0m \u001b[1m\u001b[36mहै\u001b[0m \u001b[1m\u001b[36m।\u001b[0m \n",
            "----------------------------------------\n",
            "\u001b[1m\u001b[36mमुशर्रफ\u001b[0m \u001b[1m\u001b[36mसऊदी\u001b[0m \u001b[1m\u001b[36mअरब\u001b[0m \u001b[1m\u001b[36mको\u001b[0m \u001b[1m\u001b[36mमनाएंगे\u001b[0m \n",
            "----------------------------------------\n"
          ],
          "name": "stdout"
        }
      ]
    },
    {
      "cell_type": "markdown",
      "metadata": {
        "id": "_22fOzhk4ywb"
      },
      "source": [
        "### Agglomerative clustering"
      ]
    },
    {
      "cell_type": "code",
      "metadata": {
        "colab": {
          "base_uri": "https://localhost:8080/"
        },
        "id": "LvFST5hd4ywc",
        "outputId": "0dc8d6d2-f5fa-40f7-9023-7dcdd63753a7"
      },
      "source": [
        "chunked_sentence_labels = agglomerative_clustering(bert_encoded_input, cluster_count)\n",
        "print_chunked_sentences(sentences, chunked_sentence_labels, output_display_count)"
      ],
      "execution_count": 57,
      "outputs": [
        {
          "output_type": "stream",
          "text": [
            "\u001b[1m\u001b[33mपूर्ण\u001b[0m \u001b[1m\u001b[33mप्रतिबंध\u001b[0m \u001b[1m\u001b[33mहटाओ\u001b[0m \u001b[1m\u001b[31m:\u001b[0m \u001b[1m\u001b[35mइराक\u001b[0m \n",
            "----------------------------------------\n",
            "\u001b[1m\u001b[33mइराक\u001b[0m \u001b[1m\u001b[31mके\u001b[0m \u001b[1m\u001b[33mविदेश\u001b[0m \u001b[1m\u001b[33mमंत्री\u001b[0m \u001b[1m\u001b[31mने\u001b[0m \u001b[1m\u001b[33mअमरीका\u001b[0m \u001b[1m\u001b[31mके\u001b[0m \u001b[1m\u001b[35mउस\u001b[0m \u001b[1m\u001b[33mप्रस्ताव\u001b[0m \u001b[1m\u001b[31mका\u001b[0m \u001b[1m\u001b[31mमजाक\u001b[0m \u001b[1m\u001b[31mउड़ाया\u001b[0m \u001b[1m\u001b[35mहै\u001b[0m \u001b[1m\u001b[35m,\u001b[0m \u001b[1m\u001b[35mजिसमें\u001b[0m \u001b[1m\u001b[33mअमरीका\u001b[0m \u001b[1m\u001b[31mने\u001b[0m \u001b[1m\u001b[33mसंयुक्त\u001b[0m \u001b[1m\u001b[33mराष्ट्र\u001b[0m \u001b[1m\u001b[31mके\u001b[0m \u001b[1m\u001b[33mप्रतिबंधों\u001b[0m \u001b[1m\u001b[31mको\u001b[0m \u001b[1m\u001b[33mइराकी\u001b[0m \u001b[1m\u001b[33mनागरिकों\u001b[0m \u001b[1m\u001b[31mके\u001b[0m \u001b[1m\u001b[35mलिए\u001b[0m \u001b[1m\u001b[31mकम\u001b[0m \u001b[1m\u001b[33mहानिकारक\u001b[0m \u001b[1m\u001b[35mबनाने\u001b[0m \u001b[1m\u001b[31mके\u001b[0m \u001b[1m\u001b[35mलिए\u001b[0m \u001b[1m\u001b[31mकहा\u001b[0m \u001b[1m\u001b[35mहै\u001b[0m \u001b[1m\u001b[35m।\u001b[0m \n",
            "----------------------------------------\n",
            "\u001b[1m\u001b[35mविदेश\u001b[0m \u001b[1m\u001b[31mमंत्री\u001b[0m \u001b[1m\u001b[33mका\u001b[0m \u001b[1m\u001b[31mकहना\u001b[0m \u001b[1m\u001b[33mहै\u001b[0m \u001b[1m\u001b[33mकि\u001b[0m \u001b[1m\u001b[33mचूंकि\u001b[0m \u001b[1m\u001b[31mबगदाद\u001b[0m \u001b[1m\u001b[35mसंयुक्त\u001b[0m \u001b[1m\u001b[35mराष्ट्र\u001b[0m \u001b[1m\u001b[33mकी\u001b[0m \u001b[1m\u001b[31mमांगों\u001b[0m \u001b[1m\u001b[33mका\u001b[0m \u001b[1m\u001b[31mपालन\u001b[0m \u001b[1m\u001b[33mकरते\u001b[0m \u001b[1m\u001b[33mहुए\u001b[0m \u001b[1m\u001b[35mअपने\u001b[0m \u001b[1m\u001b[31mभारी\u001b[0m \u001b[1m\u001b[31mविनाशकारी\u001b[0m \u001b[1m\u001b[31mहथियारों\u001b[0m \u001b[1m\u001b[33mको\u001b[0m \u001b[1m\u001b[31mनष्ट\u001b[0m \u001b[1m\u001b[33mकर\u001b[0m \u001b[1m\u001b[33mरहा\u001b[0m \u001b[1m\u001b[33mहै\u001b[0m \u001b[1m\u001b[33m।\u001b[0m \n",
            "----------------------------------------\n",
            "\u001b[1m\u001b[31mलिहाजा\u001b[0m \u001b[1m\u001b[31mप्रतिबंधों\u001b[0m \u001b[1m\u001b[33mको\u001b[0m \u001b[1m\u001b[33mपूर्ण\u001b[0m \u001b[1m\u001b[31mरूप\u001b[0m \u001b[1m\u001b[33mसे\u001b[0m \u001b[1m\u001b[33mउठा\u001b[0m \u001b[1m\u001b[33mदिया\u001b[0m \u001b[1m\u001b[33mजाना\u001b[0m \u001b[1m\u001b[33mचाहिए\u001b[0m \u001b[1m\u001b[35m।\u001b[0m \n",
            "----------------------------------------\n",
            "\u001b[1m\u001b[31mविदेश\u001b[0m \u001b[1m\u001b[31mमंत्री\u001b[0m \u001b[1m\u001b[31mमोहम्मद\u001b[0m \u001b[1m\u001b[33mसईद\u001b[0m \u001b[1m\u001b[33mका\u001b[0m \u001b[1m\u001b[33mकहना\u001b[0m \u001b[1m\u001b[33mहै\u001b[0m \u001b[1m\u001b[33mकि\u001b[0m \u001b[1m\u001b[33mवे\u001b[0m \u001b[1m\u001b[33mइसे\u001b[0m \u001b[1m\u001b[31m'सुव्यवस्थित\u001b[0m \u001b[1m\u001b[31mप्रतिबंध'\u001b[0m \u001b[1m\u001b[33mकह\u001b[0m \u001b[1m\u001b[33mकर\u001b[0m \u001b[1m\u001b[33mआम\u001b[0m \u001b[1m\u001b[33mराय\u001b[0m \u001b[1m\u001b[35mऔर\u001b[0m \u001b[1m\u001b[31mसुरक्षा\u001b[0m \u001b[1m\u001b[31mपरिषद\u001b[0m \u001b[1m\u001b[33mको\u001b[0m \u001b[1m\u001b[33mछल\u001b[0m \u001b[1m\u001b[33mरहे\u001b[0m \u001b[1m\u001b[33mहैं\u001b[0m \u001b[1m\u001b[31m।\u001b[0m \n",
            "----------------------------------------\n",
            "\u001b[1m\u001b[33mपाकिस्तान\u001b[0m \u001b[1m\u001b[35mकी\u001b[0m \u001b[1m\u001b[33mपूर्व\u001b[0m \u001b[1m\u001b[31mप्रधानमंत्री\u001b[0m \u001b[1m\u001b[31mबेनजीर\u001b[0m \u001b[1m\u001b[31mभुट्टो\u001b[0m \u001b[1m\u001b[35mपर\u001b[0m \u001b[1m\u001b[31mलगे\u001b[0m \u001b[1m\u001b[31mभ्रष्टाचार\u001b[0m \u001b[1m\u001b[35mके\u001b[0m \u001b[1m\u001b[31mआरोपों\u001b[0m \u001b[1m\u001b[35mके\u001b[0m \u001b[1m\u001b[35mखिलाफ\u001b[0m \u001b[1m\u001b[31mभुट्टो\u001b[0m \u001b[1m\u001b[35mद्वारा\u001b[0m \u001b[1m\u001b[31mदायर\u001b[0m \u001b[1m\u001b[35mकी\u001b[0m \u001b[1m\u001b[35mगई\u001b[0m \u001b[1m\u001b[31mयाचिका\u001b[0m \u001b[1m\u001b[35mकी\u001b[0m \u001b[1m\u001b[31mसुनवाई\u001b[0m \u001b[1m\u001b[31mमंगलवार\u001b[0m \u001b[1m\u001b[31mको\u001b[0m \u001b[1m\u001b[31mवकीलों\u001b[0m \u001b[1m\u001b[35mकी\u001b[0m \u001b[1m\u001b[31mहड़ताल\u001b[0m \u001b[1m\u001b[35mके\u001b[0m \u001b[1m\u001b[35mकारण\u001b[0m \u001b[1m\u001b[31mस्थगित\u001b[0m \u001b[1m\u001b[31mकर\u001b[0m \u001b[1m\u001b[35mदी\u001b[0m \u001b[1m\u001b[35mगई\u001b[0m \u001b[1m\u001b[35m।\u001b[0m \n",
            "----------------------------------------\n",
            "\u001b[1m\u001b[33mसिंध\u001b[0m \u001b[1m\u001b[33mहाईकोर्ट\u001b[0m \u001b[1m\u001b[35mबार\u001b[0m \u001b[1m\u001b[33mएसोसिएशन\u001b[0m \u001b[1m\u001b[35mके\u001b[0m \u001b[1m\u001b[33mअध्यक्ष\u001b[0m \u001b[1m\u001b[33mरशीद\u001b[0m \u001b[1m\u001b[33mरिजवी\u001b[0m \u001b[1m\u001b[35mके\u001b[0m \u001b[1m\u001b[33mमुताबिक\u001b[0m \u001b[1m\u001b[35mयह\u001b[0m \u001b[1m\u001b[35mहड़ताल\u001b[0m \u001b[1m\u001b[35mउच्च\u001b[0m \u001b[1m\u001b[33mन्यायालय\u001b[0m \u001b[1m\u001b[31mऔर\u001b[0m \u001b[1m\u001b[33mनिचली\u001b[0m \u001b[1m\u001b[33mअदालतों\u001b[0m \u001b[1m\u001b[35mके\u001b[0m \u001b[1m\u001b[35mस्तर\u001b[0m \u001b[1m\u001b[35mपर\u001b[0m \u001b[1m\u001b[35mसफल\u001b[0m \u001b[1m\u001b[35mरही\u001b[0m \u001b[1m\u001b[35m।\u001b[0m \n",
            "----------------------------------------\n",
            "\u001b[1m\u001b[35mदेश\u001b[0m \u001b[1m\u001b[31mमें\u001b[0m \u001b[1m\u001b[33mपुन\u001b[0m \u001b[1m\u001b[33m:\u001b[0m \u001b[1m\u001b[33mप्रजातंत्र\u001b[0m \u001b[1m\u001b[31mकी\u001b[0m \u001b[1m\u001b[33mस्थापना\u001b[0m \u001b[1m\u001b[31mकी\u001b[0m \u001b[1m\u001b[33mमांग\u001b[0m \u001b[1m\u001b[33mको\u001b[0m \u001b[1m\u001b[33mलेकर\u001b[0m \u001b[1m\u001b[31mयह\u001b[0m \u001b[1m\u001b[33mहड़ताल\u001b[0m \u001b[1m\u001b[31mकी\u001b[0m \u001b[1m\u001b[33mगई\u001b[0m \u001b[1m\u001b[33mथी\u001b[0m \u001b[1m\u001b[33m।\u001b[0m \n",
            "----------------------------------------\n",
            "\u001b[1m\u001b[35mसुप्रीम\u001b[0m \u001b[1m\u001b[35mकोर्ट\u001b[0m \u001b[1m\u001b[33mमें\u001b[0m \u001b[1m\u001b[35mभुट्टो\u001b[0m \u001b[1m\u001b[33mके\u001b[0m \u001b[1m\u001b[33mउक्त\u001b[0m \u001b[1m\u001b[35mमामले\u001b[0m \u001b[1m\u001b[33mकी\u001b[0m \u001b[1m\u001b[35mसुनवाई\u001b[0m \u001b[1m\u001b[35mसोमवार\u001b[0m \u001b[1m\u001b[33mसे\u001b[0m \u001b[1m\u001b[33mशुरू\u001b[0m \u001b[1m\u001b[33mहुई\u001b[0m \u001b[1m\u001b[31m,\u001b[0m \u001b[1m\u001b[33mजो\u001b[0m \u001b[1m\u001b[35mफिलहाल\u001b[0m \u001b[1m\u001b[35mबुधवार\u001b[0m \u001b[1m\u001b[33mतक\u001b[0m \u001b[1m\u001b[35mस्थगित\u001b[0m \u001b[1m\u001b[33mहै\u001b[0m \u001b[1m\u001b[33m।\u001b[0m \n",
            "----------------------------------------\n",
            "\u001b[1m\u001b[35mमुशर्रफ\u001b[0m \u001b[1m\u001b[33mसऊदी\u001b[0m \u001b[1m\u001b[33mअरब\u001b[0m \u001b[1m\u001b[31mको\u001b[0m \u001b[1m\u001b[35mमनाएंगे\u001b[0m \n",
            "----------------------------------------\n"
          ],
          "name": "stdout"
        }
      ]
    },
    {
      "cell_type": "markdown",
      "metadata": {
        "id": "s2XeNWsI4ywd"
      },
      "source": [
        "## POS tags + BERT embeddings"
      ]
    },
    {
      "cell_type": "code",
      "metadata": {
        "trusted": true,
        "id": "bRFnS6kD4ywe"
      },
      "source": [
        "bert_encoded_with_pos = []\n",
        "for index in range(len(bert_encoded_input)):\n",
        "    bert_encoded_with_pos.append(np.hstack((bert_encoded_input[index], np.array(one_hot_enc_pos_input[index]))))"
      ],
      "execution_count": 60,
      "outputs": []
    },
    {
      "cell_type": "markdown",
      "metadata": {
        "id": "jSzLVtCS4ywe"
      },
      "source": [
        "### K means"
      ]
    },
    {
      "cell_type": "code",
      "metadata": {
        "colab": {
          "base_uri": "https://localhost:8080/"
        },
        "id": "1BqmiKKp4ywf",
        "outputId": "d00fb7a0-4ebf-4d6c-e6e9-e4f8081e1470"
      },
      "source": [
        "chunked_sentence_labels = k_means_clustering(bert_encoded_with_pos, cluster_count)\n",
        "print_chunked_sentences(sentences, chunked_sentence_labels, output_display_count)"
      ],
      "execution_count": 61,
      "outputs": [
        {
          "output_type": "stream",
          "text": [
            "\u001b[1m\u001b[32mपूर्ण\u001b[0m \u001b[1m\u001b[33mप्रतिबंध\u001b[0m \u001b[1m\u001b[36mहटाओ\u001b[0m \u001b[1m\u001b[33m:\u001b[0m \u001b[1m\u001b[33mइराक\u001b[0m \n",
            "----------------------------------------\n",
            "\u001b[1m\u001b[33mइराक\u001b[0m \u001b[1m\u001b[36mके\u001b[0m \u001b[1m\u001b[33mविदेश\u001b[0m \u001b[1m\u001b[32mमंत्री\u001b[0m \u001b[1m\u001b[36mने\u001b[0m \u001b[1m\u001b[33mअमरीका\u001b[0m \u001b[1m\u001b[36mके\u001b[0m \u001b[1m\u001b[33mउस\u001b[0m \u001b[1m\u001b[32mप्रस्ताव\u001b[0m \u001b[1m\u001b[36mका\u001b[0m \u001b[1m\u001b[33mमजाक\u001b[0m \u001b[1m\u001b[33mउड़ाया\u001b[0m \u001b[1m\u001b[33mहै\u001b[0m \u001b[1m\u001b[33m,\u001b[0m \u001b[1m\u001b[33mजिसमें\u001b[0m \u001b[1m\u001b[33mअमरीका\u001b[0m \u001b[1m\u001b[36mने\u001b[0m \u001b[1m\u001b[33mसंयुक्त\u001b[0m \u001b[1m\u001b[32mराष्ट्र\u001b[0m \u001b[1m\u001b[36mके\u001b[0m \u001b[1m\u001b[32mप्रतिबंधों\u001b[0m \u001b[1m\u001b[36mको\u001b[0m \u001b[1m\u001b[33mइराकी\u001b[0m \u001b[1m\u001b[32mनागरिकों\u001b[0m \u001b[1m\u001b[36mके\u001b[0m \u001b[1m\u001b[36mलिए\u001b[0m \u001b[1m\u001b[33mकम\u001b[0m \u001b[1m\u001b[33mहानिकारक\u001b[0m \u001b[1m\u001b[33mबनाने\u001b[0m \u001b[1m\u001b[36mके\u001b[0m \u001b[1m\u001b[36mलिए\u001b[0m \u001b[1m\u001b[33mकहा\u001b[0m \u001b[1m\u001b[33mहै\u001b[0m \u001b[1m\u001b[33m।\u001b[0m \n",
            "----------------------------------------\n",
            "\u001b[1m\u001b[33mविदेश\u001b[0m \u001b[1m\u001b[32mमंत्री\u001b[0m \u001b[1m\u001b[33mका\u001b[0m \u001b[1m\u001b[33mकहना\u001b[0m \u001b[1m\u001b[36mहै\u001b[0m \u001b[1m\u001b[33mकि\u001b[0m \u001b[1m\u001b[33mचूंकि\u001b[0m \u001b[1m\u001b[33mबगदाद\u001b[0m \u001b[1m\u001b[33mसंयुक्त\u001b[0m \u001b[1m\u001b[32mराष्ट्र\u001b[0m \u001b[1m\u001b[33mकी\u001b[0m \u001b[1m\u001b[32mमांगों\u001b[0m \u001b[1m\u001b[33mका\u001b[0m \u001b[1m\u001b[33mपालन\u001b[0m \u001b[1m\u001b[33mकरते\u001b[0m \u001b[1m\u001b[36mहुए\u001b[0m \u001b[1m\u001b[33mअपने\u001b[0m \u001b[1m\u001b[33mभारी\u001b[0m \u001b[1m\u001b[33mविनाशकारी\u001b[0m \u001b[1m\u001b[32mहथियारों\u001b[0m \u001b[1m\u001b[33mको\u001b[0m \u001b[1m\u001b[33mनष्ट\u001b[0m \u001b[1m\u001b[33mकर\u001b[0m \u001b[1m\u001b[36mरहा\u001b[0m \u001b[1m\u001b[36mहै\u001b[0m \u001b[1m\u001b[33m।\u001b[0m \n",
            "----------------------------------------\n",
            "\u001b[1m\u001b[33mलिहाजा\u001b[0m \u001b[1m\u001b[32mप्रतिबंधों\u001b[0m \u001b[1m\u001b[33mको\u001b[0m \u001b[1m\u001b[33mपूर्ण\u001b[0m \u001b[1m\u001b[32mरूप\u001b[0m \u001b[1m\u001b[33mसे\u001b[0m \u001b[1m\u001b[33mउठा\u001b[0m \u001b[1m\u001b[36mदिया\u001b[0m \u001b[1m\u001b[36mजाना\u001b[0m \u001b[1m\u001b[36mचाहिए\u001b[0m \u001b[1m\u001b[33m।\u001b[0m \n",
            "----------------------------------------\n",
            "\u001b[1m\u001b[36mविदेश\u001b[0m \u001b[1m\u001b[32mमंत्री\u001b[0m \u001b[1m\u001b[33mमोहम्मद\u001b[0m \u001b[1m\u001b[33mसईद\u001b[0m \u001b[1m\u001b[33mका\u001b[0m \u001b[1m\u001b[33mकहना\u001b[0m \u001b[1m\u001b[33mहै\u001b[0m \u001b[1m\u001b[33mकि\u001b[0m \u001b[1m\u001b[33mवे\u001b[0m \u001b[1m\u001b[33mइसे\u001b[0m \u001b[1m\u001b[33m'सुव्यवस्थित\u001b[0m \u001b[1m\u001b[32mप्रतिबंध'\u001b[0m \u001b[1m\u001b[33mकह\u001b[0m \u001b[1m\u001b[33mकर\u001b[0m \u001b[1m\u001b[33mआम\u001b[0m \u001b[1m\u001b[32mराय\u001b[0m \u001b[1m\u001b[33mऔर\u001b[0m \u001b[1m\u001b[36mसुरक्षा\u001b[0m \u001b[1m\u001b[32mपरिषद\u001b[0m \u001b[1m\u001b[33mको\u001b[0m \u001b[1m\u001b[33mछल\u001b[0m \u001b[1m\u001b[33mरहे\u001b[0m \u001b[1m\u001b[33mहैं\u001b[0m \u001b[1m\u001b[33m।\u001b[0m \n",
            "----------------------------------------\n",
            "\u001b[1m\u001b[33mपाकिस्तान\u001b[0m \u001b[1m\u001b[36mकी\u001b[0m \u001b[1m\u001b[33mपूर्व\u001b[0m \u001b[1m\u001b[32mप्रधानमंत्री\u001b[0m \u001b[1m\u001b[33mबेनजीर\u001b[0m \u001b[1m\u001b[33mभुट्टो\u001b[0m \u001b[1m\u001b[36mपर\u001b[0m \u001b[1m\u001b[33mलगे\u001b[0m \u001b[1m\u001b[32mभ्रष्टाचार\u001b[0m \u001b[1m\u001b[36mके\u001b[0m \u001b[1m\u001b[32mआरोपों\u001b[0m \u001b[1m\u001b[36mके\u001b[0m \u001b[1m\u001b[36mखिलाफ\u001b[0m \u001b[1m\u001b[33mभुट्टो\u001b[0m \u001b[1m\u001b[36mद्वारा\u001b[0m \u001b[1m\u001b[33mदायर\u001b[0m \u001b[1m\u001b[33mकी\u001b[0m \u001b[1m\u001b[33mगई\u001b[0m \u001b[1m\u001b[32mयाचिका\u001b[0m \u001b[1m\u001b[36mकी\u001b[0m \u001b[1m\u001b[32mसुनवाई\u001b[0m \u001b[1m\u001b[32mमंगलवार\u001b[0m \u001b[1m\u001b[36mको\u001b[0m \u001b[1m\u001b[32mवकीलों\u001b[0m \u001b[1m\u001b[36mकी\u001b[0m \u001b[1m\u001b[32mहड़ताल\u001b[0m \u001b[1m\u001b[36mके\u001b[0m \u001b[1m\u001b[36mकारण\u001b[0m \u001b[1m\u001b[33mस्थगित\u001b[0m \u001b[1m\u001b[33mकर\u001b[0m \u001b[1m\u001b[33mदी\u001b[0m \u001b[1m\u001b[33mगई\u001b[0m \u001b[1m\u001b[33m।\u001b[0m \n",
            "----------------------------------------\n",
            "\u001b[1m\u001b[33mसिंध\u001b[0m \u001b[1m\u001b[33mहाईकोर्ट\u001b[0m \u001b[1m\u001b[33mबार\u001b[0m \u001b[1m\u001b[33mएसोसिएशन\u001b[0m \u001b[1m\u001b[36mके\u001b[0m \u001b[1m\u001b[32mअध्यक्ष\u001b[0m \u001b[1m\u001b[33mरशीद\u001b[0m \u001b[1m\u001b[33mरिजवी\u001b[0m \u001b[1m\u001b[36mके\u001b[0m \u001b[1m\u001b[36mमुताबिक\u001b[0m \u001b[1m\u001b[33mयह\u001b[0m \u001b[1m\u001b[32mहड़ताल\u001b[0m \u001b[1m\u001b[33mउच्च\u001b[0m \u001b[1m\u001b[33mन्यायालय\u001b[0m \u001b[1m\u001b[33mऔर\u001b[0m \u001b[1m\u001b[33mनिचली\u001b[0m \u001b[1m\u001b[32mअदालतों\u001b[0m \u001b[1m\u001b[36mके\u001b[0m \u001b[1m\u001b[32mस्तर\u001b[0m \u001b[1m\u001b[36mपर\u001b[0m \u001b[1m\u001b[33mसफल\u001b[0m \u001b[1m\u001b[33mरही\u001b[0m \u001b[1m\u001b[33m।\u001b[0m \n",
            "----------------------------------------\n",
            "\u001b[1m\u001b[33mदेश\u001b[0m \u001b[1m\u001b[32mमें\u001b[0m \u001b[1m\u001b[33mपुन\u001b[0m \u001b[1m\u001b[33m:\u001b[0m \u001b[1m\u001b[33mप्रजातंत्र\u001b[0m \u001b[1m\u001b[32mकी\u001b[0m \u001b[1m\u001b[33mस्थापना\u001b[0m \u001b[1m\u001b[32mकी\u001b[0m \u001b[1m\u001b[33mमांग\u001b[0m \u001b[1m\u001b[32mको\u001b[0m \u001b[1m\u001b[33mलेकर\u001b[0m \u001b[1m\u001b[33mयह\u001b[0m \u001b[1m\u001b[33mहड़ताल\u001b[0m \u001b[1m\u001b[33mकी\u001b[0m \u001b[1m\u001b[36mगई\u001b[0m \u001b[1m\u001b[36mथी\u001b[0m \u001b[1m\u001b[33m।\u001b[0m \n",
            "----------------------------------------\n",
            "\u001b[1m\u001b[33mसुप्रीम\u001b[0m \u001b[1m\u001b[33mकोर्ट\u001b[0m \u001b[1m\u001b[32mमें\u001b[0m \u001b[1m\u001b[33mभुट्टो\u001b[0m \u001b[1m\u001b[32mके\u001b[0m \u001b[1m\u001b[33mउक्त\u001b[0m \u001b[1m\u001b[33mमामले\u001b[0m \u001b[1m\u001b[32mकी\u001b[0m \u001b[1m\u001b[33mसुनवाई\u001b[0m \u001b[1m\u001b[33mसोमवार\u001b[0m \u001b[1m\u001b[32mसे\u001b[0m \u001b[1m\u001b[33mशुरू\u001b[0m \u001b[1m\u001b[33mहुई\u001b[0m \u001b[1m\u001b[36m,\u001b[0m \u001b[1m\u001b[33mजो\u001b[0m \u001b[1m\u001b[33mफिलहाल\u001b[0m \u001b[1m\u001b[33mबुधवार\u001b[0m \u001b[1m\u001b[32mतक\u001b[0m \u001b[1m\u001b[33mस्थगित\u001b[0m \u001b[1m\u001b[33mहै\u001b[0m \u001b[1m\u001b[36m।\u001b[0m \n",
            "----------------------------------------\n",
            "\u001b[1m\u001b[32mमुशर्रफ\u001b[0m \u001b[1m\u001b[33mसऊदी\u001b[0m \u001b[1m\u001b[32mअरब\u001b[0m \u001b[1m\u001b[33mको\u001b[0m \u001b[1m\u001b[36mमनाएंगे\u001b[0m \n",
            "----------------------------------------\n"
          ],
          "name": "stdout"
        }
      ]
    },
    {
      "cell_type": "markdown",
      "metadata": {
        "id": "kqWcjYJ64ywg"
      },
      "source": [
        "### DBscan"
      ]
    },
    {
      "cell_type": "code",
      "metadata": {
        "colab": {
          "base_uri": "https://localhost:8080/"
        },
        "id": "-FdKMkww4ywh",
        "outputId": "55818d02-8fc0-43b9-c4ee-25a30edbf257"
      },
      "source": [
        "chunked_sentence_labels = DBscan_clustering(bert_encoded_with_pos)\n",
        "print_chunked_sentences(sentences, chunked_sentence_labels, output_display_count)"
      ],
      "execution_count": 62,
      "outputs": [
        {
          "output_type": "stream",
          "text": [
            "\u001b[1m\u001b[35mपूर्ण\u001b[0m \u001b[1m\u001b[35mप्रतिबंध\u001b[0m \u001b[1m\u001b[35mहटाओ\u001b[0m \u001b[1m\u001b[35m:\u001b[0m \u001b[1m\u001b[35mइराक\u001b[0m \n",
            "----------------------------------------\n",
            "\u001b[1m\u001b[35mइराक\u001b[0m \u001b[1m\u001b[32mके\u001b[0m \u001b[1m\u001b[35mविदेश\u001b[0m \u001b[1m\u001b[35mमंत्री\u001b[0m \u001b[1m\u001b[35mने\u001b[0m \u001b[1m\u001b[35mअमरीका\u001b[0m \u001b[1m\u001b[32mके\u001b[0m \u001b[1m\u001b[35mउस\u001b[0m \u001b[1m\u001b[35mप्रस्ताव\u001b[0m \u001b[1m\u001b[35mका\u001b[0m \u001b[1m\u001b[35mमजाक\u001b[0m \u001b[1m\u001b[35mउड़ाया\u001b[0m \u001b[1m\u001b[35mहै\u001b[0m \u001b[1m\u001b[35m,\u001b[0m \u001b[1m\u001b[35mजिसमें\u001b[0m \u001b[1m\u001b[35mअमरीका\u001b[0m \u001b[1m\u001b[35mने\u001b[0m \u001b[1m\u001b[35mसंयुक्त\u001b[0m \u001b[1m\u001b[35mराष्ट्र\u001b[0m \u001b[1m\u001b[32mके\u001b[0m \u001b[1m\u001b[35mप्रतिबंधों\u001b[0m \u001b[1m\u001b[35mको\u001b[0m \u001b[1m\u001b[35mइराकी\u001b[0m \u001b[1m\u001b[35mनागरिकों\u001b[0m \u001b[1m\u001b[32mके\u001b[0m \u001b[1m\u001b[35mलिए\u001b[0m \u001b[1m\u001b[35mकम\u001b[0m \u001b[1m\u001b[35mहानिकारक\u001b[0m \u001b[1m\u001b[35mबनाने\u001b[0m \u001b[1m\u001b[32mके\u001b[0m \u001b[1m\u001b[35mलिए\u001b[0m \u001b[1m\u001b[35mकहा\u001b[0m \u001b[1m\u001b[35mहै\u001b[0m \u001b[1m\u001b[35m।\u001b[0m \n",
            "----------------------------------------\n",
            "\u001b[1m\u001b[35mविदेश\u001b[0m \u001b[1m\u001b[35mमंत्री\u001b[0m \u001b[1m\u001b[35mका\u001b[0m \u001b[1m\u001b[35mकहना\u001b[0m \u001b[1m\u001b[35mहै\u001b[0m \u001b[1m\u001b[35mकि\u001b[0m \u001b[1m\u001b[35mचूंकि\u001b[0m \u001b[1m\u001b[35mबगदाद\u001b[0m \u001b[1m\u001b[35mसंयुक्त\u001b[0m \u001b[1m\u001b[35mराष्ट्र\u001b[0m \u001b[1m\u001b[35mकी\u001b[0m \u001b[1m\u001b[35mमांगों\u001b[0m \u001b[1m\u001b[35mका\u001b[0m \u001b[1m\u001b[35mपालन\u001b[0m \u001b[1m\u001b[35mकरते\u001b[0m \u001b[1m\u001b[35mहुए\u001b[0m \u001b[1m\u001b[35mअपने\u001b[0m \u001b[1m\u001b[35mभारी\u001b[0m \u001b[1m\u001b[35mविनाशकारी\u001b[0m \u001b[1m\u001b[35mहथियारों\u001b[0m \u001b[1m\u001b[35mको\u001b[0m \u001b[1m\u001b[35mनष्ट\u001b[0m \u001b[1m\u001b[35mकर\u001b[0m \u001b[1m\u001b[35mरहा\u001b[0m \u001b[1m\u001b[35mहै\u001b[0m \u001b[1m\u001b[35m।\u001b[0m \n",
            "----------------------------------------\n",
            "\u001b[1m\u001b[35mलिहाजा\u001b[0m \u001b[1m\u001b[35mप्रतिबंधों\u001b[0m \u001b[1m\u001b[35mको\u001b[0m \u001b[1m\u001b[35mपूर्ण\u001b[0m \u001b[1m\u001b[35mरूप\u001b[0m \u001b[1m\u001b[35mसे\u001b[0m \u001b[1m\u001b[35mउठा\u001b[0m \u001b[1m\u001b[35mदिया\u001b[0m \u001b[1m\u001b[35mजाना\u001b[0m \u001b[1m\u001b[35mचाहिए\u001b[0m \u001b[1m\u001b[35m।\u001b[0m \n",
            "----------------------------------------\n",
            "\u001b[1m\u001b[35mविदेश\u001b[0m \u001b[1m\u001b[35mमंत्री\u001b[0m \u001b[1m\u001b[35mमोहम्मद\u001b[0m \u001b[1m\u001b[35mसईद\u001b[0m \u001b[1m\u001b[35mका\u001b[0m \u001b[1m\u001b[35mकहना\u001b[0m \u001b[1m\u001b[35mहै\u001b[0m \u001b[1m\u001b[35mकि\u001b[0m \u001b[1m\u001b[35mवे\u001b[0m \u001b[1m\u001b[35mइसे\u001b[0m \u001b[1m\u001b[35m'सुव्यवस्थित\u001b[0m \u001b[1m\u001b[35mप्रतिबंध'\u001b[0m \u001b[1m\u001b[35mकह\u001b[0m \u001b[1m\u001b[35mकर\u001b[0m \u001b[1m\u001b[35mआम\u001b[0m \u001b[1m\u001b[35mराय\u001b[0m \u001b[1m\u001b[35mऔर\u001b[0m \u001b[1m\u001b[35mसुरक्षा\u001b[0m \u001b[1m\u001b[35mपरिषद\u001b[0m \u001b[1m\u001b[35mको\u001b[0m \u001b[1m\u001b[35mछल\u001b[0m \u001b[1m\u001b[35mरहे\u001b[0m \u001b[1m\u001b[35mहैं\u001b[0m \u001b[1m\u001b[35m।\u001b[0m \n",
            "----------------------------------------\n",
            "\u001b[1m\u001b[35mपाकिस्तान\u001b[0m \u001b[1m\u001b[35mकी\u001b[0m \u001b[1m\u001b[35mपूर्व\u001b[0m \u001b[1m\u001b[35mप्रधानमंत्री\u001b[0m \u001b[1m\u001b[35mबेनजीर\u001b[0m \u001b[1m\u001b[35mभुट्टो\u001b[0m \u001b[1m\u001b[35mपर\u001b[0m \u001b[1m\u001b[35mलगे\u001b[0m \u001b[1m\u001b[35mभ्रष्टाचार\u001b[0m \u001b[1m\u001b[35mके\u001b[0m \u001b[1m\u001b[35mआरोपों\u001b[0m \u001b[1m\u001b[35mके\u001b[0m \u001b[1m\u001b[35mखिलाफ\u001b[0m \u001b[1m\u001b[35mभुट्टो\u001b[0m \u001b[1m\u001b[35mद्वारा\u001b[0m \u001b[1m\u001b[35mदायर\u001b[0m \u001b[1m\u001b[35mकी\u001b[0m \u001b[1m\u001b[35mगई\u001b[0m \u001b[1m\u001b[35mयाचिका\u001b[0m \u001b[1m\u001b[35mकी\u001b[0m \u001b[1m\u001b[35mसुनवाई\u001b[0m \u001b[1m\u001b[35mमंगलवार\u001b[0m \u001b[1m\u001b[35mको\u001b[0m \u001b[1m\u001b[35mवकीलों\u001b[0m \u001b[1m\u001b[35mकी\u001b[0m \u001b[1m\u001b[35mहड़ताल\u001b[0m \u001b[1m\u001b[35mके\u001b[0m \u001b[1m\u001b[35mकारण\u001b[0m \u001b[1m\u001b[35mस्थगित\u001b[0m \u001b[1m\u001b[35mकर\u001b[0m \u001b[1m\u001b[35mदी\u001b[0m \u001b[1m\u001b[35mगई\u001b[0m \u001b[1m\u001b[35m।\u001b[0m \n",
            "----------------------------------------\n",
            "\u001b[1m\u001b[35mसिंध\u001b[0m \u001b[1m\u001b[35mहाईकोर्ट\u001b[0m \u001b[1m\u001b[35mबार\u001b[0m \u001b[1m\u001b[35mएसोसिएशन\u001b[0m \u001b[1m\u001b[35mके\u001b[0m \u001b[1m\u001b[35mअध्यक्ष\u001b[0m \u001b[1m\u001b[35mरशीद\u001b[0m \u001b[1m\u001b[35mरिजवी\u001b[0m \u001b[1m\u001b[35mके\u001b[0m \u001b[1m\u001b[35mमुताबिक\u001b[0m \u001b[1m\u001b[35mयह\u001b[0m \u001b[1m\u001b[35mहड़ताल\u001b[0m \u001b[1m\u001b[35mउच्च\u001b[0m \u001b[1m\u001b[35mन्यायालय\u001b[0m \u001b[1m\u001b[35mऔर\u001b[0m \u001b[1m\u001b[35mनिचली\u001b[0m \u001b[1m\u001b[35mअदालतों\u001b[0m \u001b[1m\u001b[35mके\u001b[0m \u001b[1m\u001b[35mस्तर\u001b[0m \u001b[1m\u001b[35mपर\u001b[0m \u001b[1m\u001b[35mसफल\u001b[0m \u001b[1m\u001b[35mरही\u001b[0m \u001b[1m\u001b[35m।\u001b[0m \n",
            "----------------------------------------\n",
            "\u001b[1m\u001b[35mदेश\u001b[0m \u001b[1m\u001b[35mमें\u001b[0m \u001b[1m\u001b[35mपुन\u001b[0m \u001b[1m\u001b[35m:\u001b[0m \u001b[1m\u001b[35mप्रजातंत्र\u001b[0m \u001b[1m\u001b[35mकी\u001b[0m \u001b[1m\u001b[35mस्थापना\u001b[0m \u001b[1m\u001b[35mकी\u001b[0m \u001b[1m\u001b[35mमांग\u001b[0m \u001b[1m\u001b[35mको\u001b[0m \u001b[1m\u001b[35mलेकर\u001b[0m \u001b[1m\u001b[35mयह\u001b[0m \u001b[1m\u001b[35mहड़ताल\u001b[0m \u001b[1m\u001b[35mकी\u001b[0m \u001b[1m\u001b[35mगई\u001b[0m \u001b[1m\u001b[35mथी\u001b[0m \u001b[1m\u001b[35m।\u001b[0m \n",
            "----------------------------------------\n",
            "\u001b[1m\u001b[35mसुप्रीम\u001b[0m \u001b[1m\u001b[35mकोर्ट\u001b[0m \u001b[1m\u001b[35mमें\u001b[0m \u001b[1m\u001b[35mभुट्टो\u001b[0m \u001b[1m\u001b[35mके\u001b[0m \u001b[1m\u001b[35mउक्त\u001b[0m \u001b[1m\u001b[35mमामले\u001b[0m \u001b[1m\u001b[35mकी\u001b[0m \u001b[1m\u001b[35mसुनवाई\u001b[0m \u001b[1m\u001b[35mसोमवार\u001b[0m \u001b[1m\u001b[35mसे\u001b[0m \u001b[1m\u001b[35mशुरू\u001b[0m \u001b[1m\u001b[35mहुई\u001b[0m \u001b[1m\u001b[35m,\u001b[0m \u001b[1m\u001b[35mजो\u001b[0m \u001b[1m\u001b[35mफिलहाल\u001b[0m \u001b[1m\u001b[35mबुधवार\u001b[0m \u001b[1m\u001b[35mतक\u001b[0m \u001b[1m\u001b[35mस्थगित\u001b[0m \u001b[1m\u001b[35mहै\u001b[0m \u001b[1m\u001b[35m।\u001b[0m \n",
            "----------------------------------------\n",
            "\u001b[1m\u001b[35mमुशर्रफ\u001b[0m \u001b[1m\u001b[35mसऊदी\u001b[0m \u001b[1m\u001b[35mअरब\u001b[0m \u001b[1m\u001b[35mको\u001b[0m \u001b[1m\u001b[35mमनाएंगे\u001b[0m \n",
            "----------------------------------------\n"
          ],
          "name": "stdout"
        }
      ]
    },
    {
      "cell_type": "markdown",
      "metadata": {
        "id": "O0XuYy1N4ywi"
      },
      "source": [
        "### Agglomerative clustering"
      ]
    },
    {
      "cell_type": "code",
      "metadata": {
        "colab": {
          "base_uri": "https://localhost:8080/"
        },
        "id": "_CIbcUPG4ywj",
        "outputId": "027f0dbd-345d-4e9f-ff87-d9bc3f359454"
      },
      "source": [
        "chunked_sentence_labels = agglomerative_clustering(bert_encoded_with_pos, cluster_count)\n",
        "print_chunked_sentences(sentences, chunked_sentence_labels, output_display_count)"
      ],
      "execution_count": 63,
      "outputs": [
        {
          "output_type": "stream",
          "text": [
            "\u001b[1m\u001b[36mपूर्ण\u001b[0m \u001b[1m\u001b[36mप्रतिबंध\u001b[0m \u001b[1m\u001b[36mहटाओ\u001b[0m \u001b[1m\u001b[34m:\u001b[0m \u001b[1m\u001b[33mइराक\u001b[0m \n",
            "----------------------------------------\n",
            "\u001b[1m\u001b[36mइराक\u001b[0m \u001b[1m\u001b[34mके\u001b[0m \u001b[1m\u001b[36mविदेश\u001b[0m \u001b[1m\u001b[36mमंत्री\u001b[0m \u001b[1m\u001b[34mने\u001b[0m \u001b[1m\u001b[36mअमरीका\u001b[0m \u001b[1m\u001b[34mके\u001b[0m \u001b[1m\u001b[33mउस\u001b[0m \u001b[1m\u001b[36mप्रस्ताव\u001b[0m \u001b[1m\u001b[34mका\u001b[0m \u001b[1m\u001b[34mमजाक\u001b[0m \u001b[1m\u001b[34mउड़ाया\u001b[0m \u001b[1m\u001b[33mहै\u001b[0m \u001b[1m\u001b[33m,\u001b[0m \u001b[1m\u001b[33mजिसमें\u001b[0m \u001b[1m\u001b[36mअमरीका\u001b[0m \u001b[1m\u001b[34mने\u001b[0m \u001b[1m\u001b[36mसंयुक्त\u001b[0m \u001b[1m\u001b[36mराष्ट्र\u001b[0m \u001b[1m\u001b[34mके\u001b[0m \u001b[1m\u001b[36mप्रतिबंधों\u001b[0m \u001b[1m\u001b[34mको\u001b[0m \u001b[1m\u001b[36mइराकी\u001b[0m \u001b[1m\u001b[36mनागरिकों\u001b[0m \u001b[1m\u001b[34mके\u001b[0m \u001b[1m\u001b[33mलिए\u001b[0m \u001b[1m\u001b[34mकम\u001b[0m \u001b[1m\u001b[36mहानिकारक\u001b[0m \u001b[1m\u001b[33mबनाने\u001b[0m \u001b[1m\u001b[34mके\u001b[0m \u001b[1m\u001b[33mलिए\u001b[0m \u001b[1m\u001b[34mकहा\u001b[0m \u001b[1m\u001b[33mहै\u001b[0m \u001b[1m\u001b[33m।\u001b[0m \n",
            "----------------------------------------\n",
            "\u001b[1m\u001b[33mविदेश\u001b[0m \u001b[1m\u001b[34mमंत्री\u001b[0m \u001b[1m\u001b[36mका\u001b[0m \u001b[1m\u001b[34mकहना\u001b[0m \u001b[1m\u001b[36mहै\u001b[0m \u001b[1m\u001b[36mकि\u001b[0m \u001b[1m\u001b[36mचूंकि\u001b[0m \u001b[1m\u001b[34mबगदाद\u001b[0m \u001b[1m\u001b[33mसंयुक्त\u001b[0m \u001b[1m\u001b[33mराष्ट्र\u001b[0m \u001b[1m\u001b[36mकी\u001b[0m \u001b[1m\u001b[34mमांगों\u001b[0m \u001b[1m\u001b[36mका\u001b[0m \u001b[1m\u001b[34mपालन\u001b[0m \u001b[1m\u001b[36mकरते\u001b[0m \u001b[1m\u001b[36mहुए\u001b[0m \u001b[1m\u001b[33mअपने\u001b[0m \u001b[1m\u001b[34mभारी\u001b[0m \u001b[1m\u001b[34mविनाशकारी\u001b[0m \u001b[1m\u001b[34mहथियारों\u001b[0m \u001b[1m\u001b[36mको\u001b[0m \u001b[1m\u001b[34mनष्ट\u001b[0m \u001b[1m\u001b[36mकर\u001b[0m \u001b[1m\u001b[36mरहा\u001b[0m \u001b[1m\u001b[36mहै\u001b[0m \u001b[1m\u001b[36m।\u001b[0m \n",
            "----------------------------------------\n",
            "\u001b[1m\u001b[34mलिहाजा\u001b[0m \u001b[1m\u001b[34mप्रतिबंधों\u001b[0m \u001b[1m\u001b[36mको\u001b[0m \u001b[1m\u001b[36mपूर्ण\u001b[0m \u001b[1m\u001b[34mरूप\u001b[0m \u001b[1m\u001b[36mसे\u001b[0m \u001b[1m\u001b[36mउठा\u001b[0m \u001b[1m\u001b[36mदिया\u001b[0m \u001b[1m\u001b[36mजाना\u001b[0m \u001b[1m\u001b[36mचाहिए\u001b[0m \u001b[1m\u001b[33m।\u001b[0m \n",
            "----------------------------------------\n",
            "\u001b[1m\u001b[34mविदेश\u001b[0m \u001b[1m\u001b[34mमंत्री\u001b[0m \u001b[1m\u001b[34mमोहम्मद\u001b[0m \u001b[1m\u001b[36mसईद\u001b[0m \u001b[1m\u001b[36mका\u001b[0m \u001b[1m\u001b[36mकहना\u001b[0m \u001b[1m\u001b[36mहै\u001b[0m \u001b[1m\u001b[36mकि\u001b[0m \u001b[1m\u001b[36mवे\u001b[0m \u001b[1m\u001b[36mइसे\u001b[0m \u001b[1m\u001b[34m'सुव्यवस्थित\u001b[0m \u001b[1m\u001b[34mप्रतिबंध'\u001b[0m \u001b[1m\u001b[36mकह\u001b[0m \u001b[1m\u001b[36mकर\u001b[0m \u001b[1m\u001b[36mआम\u001b[0m \u001b[1m\u001b[36mराय\u001b[0m \u001b[1m\u001b[33mऔर\u001b[0m \u001b[1m\u001b[34mसुरक्षा\u001b[0m \u001b[1m\u001b[34mपरिषद\u001b[0m \u001b[1m\u001b[36mको\u001b[0m \u001b[1m\u001b[36mछल\u001b[0m \u001b[1m\u001b[36mरहे\u001b[0m \u001b[1m\u001b[36mहैं\u001b[0m \u001b[1m\u001b[34m।\u001b[0m \n",
            "----------------------------------------\n",
            "\u001b[1m\u001b[36mपाकिस्तान\u001b[0m \u001b[1m\u001b[33mकी\u001b[0m \u001b[1m\u001b[36mपूर्व\u001b[0m \u001b[1m\u001b[34mप्रधानमंत्री\u001b[0m \u001b[1m\u001b[34mबेनजीर\u001b[0m \u001b[1m\u001b[34mभुट्टो\u001b[0m \u001b[1m\u001b[33mपर\u001b[0m \u001b[1m\u001b[34mलगे\u001b[0m \u001b[1m\u001b[34mभ्रष्टाचार\u001b[0m \u001b[1m\u001b[33mके\u001b[0m \u001b[1m\u001b[34mआरोपों\u001b[0m \u001b[1m\u001b[33mके\u001b[0m \u001b[1m\u001b[33mखिलाफ\u001b[0m \u001b[1m\u001b[34mभुट्टो\u001b[0m \u001b[1m\u001b[33mद्वारा\u001b[0m \u001b[1m\u001b[34mदायर\u001b[0m \u001b[1m\u001b[33mकी\u001b[0m \u001b[1m\u001b[33mगई\u001b[0m \u001b[1m\u001b[34mयाचिका\u001b[0m \u001b[1m\u001b[33mकी\u001b[0m \u001b[1m\u001b[34mसुनवाई\u001b[0m \u001b[1m\u001b[34mमंगलवार\u001b[0m \u001b[1m\u001b[34mको\u001b[0m \u001b[1m\u001b[34mवकीलों\u001b[0m \u001b[1m\u001b[33mकी\u001b[0m \u001b[1m\u001b[34mहड़ताल\u001b[0m \u001b[1m\u001b[33mके\u001b[0m \u001b[1m\u001b[33mकारण\u001b[0m \u001b[1m\u001b[34mस्थगित\u001b[0m \u001b[1m\u001b[34mकर\u001b[0m \u001b[1m\u001b[33mदी\u001b[0m \u001b[1m\u001b[33mगई\u001b[0m \u001b[1m\u001b[33m।\u001b[0m \n",
            "----------------------------------------\n",
            "\u001b[1m\u001b[36mसिंध\u001b[0m \u001b[1m\u001b[36mहाईकोर्ट\u001b[0m \u001b[1m\u001b[33mबार\u001b[0m \u001b[1m\u001b[36mएसोसिएशन\u001b[0m \u001b[1m\u001b[33mके\u001b[0m \u001b[1m\u001b[36mअध्यक्ष\u001b[0m \u001b[1m\u001b[36mरशीद\u001b[0m \u001b[1m\u001b[36mरिजवी\u001b[0m \u001b[1m\u001b[33mके\u001b[0m \u001b[1m\u001b[36mमुताबिक\u001b[0m \u001b[1m\u001b[33mयह\u001b[0m \u001b[1m\u001b[33mहड़ताल\u001b[0m \u001b[1m\u001b[33mउच्च\u001b[0m \u001b[1m\u001b[36mन्यायालय\u001b[0m \u001b[1m\u001b[34mऔर\u001b[0m \u001b[1m\u001b[36mनिचली\u001b[0m \u001b[1m\u001b[36mअदालतों\u001b[0m \u001b[1m\u001b[33mके\u001b[0m \u001b[1m\u001b[33mस्तर\u001b[0m \u001b[1m\u001b[33mपर\u001b[0m \u001b[1m\u001b[33mसफल\u001b[0m \u001b[1m\u001b[33mरही\u001b[0m \u001b[1m\u001b[33m।\u001b[0m \n",
            "----------------------------------------\n",
            "\u001b[1m\u001b[33mदेश\u001b[0m \u001b[1m\u001b[34mमें\u001b[0m \u001b[1m\u001b[36mपुन\u001b[0m \u001b[1m\u001b[36m:\u001b[0m \u001b[1m\u001b[36mप्रजातंत्र\u001b[0m \u001b[1m\u001b[34mकी\u001b[0m \u001b[1m\u001b[36mस्थापना\u001b[0m \u001b[1m\u001b[34mकी\u001b[0m \u001b[1m\u001b[36mमांग\u001b[0m \u001b[1m\u001b[36mको\u001b[0m \u001b[1m\u001b[36mलेकर\u001b[0m \u001b[1m\u001b[34mयह\u001b[0m \u001b[1m\u001b[36mहड़ताल\u001b[0m \u001b[1m\u001b[34mकी\u001b[0m \u001b[1m\u001b[36mगई\u001b[0m \u001b[1m\u001b[36mथी\u001b[0m \u001b[1m\u001b[36m।\u001b[0m \n",
            "----------------------------------------\n",
            "\u001b[1m\u001b[33mसुप्रीम\u001b[0m \u001b[1m\u001b[33mकोर्ट\u001b[0m \u001b[1m\u001b[36mमें\u001b[0m \u001b[1m\u001b[33mभुट्टो\u001b[0m \u001b[1m\u001b[36mके\u001b[0m \u001b[1m\u001b[36mउक्त\u001b[0m \u001b[1m\u001b[33mमामले\u001b[0m \u001b[1m\u001b[36mकी\u001b[0m \u001b[1m\u001b[33mसुनवाई\u001b[0m \u001b[1m\u001b[33mसोमवार\u001b[0m \u001b[1m\u001b[36mसे\u001b[0m \u001b[1m\u001b[36mशुरू\u001b[0m \u001b[1m\u001b[36mहुई\u001b[0m \u001b[1m\u001b[34m,\u001b[0m \u001b[1m\u001b[36mजो\u001b[0m \u001b[1m\u001b[33mफिलहाल\u001b[0m \u001b[1m\u001b[33mबुधवार\u001b[0m \u001b[1m\u001b[36mतक\u001b[0m \u001b[1m\u001b[33mस्थगित\u001b[0m \u001b[1m\u001b[36mहै\u001b[0m \u001b[1m\u001b[36m।\u001b[0m \n",
            "----------------------------------------\n",
            "\u001b[1m\u001b[33mमुशर्रफ\u001b[0m \u001b[1m\u001b[36mसऊदी\u001b[0m \u001b[1m\u001b[36mअरब\u001b[0m \u001b[1m\u001b[34mको\u001b[0m \u001b[1m\u001b[33mमनाएंगे\u001b[0m \n",
            "----------------------------------------\n"
          ],
          "name": "stdout"
        }
      ]
    },
    {
      "cell_type": "markdown",
      "metadata": {
        "id": "X6M27P9ZD_K9"
      },
      "source": [
        "## Position + BERT + POS"
      ]
    },
    {
      "cell_type": "code",
      "metadata": {
        "id": "oYl_6VFAD_K-"
      },
      "source": [
        "position_bert_pos = []\n",
        "for index in range(len(bert_encoded_with_pos)):\n",
        "    position_array = np.array([i for i in range(bert_encoded_with_pos[index].shape[0])]).reshape((-1,1))\n",
        "    position_bert_pos.append(np.hstack((position_array, bert_encoded_with_pos[index])))\n"
      ],
      "execution_count": 87,
      "outputs": []
    },
    {
      "cell_type": "markdown",
      "metadata": {
        "id": "VE_W8RrDD_K_"
      },
      "source": [
        "### K means"
      ]
    },
    {
      "cell_type": "code",
      "metadata": {
        "colab": {
          "base_uri": "https://localhost:8080/"
        },
        "id": "gKswaM2BD_K_",
        "outputId": "9e2d8299-356d-42e8-c0e7-e456cc07152d"
      },
      "source": [
        "chunked_sentence_labels = k_means_clustering(position_bert_pos, cluster_count)\n",
        "print_chunked_sentences(sentences, chunked_sentence_labels, output_display_count)"
      ],
      "execution_count": 89,
      "outputs": [
        {
          "output_type": "stream",
          "text": [
            "\u001b[1m\u001b[32mपूर्ण\u001b[0m \u001b[1m\u001b[36mप्रतिबंध\u001b[0m \u001b[1m\u001b[33mहटाओ\u001b[0m \u001b[1m\u001b[36m:\u001b[0m \u001b[1m\u001b[36mइराक\u001b[0m \n",
            "----------------------------------------\n",
            "\u001b[1m\u001b[36mइराक\u001b[0m \u001b[1m\u001b[33mके\u001b[0m \u001b[1m\u001b[36mविदेश\u001b[0m \u001b[1m\u001b[32mमंत्री\u001b[0m \u001b[1m\u001b[33mने\u001b[0m \u001b[1m\u001b[36mअमरीका\u001b[0m \u001b[1m\u001b[33mके\u001b[0m \u001b[1m\u001b[36mउस\u001b[0m \u001b[1m\u001b[32mप्रस्ताव\u001b[0m \u001b[1m\u001b[33mका\u001b[0m \u001b[1m\u001b[36mमजाक\u001b[0m \u001b[1m\u001b[36mउड़ाया\u001b[0m \u001b[1m\u001b[36mहै\u001b[0m \u001b[1m\u001b[36m,\u001b[0m \u001b[1m\u001b[36mजिसमें\u001b[0m \u001b[1m\u001b[36mअमरीका\u001b[0m \u001b[1m\u001b[33mने\u001b[0m \u001b[1m\u001b[36mसंयुक्त\u001b[0m \u001b[1m\u001b[32mराष्ट्र\u001b[0m \u001b[1m\u001b[33mके\u001b[0m \u001b[1m\u001b[32mप्रतिबंधों\u001b[0m \u001b[1m\u001b[33mको\u001b[0m \u001b[1m\u001b[36mइराकी\u001b[0m \u001b[1m\u001b[32mनागरिकों\u001b[0m \u001b[1m\u001b[33mके\u001b[0m \u001b[1m\u001b[33mलिए\u001b[0m \u001b[1m\u001b[36mकम\u001b[0m \u001b[1m\u001b[36mहानिकारक\u001b[0m \u001b[1m\u001b[36mबनाने\u001b[0m \u001b[1m\u001b[33mके\u001b[0m \u001b[1m\u001b[33mलिए\u001b[0m \u001b[1m\u001b[36mकहा\u001b[0m \u001b[1m\u001b[36mहै\u001b[0m \u001b[1m\u001b[36m।\u001b[0m \n",
            "----------------------------------------\n",
            "\u001b[1m\u001b[36mविदेश\u001b[0m \u001b[1m\u001b[32mमंत्री\u001b[0m \u001b[1m\u001b[36mका\u001b[0m \u001b[1m\u001b[36mकहना\u001b[0m \u001b[1m\u001b[33mहै\u001b[0m \u001b[1m\u001b[36mकि\u001b[0m \u001b[1m\u001b[36mचूंकि\u001b[0m \u001b[1m\u001b[36mबगदाद\u001b[0m \u001b[1m\u001b[36mसंयुक्त\u001b[0m \u001b[1m\u001b[32mराष्ट्र\u001b[0m \u001b[1m\u001b[36mकी\u001b[0m \u001b[1m\u001b[32mमांगों\u001b[0m \u001b[1m\u001b[36mका\u001b[0m \u001b[1m\u001b[36mपालन\u001b[0m \u001b[1m\u001b[36mकरते\u001b[0m \u001b[1m\u001b[33mहुए\u001b[0m \u001b[1m\u001b[36mअपने\u001b[0m \u001b[1m\u001b[36mभारी\u001b[0m \u001b[1m\u001b[36mविनाशकारी\u001b[0m \u001b[1m\u001b[32mहथियारों\u001b[0m \u001b[1m\u001b[36mको\u001b[0m \u001b[1m\u001b[36mनष्ट\u001b[0m \u001b[1m\u001b[36mकर\u001b[0m \u001b[1m\u001b[33mरहा\u001b[0m \u001b[1m\u001b[33mहै\u001b[0m \u001b[1m\u001b[36m।\u001b[0m \n",
            "----------------------------------------\n",
            "\u001b[1m\u001b[36mलिहाजा\u001b[0m \u001b[1m\u001b[32mप्रतिबंधों\u001b[0m \u001b[1m\u001b[36mको\u001b[0m \u001b[1m\u001b[36mपूर्ण\u001b[0m \u001b[1m\u001b[32mरूप\u001b[0m \u001b[1m\u001b[36mसे\u001b[0m \u001b[1m\u001b[36mउठा\u001b[0m \u001b[1m\u001b[33mदिया\u001b[0m \u001b[1m\u001b[33mजाना\u001b[0m \u001b[1m\u001b[33mचाहिए\u001b[0m \u001b[1m\u001b[36m।\u001b[0m \n",
            "----------------------------------------\n",
            "\u001b[1m\u001b[33mविदेश\u001b[0m \u001b[1m\u001b[32mमंत्री\u001b[0m \u001b[1m\u001b[36mमोहम्मद\u001b[0m \u001b[1m\u001b[36mसईद\u001b[0m \u001b[1m\u001b[36mका\u001b[0m \u001b[1m\u001b[36mकहना\u001b[0m \u001b[1m\u001b[36mहै\u001b[0m \u001b[1m\u001b[36mकि\u001b[0m \u001b[1m\u001b[36mवे\u001b[0m \u001b[1m\u001b[36mइसे\u001b[0m \u001b[1m\u001b[36m'सुव्यवस्थित\u001b[0m \u001b[1m\u001b[32mप्रतिबंध'\u001b[0m \u001b[1m\u001b[36mकह\u001b[0m \u001b[1m\u001b[36mकर\u001b[0m \u001b[1m\u001b[36mआम\u001b[0m \u001b[1m\u001b[32mराय\u001b[0m \u001b[1m\u001b[36mऔर\u001b[0m \u001b[1m\u001b[33mसुरक्षा\u001b[0m \u001b[1m\u001b[32mपरिषद\u001b[0m \u001b[1m\u001b[36mको\u001b[0m \u001b[1m\u001b[36mछल\u001b[0m \u001b[1m\u001b[36mरहे\u001b[0m \u001b[1m\u001b[36mहैं\u001b[0m \u001b[1m\u001b[36m।\u001b[0m \n",
            "----------------------------------------\n",
            "\u001b[1m\u001b[36mपाकिस्तान\u001b[0m \u001b[1m\u001b[33mकी\u001b[0m \u001b[1m\u001b[36mपूर्व\u001b[0m \u001b[1m\u001b[32mप्रधानमंत्री\u001b[0m \u001b[1m\u001b[36mबेनजीर\u001b[0m \u001b[1m\u001b[36mभुट्टो\u001b[0m \u001b[1m\u001b[33mपर\u001b[0m \u001b[1m\u001b[36mलगे\u001b[0m \u001b[1m\u001b[32mभ्रष्टाचार\u001b[0m \u001b[1m\u001b[33mके\u001b[0m \u001b[1m\u001b[32mआरोपों\u001b[0m \u001b[1m\u001b[33mके\u001b[0m \u001b[1m\u001b[33mखिलाफ\u001b[0m \u001b[1m\u001b[36mभुट्टो\u001b[0m \u001b[1m\u001b[33mद्वारा\u001b[0m \u001b[1m\u001b[36mदायर\u001b[0m \u001b[1m\u001b[36mकी\u001b[0m \u001b[1m\u001b[36mगई\u001b[0m \u001b[1m\u001b[32mयाचिका\u001b[0m \u001b[1m\u001b[33mकी\u001b[0m \u001b[1m\u001b[32mसुनवाई\u001b[0m \u001b[1m\u001b[32mमंगलवार\u001b[0m \u001b[1m\u001b[33mको\u001b[0m \u001b[1m\u001b[32mवकीलों\u001b[0m \u001b[1m\u001b[33mकी\u001b[0m \u001b[1m\u001b[32mहड़ताल\u001b[0m \u001b[1m\u001b[33mके\u001b[0m \u001b[1m\u001b[33mकारण\u001b[0m \u001b[1m\u001b[36mस्थगित\u001b[0m \u001b[1m\u001b[36mकर\u001b[0m \u001b[1m\u001b[36mदी\u001b[0m \u001b[1m\u001b[36mगई\u001b[0m \u001b[1m\u001b[36m।\u001b[0m \n",
            "----------------------------------------\n",
            "\u001b[1m\u001b[36mसिंध\u001b[0m \u001b[1m\u001b[36mहाईकोर्ट\u001b[0m \u001b[1m\u001b[36mबार\u001b[0m \u001b[1m\u001b[36mएसोसिएशन\u001b[0m \u001b[1m\u001b[33mके\u001b[0m \u001b[1m\u001b[32mअध्यक्ष\u001b[0m \u001b[1m\u001b[36mरशीद\u001b[0m \u001b[1m\u001b[36mरिजवी\u001b[0m \u001b[1m\u001b[33mके\u001b[0m \u001b[1m\u001b[33mमुताबिक\u001b[0m \u001b[1m\u001b[36mयह\u001b[0m \u001b[1m\u001b[32mहड़ताल\u001b[0m \u001b[1m\u001b[36mउच्च\u001b[0m \u001b[1m\u001b[36mन्यायालय\u001b[0m \u001b[1m\u001b[36mऔर\u001b[0m \u001b[1m\u001b[36mनिचली\u001b[0m \u001b[1m\u001b[32mअदालतों\u001b[0m \u001b[1m\u001b[33mके\u001b[0m \u001b[1m\u001b[32mस्तर\u001b[0m \u001b[1m\u001b[33mपर\u001b[0m \u001b[1m\u001b[36mसफल\u001b[0m \u001b[1m\u001b[36mरही\u001b[0m \u001b[1m\u001b[36m।\u001b[0m \n",
            "----------------------------------------\n",
            "\u001b[1m\u001b[36mदेश\u001b[0m \u001b[1m\u001b[32mमें\u001b[0m \u001b[1m\u001b[36mपुन\u001b[0m \u001b[1m\u001b[36m:\u001b[0m \u001b[1m\u001b[36mप्रजातंत्र\u001b[0m \u001b[1m\u001b[32mकी\u001b[0m \u001b[1m\u001b[36mस्थापना\u001b[0m \u001b[1m\u001b[32mकी\u001b[0m \u001b[1m\u001b[36mमांग\u001b[0m \u001b[1m\u001b[32mको\u001b[0m \u001b[1m\u001b[36mलेकर\u001b[0m \u001b[1m\u001b[36mयह\u001b[0m \u001b[1m\u001b[36mहड़ताल\u001b[0m \u001b[1m\u001b[36mकी\u001b[0m \u001b[1m\u001b[33mगई\u001b[0m \u001b[1m\u001b[33mथी\u001b[0m \u001b[1m\u001b[36m।\u001b[0m \n",
            "----------------------------------------\n",
            "\u001b[1m\u001b[36mसुप्रीम\u001b[0m \u001b[1m\u001b[36mकोर्ट\u001b[0m \u001b[1m\u001b[32mमें\u001b[0m \u001b[1m\u001b[36mभुट्टो\u001b[0m \u001b[1m\u001b[32mके\u001b[0m \u001b[1m\u001b[36mउक्त\u001b[0m \u001b[1m\u001b[36mमामले\u001b[0m \u001b[1m\u001b[32mकी\u001b[0m \u001b[1m\u001b[36mसुनवाई\u001b[0m \u001b[1m\u001b[36mसोमवार\u001b[0m \u001b[1m\u001b[32mसे\u001b[0m \u001b[1m\u001b[36mशुरू\u001b[0m \u001b[1m\u001b[36mहुई\u001b[0m \u001b[1m\u001b[33m,\u001b[0m \u001b[1m\u001b[36mजो\u001b[0m \u001b[1m\u001b[36mफिलहाल\u001b[0m \u001b[1m\u001b[36mबुधवार\u001b[0m \u001b[1m\u001b[32mतक\u001b[0m \u001b[1m\u001b[36mस्थगित\u001b[0m \u001b[1m\u001b[36mहै\u001b[0m \u001b[1m\u001b[33m।\u001b[0m \n",
            "----------------------------------------\n",
            "\u001b[1m\u001b[32mमुशर्रफ\u001b[0m \u001b[1m\u001b[36mसऊदी\u001b[0m \u001b[1m\u001b[32mअरब\u001b[0m \u001b[1m\u001b[36mको\u001b[0m \u001b[1m\u001b[33mमनाएंगे\u001b[0m \n",
            "----------------------------------------\n"
          ],
          "name": "stdout"
        }
      ]
    },
    {
      "cell_type": "markdown",
      "metadata": {
        "id": "p8AjogLhD_LA"
      },
      "source": [
        "### DBscan"
      ]
    },
    {
      "cell_type": "code",
      "metadata": {
        "colab": {
          "base_uri": "https://localhost:8080/"
        },
        "id": "dDfhXYP7D_LB",
        "outputId": "738aa6b4-31cb-48a1-dbc8-5431ec7c8d82"
      },
      "source": [
        "chunked_sentence_labels = DBscan_clustering(position_bert_pos)\n",
        "print_chunked_sentences(sentences, chunked_sentence_labels, output_display_count)"
      ],
      "execution_count": 90,
      "outputs": [
        {
          "output_type": "stream",
          "text": [
            "\u001b[1m\u001b[35mपूर्ण\u001b[0m \u001b[1m\u001b[35mप्रतिबंध\u001b[0m \u001b[1m\u001b[35mहटाओ\u001b[0m \u001b[1m\u001b[35m:\u001b[0m \u001b[1m\u001b[35mइराक\u001b[0m \n",
            "----------------------------------------\n",
            "\u001b[1m\u001b[35mइराक\u001b[0m \u001b[1m\u001b[35mके\u001b[0m \u001b[1m\u001b[35mविदेश\u001b[0m \u001b[1m\u001b[35mमंत्री\u001b[0m \u001b[1m\u001b[35mने\u001b[0m \u001b[1m\u001b[35mअमरीका\u001b[0m \u001b[1m\u001b[35mके\u001b[0m \u001b[1m\u001b[35mउस\u001b[0m \u001b[1m\u001b[35mप्रस्ताव\u001b[0m \u001b[1m\u001b[35mका\u001b[0m \u001b[1m\u001b[35mमजाक\u001b[0m \u001b[1m\u001b[35mउड़ाया\u001b[0m \u001b[1m\u001b[35mहै\u001b[0m \u001b[1m\u001b[35m,\u001b[0m \u001b[1m\u001b[35mजिसमें\u001b[0m \u001b[1m\u001b[35mअमरीका\u001b[0m \u001b[1m\u001b[35mने\u001b[0m \u001b[1m\u001b[35mसंयुक्त\u001b[0m \u001b[1m\u001b[35mराष्ट्र\u001b[0m \u001b[1m\u001b[35mके\u001b[0m \u001b[1m\u001b[35mप्रतिबंधों\u001b[0m \u001b[1m\u001b[35mको\u001b[0m \u001b[1m\u001b[35mइराकी\u001b[0m \u001b[1m\u001b[35mनागरिकों\u001b[0m \u001b[1m\u001b[35mके\u001b[0m \u001b[1m\u001b[35mलिए\u001b[0m \u001b[1m\u001b[35mकम\u001b[0m \u001b[1m\u001b[35mहानिकारक\u001b[0m \u001b[1m\u001b[35mबनाने\u001b[0m \u001b[1m\u001b[35mके\u001b[0m \u001b[1m\u001b[35mलिए\u001b[0m \u001b[1m\u001b[35mकहा\u001b[0m \u001b[1m\u001b[35mहै\u001b[0m \u001b[1m\u001b[35m।\u001b[0m \n",
            "----------------------------------------\n",
            "\u001b[1m\u001b[35mविदेश\u001b[0m \u001b[1m\u001b[35mमंत्री\u001b[0m \u001b[1m\u001b[35mका\u001b[0m \u001b[1m\u001b[35mकहना\u001b[0m \u001b[1m\u001b[35mहै\u001b[0m \u001b[1m\u001b[35mकि\u001b[0m \u001b[1m\u001b[35mचूंकि\u001b[0m \u001b[1m\u001b[35mबगदाद\u001b[0m \u001b[1m\u001b[35mसंयुक्त\u001b[0m \u001b[1m\u001b[35mराष्ट्र\u001b[0m \u001b[1m\u001b[35mकी\u001b[0m \u001b[1m\u001b[35mमांगों\u001b[0m \u001b[1m\u001b[35mका\u001b[0m \u001b[1m\u001b[35mपालन\u001b[0m \u001b[1m\u001b[35mकरते\u001b[0m \u001b[1m\u001b[35mहुए\u001b[0m \u001b[1m\u001b[35mअपने\u001b[0m \u001b[1m\u001b[35mभारी\u001b[0m \u001b[1m\u001b[35mविनाशकारी\u001b[0m \u001b[1m\u001b[35mहथियारों\u001b[0m \u001b[1m\u001b[35mको\u001b[0m \u001b[1m\u001b[35mनष्ट\u001b[0m \u001b[1m\u001b[35mकर\u001b[0m \u001b[1m\u001b[35mरहा\u001b[0m \u001b[1m\u001b[35mहै\u001b[0m \u001b[1m\u001b[35m।\u001b[0m \n",
            "----------------------------------------\n",
            "\u001b[1m\u001b[35mलिहाजा\u001b[0m \u001b[1m\u001b[35mप्रतिबंधों\u001b[0m \u001b[1m\u001b[35mको\u001b[0m \u001b[1m\u001b[35mपूर्ण\u001b[0m \u001b[1m\u001b[35mरूप\u001b[0m \u001b[1m\u001b[35mसे\u001b[0m \u001b[1m\u001b[35mउठा\u001b[0m \u001b[1m\u001b[35mदिया\u001b[0m \u001b[1m\u001b[35mजाना\u001b[0m \u001b[1m\u001b[35mचाहिए\u001b[0m \u001b[1m\u001b[35m।\u001b[0m \n",
            "----------------------------------------\n",
            "\u001b[1m\u001b[35mविदेश\u001b[0m \u001b[1m\u001b[35mमंत्री\u001b[0m \u001b[1m\u001b[35mमोहम्मद\u001b[0m \u001b[1m\u001b[35mसईद\u001b[0m \u001b[1m\u001b[35mका\u001b[0m \u001b[1m\u001b[35mकहना\u001b[0m \u001b[1m\u001b[35mहै\u001b[0m \u001b[1m\u001b[35mकि\u001b[0m \u001b[1m\u001b[35mवे\u001b[0m \u001b[1m\u001b[35mइसे\u001b[0m \u001b[1m\u001b[35m'सुव्यवस्थित\u001b[0m \u001b[1m\u001b[35mप्रतिबंध'\u001b[0m \u001b[1m\u001b[35mकह\u001b[0m \u001b[1m\u001b[35mकर\u001b[0m \u001b[1m\u001b[35mआम\u001b[0m \u001b[1m\u001b[35mराय\u001b[0m \u001b[1m\u001b[35mऔर\u001b[0m \u001b[1m\u001b[35mसुरक्षा\u001b[0m \u001b[1m\u001b[35mपरिषद\u001b[0m \u001b[1m\u001b[35mको\u001b[0m \u001b[1m\u001b[35mछल\u001b[0m \u001b[1m\u001b[35mरहे\u001b[0m \u001b[1m\u001b[35mहैं\u001b[0m \u001b[1m\u001b[35m।\u001b[0m \n",
            "----------------------------------------\n",
            "\u001b[1m\u001b[35mपाकिस्तान\u001b[0m \u001b[1m\u001b[35mकी\u001b[0m \u001b[1m\u001b[35mपूर्व\u001b[0m \u001b[1m\u001b[35mप्रधानमंत्री\u001b[0m \u001b[1m\u001b[35mबेनजीर\u001b[0m \u001b[1m\u001b[35mभुट्टो\u001b[0m \u001b[1m\u001b[35mपर\u001b[0m \u001b[1m\u001b[35mलगे\u001b[0m \u001b[1m\u001b[35mभ्रष्टाचार\u001b[0m \u001b[1m\u001b[35mके\u001b[0m \u001b[1m\u001b[35mआरोपों\u001b[0m \u001b[1m\u001b[35mके\u001b[0m \u001b[1m\u001b[35mखिलाफ\u001b[0m \u001b[1m\u001b[35mभुट्टो\u001b[0m \u001b[1m\u001b[35mद्वारा\u001b[0m \u001b[1m\u001b[35mदायर\u001b[0m \u001b[1m\u001b[35mकी\u001b[0m \u001b[1m\u001b[35mगई\u001b[0m \u001b[1m\u001b[35mयाचिका\u001b[0m \u001b[1m\u001b[35mकी\u001b[0m \u001b[1m\u001b[35mसुनवाई\u001b[0m \u001b[1m\u001b[35mमंगलवार\u001b[0m \u001b[1m\u001b[35mको\u001b[0m \u001b[1m\u001b[35mवकीलों\u001b[0m \u001b[1m\u001b[35mकी\u001b[0m \u001b[1m\u001b[35mहड़ताल\u001b[0m \u001b[1m\u001b[35mके\u001b[0m \u001b[1m\u001b[35mकारण\u001b[0m \u001b[1m\u001b[35mस्थगित\u001b[0m \u001b[1m\u001b[35mकर\u001b[0m \u001b[1m\u001b[35mदी\u001b[0m \u001b[1m\u001b[35mगई\u001b[0m \u001b[1m\u001b[35m।\u001b[0m \n",
            "----------------------------------------\n",
            "\u001b[1m\u001b[35mसिंध\u001b[0m \u001b[1m\u001b[35mहाईकोर्ट\u001b[0m \u001b[1m\u001b[35mबार\u001b[0m \u001b[1m\u001b[35mएसोसिएशन\u001b[0m \u001b[1m\u001b[35mके\u001b[0m \u001b[1m\u001b[35mअध्यक्ष\u001b[0m \u001b[1m\u001b[35mरशीद\u001b[0m \u001b[1m\u001b[35mरिजवी\u001b[0m \u001b[1m\u001b[35mके\u001b[0m \u001b[1m\u001b[35mमुताबिक\u001b[0m \u001b[1m\u001b[35mयह\u001b[0m \u001b[1m\u001b[35mहड़ताल\u001b[0m \u001b[1m\u001b[35mउच्च\u001b[0m \u001b[1m\u001b[35mन्यायालय\u001b[0m \u001b[1m\u001b[35mऔर\u001b[0m \u001b[1m\u001b[35mनिचली\u001b[0m \u001b[1m\u001b[35mअदालतों\u001b[0m \u001b[1m\u001b[35mके\u001b[0m \u001b[1m\u001b[35mस्तर\u001b[0m \u001b[1m\u001b[35mपर\u001b[0m \u001b[1m\u001b[35mसफल\u001b[0m \u001b[1m\u001b[35mरही\u001b[0m \u001b[1m\u001b[35m।\u001b[0m \n",
            "----------------------------------------\n",
            "\u001b[1m\u001b[35mदेश\u001b[0m \u001b[1m\u001b[35mमें\u001b[0m \u001b[1m\u001b[35mपुन\u001b[0m \u001b[1m\u001b[35m:\u001b[0m \u001b[1m\u001b[35mप्रजातंत्र\u001b[0m \u001b[1m\u001b[35mकी\u001b[0m \u001b[1m\u001b[35mस्थापना\u001b[0m \u001b[1m\u001b[35mकी\u001b[0m \u001b[1m\u001b[35mमांग\u001b[0m \u001b[1m\u001b[35mको\u001b[0m \u001b[1m\u001b[35mलेकर\u001b[0m \u001b[1m\u001b[35mयह\u001b[0m \u001b[1m\u001b[35mहड़ताल\u001b[0m \u001b[1m\u001b[35mकी\u001b[0m \u001b[1m\u001b[35mगई\u001b[0m \u001b[1m\u001b[35mथी\u001b[0m \u001b[1m\u001b[35m।\u001b[0m \n",
            "----------------------------------------\n",
            "\u001b[1m\u001b[35mसुप्रीम\u001b[0m \u001b[1m\u001b[35mकोर्ट\u001b[0m \u001b[1m\u001b[35mमें\u001b[0m \u001b[1m\u001b[35mभुट्टो\u001b[0m \u001b[1m\u001b[35mके\u001b[0m \u001b[1m\u001b[35mउक्त\u001b[0m \u001b[1m\u001b[35mमामले\u001b[0m \u001b[1m\u001b[35mकी\u001b[0m \u001b[1m\u001b[35mसुनवाई\u001b[0m \u001b[1m\u001b[35mसोमवार\u001b[0m \u001b[1m\u001b[35mसे\u001b[0m \u001b[1m\u001b[35mशुरू\u001b[0m \u001b[1m\u001b[35mहुई\u001b[0m \u001b[1m\u001b[35m,\u001b[0m \u001b[1m\u001b[35mजो\u001b[0m \u001b[1m\u001b[35mफिलहाल\u001b[0m \u001b[1m\u001b[35mबुधवार\u001b[0m \u001b[1m\u001b[35mतक\u001b[0m \u001b[1m\u001b[35mस्थगित\u001b[0m \u001b[1m\u001b[35mहै\u001b[0m \u001b[1m\u001b[35m।\u001b[0m \n",
            "----------------------------------------\n",
            "\u001b[1m\u001b[35mमुशर्रफ\u001b[0m \u001b[1m\u001b[35mसऊदी\u001b[0m \u001b[1m\u001b[35mअरब\u001b[0m \u001b[1m\u001b[35mको\u001b[0m \u001b[1m\u001b[35mमनाएंगे\u001b[0m \n",
            "----------------------------------------\n"
          ],
          "name": "stdout"
        }
      ]
    },
    {
      "cell_type": "markdown",
      "metadata": {
        "id": "u1Oq9lhVD_LB"
      },
      "source": [
        "### Agglomerative clustering"
      ]
    },
    {
      "cell_type": "code",
      "metadata": {
        "colab": {
          "base_uri": "https://localhost:8080/"
        },
        "id": "vGESMAMFD_LC",
        "outputId": "53aab510-0a01-428b-9c09-fe38615f222a"
      },
      "source": [
        "chunked_sentence_labels = agglomerative_clustering(position_bert_pos, cluster_count)\n",
        "print_chunked_sentences(sentences, chunked_sentence_labels, output_display_count)"
      ],
      "execution_count": 91,
      "outputs": [
        {
          "output_type": "stream",
          "text": [
            "\u001b[1m\u001b[34mपूर्ण\u001b[0m \u001b[1m\u001b[34mप्रतिबंध\u001b[0m \u001b[1m\u001b[34mहटाओ\u001b[0m \u001b[1m\u001b[33m:\u001b[0m \u001b[1m\u001b[36mइराक\u001b[0m \n",
            "----------------------------------------\n",
            "\u001b[1m\u001b[34mइराक\u001b[0m \u001b[1m\u001b[34mके\u001b[0m \u001b[1m\u001b[34mविदेश\u001b[0m \u001b[1m\u001b[34mमंत्री\u001b[0m \u001b[1m\u001b[34mने\u001b[0m \u001b[1m\u001b[34mअमरीका\u001b[0m \u001b[1m\u001b[34mके\u001b[0m \u001b[1m\u001b[34mउस\u001b[0m \u001b[1m\u001b[34mप्रस्ताव\u001b[0m \u001b[1m\u001b[34mका\u001b[0m \u001b[1m\u001b[34mमजाक\u001b[0m \u001b[1m\u001b[34mउड़ाया\u001b[0m \u001b[1m\u001b[34mहै\u001b[0m \u001b[1m\u001b[34m,\u001b[0m \u001b[1m\u001b[34mजिसमें\u001b[0m \u001b[1m\u001b[36mअमरीका\u001b[0m \u001b[1m\u001b[34mने\u001b[0m \u001b[1m\u001b[36mसंयुक्त\u001b[0m \u001b[1m\u001b[36mराष्ट्र\u001b[0m \u001b[1m\u001b[36mके\u001b[0m \u001b[1m\u001b[36mप्रतिबंधों\u001b[0m \u001b[1m\u001b[36mको\u001b[0m \u001b[1m\u001b[36mइराकी\u001b[0m \u001b[1m\u001b[36mनागरिकों\u001b[0m \u001b[1m\u001b[36mके\u001b[0m \u001b[1m\u001b[33mलिए\u001b[0m \u001b[1m\u001b[33mकम\u001b[0m \u001b[1m\u001b[33mहानिकारक\u001b[0m \u001b[1m\u001b[33mबनाने\u001b[0m \u001b[1m\u001b[33mके\u001b[0m \u001b[1m\u001b[33mलिए\u001b[0m \u001b[1m\u001b[33mकहा\u001b[0m \u001b[1m\u001b[33mहै\u001b[0m \u001b[1m\u001b[33m।\u001b[0m \n",
            "----------------------------------------\n",
            "\u001b[1m\u001b[33mविदेश\u001b[0m \u001b[1m\u001b[33mमंत्री\u001b[0m \u001b[1m\u001b[33mका\u001b[0m \u001b[1m\u001b[33mकहना\u001b[0m \u001b[1m\u001b[33mहै\u001b[0m \u001b[1m\u001b[33mकि\u001b[0m \u001b[1m\u001b[33mचूंकि\u001b[0m \u001b[1m\u001b[33mबगदाद\u001b[0m \u001b[1m\u001b[36mसंयुक्त\u001b[0m \u001b[1m\u001b[36mराष्ट्र\u001b[0m \u001b[1m\u001b[36mकी\u001b[0m \u001b[1m\u001b[36mमांगों\u001b[0m \u001b[1m\u001b[36mका\u001b[0m \u001b[1m\u001b[36mपालन\u001b[0m \u001b[1m\u001b[36mकरते\u001b[0m \u001b[1m\u001b[36mहुए\u001b[0m \u001b[1m\u001b[36mअपने\u001b[0m \u001b[1m\u001b[34mभारी\u001b[0m \u001b[1m\u001b[34mविनाशकारी\u001b[0m \u001b[1m\u001b[34mहथियारों\u001b[0m \u001b[1m\u001b[34mको\u001b[0m \u001b[1m\u001b[34mनष्ट\u001b[0m \u001b[1m\u001b[34mकर\u001b[0m \u001b[1m\u001b[34mरहा\u001b[0m \u001b[1m\u001b[34mहै\u001b[0m \u001b[1m\u001b[34m।\u001b[0m \n",
            "----------------------------------------\n",
            "\u001b[1m\u001b[33mलिहाजा\u001b[0m \u001b[1m\u001b[33mप्रतिबंधों\u001b[0m \u001b[1m\u001b[36mको\u001b[0m \u001b[1m\u001b[36mपूर्ण\u001b[0m \u001b[1m\u001b[36mरूप\u001b[0m \u001b[1m\u001b[36mसे\u001b[0m \u001b[1m\u001b[36mउठा\u001b[0m \u001b[1m\u001b[36mदिया\u001b[0m \u001b[1m\u001b[36mजाना\u001b[0m \u001b[1m\u001b[34mचाहिए\u001b[0m \u001b[1m\u001b[34m।\u001b[0m \n",
            "----------------------------------------\n",
            "\u001b[1m\u001b[34mविदेश\u001b[0m \u001b[1m\u001b[34mमंत्री\u001b[0m \u001b[1m\u001b[34mमोहम्मद\u001b[0m \u001b[1m\u001b[34mसईद\u001b[0m \u001b[1m\u001b[34mका\u001b[0m \u001b[1m\u001b[34mकहना\u001b[0m \u001b[1m\u001b[34mहै\u001b[0m \u001b[1m\u001b[34mकि\u001b[0m \u001b[1m\u001b[34mवे\u001b[0m \u001b[1m\u001b[34mइसे\u001b[0m \u001b[1m\u001b[33m'सुव्यवस्थित\u001b[0m \u001b[1m\u001b[33mप्रतिबंध'\u001b[0m \u001b[1m\u001b[33mकह\u001b[0m \u001b[1m\u001b[33mकर\u001b[0m \u001b[1m\u001b[33mआम\u001b[0m \u001b[1m\u001b[33mराय\u001b[0m \u001b[1m\u001b[36mऔर\u001b[0m \u001b[1m\u001b[36mसुरक्षा\u001b[0m \u001b[1m\u001b[36mपरिषद\u001b[0m \u001b[1m\u001b[36mको\u001b[0m \u001b[1m\u001b[36mछल\u001b[0m \u001b[1m\u001b[36mरहे\u001b[0m \u001b[1m\u001b[36mहैं\u001b[0m \u001b[1m\u001b[36m।\u001b[0m \n",
            "----------------------------------------\n",
            "\u001b[1m\u001b[34mपाकिस्तान\u001b[0m \u001b[1m\u001b[34mकी\u001b[0m \u001b[1m\u001b[34mपूर्व\u001b[0m \u001b[1m\u001b[34mप्रधानमंत्री\u001b[0m \u001b[1m\u001b[34mबेनजीर\u001b[0m \u001b[1m\u001b[34mभुट्टो\u001b[0m \u001b[1m\u001b[34mपर\u001b[0m \u001b[1m\u001b[34mलगे\u001b[0m \u001b[1m\u001b[34mभ्रष्टाचार\u001b[0m \u001b[1m\u001b[33mके\u001b[0m \u001b[1m\u001b[34mआरोपों\u001b[0m \u001b[1m\u001b[33mके\u001b[0m \u001b[1m\u001b[33mखिलाफ\u001b[0m \u001b[1m\u001b[34mभुट्टो\u001b[0m \u001b[1m\u001b[33mद्वारा\u001b[0m \u001b[1m\u001b[33mदायर\u001b[0m \u001b[1m\u001b[33mकी\u001b[0m \u001b[1m\u001b[33mगई\u001b[0m \u001b[1m\u001b[33mयाचिका\u001b[0m \u001b[1m\u001b[33mकी\u001b[0m \u001b[1m\u001b[36mसुनवाई\u001b[0m \u001b[1m\u001b[36mमंगलवार\u001b[0m \u001b[1m\u001b[36mको\u001b[0m \u001b[1m\u001b[36mवकीलों\u001b[0m \u001b[1m\u001b[36mकी\u001b[0m \u001b[1m\u001b[36mहड़ताल\u001b[0m \u001b[1m\u001b[36mके\u001b[0m \u001b[1m\u001b[36mकारण\u001b[0m \u001b[1m\u001b[36mस्थगित\u001b[0m \u001b[1m\u001b[36mकर\u001b[0m \u001b[1m\u001b[36mदी\u001b[0m \u001b[1m\u001b[36mगई\u001b[0m \u001b[1m\u001b[36m।\u001b[0m \n",
            "----------------------------------------\n",
            "\u001b[1m\u001b[36mसिंध\u001b[0m \u001b[1m\u001b[36mहाईकोर्ट\u001b[0m \u001b[1m\u001b[36mबार\u001b[0m \u001b[1m\u001b[36mएसोसिएशन\u001b[0m \u001b[1m\u001b[36mके\u001b[0m \u001b[1m\u001b[36mअध्यक्ष\u001b[0m \u001b[1m\u001b[36mरशीद\u001b[0m \u001b[1m\u001b[36mरिजवी\u001b[0m \u001b[1m\u001b[36mके\u001b[0m \u001b[1m\u001b[34mमुताबिक\u001b[0m \u001b[1m\u001b[34mयह\u001b[0m \u001b[1m\u001b[34mहड़ताल\u001b[0m \u001b[1m\u001b[34mउच्च\u001b[0m \u001b[1m\u001b[34mन्यायालय\u001b[0m \u001b[1m\u001b[34mऔर\u001b[0m \u001b[1m\u001b[34mनिचली\u001b[0m \u001b[1m\u001b[34mअदालतों\u001b[0m \u001b[1m\u001b[33mके\u001b[0m \u001b[1m\u001b[33mस्तर\u001b[0m \u001b[1m\u001b[33mपर\u001b[0m \u001b[1m\u001b[33mसफल\u001b[0m \u001b[1m\u001b[33mरही\u001b[0m \u001b[1m\u001b[33m।\u001b[0m \n",
            "----------------------------------------\n",
            "\u001b[1m\u001b[33mदेश\u001b[0m \u001b[1m\u001b[36mमें\u001b[0m \u001b[1m\u001b[36mपुन\u001b[0m \u001b[1m\u001b[36m:\u001b[0m \u001b[1m\u001b[36mप्रजातंत्र\u001b[0m \u001b[1m\u001b[36mकी\u001b[0m \u001b[1m\u001b[36mस्थापना\u001b[0m \u001b[1m\u001b[36mकी\u001b[0m \u001b[1m\u001b[34mमांग\u001b[0m \u001b[1m\u001b[34mको\u001b[0m \u001b[1m\u001b[34mलेकर\u001b[0m \u001b[1m\u001b[34mयह\u001b[0m \u001b[1m\u001b[34mहड़ताल\u001b[0m \u001b[1m\u001b[34mकी\u001b[0m \u001b[1m\u001b[34mगई\u001b[0m \u001b[1m\u001b[34mथी\u001b[0m \u001b[1m\u001b[34m।\u001b[0m \n",
            "----------------------------------------\n",
            "\u001b[1m\u001b[34mसुप्रीम\u001b[0m \u001b[1m\u001b[34mकोर्ट\u001b[0m \u001b[1m\u001b[34mमें\u001b[0m \u001b[1m\u001b[34mभुट्टो\u001b[0m \u001b[1m\u001b[34mके\u001b[0m \u001b[1m\u001b[34mउक्त\u001b[0m \u001b[1m\u001b[34mमामले\u001b[0m \u001b[1m\u001b[34mकी\u001b[0m \u001b[1m\u001b[34mसुनवाई\u001b[0m \u001b[1m\u001b[34mसोमवार\u001b[0m \u001b[1m\u001b[34mसे\u001b[0m \u001b[1m\u001b[36mशुरू\u001b[0m \u001b[1m\u001b[36mहुई\u001b[0m \u001b[1m\u001b[33m,\u001b[0m \u001b[1m\u001b[36mजो\u001b[0m \u001b[1m\u001b[36mफिलहाल\u001b[0m \u001b[1m\u001b[36mबुधवार\u001b[0m \u001b[1m\u001b[36mतक\u001b[0m \u001b[1m\u001b[36mस्थगित\u001b[0m \u001b[1m\u001b[36mहै\u001b[0m \u001b[1m\u001b[36m।\u001b[0m \n",
            "----------------------------------------\n",
            "\u001b[1m\u001b[36mमुशर्रफ\u001b[0m \u001b[1m\u001b[34mसऊदी\u001b[0m \u001b[1m\u001b[34mअरब\u001b[0m \u001b[1m\u001b[33mको\u001b[0m \u001b[1m\u001b[36mमनाएंगे\u001b[0m \n",
            "----------------------------------------\n"
          ],
          "name": "stdout"
        }
      ]
    },
    {
      "cell_type": "markdown",
      "metadata": {
        "id": "uLuZL2GRr9FI"
      },
      "source": [
        "## Autoencoder"
      ]
    },
    {
      "cell_type": "code",
      "metadata": {
        "colab": {
          "base_uri": "https://localhost:8080/"
        },
        "id": "zFUtHlX_sTxT",
        "outputId": "c8d2bec5-ab19-4ee8-ad3d-91f526fed6f7"
      },
      "source": [
        "maxlen = 0\n",
        "embed_dim = 150\n",
        "num_words = 50000\n",
        "for sent in sentences:\n",
        "    maxlen = max(maxlen, len(sent))\n",
        "maxlen"
      ],
      "execution_count": 64,
      "outputs": [
        {
          "output_type": "execute_result",
          "data": {
            "text/plain": [
              "55"
            ]
          },
          "metadata": {
            "tags": []
          },
          "execution_count": 64
        }
      ]
    },
    {
      "cell_type": "code",
      "metadata": {
        "id": "KujCfEDjr_Ve"
      },
      "source": [
        "tokenizer = Tokenizer(num_words = num_words, split=' ')\n",
        "tokenizer.fit_on_texts(sentences)\n",
        "seqs = tokenizer.texts_to_sequences(sentences)\n",
        "pad_seqs = pad_sequences(seqs, maxlen)"
      ],
      "execution_count": 65,
      "outputs": []
    },
    {
      "cell_type": "code",
      "metadata": {
        "colab": {
          "base_uri": "https://localhost:8080/"
        },
        "id": "xX8wTZs4egVA",
        "outputId": "806dbb54-1728-4095-bf5f-05aad2f8258d"
      },
      "source": [
        "encoder_inputs = Input(shape=(maxlen,), name='Encoder-Input')\n",
        "emb_layer = Embedding(num_words, embed_dim,input_length = maxlen, name='Body-Word-Embedding', mask_zero=False)\n",
        "x = emb_layer(encoder_inputs)\n",
        "state_h = Bidirectional(LSTM(128, activation='relu', name='Encoder-Last-LSTM'))(x)\n",
        "encoder_model = Model(inputs=encoder_inputs, outputs=state_h, name='Encoder-Model')\n",
        "seq2seq_encoder_out = encoder_model(encoder_inputs)\n",
        "\n",
        "decoded = RepeatVector(maxlen)(seq2seq_encoder_out)\n",
        "decoder_lstm = Bidirectional(LSTM(128, return_sequences=True, name='Decoder-LSTM-before'))\n",
        "decoder_lstm_output = decoder_lstm(decoded)\n",
        "decoder_dense = Dense(num_words, activation='softmax', name='Final-Output-Dense-before')\n",
        "decoder_outputs = decoder_dense(decoder_lstm_output)\n",
        "\n",
        "seq2seq_Model = Model(encoder_inputs, decoder_outputs)\n",
        "seq2seq_Model.compile(optimizer='adam', loss='sparse_categorical_crossentropy')\n",
        "history = seq2seq_Model.fit(pad_seqs, np.expand_dims(pad_seqs, -1),\n",
        "            batch_size=100,\n",
        "            epochs=30)"
      ],
      "execution_count": 66,
      "outputs": [
        {
          "output_type": "stream",
          "text": [
            "WARNING:tensorflow:Layer Encoder-Last-LSTM will not use cuDNN kernel since it doesn't meet the cuDNN kernel criteria. It will use generic GPU kernel as fallback when running on GPU\n",
            "WARNING:tensorflow:Layer Encoder-Last-LSTM will not use cuDNN kernel since it doesn't meet the cuDNN kernel criteria. It will use generic GPU kernel as fallback when running on GPU\n",
            "WARNING:tensorflow:Layer Encoder-Last-LSTM will not use cuDNN kernel since it doesn't meet the cuDNN kernel criteria. It will use generic GPU kernel as fallback when running on GPU\n",
            "Epoch 1/30\n",
            "5/5 [==============================] - 33s 307ms/step - loss: 10.8087\n",
            "Epoch 2/30\n",
            "5/5 [==============================] - 1s 287ms/step - loss: 10.5811\n",
            "Epoch 3/30\n",
            "5/5 [==============================] - 1s 280ms/step - loss: 9.2595\n",
            "Epoch 4/30\n",
            "5/5 [==============================] - 1s 299ms/step - loss: 7.6142\n",
            "Epoch 5/30\n",
            "5/5 [==============================] - 1s 287ms/step - loss: 5.7960\n",
            "Epoch 6/30\n",
            "5/5 [==============================] - 1s 297ms/step - loss: 4.3162\n",
            "Epoch 7/30\n",
            "5/5 [==============================] - 1s 287ms/step - loss: 3.2351\n",
            "Epoch 8/30\n",
            "5/5 [==============================] - 1s 295ms/step - loss: 2.8825\n",
            "Epoch 9/30\n",
            "5/5 [==============================] - 1s 277ms/step - loss: 2.9728\n",
            "Epoch 10/30\n",
            "5/5 [==============================] - 1s 305ms/step - loss: 2.9816\n",
            "Epoch 11/30\n",
            "5/5 [==============================] - 1s 297ms/step - loss: 2.8705\n",
            "Epoch 12/30\n",
            "5/5 [==============================] - 1s 290ms/step - loss: 2.7631\n",
            "Epoch 13/30\n",
            "5/5 [==============================] - 1s 297ms/step - loss: 2.8418\n",
            "Epoch 14/30\n",
            "5/5 [==============================] - 1s 276ms/step - loss: 2.8089\n",
            "Epoch 15/30\n",
            "5/5 [==============================] - 1s 279ms/step - loss: 2.8055\n",
            "Epoch 16/30\n",
            "5/5 [==============================] - 2s 295ms/step - loss: 2.8104\n",
            "Epoch 17/30\n",
            "5/5 [==============================] - 1s 289ms/step - loss: 2.8281\n",
            "Epoch 18/30\n",
            "5/5 [==============================] - 1s 286ms/step - loss: 2.7162\n",
            "Epoch 19/30\n",
            "5/5 [==============================] - 1s 278ms/step - loss: 2.7948\n",
            "Epoch 20/30\n",
            "5/5 [==============================] - 1s 273ms/step - loss: 2.7004\n",
            "Epoch 21/30\n",
            "5/5 [==============================] - 1s 286ms/step - loss: 2.7930\n",
            "Epoch 22/30\n",
            "5/5 [==============================] - 1s 289ms/step - loss: 2.7686\n",
            "Epoch 23/30\n",
            "5/5 [==============================] - 1s 291ms/step - loss: 2.7342\n",
            "Epoch 24/30\n",
            "5/5 [==============================] - 1s 284ms/step - loss: 2.7676\n",
            "Epoch 25/30\n",
            "5/5 [==============================] - 1s 306ms/step - loss: 2.7370\n",
            "Epoch 26/30\n",
            "5/5 [==============================] - 1s 288ms/step - loss: 2.7742\n",
            "Epoch 27/30\n",
            "5/5 [==============================] - 2s 308ms/step - loss: 2.8079\n",
            "Epoch 28/30\n",
            "5/5 [==============================] - 1s 297ms/step - loss: 2.7636\n",
            "Epoch 29/30\n",
            "5/5 [==============================] - 2s 316ms/step - loss: 2.7805\n",
            "Epoch 30/30\n",
            "5/5 [==============================] - 1s 289ms/step - loss: 2.7688\n"
          ],
          "name": "stdout"
        }
      ]
    },
    {
      "cell_type": "markdown",
      "metadata": {
        "id": "zemREIJk9-st"
      },
      "source": [
        "## Autoencoder embeddings"
      ]
    },
    {
      "cell_type": "code",
      "metadata": {
        "id": "V5aaHRE0qky6",
        "colab": {
          "base_uri": "https://localhost:8080/"
        },
        "outputId": "f3ebc854-c616-4bdf-a03a-d64e1dcdacc7"
      },
      "source": [
        "autoencoder_encoded_input = []\n",
        "i = 0\n",
        "for s in sentences[:15]:\n",
        "    print(i,end='')\n",
        "    sentence_matrix = []\n",
        "    for word in s:\n",
        "        seq = tokenizer.texts_to_sequences([word])\n",
        "        pad_seq = pad_sequences(seq, maxlen)\n",
        "        sentence_vec = encoder_model.predict(pad_seq)[0]\n",
        "        sentence_matrix.append(sentence_vec)\n",
        "    autoencoder_encoded_input.append(np.array(sentence_matrix))\n",
        "    print(\"\\r\",end='')\n",
        "    i+=1"
      ],
      "execution_count": 67,
      "outputs": [
        {
          "output_type": "stream",
          "text": [
            ""
          ],
          "name": "stdout"
        }
      ]
    },
    {
      "cell_type": "markdown",
      "metadata": {
        "id": "bqCJR9ad-L9B"
      },
      "source": [
        "### K means"
      ]
    },
    {
      "cell_type": "code",
      "metadata": {
        "colab": {
          "base_uri": "https://localhost:8080/"
        },
        "id": "xbt2uXcl-L9K",
        "outputId": "7403f1b7-7c05-4bba-8e85-b5ebc4585818"
      },
      "source": [
        "chunked_sentence_labels = k_means_clustering(autoencoder_encoded_input, cluster_count)\n",
        "print_chunked_sentences(sentences, chunked_sentence_labels, output_display_count)"
      ],
      "execution_count": 68,
      "outputs": [
        {
          "output_type": "stream",
          "text": [
            "\u001b[1m\u001b[34mपूर्ण\u001b[0m \u001b[1m\u001b[36mप्रतिबंध\u001b[0m \u001b[1m\u001b[35mहटाओ\u001b[0m \u001b[1m\u001b[36m:\u001b[0m \u001b[1m\u001b[36mइराक\u001b[0m \n",
            "----------------------------------------\n",
            "\u001b[1m\u001b[36mइराक\u001b[0m \u001b[1m\u001b[35mके\u001b[0m \u001b[1m\u001b[36mविदेश\u001b[0m \u001b[1m\u001b[34mमंत्री\u001b[0m \u001b[1m\u001b[35mने\u001b[0m \u001b[1m\u001b[36mअमरीका\u001b[0m \u001b[1m\u001b[35mके\u001b[0m \u001b[1m\u001b[36mउस\u001b[0m \u001b[1m\u001b[34mप्रस्ताव\u001b[0m \u001b[1m\u001b[35mका\u001b[0m \u001b[1m\u001b[36mमजाक\u001b[0m \u001b[1m\u001b[36mउड़ाया\u001b[0m \u001b[1m\u001b[36mहै\u001b[0m \u001b[1m\u001b[36m,\u001b[0m \u001b[1m\u001b[36mजिसमें\u001b[0m \u001b[1m\u001b[36mअमरीका\u001b[0m \u001b[1m\u001b[35mने\u001b[0m \u001b[1m\u001b[36mसंयुक्त\u001b[0m \u001b[1m\u001b[34mराष्ट्र\u001b[0m \u001b[1m\u001b[35mके\u001b[0m \u001b[1m\u001b[34mप्रतिबंधों\u001b[0m \u001b[1m\u001b[35mको\u001b[0m \u001b[1m\u001b[36mइराकी\u001b[0m \u001b[1m\u001b[34mनागरिकों\u001b[0m \u001b[1m\u001b[35mके\u001b[0m \u001b[1m\u001b[35mलिए\u001b[0m \u001b[1m\u001b[36mकम\u001b[0m \u001b[1m\u001b[36mहानिकारक\u001b[0m \u001b[1m\u001b[36mबनाने\u001b[0m \u001b[1m\u001b[35mके\u001b[0m \u001b[1m\u001b[35mलिए\u001b[0m \u001b[1m\u001b[36mकहा\u001b[0m \u001b[1m\u001b[36mहै\u001b[0m \u001b[1m\u001b[36m।\u001b[0m \n",
            "----------------------------------------\n",
            "\u001b[1m\u001b[36mविदेश\u001b[0m \u001b[1m\u001b[34mमंत्री\u001b[0m \u001b[1m\u001b[36mका\u001b[0m \u001b[1m\u001b[36mकहना\u001b[0m \u001b[1m\u001b[35mहै\u001b[0m \u001b[1m\u001b[36mकि\u001b[0m \u001b[1m\u001b[36mचूंकि\u001b[0m \u001b[1m\u001b[36mबगदाद\u001b[0m \u001b[1m\u001b[36mसंयुक्त\u001b[0m \u001b[1m\u001b[34mराष्ट्र\u001b[0m \u001b[1m\u001b[36mकी\u001b[0m \u001b[1m\u001b[34mमांगों\u001b[0m \u001b[1m\u001b[36mका\u001b[0m \u001b[1m\u001b[36mपालन\u001b[0m \u001b[1m\u001b[36mकरते\u001b[0m \u001b[1m\u001b[35mहुए\u001b[0m \u001b[1m\u001b[36mअपने\u001b[0m \u001b[1m\u001b[36mभारी\u001b[0m \u001b[1m\u001b[36mविनाशकारी\u001b[0m \u001b[1m\u001b[34mहथियारों\u001b[0m \u001b[1m\u001b[36mको\u001b[0m \u001b[1m\u001b[36mनष्ट\u001b[0m \u001b[1m\u001b[36mकर\u001b[0m \u001b[1m\u001b[35mरहा\u001b[0m \u001b[1m\u001b[35mहै\u001b[0m \u001b[1m\u001b[36m।\u001b[0m \n",
            "----------------------------------------\n",
            "\u001b[1m\u001b[36mलिहाजा\u001b[0m \u001b[1m\u001b[34mप्रतिबंधों\u001b[0m \u001b[1m\u001b[36mको\u001b[0m \u001b[1m\u001b[36mपूर्ण\u001b[0m \u001b[1m\u001b[34mरूप\u001b[0m \u001b[1m\u001b[36mसे\u001b[0m \u001b[1m\u001b[36mउठा\u001b[0m \u001b[1m\u001b[35mदिया\u001b[0m \u001b[1m\u001b[35mजाना\u001b[0m \u001b[1m\u001b[35mचाहिए\u001b[0m \u001b[1m\u001b[36m।\u001b[0m \n",
            "----------------------------------------\n",
            "\u001b[1m\u001b[35mविदेश\u001b[0m \u001b[1m\u001b[34mमंत्री\u001b[0m \u001b[1m\u001b[36mमोहम्मद\u001b[0m \u001b[1m\u001b[36mसईद\u001b[0m \u001b[1m\u001b[36mका\u001b[0m \u001b[1m\u001b[36mकहना\u001b[0m \u001b[1m\u001b[36mहै\u001b[0m \u001b[1m\u001b[36mकि\u001b[0m \u001b[1m\u001b[36mवे\u001b[0m \u001b[1m\u001b[36mइसे\u001b[0m \u001b[1m\u001b[36m'सुव्यवस्थित\u001b[0m \u001b[1m\u001b[34mप्रतिबंध'\u001b[0m \u001b[1m\u001b[36mकह\u001b[0m \u001b[1m\u001b[36mकर\u001b[0m \u001b[1m\u001b[36mआम\u001b[0m \u001b[1m\u001b[34mराय\u001b[0m \u001b[1m\u001b[36mऔर\u001b[0m \u001b[1m\u001b[35mसुरक्षा\u001b[0m \u001b[1m\u001b[34mपरिषद\u001b[0m \u001b[1m\u001b[36mको\u001b[0m \u001b[1m\u001b[36mछल\u001b[0m \u001b[1m\u001b[36mरहे\u001b[0m \u001b[1m\u001b[36mहैं\u001b[0m \u001b[1m\u001b[36m।\u001b[0m \n",
            "----------------------------------------\n",
            "\u001b[1m\u001b[36mपाकिस्तान\u001b[0m \u001b[1m\u001b[35mकी\u001b[0m \u001b[1m\u001b[36mपूर्व\u001b[0m \u001b[1m\u001b[34mप्रधानमंत्री\u001b[0m \u001b[1m\u001b[36mबेनजीर\u001b[0m \u001b[1m\u001b[36mभुट्टो\u001b[0m \u001b[1m\u001b[35mपर\u001b[0m \u001b[1m\u001b[36mलगे\u001b[0m \u001b[1m\u001b[34mभ्रष्टाचार\u001b[0m \u001b[1m\u001b[35mके\u001b[0m \u001b[1m\u001b[34mआरोपों\u001b[0m \u001b[1m\u001b[35mके\u001b[0m \u001b[1m\u001b[35mखिलाफ\u001b[0m \u001b[1m\u001b[36mभुट्टो\u001b[0m \u001b[1m\u001b[35mद्वारा\u001b[0m \u001b[1m\u001b[36mदायर\u001b[0m \u001b[1m\u001b[36mकी\u001b[0m \u001b[1m\u001b[36mगई\u001b[0m \u001b[1m\u001b[34mयाचिका\u001b[0m \u001b[1m\u001b[35mकी\u001b[0m \u001b[1m\u001b[34mसुनवाई\u001b[0m \u001b[1m\u001b[34mमंगलवार\u001b[0m \u001b[1m\u001b[35mको\u001b[0m \u001b[1m\u001b[34mवकीलों\u001b[0m \u001b[1m\u001b[35mकी\u001b[0m \u001b[1m\u001b[34mहड़ताल\u001b[0m \u001b[1m\u001b[35mके\u001b[0m \u001b[1m\u001b[35mकारण\u001b[0m \u001b[1m\u001b[36mस्थगित\u001b[0m \u001b[1m\u001b[36mकर\u001b[0m \u001b[1m\u001b[36mदी\u001b[0m \u001b[1m\u001b[36mगई\u001b[0m \u001b[1m\u001b[36m।\u001b[0m \n",
            "----------------------------------------\n",
            "\u001b[1m\u001b[36mसिंध\u001b[0m \u001b[1m\u001b[36mहाईकोर्ट\u001b[0m \u001b[1m\u001b[36mबार\u001b[0m \u001b[1m\u001b[36mएसोसिएशन\u001b[0m \u001b[1m\u001b[35mके\u001b[0m \u001b[1m\u001b[34mअध्यक्ष\u001b[0m \u001b[1m\u001b[36mरशीद\u001b[0m \u001b[1m\u001b[36mरिजवी\u001b[0m \u001b[1m\u001b[35mके\u001b[0m \u001b[1m\u001b[35mमुताबिक\u001b[0m \u001b[1m\u001b[36mयह\u001b[0m \u001b[1m\u001b[34mहड़ताल\u001b[0m \u001b[1m\u001b[36mउच्च\u001b[0m \u001b[1m\u001b[36mन्यायालय\u001b[0m \u001b[1m\u001b[36mऔर\u001b[0m \u001b[1m\u001b[36mनिचली\u001b[0m \u001b[1m\u001b[34mअदालतों\u001b[0m \u001b[1m\u001b[35mके\u001b[0m \u001b[1m\u001b[34mस्तर\u001b[0m \u001b[1m\u001b[35mपर\u001b[0m \u001b[1m\u001b[36mसफल\u001b[0m \u001b[1m\u001b[36mरही\u001b[0m \u001b[1m\u001b[36m।\u001b[0m \n",
            "----------------------------------------\n",
            "\u001b[1m\u001b[36mदेश\u001b[0m \u001b[1m\u001b[34mमें\u001b[0m \u001b[1m\u001b[36mपुन\u001b[0m \u001b[1m\u001b[36m:\u001b[0m \u001b[1m\u001b[36mप्रजातंत्र\u001b[0m \u001b[1m\u001b[34mकी\u001b[0m \u001b[1m\u001b[36mस्थापना\u001b[0m \u001b[1m\u001b[34mकी\u001b[0m \u001b[1m\u001b[36mमांग\u001b[0m \u001b[1m\u001b[34mको\u001b[0m \u001b[1m\u001b[36mलेकर\u001b[0m \u001b[1m\u001b[36mयह\u001b[0m \u001b[1m\u001b[36mहड़ताल\u001b[0m \u001b[1m\u001b[36mकी\u001b[0m \u001b[1m\u001b[35mगई\u001b[0m \u001b[1m\u001b[35mथी\u001b[0m \u001b[1m\u001b[36m।\u001b[0m \n",
            "----------------------------------------\n",
            "\u001b[1m\u001b[36mसुप्रीम\u001b[0m \u001b[1m\u001b[36mकोर्ट\u001b[0m \u001b[1m\u001b[34mमें\u001b[0m \u001b[1m\u001b[36mभुट्टो\u001b[0m \u001b[1m\u001b[34mके\u001b[0m \u001b[1m\u001b[36mउक्त\u001b[0m \u001b[1m\u001b[36mमामले\u001b[0m \u001b[1m\u001b[34mकी\u001b[0m \u001b[1m\u001b[36mसुनवाई\u001b[0m \u001b[1m\u001b[36mसोमवार\u001b[0m \u001b[1m\u001b[34mसे\u001b[0m \u001b[1m\u001b[36mशुरू\u001b[0m \u001b[1m\u001b[36mहुई\u001b[0m \u001b[1m\u001b[35m,\u001b[0m \u001b[1m\u001b[36mजो\u001b[0m \u001b[1m\u001b[36mफिलहाल\u001b[0m \u001b[1m\u001b[36mबुधवार\u001b[0m \u001b[1m\u001b[34mतक\u001b[0m \u001b[1m\u001b[36mस्थगित\u001b[0m \u001b[1m\u001b[36mहै\u001b[0m \u001b[1m\u001b[35m।\u001b[0m \n",
            "----------------------------------------\n",
            "\u001b[1m\u001b[34mमुशर्रफ\u001b[0m \u001b[1m\u001b[36mसऊदी\u001b[0m \u001b[1m\u001b[34mअरब\u001b[0m \u001b[1m\u001b[36mको\u001b[0m \u001b[1m\u001b[35mमनाएंगे\u001b[0m \n",
            "----------------------------------------\n"
          ],
          "name": "stdout"
        }
      ]
    },
    {
      "cell_type": "markdown",
      "metadata": {
        "id": "I-5oNdDe-L9O"
      },
      "source": [
        "### DBscan"
      ]
    },
    {
      "cell_type": "code",
      "metadata": {
        "colab": {
          "base_uri": "https://localhost:8080/"
        },
        "id": "WEvpUjBu-L9Q",
        "outputId": "e75f9822-d425-4252-82d4-0aea01c3c15d"
      },
      "source": [
        "chunked_sentence_labels = DBscan_clustering(autoencoder_encoded_input)\n",
        "print_chunked_sentences(sentences, chunked_sentence_labels, output_display_count)"
      ],
      "execution_count": 69,
      "outputs": [
        {
          "output_type": "stream",
          "text": [
            "\u001b[1m\u001b[31mपूर्ण\u001b[0m \u001b[1m\u001b[31mप्रतिबंध\u001b[0m \u001b[1m\u001b[31mहटाओ\u001b[0m \u001b[1m\u001b[31m:\u001b[0m \u001b[1m\u001b[31mइराक\u001b[0m \n",
            "----------------------------------------\n",
            "\u001b[1m\u001b[31mइराक\u001b[0m \u001b[1m\u001b[33mके\u001b[0m \u001b[1m\u001b[31mविदेश\u001b[0m \u001b[1m\u001b[31mमंत्री\u001b[0m \u001b[1m\u001b[31mने\u001b[0m \u001b[1m\u001b[31mअमरीका\u001b[0m \u001b[1m\u001b[33mके\u001b[0m \u001b[1m\u001b[31mउस\u001b[0m \u001b[1m\u001b[31mप्रस्ताव\u001b[0m \u001b[1m\u001b[31mका\u001b[0m \u001b[1m\u001b[31mमजाक\u001b[0m \u001b[1m\u001b[31mउड़ाया\u001b[0m \u001b[1m\u001b[31mहै\u001b[0m \u001b[1m\u001b[31m,\u001b[0m \u001b[1m\u001b[31mजिसमें\u001b[0m \u001b[1m\u001b[31mअमरीका\u001b[0m \u001b[1m\u001b[31mने\u001b[0m \u001b[1m\u001b[31mसंयुक्त\u001b[0m \u001b[1m\u001b[31mराष्ट्र\u001b[0m \u001b[1m\u001b[33mके\u001b[0m \u001b[1m\u001b[31mप्रतिबंधों\u001b[0m \u001b[1m\u001b[31mको\u001b[0m \u001b[1m\u001b[31mइराकी\u001b[0m \u001b[1m\u001b[31mनागरिकों\u001b[0m \u001b[1m\u001b[33mके\u001b[0m \u001b[1m\u001b[31mलिए\u001b[0m \u001b[1m\u001b[31mकम\u001b[0m \u001b[1m\u001b[31mहानिकारक\u001b[0m \u001b[1m\u001b[31mबनाने\u001b[0m \u001b[1m\u001b[33mके\u001b[0m \u001b[1m\u001b[31mलिए\u001b[0m \u001b[1m\u001b[31mकहा\u001b[0m \u001b[1m\u001b[31mहै\u001b[0m \u001b[1m\u001b[31m।\u001b[0m \n",
            "----------------------------------------\n",
            "\u001b[1m\u001b[31mविदेश\u001b[0m \u001b[1m\u001b[31mमंत्री\u001b[0m \u001b[1m\u001b[31mका\u001b[0m \u001b[1m\u001b[31mकहना\u001b[0m \u001b[1m\u001b[31mहै\u001b[0m \u001b[1m\u001b[31mकि\u001b[0m \u001b[1m\u001b[31mचूंकि\u001b[0m \u001b[1m\u001b[31mबगदाद\u001b[0m \u001b[1m\u001b[31mसंयुक्त\u001b[0m \u001b[1m\u001b[31mराष्ट्र\u001b[0m \u001b[1m\u001b[31mकी\u001b[0m \u001b[1m\u001b[31mमांगों\u001b[0m \u001b[1m\u001b[31mका\u001b[0m \u001b[1m\u001b[31mपालन\u001b[0m \u001b[1m\u001b[31mकरते\u001b[0m \u001b[1m\u001b[31mहुए\u001b[0m \u001b[1m\u001b[31mअपने\u001b[0m \u001b[1m\u001b[31mभारी\u001b[0m \u001b[1m\u001b[31mविनाशकारी\u001b[0m \u001b[1m\u001b[31mहथियारों\u001b[0m \u001b[1m\u001b[31mको\u001b[0m \u001b[1m\u001b[31mनष्ट\u001b[0m \u001b[1m\u001b[31mकर\u001b[0m \u001b[1m\u001b[31mरहा\u001b[0m \u001b[1m\u001b[31mहै\u001b[0m \u001b[1m\u001b[31m।\u001b[0m \n",
            "----------------------------------------\n",
            "\u001b[1m\u001b[31mलिहाजा\u001b[0m \u001b[1m\u001b[31mप्रतिबंधों\u001b[0m \u001b[1m\u001b[31mको\u001b[0m \u001b[1m\u001b[31mपूर्ण\u001b[0m \u001b[1m\u001b[31mरूप\u001b[0m \u001b[1m\u001b[31mसे\u001b[0m \u001b[1m\u001b[31mउठा\u001b[0m \u001b[1m\u001b[31mदिया\u001b[0m \u001b[1m\u001b[31mजाना\u001b[0m \u001b[1m\u001b[31mचाहिए\u001b[0m \u001b[1m\u001b[31m।\u001b[0m \n",
            "----------------------------------------\n",
            "\u001b[1m\u001b[31mविदेश\u001b[0m \u001b[1m\u001b[31mमंत्री\u001b[0m \u001b[1m\u001b[31mमोहम्मद\u001b[0m \u001b[1m\u001b[31mसईद\u001b[0m \u001b[1m\u001b[31mका\u001b[0m \u001b[1m\u001b[31mकहना\u001b[0m \u001b[1m\u001b[31mहै\u001b[0m \u001b[1m\u001b[31mकि\u001b[0m \u001b[1m\u001b[31mवे\u001b[0m \u001b[1m\u001b[31mइसे\u001b[0m \u001b[1m\u001b[31m'सुव्यवस्थित\u001b[0m \u001b[1m\u001b[31mप्रतिबंध'\u001b[0m \u001b[1m\u001b[31mकह\u001b[0m \u001b[1m\u001b[31mकर\u001b[0m \u001b[1m\u001b[31mआम\u001b[0m \u001b[1m\u001b[31mराय\u001b[0m \u001b[1m\u001b[31mऔर\u001b[0m \u001b[1m\u001b[31mसुरक्षा\u001b[0m \u001b[1m\u001b[31mपरिषद\u001b[0m \u001b[1m\u001b[31mको\u001b[0m \u001b[1m\u001b[31mछल\u001b[0m \u001b[1m\u001b[31mरहे\u001b[0m \u001b[1m\u001b[31mहैं\u001b[0m \u001b[1m\u001b[31m।\u001b[0m \n",
            "----------------------------------------\n",
            "\u001b[1m\u001b[31mपाकिस्तान\u001b[0m \u001b[1m\u001b[31mकी\u001b[0m \u001b[1m\u001b[31mपूर्व\u001b[0m \u001b[1m\u001b[31mप्रधानमंत्री\u001b[0m \u001b[1m\u001b[31mबेनजीर\u001b[0m \u001b[1m\u001b[31mभुट्टो\u001b[0m \u001b[1m\u001b[31mपर\u001b[0m \u001b[1m\u001b[31mलगे\u001b[0m \u001b[1m\u001b[31mभ्रष्टाचार\u001b[0m \u001b[1m\u001b[31mके\u001b[0m \u001b[1m\u001b[31mआरोपों\u001b[0m \u001b[1m\u001b[31mके\u001b[0m \u001b[1m\u001b[31mखिलाफ\u001b[0m \u001b[1m\u001b[31mभुट्टो\u001b[0m \u001b[1m\u001b[31mद्वारा\u001b[0m \u001b[1m\u001b[31mदायर\u001b[0m \u001b[1m\u001b[31mकी\u001b[0m \u001b[1m\u001b[31mगई\u001b[0m \u001b[1m\u001b[31mयाचिका\u001b[0m \u001b[1m\u001b[31mकी\u001b[0m \u001b[1m\u001b[31mसुनवाई\u001b[0m \u001b[1m\u001b[31mमंगलवार\u001b[0m \u001b[1m\u001b[31mको\u001b[0m \u001b[1m\u001b[31mवकीलों\u001b[0m \u001b[1m\u001b[31mकी\u001b[0m \u001b[1m\u001b[31mहड़ताल\u001b[0m \u001b[1m\u001b[31mके\u001b[0m \u001b[1m\u001b[31mकारण\u001b[0m \u001b[1m\u001b[31mस्थगित\u001b[0m \u001b[1m\u001b[31mकर\u001b[0m \u001b[1m\u001b[31mदी\u001b[0m \u001b[1m\u001b[31mगई\u001b[0m \u001b[1m\u001b[31m।\u001b[0m \n",
            "----------------------------------------\n",
            "\u001b[1m\u001b[31mसिंध\u001b[0m \u001b[1m\u001b[31mहाईकोर्ट\u001b[0m \u001b[1m\u001b[31mबार\u001b[0m \u001b[1m\u001b[31mएसोसिएशन\u001b[0m \u001b[1m\u001b[31mके\u001b[0m \u001b[1m\u001b[31mअध्यक्ष\u001b[0m \u001b[1m\u001b[31mरशीद\u001b[0m \u001b[1m\u001b[31mरिजवी\u001b[0m \u001b[1m\u001b[31mके\u001b[0m \u001b[1m\u001b[31mमुताबिक\u001b[0m \u001b[1m\u001b[31mयह\u001b[0m \u001b[1m\u001b[31mहड़ताल\u001b[0m \u001b[1m\u001b[31mउच्च\u001b[0m \u001b[1m\u001b[31mन्यायालय\u001b[0m \u001b[1m\u001b[31mऔर\u001b[0m \u001b[1m\u001b[31mनिचली\u001b[0m \u001b[1m\u001b[31mअदालतों\u001b[0m \u001b[1m\u001b[31mके\u001b[0m \u001b[1m\u001b[31mस्तर\u001b[0m \u001b[1m\u001b[31mपर\u001b[0m \u001b[1m\u001b[31mसफल\u001b[0m \u001b[1m\u001b[31mरही\u001b[0m \u001b[1m\u001b[31m।\u001b[0m \n",
            "----------------------------------------\n",
            "\u001b[1m\u001b[31mदेश\u001b[0m \u001b[1m\u001b[31mमें\u001b[0m \u001b[1m\u001b[31mपुन\u001b[0m \u001b[1m\u001b[31m:\u001b[0m \u001b[1m\u001b[31mप्रजातंत्र\u001b[0m \u001b[1m\u001b[31mकी\u001b[0m \u001b[1m\u001b[31mस्थापना\u001b[0m \u001b[1m\u001b[31mकी\u001b[0m \u001b[1m\u001b[31mमांग\u001b[0m \u001b[1m\u001b[31mको\u001b[0m \u001b[1m\u001b[31mलेकर\u001b[0m \u001b[1m\u001b[31mयह\u001b[0m \u001b[1m\u001b[31mहड़ताल\u001b[0m \u001b[1m\u001b[31mकी\u001b[0m \u001b[1m\u001b[31mगई\u001b[0m \u001b[1m\u001b[31mथी\u001b[0m \u001b[1m\u001b[31m।\u001b[0m \n",
            "----------------------------------------\n",
            "\u001b[1m\u001b[31mसुप्रीम\u001b[0m \u001b[1m\u001b[31mकोर्ट\u001b[0m \u001b[1m\u001b[31mमें\u001b[0m \u001b[1m\u001b[31mभुट्टो\u001b[0m \u001b[1m\u001b[31mके\u001b[0m \u001b[1m\u001b[31mउक्त\u001b[0m \u001b[1m\u001b[31mमामले\u001b[0m \u001b[1m\u001b[31mकी\u001b[0m \u001b[1m\u001b[31mसुनवाई\u001b[0m \u001b[1m\u001b[31mसोमवार\u001b[0m \u001b[1m\u001b[31mसे\u001b[0m \u001b[1m\u001b[31mशुरू\u001b[0m \u001b[1m\u001b[31mहुई\u001b[0m \u001b[1m\u001b[31m,\u001b[0m \u001b[1m\u001b[31mजो\u001b[0m \u001b[1m\u001b[31mफिलहाल\u001b[0m \u001b[1m\u001b[31mबुधवार\u001b[0m \u001b[1m\u001b[31mतक\u001b[0m \u001b[1m\u001b[31mस्थगित\u001b[0m \u001b[1m\u001b[31mहै\u001b[0m \u001b[1m\u001b[31m।\u001b[0m \n",
            "----------------------------------------\n",
            "\u001b[1m\u001b[31mमुशर्रफ\u001b[0m \u001b[1m\u001b[31mसऊदी\u001b[0m \u001b[1m\u001b[31mअरब\u001b[0m \u001b[1m\u001b[31mको\u001b[0m \u001b[1m\u001b[31mमनाएंगे\u001b[0m \n",
            "----------------------------------------\n"
          ],
          "name": "stdout"
        }
      ]
    },
    {
      "cell_type": "markdown",
      "metadata": {
        "id": "QCGtu3hY-L9R"
      },
      "source": [
        "### Agglomerative clustering"
      ]
    },
    {
      "cell_type": "code",
      "metadata": {
        "colab": {
          "base_uri": "https://localhost:8080/"
        },
        "id": "hHE19xol-L9S",
        "outputId": "6ca0e94e-1b9b-43fc-dde8-e81f2290b28f"
      },
      "source": [
        "chunked_sentence_labels = agglomerative_clustering(autoencoder_encoded_input, cluster_count)\n",
        "print_chunked_sentences(sentences, chunked_sentence_labels, output_display_count)"
      ],
      "execution_count": 71,
      "outputs": [
        {
          "output_type": "stream",
          "text": [
            "\u001b[1m\u001b[35mपूर्ण\u001b[0m \u001b[1m\u001b[31mप्रतिबंध\u001b[0m \u001b[1m\u001b[31mहटाओ\u001b[0m \u001b[1m\u001b[34m:\u001b[0m \u001b[1m\u001b[35mइराक\u001b[0m \n",
            "----------------------------------------\n",
            "\u001b[1m\u001b[35mइराक\u001b[0m \u001b[1m\u001b[31mके\u001b[0m \u001b[1m\u001b[35mविदेश\u001b[0m \u001b[1m\u001b[35mमंत्री\u001b[0m \u001b[1m\u001b[35mने\u001b[0m \u001b[1m\u001b[35mअमरीका\u001b[0m \u001b[1m\u001b[31mके\u001b[0m \u001b[1m\u001b[35mउस\u001b[0m \u001b[1m\u001b[35mप्रस्ताव\u001b[0m \u001b[1m\u001b[31mका\u001b[0m \u001b[1m\u001b[35mमजाक\u001b[0m \u001b[1m\u001b[35mउड़ाया\u001b[0m \u001b[1m\u001b[35mहै\u001b[0m \u001b[1m\u001b[34m,\u001b[0m \u001b[1m\u001b[35mजिसमें\u001b[0m \u001b[1m\u001b[35mअमरीका\u001b[0m \u001b[1m\u001b[35mने\u001b[0m \u001b[1m\u001b[35mसंयुक्त\u001b[0m \u001b[1m\u001b[35mराष्ट्र\u001b[0m \u001b[1m\u001b[31mके\u001b[0m \u001b[1m\u001b[35mप्रतिबंधों\u001b[0m \u001b[1m\u001b[35mको\u001b[0m \u001b[1m\u001b[35mइराकी\u001b[0m \u001b[1m\u001b[35mनागरिकों\u001b[0m \u001b[1m\u001b[31mके\u001b[0m \u001b[1m\u001b[35mलिए\u001b[0m \u001b[1m\u001b[35mकम\u001b[0m \u001b[1m\u001b[35mहानिकारक\u001b[0m \u001b[1m\u001b[35mबनाने\u001b[0m \u001b[1m\u001b[31mके\u001b[0m \u001b[1m\u001b[35mलिए\u001b[0m \u001b[1m\u001b[35mकहा\u001b[0m \u001b[1m\u001b[35mहै\u001b[0m \u001b[1m\u001b[31m।\u001b[0m \n",
            "----------------------------------------\n",
            "\u001b[1m\u001b[35mविदेश\u001b[0m \u001b[1m\u001b[35mमंत्री\u001b[0m \u001b[1m\u001b[34mका\u001b[0m \u001b[1m\u001b[31mकहना\u001b[0m \u001b[1m\u001b[35mहै\u001b[0m \u001b[1m\u001b[35mकि\u001b[0m \u001b[1m\u001b[34mचूंकि\u001b[0m \u001b[1m\u001b[31mबगदाद\u001b[0m \u001b[1m\u001b[31mसंयुक्त\u001b[0m \u001b[1m\u001b[35mराष्ट्र\u001b[0m \u001b[1m\u001b[35mकी\u001b[0m \u001b[1m\u001b[35mमांगों\u001b[0m \u001b[1m\u001b[34mका\u001b[0m \u001b[1m\u001b[35mपालन\u001b[0m \u001b[1m\u001b[35mकरते\u001b[0m \u001b[1m\u001b[31mहुए\u001b[0m \u001b[1m\u001b[35mअपने\u001b[0m \u001b[1m\u001b[35mभारी\u001b[0m \u001b[1m\u001b[35mविनाशकारी\u001b[0m \u001b[1m\u001b[35mहथियारों\u001b[0m \u001b[1m\u001b[35mको\u001b[0m \u001b[1m\u001b[35mनष्ट\u001b[0m \u001b[1m\u001b[34mकर\u001b[0m \u001b[1m\u001b[35mरहा\u001b[0m \u001b[1m\u001b[35mहै\u001b[0m \u001b[1m\u001b[34m।\u001b[0m \n",
            "----------------------------------------\n",
            "\u001b[1m\u001b[35mलिहाजा\u001b[0m \u001b[1m\u001b[34mप्रतिबंधों\u001b[0m \u001b[1m\u001b[34mको\u001b[0m \u001b[1m\u001b[35mपूर्ण\u001b[0m \u001b[1m\u001b[34mरूप\u001b[0m \u001b[1m\u001b[31mसे\u001b[0m \u001b[1m\u001b[35mउठा\u001b[0m \u001b[1m\u001b[34mदिया\u001b[0m \u001b[1m\u001b[35mजाना\u001b[0m \u001b[1m\u001b[35mचाहिए\u001b[0m \u001b[1m\u001b[35m।\u001b[0m \n",
            "----------------------------------------\n",
            "\u001b[1m\u001b[31mविदेश\u001b[0m \u001b[1m\u001b[31mमंत्री\u001b[0m \u001b[1m\u001b[34mमोहम्मद\u001b[0m \u001b[1m\u001b[35mसईद\u001b[0m \u001b[1m\u001b[34mका\u001b[0m \u001b[1m\u001b[35mकहना\u001b[0m \u001b[1m\u001b[31mहै\u001b[0m \u001b[1m\u001b[31mकि\u001b[0m \u001b[1m\u001b[31mवे\u001b[0m \u001b[1m\u001b[31mइसे\u001b[0m \u001b[1m\u001b[31m'सुव्यवस्थित\u001b[0m \u001b[1m\u001b[35mप्रतिबंध'\u001b[0m \u001b[1m\u001b[35mकह\u001b[0m \u001b[1m\u001b[34mकर\u001b[0m \u001b[1m\u001b[35mआम\u001b[0m \u001b[1m\u001b[31mराय\u001b[0m \u001b[1m\u001b[31mऔर\u001b[0m \u001b[1m\u001b[31mसुरक्षा\u001b[0m \u001b[1m\u001b[31mपरिषद\u001b[0m \u001b[1m\u001b[31mको\u001b[0m \u001b[1m\u001b[34mछल\u001b[0m \u001b[1m\u001b[31mरहे\u001b[0m \u001b[1m\u001b[35mहैं\u001b[0m \u001b[1m\u001b[35m।\u001b[0m \n",
            "----------------------------------------\n",
            "\u001b[1m\u001b[35mपाकिस्तान\u001b[0m \u001b[1m\u001b[34mकी\u001b[0m \u001b[1m\u001b[31mपूर्व\u001b[0m \u001b[1m\u001b[34mप्रधानमंत्री\u001b[0m \u001b[1m\u001b[31mबेनजीर\u001b[0m \u001b[1m\u001b[34mभुट्टो\u001b[0m \u001b[1m\u001b[35mपर\u001b[0m \u001b[1m\u001b[34mलगे\u001b[0m \u001b[1m\u001b[34mभ्रष्टाचार\u001b[0m \u001b[1m\u001b[35mके\u001b[0m \u001b[1m\u001b[35mआरोपों\u001b[0m \u001b[1m\u001b[35mके\u001b[0m \u001b[1m\u001b[34mखिलाफ\u001b[0m \u001b[1m\u001b[34mभुट्टो\u001b[0m \u001b[1m\u001b[34mद्वारा\u001b[0m \u001b[1m\u001b[34mदायर\u001b[0m \u001b[1m\u001b[34mकी\u001b[0m \u001b[1m\u001b[34mगई\u001b[0m \u001b[1m\u001b[34mयाचिका\u001b[0m \u001b[1m\u001b[34mकी\u001b[0m \u001b[1m\u001b[34mसुनवाई\u001b[0m \u001b[1m\u001b[34mमंगलवार\u001b[0m \u001b[1m\u001b[34mको\u001b[0m \u001b[1m\u001b[34mवकीलों\u001b[0m \u001b[1m\u001b[34mकी\u001b[0m \u001b[1m\u001b[31mहड़ताल\u001b[0m \u001b[1m\u001b[35mके\u001b[0m \u001b[1m\u001b[31mकारण\u001b[0m \u001b[1m\u001b[35mस्थगित\u001b[0m \u001b[1m\u001b[35mकर\u001b[0m \u001b[1m\u001b[34mदी\u001b[0m \u001b[1m\u001b[34mगई\u001b[0m \u001b[1m\u001b[35m।\u001b[0m \n",
            "----------------------------------------\n",
            "\u001b[1m\u001b[35mसिंध\u001b[0m \u001b[1m\u001b[35mहाईकोर्ट\u001b[0m \u001b[1m\u001b[35mबार\u001b[0m \u001b[1m\u001b[35mएसोसिएशन\u001b[0m \u001b[1m\u001b[34mके\u001b[0m \u001b[1m\u001b[35mअध्यक्ष\u001b[0m \u001b[1m\u001b[35mरशीद\u001b[0m \u001b[1m\u001b[35mरिजवी\u001b[0m \u001b[1m\u001b[34mके\u001b[0m \u001b[1m\u001b[35mमुताबिक\u001b[0m \u001b[1m\u001b[31mयह\u001b[0m \u001b[1m\u001b[35mहड़ताल\u001b[0m \u001b[1m\u001b[35mउच्च\u001b[0m \u001b[1m\u001b[34mन्यायालय\u001b[0m \u001b[1m\u001b[35mऔर\u001b[0m \u001b[1m\u001b[35mनिचली\u001b[0m \u001b[1m\u001b[35mअदालतों\u001b[0m \u001b[1m\u001b[34mके\u001b[0m \u001b[1m\u001b[31mस्तर\u001b[0m \u001b[1m\u001b[34mपर\u001b[0m \u001b[1m\u001b[34mसफल\u001b[0m \u001b[1m\u001b[34mरही\u001b[0m \u001b[1m\u001b[34m।\u001b[0m \n",
            "----------------------------------------\n",
            "\u001b[1m\u001b[35mदेश\u001b[0m \u001b[1m\u001b[31mमें\u001b[0m \u001b[1m\u001b[35mपुन\u001b[0m \u001b[1m\u001b[34m:\u001b[0m \u001b[1m\u001b[31mप्रजातंत्र\u001b[0m \u001b[1m\u001b[31mकी\u001b[0m \u001b[1m\u001b[35mस्थापना\u001b[0m \u001b[1m\u001b[31mकी\u001b[0m \u001b[1m\u001b[31mमांग\u001b[0m \u001b[1m\u001b[31mको\u001b[0m \u001b[1m\u001b[31mलेकर\u001b[0m \u001b[1m\u001b[35mयह\u001b[0m \u001b[1m\u001b[31mहड़ताल\u001b[0m \u001b[1m\u001b[31mकी\u001b[0m \u001b[1m\u001b[31mगई\u001b[0m \u001b[1m\u001b[35mथी\u001b[0m \u001b[1m\u001b[35m।\u001b[0m \n",
            "----------------------------------------\n",
            "\u001b[1m\u001b[35mसुप्रीम\u001b[0m \u001b[1m\u001b[35mकोर्ट\u001b[0m \u001b[1m\u001b[35mमें\u001b[0m \u001b[1m\u001b[35mभुट्टो\u001b[0m \u001b[1m\u001b[31mके\u001b[0m \u001b[1m\u001b[35mउक्त\u001b[0m \u001b[1m\u001b[31mमामले\u001b[0m \u001b[1m\u001b[35mकी\u001b[0m \u001b[1m\u001b[35mसुनवाई\u001b[0m \u001b[1m\u001b[35mसोमवार\u001b[0m \u001b[1m\u001b[35mसे\u001b[0m \u001b[1m\u001b[35mशुरू\u001b[0m \u001b[1m\u001b[31mहुई\u001b[0m \u001b[1m\u001b[34m,\u001b[0m \u001b[1m\u001b[35mजो\u001b[0m \u001b[1m\u001b[35mफिलहाल\u001b[0m \u001b[1m\u001b[35mबुधवार\u001b[0m \u001b[1m\u001b[35mतक\u001b[0m \u001b[1m\u001b[31mस्थगित\u001b[0m \u001b[1m\u001b[35mहै\u001b[0m \u001b[1m\u001b[31m।\u001b[0m \n",
            "----------------------------------------\n",
            "\u001b[1m\u001b[34mमुशर्रफ\u001b[0m \u001b[1m\u001b[35mसऊदी\u001b[0m \u001b[1m\u001b[31mअरब\u001b[0m \u001b[1m\u001b[34mको\u001b[0m \u001b[1m\u001b[35mमनाएंगे\u001b[0m \n",
            "----------------------------------------\n"
          ],
          "name": "stdout"
        }
      ]
    },
    {
      "cell_type": "markdown",
      "metadata": {
        "id": "Su4sUBrB_Fsw"
      },
      "source": [
        "## POS tags + Autoencoder embeddings"
      ]
    },
    {
      "cell_type": "code",
      "metadata": {
        "trusted": true,
        "id": "A0tyT_8c_FtC"
      },
      "source": [
        "autoencoder_encoded_with_pos = []\n",
        "for index in range(len(autoencoder_encoded_input)):\n",
        "    autoencoder_encoded_with_pos.append(np.hstack((autoencoder_encoded_input[index], np.array(one_hot_enc_pos_input[index]))))"
      ],
      "execution_count": 80,
      "outputs": []
    },
    {
      "cell_type": "markdown",
      "metadata": {
        "id": "UrG4ozzk_FtF"
      },
      "source": [
        "### K means"
      ]
    },
    {
      "cell_type": "code",
      "metadata": {
        "colab": {
          "base_uri": "https://localhost:8080/"
        },
        "id": "eU6CqPN2_FtG",
        "outputId": "b7356c05-fa60-41a6-fa15-044b59a10f14"
      },
      "source": [
        "chunked_sentence_labels = k_means_clustering(autoencoder_encoded_with_pos, cluster_count)\n",
        "print_chunked_sentences(sentences, chunked_sentence_labels, output_display_count)"
      ],
      "execution_count": 73,
      "outputs": [
        {
          "output_type": "stream",
          "text": [
            "\u001b[1m\u001b[32mपूर्ण\u001b[0m \u001b[1m\u001b[33mप्रतिबंध\u001b[0m \u001b[1m\u001b[31mहटाओ\u001b[0m \u001b[1m\u001b[33m:\u001b[0m \u001b[1m\u001b[33mइराक\u001b[0m \n",
            "----------------------------------------\n",
            "\u001b[1m\u001b[33mइराक\u001b[0m \u001b[1m\u001b[31mके\u001b[0m \u001b[1m\u001b[33mविदेश\u001b[0m \u001b[1m\u001b[32mमंत्री\u001b[0m \u001b[1m\u001b[31mने\u001b[0m \u001b[1m\u001b[33mअमरीका\u001b[0m \u001b[1m\u001b[31mके\u001b[0m \u001b[1m\u001b[33mउस\u001b[0m \u001b[1m\u001b[32mप्रस्ताव\u001b[0m \u001b[1m\u001b[31mका\u001b[0m \u001b[1m\u001b[33mमजाक\u001b[0m \u001b[1m\u001b[33mउड़ाया\u001b[0m \u001b[1m\u001b[33mहै\u001b[0m \u001b[1m\u001b[33m,\u001b[0m \u001b[1m\u001b[33mजिसमें\u001b[0m \u001b[1m\u001b[33mअमरीका\u001b[0m \u001b[1m\u001b[31mने\u001b[0m \u001b[1m\u001b[33mसंयुक्त\u001b[0m \u001b[1m\u001b[32mराष्ट्र\u001b[0m \u001b[1m\u001b[31mके\u001b[0m \u001b[1m\u001b[32mप्रतिबंधों\u001b[0m \u001b[1m\u001b[31mको\u001b[0m \u001b[1m\u001b[33mइराकी\u001b[0m \u001b[1m\u001b[32mनागरिकों\u001b[0m \u001b[1m\u001b[31mके\u001b[0m \u001b[1m\u001b[31mलिए\u001b[0m \u001b[1m\u001b[33mकम\u001b[0m \u001b[1m\u001b[33mहानिकारक\u001b[0m \u001b[1m\u001b[33mबनाने\u001b[0m \u001b[1m\u001b[31mके\u001b[0m \u001b[1m\u001b[31mलिए\u001b[0m \u001b[1m\u001b[33mकहा\u001b[0m \u001b[1m\u001b[33mहै\u001b[0m \u001b[1m\u001b[33m।\u001b[0m \n",
            "----------------------------------------\n",
            "\u001b[1m\u001b[33mविदेश\u001b[0m \u001b[1m\u001b[32mमंत्री\u001b[0m \u001b[1m\u001b[33mका\u001b[0m \u001b[1m\u001b[33mकहना\u001b[0m \u001b[1m\u001b[31mहै\u001b[0m \u001b[1m\u001b[33mकि\u001b[0m \u001b[1m\u001b[33mचूंकि\u001b[0m \u001b[1m\u001b[33mबगदाद\u001b[0m \u001b[1m\u001b[33mसंयुक्त\u001b[0m \u001b[1m\u001b[32mराष्ट्र\u001b[0m \u001b[1m\u001b[33mकी\u001b[0m \u001b[1m\u001b[32mमांगों\u001b[0m \u001b[1m\u001b[33mका\u001b[0m \u001b[1m\u001b[33mपालन\u001b[0m \u001b[1m\u001b[33mकरते\u001b[0m \u001b[1m\u001b[31mहुए\u001b[0m \u001b[1m\u001b[33mअपने\u001b[0m \u001b[1m\u001b[33mभारी\u001b[0m \u001b[1m\u001b[33mविनाशकारी\u001b[0m \u001b[1m\u001b[32mहथियारों\u001b[0m \u001b[1m\u001b[33mको\u001b[0m \u001b[1m\u001b[33mनष्ट\u001b[0m \u001b[1m\u001b[33mकर\u001b[0m \u001b[1m\u001b[31mरहा\u001b[0m \u001b[1m\u001b[31mहै\u001b[0m \u001b[1m\u001b[33m।\u001b[0m \n",
            "----------------------------------------\n",
            "\u001b[1m\u001b[33mलिहाजा\u001b[0m \u001b[1m\u001b[32mप्रतिबंधों\u001b[0m \u001b[1m\u001b[33mको\u001b[0m \u001b[1m\u001b[33mपूर्ण\u001b[0m \u001b[1m\u001b[32mरूप\u001b[0m \u001b[1m\u001b[33mसे\u001b[0m \u001b[1m\u001b[33mउठा\u001b[0m \u001b[1m\u001b[31mदिया\u001b[0m \u001b[1m\u001b[31mजाना\u001b[0m \u001b[1m\u001b[31mचाहिए\u001b[0m \u001b[1m\u001b[33m।\u001b[0m \n",
            "----------------------------------------\n",
            "\u001b[1m\u001b[31mविदेश\u001b[0m \u001b[1m\u001b[32mमंत्री\u001b[0m \u001b[1m\u001b[33mमोहम्मद\u001b[0m \u001b[1m\u001b[33mसईद\u001b[0m \u001b[1m\u001b[33mका\u001b[0m \u001b[1m\u001b[33mकहना\u001b[0m \u001b[1m\u001b[33mहै\u001b[0m \u001b[1m\u001b[33mकि\u001b[0m \u001b[1m\u001b[33mवे\u001b[0m \u001b[1m\u001b[33mइसे\u001b[0m \u001b[1m\u001b[33m'सुव्यवस्थित\u001b[0m \u001b[1m\u001b[32mप्रतिबंध'\u001b[0m \u001b[1m\u001b[33mकह\u001b[0m \u001b[1m\u001b[33mकर\u001b[0m \u001b[1m\u001b[33mआम\u001b[0m \u001b[1m\u001b[32mराय\u001b[0m \u001b[1m\u001b[33mऔर\u001b[0m \u001b[1m\u001b[31mसुरक्षा\u001b[0m \u001b[1m\u001b[32mपरिषद\u001b[0m \u001b[1m\u001b[33mको\u001b[0m \u001b[1m\u001b[33mछल\u001b[0m \u001b[1m\u001b[33mरहे\u001b[0m \u001b[1m\u001b[33mहैं\u001b[0m \u001b[1m\u001b[33m।\u001b[0m \n",
            "----------------------------------------\n",
            "\u001b[1m\u001b[33mपाकिस्तान\u001b[0m \u001b[1m\u001b[31mकी\u001b[0m \u001b[1m\u001b[33mपूर्व\u001b[0m \u001b[1m\u001b[32mप्रधानमंत्री\u001b[0m \u001b[1m\u001b[33mबेनजीर\u001b[0m \u001b[1m\u001b[33mभुट्टो\u001b[0m \u001b[1m\u001b[31mपर\u001b[0m \u001b[1m\u001b[33mलगे\u001b[0m \u001b[1m\u001b[32mभ्रष्टाचार\u001b[0m \u001b[1m\u001b[31mके\u001b[0m \u001b[1m\u001b[32mआरोपों\u001b[0m \u001b[1m\u001b[31mके\u001b[0m \u001b[1m\u001b[31mखिलाफ\u001b[0m \u001b[1m\u001b[33mभुट्टो\u001b[0m \u001b[1m\u001b[31mद्वारा\u001b[0m \u001b[1m\u001b[33mदायर\u001b[0m \u001b[1m\u001b[33mकी\u001b[0m \u001b[1m\u001b[33mगई\u001b[0m \u001b[1m\u001b[32mयाचिका\u001b[0m \u001b[1m\u001b[31mकी\u001b[0m \u001b[1m\u001b[32mसुनवाई\u001b[0m \u001b[1m\u001b[32mमंगलवार\u001b[0m \u001b[1m\u001b[31mको\u001b[0m \u001b[1m\u001b[32mवकीलों\u001b[0m \u001b[1m\u001b[31mकी\u001b[0m \u001b[1m\u001b[32mहड़ताल\u001b[0m \u001b[1m\u001b[31mके\u001b[0m \u001b[1m\u001b[31mकारण\u001b[0m \u001b[1m\u001b[33mस्थगित\u001b[0m \u001b[1m\u001b[33mकर\u001b[0m \u001b[1m\u001b[33mदी\u001b[0m \u001b[1m\u001b[33mगई\u001b[0m \u001b[1m\u001b[33m।\u001b[0m \n",
            "----------------------------------------\n",
            "\u001b[1m\u001b[33mसिंध\u001b[0m \u001b[1m\u001b[33mहाईकोर्ट\u001b[0m \u001b[1m\u001b[33mबार\u001b[0m \u001b[1m\u001b[33mएसोसिएशन\u001b[0m \u001b[1m\u001b[31mके\u001b[0m \u001b[1m\u001b[32mअध्यक्ष\u001b[0m \u001b[1m\u001b[33mरशीद\u001b[0m \u001b[1m\u001b[33mरिजवी\u001b[0m \u001b[1m\u001b[31mके\u001b[0m \u001b[1m\u001b[31mमुताबिक\u001b[0m \u001b[1m\u001b[33mयह\u001b[0m \u001b[1m\u001b[32mहड़ताल\u001b[0m \u001b[1m\u001b[33mउच्च\u001b[0m \u001b[1m\u001b[33mन्यायालय\u001b[0m \u001b[1m\u001b[33mऔर\u001b[0m \u001b[1m\u001b[33mनिचली\u001b[0m \u001b[1m\u001b[32mअदालतों\u001b[0m \u001b[1m\u001b[31mके\u001b[0m \u001b[1m\u001b[32mस्तर\u001b[0m \u001b[1m\u001b[31mपर\u001b[0m \u001b[1m\u001b[33mसफल\u001b[0m \u001b[1m\u001b[33mरही\u001b[0m \u001b[1m\u001b[33m।\u001b[0m \n",
            "----------------------------------------\n",
            "\u001b[1m\u001b[33mदेश\u001b[0m \u001b[1m\u001b[32mमें\u001b[0m \u001b[1m\u001b[33mपुन\u001b[0m \u001b[1m\u001b[33m:\u001b[0m \u001b[1m\u001b[33mप्रजातंत्र\u001b[0m \u001b[1m\u001b[32mकी\u001b[0m \u001b[1m\u001b[33mस्थापना\u001b[0m \u001b[1m\u001b[32mकी\u001b[0m \u001b[1m\u001b[33mमांग\u001b[0m \u001b[1m\u001b[32mको\u001b[0m \u001b[1m\u001b[33mलेकर\u001b[0m \u001b[1m\u001b[33mयह\u001b[0m \u001b[1m\u001b[33mहड़ताल\u001b[0m \u001b[1m\u001b[33mकी\u001b[0m \u001b[1m\u001b[31mगई\u001b[0m \u001b[1m\u001b[31mथी\u001b[0m \u001b[1m\u001b[33m।\u001b[0m \n",
            "----------------------------------------\n",
            "\u001b[1m\u001b[33mसुप्रीम\u001b[0m \u001b[1m\u001b[33mकोर्ट\u001b[0m \u001b[1m\u001b[32mमें\u001b[0m \u001b[1m\u001b[33mभुट्टो\u001b[0m \u001b[1m\u001b[32mके\u001b[0m \u001b[1m\u001b[33mउक्त\u001b[0m \u001b[1m\u001b[33mमामले\u001b[0m \u001b[1m\u001b[32mकी\u001b[0m \u001b[1m\u001b[33mसुनवाई\u001b[0m \u001b[1m\u001b[33mसोमवार\u001b[0m \u001b[1m\u001b[32mसे\u001b[0m \u001b[1m\u001b[33mशुरू\u001b[0m \u001b[1m\u001b[33mहुई\u001b[0m \u001b[1m\u001b[31m,\u001b[0m \u001b[1m\u001b[33mजो\u001b[0m \u001b[1m\u001b[33mफिलहाल\u001b[0m \u001b[1m\u001b[33mबुधवार\u001b[0m \u001b[1m\u001b[32mतक\u001b[0m \u001b[1m\u001b[33mस्थगित\u001b[0m \u001b[1m\u001b[33mहै\u001b[0m \u001b[1m\u001b[31m।\u001b[0m \n",
            "----------------------------------------\n",
            "\u001b[1m\u001b[32mमुशर्रफ\u001b[0m \u001b[1m\u001b[33mसऊदी\u001b[0m \u001b[1m\u001b[32mअरब\u001b[0m \u001b[1m\u001b[33mको\u001b[0m \u001b[1m\u001b[31mमनाएंगे\u001b[0m \n",
            "----------------------------------------\n"
          ],
          "name": "stdout"
        }
      ]
    },
    {
      "cell_type": "markdown",
      "metadata": {
        "id": "9C8i2zyU_FtI"
      },
      "source": [
        "### DBscan"
      ]
    },
    {
      "cell_type": "code",
      "metadata": {
        "colab": {
          "base_uri": "https://localhost:8080/"
        },
        "id": "_H3Q5KuH_FtJ",
        "outputId": "4d3b367a-30e3-4edd-b067-569a202165e5"
      },
      "source": [
        "chunked_sentence_labels = DBscan_clustering(autoencoder_encoded_with_pos)\n",
        "print_chunked_sentences(sentences, chunked_sentence_labels, output_display_count)"
      ],
      "execution_count": 74,
      "outputs": [
        {
          "output_type": "stream",
          "text": [
            "\u001b[1m\u001b[34mपूर्ण\u001b[0m \u001b[1m\u001b[34mप्रतिबंध\u001b[0m \u001b[1m\u001b[34mहटाओ\u001b[0m \u001b[1m\u001b[34m:\u001b[0m \u001b[1m\u001b[34mइराक\u001b[0m \n",
            "----------------------------------------\n",
            "\u001b[1m\u001b[34mइराक\u001b[0m \u001b[1m\u001b[31mके\u001b[0m \u001b[1m\u001b[34mविदेश\u001b[0m \u001b[1m\u001b[34mमंत्री\u001b[0m \u001b[1m\u001b[34mने\u001b[0m \u001b[1m\u001b[34mअमरीका\u001b[0m \u001b[1m\u001b[31mके\u001b[0m \u001b[1m\u001b[34mउस\u001b[0m \u001b[1m\u001b[34mप्रस्ताव\u001b[0m \u001b[1m\u001b[34mका\u001b[0m \u001b[1m\u001b[34mमजाक\u001b[0m \u001b[1m\u001b[34mउड़ाया\u001b[0m \u001b[1m\u001b[34mहै\u001b[0m \u001b[1m\u001b[34m,\u001b[0m \u001b[1m\u001b[34mजिसमें\u001b[0m \u001b[1m\u001b[34mअमरीका\u001b[0m \u001b[1m\u001b[34mने\u001b[0m \u001b[1m\u001b[34mसंयुक्त\u001b[0m \u001b[1m\u001b[34mराष्ट्र\u001b[0m \u001b[1m\u001b[31mके\u001b[0m \u001b[1m\u001b[34mप्रतिबंधों\u001b[0m \u001b[1m\u001b[34mको\u001b[0m \u001b[1m\u001b[34mइराकी\u001b[0m \u001b[1m\u001b[34mनागरिकों\u001b[0m \u001b[1m\u001b[31mके\u001b[0m \u001b[1m\u001b[34mलिए\u001b[0m \u001b[1m\u001b[34mकम\u001b[0m \u001b[1m\u001b[34mहानिकारक\u001b[0m \u001b[1m\u001b[34mबनाने\u001b[0m \u001b[1m\u001b[31mके\u001b[0m \u001b[1m\u001b[34mलिए\u001b[0m \u001b[1m\u001b[34mकहा\u001b[0m \u001b[1m\u001b[34mहै\u001b[0m \u001b[1m\u001b[34m।\u001b[0m \n",
            "----------------------------------------\n",
            "\u001b[1m\u001b[34mविदेश\u001b[0m \u001b[1m\u001b[34mमंत्री\u001b[0m \u001b[1m\u001b[34mका\u001b[0m \u001b[1m\u001b[34mकहना\u001b[0m \u001b[1m\u001b[34mहै\u001b[0m \u001b[1m\u001b[34mकि\u001b[0m \u001b[1m\u001b[34mचूंकि\u001b[0m \u001b[1m\u001b[34mबगदाद\u001b[0m \u001b[1m\u001b[34mसंयुक्त\u001b[0m \u001b[1m\u001b[34mराष्ट्र\u001b[0m \u001b[1m\u001b[34mकी\u001b[0m \u001b[1m\u001b[34mमांगों\u001b[0m \u001b[1m\u001b[34mका\u001b[0m \u001b[1m\u001b[34mपालन\u001b[0m \u001b[1m\u001b[34mकरते\u001b[0m \u001b[1m\u001b[34mहुए\u001b[0m \u001b[1m\u001b[34mअपने\u001b[0m \u001b[1m\u001b[34mभारी\u001b[0m \u001b[1m\u001b[34mविनाशकारी\u001b[0m \u001b[1m\u001b[34mहथियारों\u001b[0m \u001b[1m\u001b[34mको\u001b[0m \u001b[1m\u001b[34mनष्ट\u001b[0m \u001b[1m\u001b[34mकर\u001b[0m \u001b[1m\u001b[34mरहा\u001b[0m \u001b[1m\u001b[34mहै\u001b[0m \u001b[1m\u001b[34m।\u001b[0m \n",
            "----------------------------------------\n",
            "\u001b[1m\u001b[34mलिहाजा\u001b[0m \u001b[1m\u001b[34mप्रतिबंधों\u001b[0m \u001b[1m\u001b[34mको\u001b[0m \u001b[1m\u001b[34mपूर्ण\u001b[0m \u001b[1m\u001b[34mरूप\u001b[0m \u001b[1m\u001b[34mसे\u001b[0m \u001b[1m\u001b[34mउठा\u001b[0m \u001b[1m\u001b[34mदिया\u001b[0m \u001b[1m\u001b[34mजाना\u001b[0m \u001b[1m\u001b[34mचाहिए\u001b[0m \u001b[1m\u001b[34m।\u001b[0m \n",
            "----------------------------------------\n",
            "\u001b[1m\u001b[34mविदेश\u001b[0m \u001b[1m\u001b[34mमंत्री\u001b[0m \u001b[1m\u001b[34mमोहम्मद\u001b[0m \u001b[1m\u001b[34mसईद\u001b[0m \u001b[1m\u001b[34mका\u001b[0m \u001b[1m\u001b[34mकहना\u001b[0m \u001b[1m\u001b[34mहै\u001b[0m \u001b[1m\u001b[34mकि\u001b[0m \u001b[1m\u001b[34mवे\u001b[0m \u001b[1m\u001b[34mइसे\u001b[0m \u001b[1m\u001b[34m'सुव्यवस्थित\u001b[0m \u001b[1m\u001b[34mप्रतिबंध'\u001b[0m \u001b[1m\u001b[34mकह\u001b[0m \u001b[1m\u001b[34mकर\u001b[0m \u001b[1m\u001b[34mआम\u001b[0m \u001b[1m\u001b[34mराय\u001b[0m \u001b[1m\u001b[34mऔर\u001b[0m \u001b[1m\u001b[34mसुरक्षा\u001b[0m \u001b[1m\u001b[34mपरिषद\u001b[0m \u001b[1m\u001b[34mको\u001b[0m \u001b[1m\u001b[34mछल\u001b[0m \u001b[1m\u001b[34mरहे\u001b[0m \u001b[1m\u001b[34mहैं\u001b[0m \u001b[1m\u001b[34m।\u001b[0m \n",
            "----------------------------------------\n",
            "\u001b[1m\u001b[34mपाकिस्तान\u001b[0m \u001b[1m\u001b[34mकी\u001b[0m \u001b[1m\u001b[34mपूर्व\u001b[0m \u001b[1m\u001b[34mप्रधानमंत्री\u001b[0m \u001b[1m\u001b[34mबेनजीर\u001b[0m \u001b[1m\u001b[34mभुट्टो\u001b[0m \u001b[1m\u001b[34mपर\u001b[0m \u001b[1m\u001b[34mलगे\u001b[0m \u001b[1m\u001b[34mभ्रष्टाचार\u001b[0m \u001b[1m\u001b[34mके\u001b[0m \u001b[1m\u001b[34mआरोपों\u001b[0m \u001b[1m\u001b[34mके\u001b[0m \u001b[1m\u001b[34mखिलाफ\u001b[0m \u001b[1m\u001b[34mभुट्टो\u001b[0m \u001b[1m\u001b[34mद्वारा\u001b[0m \u001b[1m\u001b[34mदायर\u001b[0m \u001b[1m\u001b[34mकी\u001b[0m \u001b[1m\u001b[34mगई\u001b[0m \u001b[1m\u001b[34mयाचिका\u001b[0m \u001b[1m\u001b[34mकी\u001b[0m \u001b[1m\u001b[34mसुनवाई\u001b[0m \u001b[1m\u001b[34mमंगलवार\u001b[0m \u001b[1m\u001b[34mको\u001b[0m \u001b[1m\u001b[34mवकीलों\u001b[0m \u001b[1m\u001b[34mकी\u001b[0m \u001b[1m\u001b[34mहड़ताल\u001b[0m \u001b[1m\u001b[34mके\u001b[0m \u001b[1m\u001b[34mकारण\u001b[0m \u001b[1m\u001b[34mस्थगित\u001b[0m \u001b[1m\u001b[34mकर\u001b[0m \u001b[1m\u001b[34mदी\u001b[0m \u001b[1m\u001b[34mगई\u001b[0m \u001b[1m\u001b[34m।\u001b[0m \n",
            "----------------------------------------\n",
            "\u001b[1m\u001b[34mसिंध\u001b[0m \u001b[1m\u001b[34mहाईकोर्ट\u001b[0m \u001b[1m\u001b[34mबार\u001b[0m \u001b[1m\u001b[34mएसोसिएशन\u001b[0m \u001b[1m\u001b[34mके\u001b[0m \u001b[1m\u001b[34mअध्यक्ष\u001b[0m \u001b[1m\u001b[34mरशीद\u001b[0m \u001b[1m\u001b[34mरिजवी\u001b[0m \u001b[1m\u001b[34mके\u001b[0m \u001b[1m\u001b[34mमुताबिक\u001b[0m \u001b[1m\u001b[34mयह\u001b[0m \u001b[1m\u001b[34mहड़ताल\u001b[0m \u001b[1m\u001b[34mउच्च\u001b[0m \u001b[1m\u001b[34mन्यायालय\u001b[0m \u001b[1m\u001b[34mऔर\u001b[0m \u001b[1m\u001b[34mनिचली\u001b[0m \u001b[1m\u001b[34mअदालतों\u001b[0m \u001b[1m\u001b[34mके\u001b[0m \u001b[1m\u001b[34mस्तर\u001b[0m \u001b[1m\u001b[34mपर\u001b[0m \u001b[1m\u001b[34mसफल\u001b[0m \u001b[1m\u001b[34mरही\u001b[0m \u001b[1m\u001b[34m।\u001b[0m \n",
            "----------------------------------------\n",
            "\u001b[1m\u001b[34mदेश\u001b[0m \u001b[1m\u001b[34mमें\u001b[0m \u001b[1m\u001b[34mपुन\u001b[0m \u001b[1m\u001b[34m:\u001b[0m \u001b[1m\u001b[34mप्रजातंत्र\u001b[0m \u001b[1m\u001b[34mकी\u001b[0m \u001b[1m\u001b[34mस्थापना\u001b[0m \u001b[1m\u001b[34mकी\u001b[0m \u001b[1m\u001b[34mमांग\u001b[0m \u001b[1m\u001b[34mको\u001b[0m \u001b[1m\u001b[34mलेकर\u001b[0m \u001b[1m\u001b[34mयह\u001b[0m \u001b[1m\u001b[34mहड़ताल\u001b[0m \u001b[1m\u001b[34mकी\u001b[0m \u001b[1m\u001b[34mगई\u001b[0m \u001b[1m\u001b[34mथी\u001b[0m \u001b[1m\u001b[34m।\u001b[0m \n",
            "----------------------------------------\n",
            "\u001b[1m\u001b[34mसुप्रीम\u001b[0m \u001b[1m\u001b[34mकोर्ट\u001b[0m \u001b[1m\u001b[34mमें\u001b[0m \u001b[1m\u001b[34mभुट्टो\u001b[0m \u001b[1m\u001b[34mके\u001b[0m \u001b[1m\u001b[34mउक्त\u001b[0m \u001b[1m\u001b[34mमामले\u001b[0m \u001b[1m\u001b[34mकी\u001b[0m \u001b[1m\u001b[34mसुनवाई\u001b[0m \u001b[1m\u001b[34mसोमवार\u001b[0m \u001b[1m\u001b[34mसे\u001b[0m \u001b[1m\u001b[34mशुरू\u001b[0m \u001b[1m\u001b[34mहुई\u001b[0m \u001b[1m\u001b[34m,\u001b[0m \u001b[1m\u001b[34mजो\u001b[0m \u001b[1m\u001b[34mफिलहाल\u001b[0m \u001b[1m\u001b[34mबुधवार\u001b[0m \u001b[1m\u001b[34mतक\u001b[0m \u001b[1m\u001b[34mस्थगित\u001b[0m \u001b[1m\u001b[34mहै\u001b[0m \u001b[1m\u001b[34m।\u001b[0m \n",
            "----------------------------------------\n",
            "\u001b[1m\u001b[34mमुशर्रफ\u001b[0m \u001b[1m\u001b[34mसऊदी\u001b[0m \u001b[1m\u001b[34mअरब\u001b[0m \u001b[1m\u001b[34mको\u001b[0m \u001b[1m\u001b[34mमनाएंगे\u001b[0m \n",
            "----------------------------------------\n"
          ],
          "name": "stdout"
        }
      ]
    },
    {
      "cell_type": "markdown",
      "metadata": {
        "id": "dsqWnrjK_FtJ"
      },
      "source": [
        "### Agglomerative clustering"
      ]
    },
    {
      "cell_type": "code",
      "metadata": {
        "colab": {
          "base_uri": "https://localhost:8080/"
        },
        "id": "amxxarMG_FtK",
        "outputId": "90167d55-f719-464e-c130-66b85975d842"
      },
      "source": [
        "chunked_sentence_labels = agglomerative_clustering(autoencoder_encoded_with_pos, cluster_count)\n",
        "print_chunked_sentences(sentences, chunked_sentence_labels, output_display_count)"
      ],
      "execution_count": 75,
      "outputs": [
        {
          "output_type": "stream",
          "text": [
            "\u001b[1m\u001b[32mपूर्ण\u001b[0m \u001b[1m\u001b[33mप्रतिबंध\u001b[0m \u001b[1m\u001b[33mहटाओ\u001b[0m \u001b[1m\u001b[36m:\u001b[0m \u001b[1m\u001b[32mइराक\u001b[0m \n",
            "----------------------------------------\n",
            "\u001b[1m\u001b[32mइराक\u001b[0m \u001b[1m\u001b[33mके\u001b[0m \u001b[1m\u001b[32mविदेश\u001b[0m \u001b[1m\u001b[32mमंत्री\u001b[0m \u001b[1m\u001b[32mने\u001b[0m \u001b[1m\u001b[32mअमरीका\u001b[0m \u001b[1m\u001b[33mके\u001b[0m \u001b[1m\u001b[32mउस\u001b[0m \u001b[1m\u001b[32mप्रस्ताव\u001b[0m \u001b[1m\u001b[33mका\u001b[0m \u001b[1m\u001b[32mमजाक\u001b[0m \u001b[1m\u001b[32mउड़ाया\u001b[0m \u001b[1m\u001b[32mहै\u001b[0m \u001b[1m\u001b[36m,\u001b[0m \u001b[1m\u001b[32mजिसमें\u001b[0m \u001b[1m\u001b[32mअमरीका\u001b[0m \u001b[1m\u001b[32mने\u001b[0m \u001b[1m\u001b[32mसंयुक्त\u001b[0m \u001b[1m\u001b[32mराष्ट्र\u001b[0m \u001b[1m\u001b[33mके\u001b[0m \u001b[1m\u001b[32mप्रतिबंधों\u001b[0m \u001b[1m\u001b[32mको\u001b[0m \u001b[1m\u001b[32mइराकी\u001b[0m \u001b[1m\u001b[32mनागरिकों\u001b[0m \u001b[1m\u001b[33mके\u001b[0m \u001b[1m\u001b[32mलिए\u001b[0m \u001b[1m\u001b[32mकम\u001b[0m \u001b[1m\u001b[32mहानिकारक\u001b[0m \u001b[1m\u001b[32mबनाने\u001b[0m \u001b[1m\u001b[33mके\u001b[0m \u001b[1m\u001b[32mलिए\u001b[0m \u001b[1m\u001b[32mकहा\u001b[0m \u001b[1m\u001b[32mहै\u001b[0m \u001b[1m\u001b[33m।\u001b[0m \n",
            "----------------------------------------\n",
            "\u001b[1m\u001b[32mविदेश\u001b[0m \u001b[1m\u001b[32mमंत्री\u001b[0m \u001b[1m\u001b[36mका\u001b[0m \u001b[1m\u001b[33mकहना\u001b[0m \u001b[1m\u001b[32mहै\u001b[0m \u001b[1m\u001b[32mकि\u001b[0m \u001b[1m\u001b[36mचूंकि\u001b[0m \u001b[1m\u001b[33mबगदाद\u001b[0m \u001b[1m\u001b[33mसंयुक्त\u001b[0m \u001b[1m\u001b[32mराष्ट्र\u001b[0m \u001b[1m\u001b[32mकी\u001b[0m \u001b[1m\u001b[32mमांगों\u001b[0m \u001b[1m\u001b[36mका\u001b[0m \u001b[1m\u001b[32mपालन\u001b[0m \u001b[1m\u001b[32mकरते\u001b[0m \u001b[1m\u001b[33mहुए\u001b[0m \u001b[1m\u001b[32mअपने\u001b[0m \u001b[1m\u001b[32mभारी\u001b[0m \u001b[1m\u001b[32mविनाशकारी\u001b[0m \u001b[1m\u001b[32mहथियारों\u001b[0m \u001b[1m\u001b[32mको\u001b[0m \u001b[1m\u001b[32mनष्ट\u001b[0m \u001b[1m\u001b[36mकर\u001b[0m \u001b[1m\u001b[32mरहा\u001b[0m \u001b[1m\u001b[32mहै\u001b[0m \u001b[1m\u001b[36m।\u001b[0m \n",
            "----------------------------------------\n",
            "\u001b[1m\u001b[32mलिहाजा\u001b[0m \u001b[1m\u001b[36mप्रतिबंधों\u001b[0m \u001b[1m\u001b[36mको\u001b[0m \u001b[1m\u001b[32mपूर्ण\u001b[0m \u001b[1m\u001b[36mरूप\u001b[0m \u001b[1m\u001b[33mसे\u001b[0m \u001b[1m\u001b[32mउठा\u001b[0m \u001b[1m\u001b[36mदिया\u001b[0m \u001b[1m\u001b[32mजाना\u001b[0m \u001b[1m\u001b[32mचाहिए\u001b[0m \u001b[1m\u001b[32m।\u001b[0m \n",
            "----------------------------------------\n",
            "\u001b[1m\u001b[33mविदेश\u001b[0m \u001b[1m\u001b[33mमंत्री\u001b[0m \u001b[1m\u001b[36mमोहम्मद\u001b[0m \u001b[1m\u001b[32mसईद\u001b[0m \u001b[1m\u001b[36mका\u001b[0m \u001b[1m\u001b[32mकहना\u001b[0m \u001b[1m\u001b[33mहै\u001b[0m \u001b[1m\u001b[33mकि\u001b[0m \u001b[1m\u001b[33mवे\u001b[0m \u001b[1m\u001b[33mइसे\u001b[0m \u001b[1m\u001b[33m'सुव्यवस्थित\u001b[0m \u001b[1m\u001b[32mप्रतिबंध'\u001b[0m \u001b[1m\u001b[32mकह\u001b[0m \u001b[1m\u001b[36mकर\u001b[0m \u001b[1m\u001b[32mआम\u001b[0m \u001b[1m\u001b[33mराय\u001b[0m \u001b[1m\u001b[33mऔर\u001b[0m \u001b[1m\u001b[33mसुरक्षा\u001b[0m \u001b[1m\u001b[33mपरिषद\u001b[0m \u001b[1m\u001b[33mको\u001b[0m \u001b[1m\u001b[36mछल\u001b[0m \u001b[1m\u001b[33mरहे\u001b[0m \u001b[1m\u001b[32mहैं\u001b[0m \u001b[1m\u001b[32m।\u001b[0m \n",
            "----------------------------------------\n",
            "\u001b[1m\u001b[32mपाकिस्तान\u001b[0m \u001b[1m\u001b[36mकी\u001b[0m \u001b[1m\u001b[33mपूर्व\u001b[0m \u001b[1m\u001b[36mप्रधानमंत्री\u001b[0m \u001b[1m\u001b[33mबेनजीर\u001b[0m \u001b[1m\u001b[36mभुट्टो\u001b[0m \u001b[1m\u001b[32mपर\u001b[0m \u001b[1m\u001b[36mलगे\u001b[0m \u001b[1m\u001b[36mभ्रष्टाचार\u001b[0m \u001b[1m\u001b[32mके\u001b[0m \u001b[1m\u001b[32mआरोपों\u001b[0m \u001b[1m\u001b[32mके\u001b[0m \u001b[1m\u001b[36mखिलाफ\u001b[0m \u001b[1m\u001b[36mभुट्टो\u001b[0m \u001b[1m\u001b[36mद्वारा\u001b[0m \u001b[1m\u001b[36mदायर\u001b[0m \u001b[1m\u001b[36mकी\u001b[0m \u001b[1m\u001b[36mगई\u001b[0m \u001b[1m\u001b[36mयाचिका\u001b[0m \u001b[1m\u001b[36mकी\u001b[0m \u001b[1m\u001b[36mसुनवाई\u001b[0m \u001b[1m\u001b[36mमंगलवार\u001b[0m \u001b[1m\u001b[36mको\u001b[0m \u001b[1m\u001b[36mवकीलों\u001b[0m \u001b[1m\u001b[36mकी\u001b[0m \u001b[1m\u001b[33mहड़ताल\u001b[0m \u001b[1m\u001b[32mके\u001b[0m \u001b[1m\u001b[33mकारण\u001b[0m \u001b[1m\u001b[32mस्थगित\u001b[0m \u001b[1m\u001b[32mकर\u001b[0m \u001b[1m\u001b[36mदी\u001b[0m \u001b[1m\u001b[36mगई\u001b[0m \u001b[1m\u001b[32m।\u001b[0m \n",
            "----------------------------------------\n",
            "\u001b[1m\u001b[32mसिंध\u001b[0m \u001b[1m\u001b[32mहाईकोर्ट\u001b[0m \u001b[1m\u001b[32mबार\u001b[0m \u001b[1m\u001b[32mएसोसिएशन\u001b[0m \u001b[1m\u001b[36mके\u001b[0m \u001b[1m\u001b[32mअध्यक्ष\u001b[0m \u001b[1m\u001b[32mरशीद\u001b[0m \u001b[1m\u001b[32mरिजवी\u001b[0m \u001b[1m\u001b[36mके\u001b[0m \u001b[1m\u001b[32mमुताबिक\u001b[0m \u001b[1m\u001b[33mयह\u001b[0m \u001b[1m\u001b[32mहड़ताल\u001b[0m \u001b[1m\u001b[32mउच्च\u001b[0m \u001b[1m\u001b[36mन्यायालय\u001b[0m \u001b[1m\u001b[32mऔर\u001b[0m \u001b[1m\u001b[32mनिचली\u001b[0m \u001b[1m\u001b[32mअदालतों\u001b[0m \u001b[1m\u001b[36mके\u001b[0m \u001b[1m\u001b[33mस्तर\u001b[0m \u001b[1m\u001b[36mपर\u001b[0m \u001b[1m\u001b[36mसफल\u001b[0m \u001b[1m\u001b[36mरही\u001b[0m \u001b[1m\u001b[36m।\u001b[0m \n",
            "----------------------------------------\n",
            "\u001b[1m\u001b[32mदेश\u001b[0m \u001b[1m\u001b[33mमें\u001b[0m \u001b[1m\u001b[32mपुन\u001b[0m \u001b[1m\u001b[36m:\u001b[0m \u001b[1m\u001b[33mप्रजातंत्र\u001b[0m \u001b[1m\u001b[33mकी\u001b[0m \u001b[1m\u001b[32mस्थापना\u001b[0m \u001b[1m\u001b[33mकी\u001b[0m \u001b[1m\u001b[33mमांग\u001b[0m \u001b[1m\u001b[33mको\u001b[0m \u001b[1m\u001b[33mलेकर\u001b[0m \u001b[1m\u001b[32mयह\u001b[0m \u001b[1m\u001b[33mहड़ताल\u001b[0m \u001b[1m\u001b[33mकी\u001b[0m \u001b[1m\u001b[33mगई\u001b[0m \u001b[1m\u001b[32mथी\u001b[0m \u001b[1m\u001b[32m।\u001b[0m \n",
            "----------------------------------------\n",
            "\u001b[1m\u001b[32mसुप्रीम\u001b[0m \u001b[1m\u001b[32mकोर्ट\u001b[0m \u001b[1m\u001b[32mमें\u001b[0m \u001b[1m\u001b[32mभुट्टो\u001b[0m \u001b[1m\u001b[33mके\u001b[0m \u001b[1m\u001b[32mउक्त\u001b[0m \u001b[1m\u001b[33mमामले\u001b[0m \u001b[1m\u001b[32mकी\u001b[0m \u001b[1m\u001b[32mसुनवाई\u001b[0m \u001b[1m\u001b[32mसोमवार\u001b[0m \u001b[1m\u001b[32mसे\u001b[0m \u001b[1m\u001b[32mशुरू\u001b[0m \u001b[1m\u001b[33mहुई\u001b[0m \u001b[1m\u001b[36m,\u001b[0m \u001b[1m\u001b[32mजो\u001b[0m \u001b[1m\u001b[32mफिलहाल\u001b[0m \u001b[1m\u001b[32mबुधवार\u001b[0m \u001b[1m\u001b[32mतक\u001b[0m \u001b[1m\u001b[33mस्थगित\u001b[0m \u001b[1m\u001b[32mहै\u001b[0m \u001b[1m\u001b[33m।\u001b[0m \n",
            "----------------------------------------\n",
            "\u001b[1m\u001b[36mमुशर्रफ\u001b[0m \u001b[1m\u001b[32mसऊदी\u001b[0m \u001b[1m\u001b[33mअरब\u001b[0m \u001b[1m\u001b[36mको\u001b[0m \u001b[1m\u001b[32mमनाएंगे\u001b[0m \n",
            "----------------------------------------\n"
          ],
          "name": "stdout"
        }
      ]
    },
    {
      "cell_type": "markdown",
      "metadata": {
        "id": "V6CECQEkDhqw"
      },
      "source": [
        "## Position + Autoencoder + POS"
      ]
    },
    {
      "cell_type": "code",
      "metadata": {
        "id": "00ZuOdaAQF5N"
      },
      "source": [
        "position_autoencoder_pos = []\n",
        "for index in range(len(autoencoder_encoded_with_pos)):\n",
        "    position_array = np.array([i for i in range(autoencoder_encoded_with_pos[index].shape[0])]).reshape((-1,1))\n",
        "    position_autoencoder_pos.append(np.hstack((position_array, autoencoder_encoded_with_pos[index])))\n"
      ],
      "execution_count": 82,
      "outputs": []
    },
    {
      "cell_type": "markdown",
      "metadata": {
        "id": "t8f0yj4LDLrd"
      },
      "source": [
        "### K means"
      ]
    },
    {
      "cell_type": "code",
      "metadata": {
        "colab": {
          "base_uri": "https://localhost:8080/"
        },
        "id": "AUL2LKH_DLrz",
        "outputId": "5067343f-f345-4998-eeb8-20d814aaaf4e"
      },
      "source": [
        "chunked_sentence_labels = k_means_clustering(position_autoencoder_pos, cluster_count)\n",
        "print_chunked_sentences(sentences, chunked_sentence_labels, output_display_count)"
      ],
      "execution_count": 84,
      "outputs": [
        {
          "output_type": "stream",
          "text": [
            "\u001b[1m\u001b[32mपूर्ण\u001b[0m \u001b[1m\u001b[33mप्रतिबंध\u001b[0m \u001b[1m\u001b[36mहटाओ\u001b[0m \u001b[1m\u001b[33m:\u001b[0m \u001b[1m\u001b[33mइराक\u001b[0m \n",
            "----------------------------------------\n",
            "\u001b[1m\u001b[33mइराक\u001b[0m \u001b[1m\u001b[36mके\u001b[0m \u001b[1m\u001b[33mविदेश\u001b[0m \u001b[1m\u001b[32mमंत्री\u001b[0m \u001b[1m\u001b[36mने\u001b[0m \u001b[1m\u001b[33mअमरीका\u001b[0m \u001b[1m\u001b[36mके\u001b[0m \u001b[1m\u001b[33mउस\u001b[0m \u001b[1m\u001b[32mप्रस्ताव\u001b[0m \u001b[1m\u001b[36mका\u001b[0m \u001b[1m\u001b[33mमजाक\u001b[0m \u001b[1m\u001b[33mउड़ाया\u001b[0m \u001b[1m\u001b[33mहै\u001b[0m \u001b[1m\u001b[33m,\u001b[0m \u001b[1m\u001b[33mजिसमें\u001b[0m \u001b[1m\u001b[33mअमरीका\u001b[0m \u001b[1m\u001b[36mने\u001b[0m \u001b[1m\u001b[33mसंयुक्त\u001b[0m \u001b[1m\u001b[32mराष्ट्र\u001b[0m \u001b[1m\u001b[36mके\u001b[0m \u001b[1m\u001b[32mप्रतिबंधों\u001b[0m \u001b[1m\u001b[36mको\u001b[0m \u001b[1m\u001b[33mइराकी\u001b[0m \u001b[1m\u001b[32mनागरिकों\u001b[0m \u001b[1m\u001b[36mके\u001b[0m \u001b[1m\u001b[36mलिए\u001b[0m \u001b[1m\u001b[33mकम\u001b[0m \u001b[1m\u001b[33mहानिकारक\u001b[0m \u001b[1m\u001b[33mबनाने\u001b[0m \u001b[1m\u001b[36mके\u001b[0m \u001b[1m\u001b[36mलिए\u001b[0m \u001b[1m\u001b[33mकहा\u001b[0m \u001b[1m\u001b[33mहै\u001b[0m \u001b[1m\u001b[33m।\u001b[0m \n",
            "----------------------------------------\n",
            "\u001b[1m\u001b[33mविदेश\u001b[0m \u001b[1m\u001b[32mमंत्री\u001b[0m \u001b[1m\u001b[33mका\u001b[0m \u001b[1m\u001b[33mकहना\u001b[0m \u001b[1m\u001b[36mहै\u001b[0m \u001b[1m\u001b[33mकि\u001b[0m \u001b[1m\u001b[33mचूंकि\u001b[0m \u001b[1m\u001b[33mबगदाद\u001b[0m \u001b[1m\u001b[33mसंयुक्त\u001b[0m \u001b[1m\u001b[32mराष्ट्र\u001b[0m \u001b[1m\u001b[33mकी\u001b[0m \u001b[1m\u001b[32mमांगों\u001b[0m \u001b[1m\u001b[33mका\u001b[0m \u001b[1m\u001b[33mपालन\u001b[0m \u001b[1m\u001b[33mकरते\u001b[0m \u001b[1m\u001b[36mहुए\u001b[0m \u001b[1m\u001b[33mअपने\u001b[0m \u001b[1m\u001b[33mभारी\u001b[0m \u001b[1m\u001b[33mविनाशकारी\u001b[0m \u001b[1m\u001b[32mहथियारों\u001b[0m \u001b[1m\u001b[33mको\u001b[0m \u001b[1m\u001b[33mनष्ट\u001b[0m \u001b[1m\u001b[33mकर\u001b[0m \u001b[1m\u001b[36mरहा\u001b[0m \u001b[1m\u001b[36mहै\u001b[0m \u001b[1m\u001b[33m।\u001b[0m \n",
            "----------------------------------------\n",
            "\u001b[1m\u001b[33mलिहाजा\u001b[0m \u001b[1m\u001b[32mप्रतिबंधों\u001b[0m \u001b[1m\u001b[33mको\u001b[0m \u001b[1m\u001b[33mपूर्ण\u001b[0m \u001b[1m\u001b[32mरूप\u001b[0m \u001b[1m\u001b[33mसे\u001b[0m \u001b[1m\u001b[33mउठा\u001b[0m \u001b[1m\u001b[36mदिया\u001b[0m \u001b[1m\u001b[36mजाना\u001b[0m \u001b[1m\u001b[36mचाहिए\u001b[0m \u001b[1m\u001b[33m।\u001b[0m \n",
            "----------------------------------------\n",
            "\u001b[1m\u001b[36mविदेश\u001b[0m \u001b[1m\u001b[32mमंत्री\u001b[0m \u001b[1m\u001b[33mमोहम्मद\u001b[0m \u001b[1m\u001b[33mसईद\u001b[0m \u001b[1m\u001b[33mका\u001b[0m \u001b[1m\u001b[33mकहना\u001b[0m \u001b[1m\u001b[33mहै\u001b[0m \u001b[1m\u001b[33mकि\u001b[0m \u001b[1m\u001b[33mवे\u001b[0m \u001b[1m\u001b[33mइसे\u001b[0m \u001b[1m\u001b[33m'सुव्यवस्थित\u001b[0m \u001b[1m\u001b[32mप्रतिबंध'\u001b[0m \u001b[1m\u001b[33mकह\u001b[0m \u001b[1m\u001b[33mकर\u001b[0m \u001b[1m\u001b[33mआम\u001b[0m \u001b[1m\u001b[32mराय\u001b[0m \u001b[1m\u001b[33mऔर\u001b[0m \u001b[1m\u001b[36mसुरक्षा\u001b[0m \u001b[1m\u001b[32mपरिषद\u001b[0m \u001b[1m\u001b[33mको\u001b[0m \u001b[1m\u001b[33mछल\u001b[0m \u001b[1m\u001b[33mरहे\u001b[0m \u001b[1m\u001b[33mहैं\u001b[0m \u001b[1m\u001b[33m।\u001b[0m \n",
            "----------------------------------------\n",
            "\u001b[1m\u001b[33mपाकिस्तान\u001b[0m \u001b[1m\u001b[36mकी\u001b[0m \u001b[1m\u001b[33mपूर्व\u001b[0m \u001b[1m\u001b[32mप्रधानमंत्री\u001b[0m \u001b[1m\u001b[33mबेनजीर\u001b[0m \u001b[1m\u001b[33mभुट्टो\u001b[0m \u001b[1m\u001b[36mपर\u001b[0m \u001b[1m\u001b[33mलगे\u001b[0m \u001b[1m\u001b[32mभ्रष्टाचार\u001b[0m \u001b[1m\u001b[36mके\u001b[0m \u001b[1m\u001b[32mआरोपों\u001b[0m \u001b[1m\u001b[36mके\u001b[0m \u001b[1m\u001b[36mखिलाफ\u001b[0m \u001b[1m\u001b[33mभुट्टो\u001b[0m \u001b[1m\u001b[36mद्वारा\u001b[0m \u001b[1m\u001b[33mदायर\u001b[0m \u001b[1m\u001b[33mकी\u001b[0m \u001b[1m\u001b[33mगई\u001b[0m \u001b[1m\u001b[32mयाचिका\u001b[0m \u001b[1m\u001b[36mकी\u001b[0m \u001b[1m\u001b[32mसुनवाई\u001b[0m \u001b[1m\u001b[32mमंगलवार\u001b[0m \u001b[1m\u001b[36mको\u001b[0m \u001b[1m\u001b[32mवकीलों\u001b[0m \u001b[1m\u001b[36mकी\u001b[0m \u001b[1m\u001b[32mहड़ताल\u001b[0m \u001b[1m\u001b[36mके\u001b[0m \u001b[1m\u001b[36mकारण\u001b[0m \u001b[1m\u001b[33mस्थगित\u001b[0m \u001b[1m\u001b[33mकर\u001b[0m \u001b[1m\u001b[33mदी\u001b[0m \u001b[1m\u001b[33mगई\u001b[0m \u001b[1m\u001b[33m।\u001b[0m \n",
            "----------------------------------------\n",
            "\u001b[1m\u001b[33mसिंध\u001b[0m \u001b[1m\u001b[33mहाईकोर्ट\u001b[0m \u001b[1m\u001b[33mबार\u001b[0m \u001b[1m\u001b[33mएसोसिएशन\u001b[0m \u001b[1m\u001b[36mके\u001b[0m \u001b[1m\u001b[32mअध्यक्ष\u001b[0m \u001b[1m\u001b[33mरशीद\u001b[0m \u001b[1m\u001b[33mरिजवी\u001b[0m \u001b[1m\u001b[36mके\u001b[0m \u001b[1m\u001b[36mमुताबिक\u001b[0m \u001b[1m\u001b[33mयह\u001b[0m \u001b[1m\u001b[32mहड़ताल\u001b[0m \u001b[1m\u001b[33mउच्च\u001b[0m \u001b[1m\u001b[33mन्यायालय\u001b[0m \u001b[1m\u001b[33mऔर\u001b[0m \u001b[1m\u001b[33mनिचली\u001b[0m \u001b[1m\u001b[32mअदालतों\u001b[0m \u001b[1m\u001b[36mके\u001b[0m \u001b[1m\u001b[32mस्तर\u001b[0m \u001b[1m\u001b[36mपर\u001b[0m \u001b[1m\u001b[33mसफल\u001b[0m \u001b[1m\u001b[33mरही\u001b[0m \u001b[1m\u001b[33m।\u001b[0m \n",
            "----------------------------------------\n",
            "\u001b[1m\u001b[33mदेश\u001b[0m \u001b[1m\u001b[32mमें\u001b[0m \u001b[1m\u001b[33mपुन\u001b[0m \u001b[1m\u001b[33m:\u001b[0m \u001b[1m\u001b[33mप्रजातंत्र\u001b[0m \u001b[1m\u001b[32mकी\u001b[0m \u001b[1m\u001b[33mस्थापना\u001b[0m \u001b[1m\u001b[32mकी\u001b[0m \u001b[1m\u001b[33mमांग\u001b[0m \u001b[1m\u001b[32mको\u001b[0m \u001b[1m\u001b[33mलेकर\u001b[0m \u001b[1m\u001b[33mयह\u001b[0m \u001b[1m\u001b[33mहड़ताल\u001b[0m \u001b[1m\u001b[33mकी\u001b[0m \u001b[1m\u001b[36mगई\u001b[0m \u001b[1m\u001b[36mथी\u001b[0m \u001b[1m\u001b[33m।\u001b[0m \n",
            "----------------------------------------\n",
            "\u001b[1m\u001b[33mसुप्रीम\u001b[0m \u001b[1m\u001b[33mकोर्ट\u001b[0m \u001b[1m\u001b[32mमें\u001b[0m \u001b[1m\u001b[33mभुट्टो\u001b[0m \u001b[1m\u001b[32mके\u001b[0m \u001b[1m\u001b[33mउक्त\u001b[0m \u001b[1m\u001b[33mमामले\u001b[0m \u001b[1m\u001b[32mकी\u001b[0m \u001b[1m\u001b[33mसुनवाई\u001b[0m \u001b[1m\u001b[33mसोमवार\u001b[0m \u001b[1m\u001b[32mसे\u001b[0m \u001b[1m\u001b[33mशुरू\u001b[0m \u001b[1m\u001b[33mहुई\u001b[0m \u001b[1m\u001b[36m,\u001b[0m \u001b[1m\u001b[33mजो\u001b[0m \u001b[1m\u001b[33mफिलहाल\u001b[0m \u001b[1m\u001b[33mबुधवार\u001b[0m \u001b[1m\u001b[32mतक\u001b[0m \u001b[1m\u001b[33mस्थगित\u001b[0m \u001b[1m\u001b[33mहै\u001b[0m \u001b[1m\u001b[36m।\u001b[0m \n",
            "----------------------------------------\n",
            "\u001b[1m\u001b[32mमुशर्रफ\u001b[0m \u001b[1m\u001b[33mसऊदी\u001b[0m \u001b[1m\u001b[32mअरब\u001b[0m \u001b[1m\u001b[33mको\u001b[0m \u001b[1m\u001b[36mमनाएंगे\u001b[0m \n",
            "----------------------------------------\n"
          ],
          "name": "stdout"
        }
      ]
    },
    {
      "cell_type": "markdown",
      "metadata": {
        "id": "jaTqr19XDLr0"
      },
      "source": [
        "### DBscan"
      ]
    },
    {
      "cell_type": "code",
      "metadata": {
        "colab": {
          "base_uri": "https://localhost:8080/"
        },
        "id": "LzpWSenbDLr0",
        "outputId": "f141336a-e75e-4852-f0ad-468a0cf4ba3a"
      },
      "source": [
        "chunked_sentence_labels = DBscan_clustering(position_autoencoder_pos)\n",
        "print_chunked_sentences(sentences, chunked_sentence_labels, output_display_count)"
      ],
      "execution_count": 85,
      "outputs": [
        {
          "output_type": "stream",
          "text": [
            "\u001b[1m\u001b[31mपूर्ण\u001b[0m \u001b[1m\u001b[31mप्रतिबंध\u001b[0m \u001b[1m\u001b[31mहटाओ\u001b[0m \u001b[1m\u001b[31m:\u001b[0m \u001b[1m\u001b[31mइराक\u001b[0m \n",
            "----------------------------------------\n",
            "\u001b[1m\u001b[31mइराक\u001b[0m \u001b[1m\u001b[31mके\u001b[0m \u001b[1m\u001b[31mविदेश\u001b[0m \u001b[1m\u001b[31mमंत्री\u001b[0m \u001b[1m\u001b[31mने\u001b[0m \u001b[1m\u001b[31mअमरीका\u001b[0m \u001b[1m\u001b[31mके\u001b[0m \u001b[1m\u001b[31mउस\u001b[0m \u001b[1m\u001b[31mप्रस्ताव\u001b[0m \u001b[1m\u001b[31mका\u001b[0m \u001b[1m\u001b[31mमजाक\u001b[0m \u001b[1m\u001b[31mउड़ाया\u001b[0m \u001b[1m\u001b[31mहै\u001b[0m \u001b[1m\u001b[31m,\u001b[0m \u001b[1m\u001b[31mजिसमें\u001b[0m \u001b[1m\u001b[31mअमरीका\u001b[0m \u001b[1m\u001b[31mने\u001b[0m \u001b[1m\u001b[31mसंयुक्त\u001b[0m \u001b[1m\u001b[31mराष्ट्र\u001b[0m \u001b[1m\u001b[31mके\u001b[0m \u001b[1m\u001b[31mप्रतिबंधों\u001b[0m \u001b[1m\u001b[31mको\u001b[0m \u001b[1m\u001b[31mइराकी\u001b[0m \u001b[1m\u001b[31mनागरिकों\u001b[0m \u001b[1m\u001b[31mके\u001b[0m \u001b[1m\u001b[31mलिए\u001b[0m \u001b[1m\u001b[31mकम\u001b[0m \u001b[1m\u001b[31mहानिकारक\u001b[0m \u001b[1m\u001b[31mबनाने\u001b[0m \u001b[1m\u001b[31mके\u001b[0m \u001b[1m\u001b[31mलिए\u001b[0m \u001b[1m\u001b[31mकहा\u001b[0m \u001b[1m\u001b[31mहै\u001b[0m \u001b[1m\u001b[31m।\u001b[0m \n",
            "----------------------------------------\n",
            "\u001b[1m\u001b[31mविदेश\u001b[0m \u001b[1m\u001b[31mमंत्री\u001b[0m \u001b[1m\u001b[31mका\u001b[0m \u001b[1m\u001b[31mकहना\u001b[0m \u001b[1m\u001b[31mहै\u001b[0m \u001b[1m\u001b[31mकि\u001b[0m \u001b[1m\u001b[31mचूंकि\u001b[0m \u001b[1m\u001b[31mबगदाद\u001b[0m \u001b[1m\u001b[31mसंयुक्त\u001b[0m \u001b[1m\u001b[31mराष्ट्र\u001b[0m \u001b[1m\u001b[31mकी\u001b[0m \u001b[1m\u001b[31mमांगों\u001b[0m \u001b[1m\u001b[31mका\u001b[0m \u001b[1m\u001b[31mपालन\u001b[0m \u001b[1m\u001b[31mकरते\u001b[0m \u001b[1m\u001b[31mहुए\u001b[0m \u001b[1m\u001b[31mअपने\u001b[0m \u001b[1m\u001b[31mभारी\u001b[0m \u001b[1m\u001b[31mविनाशकारी\u001b[0m \u001b[1m\u001b[31mहथियारों\u001b[0m \u001b[1m\u001b[31mको\u001b[0m \u001b[1m\u001b[31mनष्ट\u001b[0m \u001b[1m\u001b[31mकर\u001b[0m \u001b[1m\u001b[31mरहा\u001b[0m \u001b[1m\u001b[31mहै\u001b[0m \u001b[1m\u001b[31m।\u001b[0m \n",
            "----------------------------------------\n",
            "\u001b[1m\u001b[31mलिहाजा\u001b[0m \u001b[1m\u001b[31mप्रतिबंधों\u001b[0m \u001b[1m\u001b[31mको\u001b[0m \u001b[1m\u001b[31mपूर्ण\u001b[0m \u001b[1m\u001b[31mरूप\u001b[0m \u001b[1m\u001b[31mसे\u001b[0m \u001b[1m\u001b[31mउठा\u001b[0m \u001b[1m\u001b[31mदिया\u001b[0m \u001b[1m\u001b[31mजाना\u001b[0m \u001b[1m\u001b[31mचाहिए\u001b[0m \u001b[1m\u001b[31m।\u001b[0m \n",
            "----------------------------------------\n",
            "\u001b[1m\u001b[31mविदेश\u001b[0m \u001b[1m\u001b[31mमंत्री\u001b[0m \u001b[1m\u001b[31mमोहम्मद\u001b[0m \u001b[1m\u001b[31mसईद\u001b[0m \u001b[1m\u001b[31mका\u001b[0m \u001b[1m\u001b[31mकहना\u001b[0m \u001b[1m\u001b[31mहै\u001b[0m \u001b[1m\u001b[31mकि\u001b[0m \u001b[1m\u001b[31mवे\u001b[0m \u001b[1m\u001b[31mइसे\u001b[0m \u001b[1m\u001b[31m'सुव्यवस्थित\u001b[0m \u001b[1m\u001b[31mप्रतिबंध'\u001b[0m \u001b[1m\u001b[31mकह\u001b[0m \u001b[1m\u001b[31mकर\u001b[0m \u001b[1m\u001b[31mआम\u001b[0m \u001b[1m\u001b[31mराय\u001b[0m \u001b[1m\u001b[31mऔर\u001b[0m \u001b[1m\u001b[31mसुरक्षा\u001b[0m \u001b[1m\u001b[31mपरिषद\u001b[0m \u001b[1m\u001b[31mको\u001b[0m \u001b[1m\u001b[31mछल\u001b[0m \u001b[1m\u001b[31mरहे\u001b[0m \u001b[1m\u001b[31mहैं\u001b[0m \u001b[1m\u001b[31m।\u001b[0m \n",
            "----------------------------------------\n",
            "\u001b[1m\u001b[31mपाकिस्तान\u001b[0m \u001b[1m\u001b[31mकी\u001b[0m \u001b[1m\u001b[31mपूर्व\u001b[0m \u001b[1m\u001b[31mप्रधानमंत्री\u001b[0m \u001b[1m\u001b[31mबेनजीर\u001b[0m \u001b[1m\u001b[31mभुट्टो\u001b[0m \u001b[1m\u001b[31mपर\u001b[0m \u001b[1m\u001b[31mलगे\u001b[0m \u001b[1m\u001b[31mभ्रष्टाचार\u001b[0m \u001b[1m\u001b[31mके\u001b[0m \u001b[1m\u001b[31mआरोपों\u001b[0m \u001b[1m\u001b[31mके\u001b[0m \u001b[1m\u001b[31mखिलाफ\u001b[0m \u001b[1m\u001b[31mभुट्टो\u001b[0m \u001b[1m\u001b[31mद्वारा\u001b[0m \u001b[1m\u001b[31mदायर\u001b[0m \u001b[1m\u001b[31mकी\u001b[0m \u001b[1m\u001b[31mगई\u001b[0m \u001b[1m\u001b[31mयाचिका\u001b[0m \u001b[1m\u001b[31mकी\u001b[0m \u001b[1m\u001b[31mसुनवाई\u001b[0m \u001b[1m\u001b[31mमंगलवार\u001b[0m \u001b[1m\u001b[31mको\u001b[0m \u001b[1m\u001b[31mवकीलों\u001b[0m \u001b[1m\u001b[31mकी\u001b[0m \u001b[1m\u001b[31mहड़ताल\u001b[0m \u001b[1m\u001b[31mके\u001b[0m \u001b[1m\u001b[31mकारण\u001b[0m \u001b[1m\u001b[31mस्थगित\u001b[0m \u001b[1m\u001b[31mकर\u001b[0m \u001b[1m\u001b[31mदी\u001b[0m \u001b[1m\u001b[31mगई\u001b[0m \u001b[1m\u001b[31m।\u001b[0m \n",
            "----------------------------------------\n",
            "\u001b[1m\u001b[31mसिंध\u001b[0m \u001b[1m\u001b[31mहाईकोर्ट\u001b[0m \u001b[1m\u001b[31mबार\u001b[0m \u001b[1m\u001b[31mएसोसिएशन\u001b[0m \u001b[1m\u001b[31mके\u001b[0m \u001b[1m\u001b[31mअध्यक्ष\u001b[0m \u001b[1m\u001b[31mरशीद\u001b[0m \u001b[1m\u001b[31mरिजवी\u001b[0m \u001b[1m\u001b[31mके\u001b[0m \u001b[1m\u001b[31mमुताबिक\u001b[0m \u001b[1m\u001b[31mयह\u001b[0m \u001b[1m\u001b[31mहड़ताल\u001b[0m \u001b[1m\u001b[31mउच्च\u001b[0m \u001b[1m\u001b[31mन्यायालय\u001b[0m \u001b[1m\u001b[31mऔर\u001b[0m \u001b[1m\u001b[31mनिचली\u001b[0m \u001b[1m\u001b[31mअदालतों\u001b[0m \u001b[1m\u001b[31mके\u001b[0m \u001b[1m\u001b[31mस्तर\u001b[0m \u001b[1m\u001b[31mपर\u001b[0m \u001b[1m\u001b[31mसफल\u001b[0m \u001b[1m\u001b[31mरही\u001b[0m \u001b[1m\u001b[31m।\u001b[0m \n",
            "----------------------------------------\n",
            "\u001b[1m\u001b[31mदेश\u001b[0m \u001b[1m\u001b[31mमें\u001b[0m \u001b[1m\u001b[31mपुन\u001b[0m \u001b[1m\u001b[31m:\u001b[0m \u001b[1m\u001b[31mप्रजातंत्र\u001b[0m \u001b[1m\u001b[31mकी\u001b[0m \u001b[1m\u001b[31mस्थापना\u001b[0m \u001b[1m\u001b[31mकी\u001b[0m \u001b[1m\u001b[31mमांग\u001b[0m \u001b[1m\u001b[31mको\u001b[0m \u001b[1m\u001b[31mलेकर\u001b[0m \u001b[1m\u001b[31mयह\u001b[0m \u001b[1m\u001b[31mहड़ताल\u001b[0m \u001b[1m\u001b[31mकी\u001b[0m \u001b[1m\u001b[31mगई\u001b[0m \u001b[1m\u001b[31mथी\u001b[0m \u001b[1m\u001b[31m।\u001b[0m \n",
            "----------------------------------------\n",
            "\u001b[1m\u001b[31mसुप्रीम\u001b[0m \u001b[1m\u001b[31mकोर्ट\u001b[0m \u001b[1m\u001b[31mमें\u001b[0m \u001b[1m\u001b[31mभुट्टो\u001b[0m \u001b[1m\u001b[31mके\u001b[0m \u001b[1m\u001b[31mउक्त\u001b[0m \u001b[1m\u001b[31mमामले\u001b[0m \u001b[1m\u001b[31mकी\u001b[0m \u001b[1m\u001b[31mसुनवाई\u001b[0m \u001b[1m\u001b[31mसोमवार\u001b[0m \u001b[1m\u001b[31mसे\u001b[0m \u001b[1m\u001b[31mशुरू\u001b[0m \u001b[1m\u001b[31mहुई\u001b[0m \u001b[1m\u001b[31m,\u001b[0m \u001b[1m\u001b[31mजो\u001b[0m \u001b[1m\u001b[31mफिलहाल\u001b[0m \u001b[1m\u001b[31mबुधवार\u001b[0m \u001b[1m\u001b[31mतक\u001b[0m \u001b[1m\u001b[31mस्थगित\u001b[0m \u001b[1m\u001b[31mहै\u001b[0m \u001b[1m\u001b[31m।\u001b[0m \n",
            "----------------------------------------\n",
            "\u001b[1m\u001b[31mमुशर्रफ\u001b[0m \u001b[1m\u001b[31mसऊदी\u001b[0m \u001b[1m\u001b[31mअरब\u001b[0m \u001b[1m\u001b[31mको\u001b[0m \u001b[1m\u001b[31mमनाएंगे\u001b[0m \n",
            "----------------------------------------\n"
          ],
          "name": "stdout"
        }
      ]
    },
    {
      "cell_type": "markdown",
      "metadata": {
        "id": "chQjNT9RDLr1"
      },
      "source": [
        "### Agglomerative clustering"
      ]
    },
    {
      "cell_type": "code",
      "metadata": {
        "colab": {
          "base_uri": "https://localhost:8080/"
        },
        "id": "bGXNmTHRDLr1",
        "outputId": "caf443f6-db76-4a87-e265-ca53a6d99c0d"
      },
      "source": [
        "chunked_sentence_labels = agglomerative_clustering(position_autoencoder_pos, cluster_count)\n",
        "print_chunked_sentences(sentences, chunked_sentence_labels, output_display_count)"
      ],
      "execution_count": 86,
      "outputs": [
        {
          "output_type": "stream",
          "text": [
            "\u001b[1m\u001b[34mपूर्ण\u001b[0m \u001b[1m\u001b[32mप्रतिबंध\u001b[0m \u001b[1m\u001b[32mहटाओ\u001b[0m \u001b[1m\u001b[33m:\u001b[0m \u001b[1m\u001b[34mइराक\u001b[0m \n",
            "----------------------------------------\n",
            "\u001b[1m\u001b[34mइराक\u001b[0m \u001b[1m\u001b[32mके\u001b[0m \u001b[1m\u001b[34mविदेश\u001b[0m \u001b[1m\u001b[34mमंत्री\u001b[0m \u001b[1m\u001b[34mने\u001b[0m \u001b[1m\u001b[34mअमरीका\u001b[0m \u001b[1m\u001b[32mके\u001b[0m \u001b[1m\u001b[34mउस\u001b[0m \u001b[1m\u001b[34mप्रस्ताव\u001b[0m \u001b[1m\u001b[32mका\u001b[0m \u001b[1m\u001b[34mमजाक\u001b[0m \u001b[1m\u001b[34mउड़ाया\u001b[0m \u001b[1m\u001b[34mहै\u001b[0m \u001b[1m\u001b[33m,\u001b[0m \u001b[1m\u001b[34mजिसमें\u001b[0m \u001b[1m\u001b[34mअमरीका\u001b[0m \u001b[1m\u001b[34mने\u001b[0m \u001b[1m\u001b[34mसंयुक्त\u001b[0m \u001b[1m\u001b[34mराष्ट्र\u001b[0m \u001b[1m\u001b[32mके\u001b[0m \u001b[1m\u001b[34mप्रतिबंधों\u001b[0m \u001b[1m\u001b[34mको\u001b[0m \u001b[1m\u001b[34mइराकी\u001b[0m \u001b[1m\u001b[34mनागरिकों\u001b[0m \u001b[1m\u001b[32mके\u001b[0m \u001b[1m\u001b[34mलिए\u001b[0m \u001b[1m\u001b[34mकम\u001b[0m \u001b[1m\u001b[34mहानिकारक\u001b[0m \u001b[1m\u001b[34mबनाने\u001b[0m \u001b[1m\u001b[32mके\u001b[0m \u001b[1m\u001b[34mलिए\u001b[0m \u001b[1m\u001b[34mकहा\u001b[0m \u001b[1m\u001b[34mहै\u001b[0m \u001b[1m\u001b[32m।\u001b[0m \n",
            "----------------------------------------\n",
            "\u001b[1m\u001b[34mविदेश\u001b[0m \u001b[1m\u001b[34mमंत्री\u001b[0m \u001b[1m\u001b[33mका\u001b[0m \u001b[1m\u001b[32mकहना\u001b[0m \u001b[1m\u001b[34mहै\u001b[0m \u001b[1m\u001b[34mकि\u001b[0m \u001b[1m\u001b[33mचूंकि\u001b[0m \u001b[1m\u001b[32mबगदाद\u001b[0m \u001b[1m\u001b[32mसंयुक्त\u001b[0m \u001b[1m\u001b[34mराष्ट्र\u001b[0m \u001b[1m\u001b[34mकी\u001b[0m \u001b[1m\u001b[34mमांगों\u001b[0m \u001b[1m\u001b[33mका\u001b[0m \u001b[1m\u001b[34mपालन\u001b[0m \u001b[1m\u001b[34mकरते\u001b[0m \u001b[1m\u001b[32mहुए\u001b[0m \u001b[1m\u001b[34mअपने\u001b[0m \u001b[1m\u001b[34mभारी\u001b[0m \u001b[1m\u001b[34mविनाशकारी\u001b[0m \u001b[1m\u001b[34mहथियारों\u001b[0m \u001b[1m\u001b[34mको\u001b[0m \u001b[1m\u001b[34mनष्ट\u001b[0m \u001b[1m\u001b[33mकर\u001b[0m \u001b[1m\u001b[34mरहा\u001b[0m \u001b[1m\u001b[34mहै\u001b[0m \u001b[1m\u001b[33m।\u001b[0m \n",
            "----------------------------------------\n",
            "\u001b[1m\u001b[34mलिहाजा\u001b[0m \u001b[1m\u001b[33mप्रतिबंधों\u001b[0m \u001b[1m\u001b[33mको\u001b[0m \u001b[1m\u001b[34mपूर्ण\u001b[0m \u001b[1m\u001b[33mरूप\u001b[0m \u001b[1m\u001b[32mसे\u001b[0m \u001b[1m\u001b[34mउठा\u001b[0m \u001b[1m\u001b[33mदिया\u001b[0m \u001b[1m\u001b[34mजाना\u001b[0m \u001b[1m\u001b[34mचाहिए\u001b[0m \u001b[1m\u001b[34m।\u001b[0m \n",
            "----------------------------------------\n",
            "\u001b[1m\u001b[32mविदेश\u001b[0m \u001b[1m\u001b[32mमंत्री\u001b[0m \u001b[1m\u001b[33mमोहम्मद\u001b[0m \u001b[1m\u001b[34mसईद\u001b[0m \u001b[1m\u001b[33mका\u001b[0m \u001b[1m\u001b[34mकहना\u001b[0m \u001b[1m\u001b[32mहै\u001b[0m \u001b[1m\u001b[32mकि\u001b[0m \u001b[1m\u001b[32mवे\u001b[0m \u001b[1m\u001b[32mइसे\u001b[0m \u001b[1m\u001b[32m'सुव्यवस्थित\u001b[0m \u001b[1m\u001b[34mप्रतिबंध'\u001b[0m \u001b[1m\u001b[34mकह\u001b[0m \u001b[1m\u001b[33mकर\u001b[0m \u001b[1m\u001b[34mआम\u001b[0m \u001b[1m\u001b[32mराय\u001b[0m \u001b[1m\u001b[32mऔर\u001b[0m \u001b[1m\u001b[32mसुरक्षा\u001b[0m \u001b[1m\u001b[32mपरिषद\u001b[0m \u001b[1m\u001b[32mको\u001b[0m \u001b[1m\u001b[33mछल\u001b[0m \u001b[1m\u001b[32mरहे\u001b[0m \u001b[1m\u001b[34mहैं\u001b[0m \u001b[1m\u001b[34m।\u001b[0m \n",
            "----------------------------------------\n",
            "\u001b[1m\u001b[34mपाकिस्तान\u001b[0m \u001b[1m\u001b[33mकी\u001b[0m \u001b[1m\u001b[32mपूर्व\u001b[0m \u001b[1m\u001b[33mप्रधानमंत्री\u001b[0m \u001b[1m\u001b[32mबेनजीर\u001b[0m \u001b[1m\u001b[33mभुट्टो\u001b[0m \u001b[1m\u001b[34mपर\u001b[0m \u001b[1m\u001b[33mलगे\u001b[0m \u001b[1m\u001b[33mभ्रष्टाचार\u001b[0m \u001b[1m\u001b[34mके\u001b[0m \u001b[1m\u001b[34mआरोपों\u001b[0m \u001b[1m\u001b[34mके\u001b[0m \u001b[1m\u001b[33mखिलाफ\u001b[0m \u001b[1m\u001b[33mभुट्टो\u001b[0m \u001b[1m\u001b[33mद्वारा\u001b[0m \u001b[1m\u001b[33mदायर\u001b[0m \u001b[1m\u001b[33mकी\u001b[0m \u001b[1m\u001b[33mगई\u001b[0m \u001b[1m\u001b[33mयाचिका\u001b[0m \u001b[1m\u001b[33mकी\u001b[0m \u001b[1m\u001b[33mसुनवाई\u001b[0m \u001b[1m\u001b[33mमंगलवार\u001b[0m \u001b[1m\u001b[33mको\u001b[0m \u001b[1m\u001b[33mवकीलों\u001b[0m \u001b[1m\u001b[33mकी\u001b[0m \u001b[1m\u001b[32mहड़ताल\u001b[0m \u001b[1m\u001b[34mके\u001b[0m \u001b[1m\u001b[32mकारण\u001b[0m \u001b[1m\u001b[34mस्थगित\u001b[0m \u001b[1m\u001b[34mकर\u001b[0m \u001b[1m\u001b[33mदी\u001b[0m \u001b[1m\u001b[33mगई\u001b[0m \u001b[1m\u001b[34m।\u001b[0m \n",
            "----------------------------------------\n",
            "\u001b[1m\u001b[34mसिंध\u001b[0m \u001b[1m\u001b[34mहाईकोर्ट\u001b[0m \u001b[1m\u001b[34mबार\u001b[0m \u001b[1m\u001b[34mएसोसिएशन\u001b[0m \u001b[1m\u001b[33mके\u001b[0m \u001b[1m\u001b[34mअध्यक्ष\u001b[0m \u001b[1m\u001b[34mरशीद\u001b[0m \u001b[1m\u001b[34mरिजवी\u001b[0m \u001b[1m\u001b[33mके\u001b[0m \u001b[1m\u001b[34mमुताबिक\u001b[0m \u001b[1m\u001b[32mयह\u001b[0m \u001b[1m\u001b[34mहड़ताल\u001b[0m \u001b[1m\u001b[34mउच्च\u001b[0m \u001b[1m\u001b[33mन्यायालय\u001b[0m \u001b[1m\u001b[34mऔर\u001b[0m \u001b[1m\u001b[34mनिचली\u001b[0m \u001b[1m\u001b[34mअदालतों\u001b[0m \u001b[1m\u001b[33mके\u001b[0m \u001b[1m\u001b[32mस्तर\u001b[0m \u001b[1m\u001b[33mपर\u001b[0m \u001b[1m\u001b[33mसफल\u001b[0m \u001b[1m\u001b[33mरही\u001b[0m \u001b[1m\u001b[33m।\u001b[0m \n",
            "----------------------------------------\n",
            "\u001b[1m\u001b[34mदेश\u001b[0m \u001b[1m\u001b[32mमें\u001b[0m \u001b[1m\u001b[34mपुन\u001b[0m \u001b[1m\u001b[33m:\u001b[0m \u001b[1m\u001b[32mप्रजातंत्र\u001b[0m \u001b[1m\u001b[32mकी\u001b[0m \u001b[1m\u001b[34mस्थापना\u001b[0m \u001b[1m\u001b[32mकी\u001b[0m \u001b[1m\u001b[32mमांग\u001b[0m \u001b[1m\u001b[32mको\u001b[0m \u001b[1m\u001b[32mलेकर\u001b[0m \u001b[1m\u001b[34mयह\u001b[0m \u001b[1m\u001b[32mहड़ताल\u001b[0m \u001b[1m\u001b[32mकी\u001b[0m \u001b[1m\u001b[32mगई\u001b[0m \u001b[1m\u001b[34mथी\u001b[0m \u001b[1m\u001b[34m।\u001b[0m \n",
            "----------------------------------------\n",
            "\u001b[1m\u001b[34mसुप्रीम\u001b[0m \u001b[1m\u001b[34mकोर्ट\u001b[0m \u001b[1m\u001b[34mमें\u001b[0m \u001b[1m\u001b[34mभुट्टो\u001b[0m \u001b[1m\u001b[32mके\u001b[0m \u001b[1m\u001b[34mउक्त\u001b[0m \u001b[1m\u001b[32mमामले\u001b[0m \u001b[1m\u001b[34mकी\u001b[0m \u001b[1m\u001b[34mसुनवाई\u001b[0m \u001b[1m\u001b[34mसोमवार\u001b[0m \u001b[1m\u001b[34mसे\u001b[0m \u001b[1m\u001b[34mशुरू\u001b[0m \u001b[1m\u001b[32mहुई\u001b[0m \u001b[1m\u001b[33m,\u001b[0m \u001b[1m\u001b[34mजो\u001b[0m \u001b[1m\u001b[34mफिलहाल\u001b[0m \u001b[1m\u001b[34mबुधवार\u001b[0m \u001b[1m\u001b[34mतक\u001b[0m \u001b[1m\u001b[32mस्थगित\u001b[0m \u001b[1m\u001b[34mहै\u001b[0m \u001b[1m\u001b[32m।\u001b[0m \n",
            "----------------------------------------\n",
            "\u001b[1m\u001b[33mमुशर्रफ\u001b[0m \u001b[1m\u001b[34mसऊदी\u001b[0m \u001b[1m\u001b[32mअरब\u001b[0m \u001b[1m\u001b[33mको\u001b[0m \u001b[1m\u001b[34mमनाएंगे\u001b[0m \n",
            "----------------------------------------\n"
          ],
          "name": "stdout"
        }
      ]
    },
    {
      "cell_type": "markdown",
      "metadata": {
        "id": "B3bFUf5mEYPT"
      },
      "source": [
        ""
      ]
    },
    {
      "cell_type": "code",
      "metadata": {
        "colab": {
          "base_uri": "https://localhost:8080/",
          "height": 298
        },
        "id": "sCjiq6Ob0hiW",
        "outputId": "1509dbe1-342d-44c8-832f-a14830f20795"
      },
      "source": [
        "\n",
        "def plot_dendrogram(model, **kwargs):\n",
        "    # Create linkage matrix and then plot the dendrogram\n",
        "\n",
        "    # create the counts of samples under each node\n",
        "    counts = np.zeros(model.children_.shape[0])\n",
        "    n_samples = len(model.labels_)\n",
        "    for i, merge in enumerate(model.children_):\n",
        "        current_count = 0\n",
        "        for child_idx in merge:\n",
        "            if child_idx < n_samples:\n",
        "                current_count += 1  # leaf node\n",
        "            else:\n",
        "                current_count += counts[child_idx - n_samples]\n",
        "        counts[i] = current_count\n",
        "\n",
        "    linkage_matrix = np.column_stack([model.children_, model.distances_,\n",
        "                                      counts]).astype(float)\n",
        "\n",
        "    # Plot the corresponding dendrogram\n",
        "    dendrogram(linkage_matrix, **kwargs)\n",
        "\n",
        "\n",
        "iris = load_iris()\n",
        "X = bert_encoded_input[2]\n",
        "\n",
        "# setting distance_threshold=0 ensures we compute the full tree.\n",
        "model = AgglomerativeClustering(distance_threshold=0, n_clusters=None)\n",
        "\n",
        "model = model.fit(X)\n",
        "plt.title('Hierarchical Clustering Dendrogram')\n",
        "# plot the top three levels of the dendrogram\n",
        "plot_dendrogram(model, truncate_mode='level', p=3)\n",
        "plt.xlabel(\"Number of points in node (or index of point if no parenthesis).\")\n",
        "plt.show()\n",
        "\n"
      ],
      "execution_count": null,
      "outputs": [
        {
          "output_type": "display_data",
          "data": {
            "image/png": "[encoded data removed]",
            "text/plain": [
              "<Figure size 432x288 with 1 Axes>"
            ]
          },
          "metadata": {
            "tags": [],
            "needs_background": "light"
          }
        }
      ]
    }
  ]
}